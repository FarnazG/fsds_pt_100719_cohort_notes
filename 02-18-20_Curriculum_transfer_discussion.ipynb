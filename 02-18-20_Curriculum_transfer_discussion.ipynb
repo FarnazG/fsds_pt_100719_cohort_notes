{
 "cells": [
  {
   "cell_type": "markdown",
   "metadata": {},
   "source": [
    "# Transferring to Curriculum v2.1"
   ]
  },
  {
   "cell_type": "markdown",
   "metadata": {},
   "source": [
    "## MOD 3 PROJECT"
   ]
  },
  {
   "cell_type": "markdown",
   "metadata": {},
   "source": [
    "### 02/18/2020: Turning in & Scheduling Mod 3 Project Reviews\n",
    "\n",
    "- Please **schedule your project review** with me by the **morning of Monday 02/24/20**\n",
    "  - https://go.oncehub.com/ModProjectReviews \n",
    "\n",
    "- Project Reviews will be held from 02/25/20 - 03/09/20\n",
    "- You must **successfully pass your project review with me by 03/09/20.**\n",
    "\n"
   ]
  },
  {
   "cell_type": "markdown",
   "metadata": {},
   "source": [
    "# Announcing Flatiron Data Science Curriculum v2.1"
   ]
  },
  {
   "cell_type": "markdown",
   "metadata": {},
   "source": [
    "**We are excited to announce a revision of our Data Science Curriculum (v2.1). We are launching v2.1 for your cohort on Friday, February 14th, 2020.**\n",
    "\n",
    "\n",
    "- Because of this, we will now be follling a new break schedule which means **we will have an bonus break week next week (02/17-02/21/2020).**\n",
    "\n",
    "- This also means you have *another week before your Mod 3 project links are due. (now due Monday 02/24/20) <br>"
   ]
  },
  {
   "cell_type": "markdown",
   "metadata": {},
   "source": [
    "## What’s New"
   ]
  },
  {
   "cell_type": "markdown",
   "metadata": {},
   "source": [
    "For the Curriculum V2.1, **we’ve moved content around and restructured our curriculum to 5 modules**. Your cohort is **continuing with your curriculum in the new v2.1 Module 3**. You will have an end-of-module project, and at the end of the program, there is still one big capstone project. The table below outlines the general structure for curriculum V2.1. \n",
    "\n",
    "\n",
    "<img src=\"https://raw.githubusercontent.com/learn-co-curriculum/online-ds-pt-100719/master/compare_curric.png?token=AKWNGY4X5S2G3ZIRPRGJ5AC6KV54C\">"
   ]
  },
  {
   "cell_type": "markdown",
   "metadata": {},
   "source": [
    "### The three biggest changes to this new curriculum are\n",
    "\n",
    "- We’ve reorganized the content to fit into a 5 module-structure instead of a 7 module-structure. This standardizes the number of weeks spent in each module and for part-time, each module will last 8-weeks.\n",
    "- Supporting content has been moved to an appendix in each module. This prioritizes the most important topics allowing time for you to more deeply understand these topics. The appendices are there for you to explore, as areas of interest, but are not required.\n",
    "- Some sections were consolidated and some labs were updated to accommodate the new structure. We also incorporated improvements to bring the curriculum more in-line with the needs of the market."
   ]
  },
  {
   "cell_type": "markdown",
   "metadata": {},
   "source": [
    "### Impact\n",
    "\n",
    "In v2.1, each new Module will be deployed in a new track. To access the new track when you are ready to start your next module, please follow these step.\n",
    "\n",
    "**Steps to access your lessons:**\n",
    "- Log in to Learn. \n",
    "- In the top left, click onto “Curriculum” \n",
    "- Click “switch course” in the dropdown. \n",
    "- You should see a track titled “Module 2 - Data Science Career 2.1”\n",
    "- Click on that, and it will take you to the course. \n",
    "- From there, go to Section 17 Bayesian Statistics and continue on with your curriculum! (see table below for sections covered over the next 2-3 weeks.\n",
    "\n",
    "\n",
    "**The updated v2.1 Curriculum Mod 2 track will be available on Friday.**\n",
    " Because we are moving to this new format where each new Module will live its own track, ***the percentage complete graphic on your cohort homepage will be incorrect.*** Please disregard this for now. We’ll be working in the coming weeks to update these graphics. \n",
    " \n",
    " ***You may also see a few past lessons you completed are now no longer complete. This will not impact your graduation date and you can go back and review and mark incomplete lessons in previous modules complete if you like.***\n",
    "\n",
    "If you have any questions, please reach out to me. I’d be happy to help you make the most of this updated curriculum!\n",
    "\n",
    "You can also join an open office hour with me on Tuesday 02/28 at 6 pm (normal study group time slot). \n",
    "\n",
    "https://learn.co/study-groups/transferring-to-curriculum-2-1-q-a\n",
    "\n",
    "\n",
    "Sincerely,\n",
    "\n",
    "James Irving\n",
    "Online Data Science Bootcamp Team\n",
    "Flatiron School\n",
    "\n",
    "\n"
   ]
  },
  {
   "cell_type": "markdown",
   "metadata": {},
   "source": [
    "## Order of Upcoming v2.1 Study Groups\n",
    "\n",
    "|Date |v2.1 Mod / Section # | Topic |  Old MOd/Section from v2.0|\n",
    "| --- | --- | --- | --- |\n",
    "| 02/25/20 | Mod 2 - 17 |Bayesian Statistics | Mod 3 - 23|\n",
    "| 02/27/20 | Mod 2 - 20 | Extensions to Linear Models| Mod 4 |\n",
    "| 03/03/20 | Mod 2 - 21  | Object Oriented Programming | Mod 2- Sect 10 |\n",
    "| 03/05/20 | Mod 2 - 22 | Linear Algebra | Mod 4|\n",
    "\n",
    "- After 03/05/20 we will go back to following the order of the sections as they appear in v2.1 on Learn.co "
   ]
  },
  {
   "cell_type": "markdown",
   "metadata": {
    "ExecuteTime": {
     "end_time": "2020-02-18T19:22:07.079951Z",
     "start_time": "2020-02-18T19:22:07.077484Z"
    }
   },
   "source": [
    "### Accessing The Different version of the Curriculum on Learn.co"
   ]
  },
  {
   "cell_type": "markdown",
   "metadata": {},
   "source": [
    "-"
   ]
  }
 ],
 "metadata": {
  "kernelspec": {
   "display_name": "learn-env",
   "language": "python",
   "name": "learn-env"
  },
  "language_info": {
   "codemirror_mode": {
    "name": "ipython",
    "version": 3
   },
   "file_extension": ".py",
   "mimetype": "text/x-python",
   "name": "python",
   "nbconvert_exporter": "python",
   "pygments_lexer": "ipython3",
   "version": "3.6.9"
  },
  "toc": {
   "base_numbering": 1,
   "nav_menu": {},
   "number_sections": false,
   "sideBar": true,
   "skip_h1_title": false,
   "title_cell": "Table of Contents",
   "title_sidebar": "Contents",
   "toc_cell": false,
   "toc_position": {},
   "toc_section_display": true,
   "toc_window_display": true
  }
 },
 "nbformat": 4,
 "nbformat_minor": 2
}
