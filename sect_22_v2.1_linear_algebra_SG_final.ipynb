{
 "cells": [
  {
   "cell_type": "markdown",
   "metadata": {},
   "source": [
    "# Sect 22 (v2.1): Linear Algebra"
   ]
  },
  {
   "cell_type": "markdown",
   "metadata": {},
   "source": [
    "- 03/06/20"
   ]
  },
  {
   "cell_type": "markdown",
   "metadata": {},
   "source": [
    "## Questions/Comments?"
   ]
  },
  {
   "cell_type": "markdown",
   "metadata": {},
   "source": [
    "- linag.solve vs manual multiplication\n",
    "- setting up systems of equations before making matrices"
   ]
  },
  {
   "cell_type": "markdown",
   "metadata": {},
   "source": [
    "## Objectives\n",
    "\n",
    "- Be able to explain the difference(s) between vectors, matrices, tensors, etc. and their dimensionality.\n",
    "\n",
    "- Understand the the difference between the shape and size of an array\n",
    "\n",
    "- Discuss linear algebra operations with numpy\n",
    "\n",
    "- Learn about using linear algebra to solve systems of equations\n",
    "- Simple linear algebra regression analysis\n",
    "### Resources:\n",
    "- Learn: [Motivation for Linear Algebra](https://learn.co/tracks/data-science-career-v2/module-4-a-complete-data-science-project-using-multiple-regression/section-26-linear-algebra/motivation-for-linear-algebra-in-data-science)\n",
    "\n",
    "- www.desmos.com (linear equation grapher)\n",
    "\n"
   ]
  },
  {
   "cell_type": "code",
   "execution_count": 1,
   "metadata": {
    "ExecuteTime": {
     "end_time": "2020-03-07T00:25:20.586403Z",
     "start_time": "2020-03-07T00:25:17.014004Z"
    }
   },
   "outputs": [
    {
     "name": "stdout",
     "output_type": "stream",
     "text": [
      "fsds_1007219  v0.7.16 loaded.  Read the docs: https://fsds.readthedocs.io/en/latest/ \n"
     ]
    },
    {
     "data": {
      "text/html": [
       "<style  type=\"text/css\" >\n",
       "</style><table id=\"T_20a7c3be_600a_11ea_bba2_acde48001122\" ><caption>Loaded Packages and Handles</caption><thead>    <tr>        <th class=\"col_heading level0 col0\" >Handle</th>        <th class=\"col_heading level0 col1\" >Package</th>        <th class=\"col_heading level0 col2\" >Description</th>    </tr></thead><tbody>\n",
       "                <tr>\n",
       "                                <td id=\"T_20a7c3be_600a_11ea_bba2_acde48001122row0_col0\" class=\"data row0 col0\" >dp</td>\n",
       "                        <td id=\"T_20a7c3be_600a_11ea_bba2_acde48001122row0_col1\" class=\"data row0 col1\" >IPython.display</td>\n",
       "                        <td id=\"T_20a7c3be_600a_11ea_bba2_acde48001122row0_col2\" class=\"data row0 col2\" >Display modules with helpful display and clearing commands.</td>\n",
       "            </tr>\n",
       "            <tr>\n",
       "                                <td id=\"T_20a7c3be_600a_11ea_bba2_acde48001122row1_col0\" class=\"data row1 col0\" >fs</td>\n",
       "                        <td id=\"T_20a7c3be_600a_11ea_bba2_acde48001122row1_col1\" class=\"data row1 col1\" >fsds_100719</td>\n",
       "                        <td id=\"T_20a7c3be_600a_11ea_bba2_acde48001122row1_col2\" class=\"data row1 col2\" >Custom data science bootcamp student package</td>\n",
       "            </tr>\n",
       "            <tr>\n",
       "                                <td id=\"T_20a7c3be_600a_11ea_bba2_acde48001122row2_col0\" class=\"data row2 col0\" >mpl</td>\n",
       "                        <td id=\"T_20a7c3be_600a_11ea_bba2_acde48001122row2_col1\" class=\"data row2 col1\" >matplotlib</td>\n",
       "                        <td id=\"T_20a7c3be_600a_11ea_bba2_acde48001122row2_col2\" class=\"data row2 col2\" >Matplotlib's base OOP module with formatting artists</td>\n",
       "            </tr>\n",
       "            <tr>\n",
       "                                <td id=\"T_20a7c3be_600a_11ea_bba2_acde48001122row3_col0\" class=\"data row3 col0\" >plt</td>\n",
       "                        <td id=\"T_20a7c3be_600a_11ea_bba2_acde48001122row3_col1\" class=\"data row3 col1\" >matplotlib.pyplot</td>\n",
       "                        <td id=\"T_20a7c3be_600a_11ea_bba2_acde48001122row3_col2\" class=\"data row3 col2\" >Matplotlib's matlab-like plotting module</td>\n",
       "            </tr>\n",
       "            <tr>\n",
       "                                <td id=\"T_20a7c3be_600a_11ea_bba2_acde48001122row4_col0\" class=\"data row4 col0\" >np</td>\n",
       "                        <td id=\"T_20a7c3be_600a_11ea_bba2_acde48001122row4_col1\" class=\"data row4 col1\" >numpy</td>\n",
       "                        <td id=\"T_20a7c3be_600a_11ea_bba2_acde48001122row4_col2\" class=\"data row4 col2\" >scientific computing with Python</td>\n",
       "            </tr>\n",
       "            <tr>\n",
       "                                <td id=\"T_20a7c3be_600a_11ea_bba2_acde48001122row5_col0\" class=\"data row5 col0\" >pd</td>\n",
       "                        <td id=\"T_20a7c3be_600a_11ea_bba2_acde48001122row5_col1\" class=\"data row5 col1\" >pandas</td>\n",
       "                        <td id=\"T_20a7c3be_600a_11ea_bba2_acde48001122row5_col2\" class=\"data row5 col2\" >High performance data structures and tools</td>\n",
       "            </tr>\n",
       "            <tr>\n",
       "                                <td id=\"T_20a7c3be_600a_11ea_bba2_acde48001122row6_col0\" class=\"data row6 col0\" >sns</td>\n",
       "                        <td id=\"T_20a7c3be_600a_11ea_bba2_acde48001122row6_col1\" class=\"data row6 col1\" >seaborn</td>\n",
       "                        <td id=\"T_20a7c3be_600a_11ea_bba2_acde48001122row6_col2\" class=\"data row6 col2\" >High-level data visualization library based on matplotlib</td>\n",
       "            </tr>\n",
       "    </tbody></table>"
      ],
      "text/plain": [
       "<pandas.io.formats.style.Styler at 0x1c217e75f8>"
      ]
     },
     "metadata": {},
     "output_type": "display_data"
    },
    {
     "data": {
      "text/html": [
       "        <script type=\"text/javascript\">\n",
       "        window.PlotlyConfig = {MathJaxConfig: 'local'};\n",
       "        if (window.MathJax) {MathJax.Hub.Config({SVG: {font: \"STIX-Web\"}});}\n",
       "        if (typeof require !== 'undefined') {\n",
       "        require.undef(\"plotly\");\n",
       "        requirejs.config({\n",
       "            paths: {\n",
       "                'plotly': ['https://cdn.plot.ly/plotly-latest.min']\n",
       "            }\n",
       "        });\n",
       "        require(['plotly'], function(Plotly) {\n",
       "            window._Plotly = Plotly;\n",
       "        });\n",
       "        }\n",
       "        </script>\n",
       "        "
      ]
     },
     "metadata": {},
     "output_type": "display_data"
    },
    {
     "name": "stdout",
     "output_type": "stream",
     "text": [
      "[i] Pandas .iplot() method activated.\n"
     ]
    }
   ],
   "source": [
    "# Cohort package\n",
    "!pip install -U fsds_100719\n",
    "from fsds_100719.imports import *"
   ]
  },
  {
   "cell_type": "code",
   "execution_count": 2,
   "metadata": {
    "ExecuteTime": {
     "end_time": "2020-03-07T00:25:20.590221Z",
     "start_time": "2020-03-07T00:25:20.588022Z"
    }
   },
   "outputs": [],
   "source": [
    "# Imports needed for this notebook\n",
    "import numpy as np"
   ]
  },
  {
   "cell_type": "markdown",
   "metadata": {},
   "source": [
    "# What & Why of Linear Algebra"
   ]
  },
  {
   "cell_type": "markdown",
   "metadata": {},
   "source": [
    "\n",
    "### What is Linear Algebra?\n",
    "\n",
    "> Linear algebra is the branch of mathematics concerning vector spaces and linear relationships between such spaces. It includes the study of lines, planes, and subspaces, but is also concerned with properties common to all vector spaces.\n",
    "\n",
    "- Study of \"vector spaces\"; relationship of **linear** relationships\n",
    "- Uses vectors, matrices, and tensors\n",
    "- Mapping & dimensionality (PCA)\n",
    "- Used in lots of ML applications"
   ]
  },
  {
   "cell_type": "markdown",
   "metadata": {},
   "source": [
    "We'll try to put abstract ideas into the formalism of linear algebra\n",
    " - images/pixels\n",
    " - language (NLP)"
   ]
  },
  {
   "cell_type": "markdown",
   "metadata": {},
   "source": [
    "# Different Tensors"
   ]
  },
  {
   "cell_type": "markdown",
   "metadata": {},
   "source": [
    "## Scalars, Vectors, Matrices: It's all about the dimension"
   ]
  },
  {
   "cell_type": "markdown",
   "metadata": {},
   "source": [
    "<img src=\"https://raw.githubusercontent.com/jirvingphd/flatiron-school-data-science-curriculum-resources/master/Mathematics/LinearAlgebra/images/different_tensors.png\" width=50%>\n",
    "\n",
    "\n"
   ]
  },
  {
   "cell_type": "markdown",
   "metadata": {},
   "source": [
    "## Why Linear Algebra?\n"
   ]
  },
  {
   "cell_type": "markdown",
   "metadata": {},
   "source": [
    "- Representing data as a N-dimensional tensor is used in many areas of Machine Learning."
   ]
  },
  {
   "cell_type": "markdown",
   "metadata": {},
   "source": [
    "- Images are 3-D tensors.\n",
    "<img src='https://raw.githubusercontent.com/jirvingphd/dsc-lingalg-motivation-online-ds-pt-100719/master/images/rgb.png' width=40%>\n",
    "\n",
    "- Natural Language Processing Represents text using matrices\n",
    "<img src=\"https://raw.githubusercontent.com/learn-co-students/dsc-lingalg-motivation-online-ds-pt-100719/master/images/NLP_matrix2.png\" width=80%>\n",
    "\n",
    "\n",
    "- Dimensionality Reduction (PCA)\n",
    "\n",
    "\n",
    "<img src=\"https://raw.githubusercontent.com/learn-co-students/dsc-lingalg-motivation-online-ds-pt-100719/master/images/PCA_img.png\">\n",
    "\n",
    "\n",
    "- Artificial Neural Networks"
   ]
  },
  {
   "cell_type": "code",
   "execution_count": 3,
   "metadata": {
    "ExecuteTime": {
     "end_time": "2020-03-07T00:25:20.593682Z",
     "start_time": "2020-03-07T00:25:20.591894Z"
    }
   },
   "outputs": [],
   "source": [
    "# from fsds_100719.imports import *"
   ]
  },
  {
   "cell_type": "markdown",
   "metadata": {},
   "source": [
    "## Creating with NumPy"
   ]
  },
  {
   "cell_type": "code",
   "execution_count": 4,
   "metadata": {
    "ExecuteTime": {
     "end_time": "2020-03-07T00:25:20.598311Z",
     "start_time": "2020-03-07T00:25:20.594919Z"
    }
   },
   "outputs": [
    {
     "data": {
      "text/plain": [
       "array([0])"
      ]
     },
     "metadata": {},
     "output_type": "display_data"
    }
   ],
   "source": [
    "# Scalar\n",
    "s = np.arange(1)\n",
    "display(s)"
   ]
  },
  {
   "cell_type": "code",
   "execution_count": 5,
   "metadata": {
    "ExecuteTime": {
     "end_time": "2020-03-07T00:25:20.604482Z",
     "start_time": "2020-03-07T00:25:20.599342Z"
    }
   },
   "outputs": [
    {
     "data": {
      "text/plain": [
       "array([0, 1, 2, 3])"
      ]
     },
     "metadata": {},
     "output_type": "display_data"
    },
    {
     "data": {
      "text/plain": [
       "array([-3.14159265, -2.44346095, -1.74532925, -1.04719755, -0.34906585,\n",
       "        0.34906585,  1.04719755,  1.74532925,  2.44346095,  3.14159265])"
      ]
     },
     "execution_count": 5,
     "metadata": {},
     "output_type": "execute_result"
    }
   ],
   "source": [
    "# Vector\n",
    "v = np.arange(4)\n",
    "display(v)\n",
    "# print(v)\n",
    "\n",
    "# Other ways to define vector\n",
    "x = np.linspace(-np.pi, np.pi, 10)\n",
    "x"
   ]
  },
  {
   "cell_type": "code",
   "execution_count": 6,
   "metadata": {
    "ExecuteTime": {
     "end_time": "2020-03-07T00:25:20.610350Z",
     "start_time": "2020-03-07T00:25:20.605723Z"
    }
   },
   "outputs": [
    {
     "data": {
      "text/plain": [
       "array([0, 1, 2, 3, 4, 5, 6, 7])"
      ]
     },
     "metadata": {},
     "output_type": "display_data"
    },
    {
     "data": {
      "text/plain": [
       "array([[0, 1],\n",
       "       [2, 3],\n",
       "       [4, 5],\n",
       "       [6, 7]])"
      ]
     },
     "metadata": {},
     "output_type": "display_data"
    }
   ],
   "source": [
    "# Matrix\n",
    "M0 = np.arange(8)\n",
    "display(M0)\n",
    "M = np.arange(8).reshape((4, 2))\n",
    "display(M)\n",
    "# print(M)"
   ]
  },
  {
   "cell_type": "code",
   "execution_count": 7,
   "metadata": {
    "ExecuteTime": {
     "end_time": "2020-03-07T00:25:20.616113Z",
     "start_time": "2020-03-07T00:25:20.611526Z"
    }
   },
   "outputs": [
    {
     "name": "stdout",
     "output_type": "stream",
     "text": [
      "24\n"
     ]
    },
    {
     "data": {
      "text/plain": [
       "array([[[ 0,  1,  2],\n",
       "        [ 3,  4,  5]],\n",
       "\n",
       "       [[ 6,  7,  8],\n",
       "        [ 9, 10, 11]],\n",
       "\n",
       "       [[12, 13, 14],\n",
       "        [15, 16, 17]],\n",
       "\n",
       "       [[18, 19, 20],\n",
       "        [21, 22, 23]]])"
      ]
     },
     "metadata": {},
     "output_type": "display_data"
    }
   ],
   "source": [
    "# 3D Tensor\n",
    "n = 24#4*2*3\n",
    "print(n)\n",
    "T_3d = np.arange(n).reshape((4, 2, 3))\n",
    "display(T_3d)"
   ]
  },
  {
   "cell_type": "code",
   "execution_count": 9,
   "metadata": {
    "ExecuteTime": {
     "end_time": "2020-03-07T00:25:21.250850Z",
     "start_time": "2020-03-07T00:25:20.622890Z"
    }
   },
   "outputs": [
    {
     "name": "stdout",
     "output_type": "stream",
     "text": [
      "(3425, 2300, 3)\n"
     ]
    },
    {
     "data": {
      "image/png": "[encoded data removed]",
      "text/plain": [
       "<Figure size 432x288 with 1 Axes>"
      ]
     },
     "metadata": {
      "needs_background": "light"
     },
     "output_type": "display_data"
    }
   ],
   "source": [
    "import cv2\n",
    "img = 'Images/flatiron-building-glitter.jpeg'\n",
    "\n",
    "IMG =mpl.image.imread(img)\n",
    "print(IMG.shape)\n",
    "plt.imshow(IMG);\n",
    "plt.axis('off');"
   ]
  },
  {
   "cell_type": "code",
   "execution_count": 18,
   "metadata": {
    "ExecuteTime": {
     "end_time": "2020-03-06T23:19:30.140190Z",
     "start_time": "2020-03-06T23:19:29.803085Z"
    },
    "slideshow": {
     "slide_type": "slide"
    }
   },
   "outputs": [
    {
     "data": {
      "text/plain": [
       "array([[203, 203, 204, ..., 249, 249, 255],\n",
       "       [190, 189, 187, ..., 245, 246, 255],\n",
       "       [185, 181, 180, ..., 240, 241, 254],\n",
       "       ...,\n",
       "       [254, 255, 254, ..., 255, 255, 255],\n",
       "       [255, 255, 255, ..., 255, 255, 255],\n",
       "       [255, 254, 255, ..., 255, 255, 255]], dtype=uint8)"
      ]
     },
     "metadata": {},
     "output_type": "display_data"
    },
    {
     "data": {
      "text/plain": [
       "<matplotlib.image.AxesImage at 0x1516338e10>"
      ]
     },
     "execution_count": 18,
     "metadata": {},
     "output_type": "execute_result"
    },
    {
     "data": {
      "image/png": "[encoded data removed]",
      "text/plain": [
       "<Figure size 432x288 with 1 Axes>"
      ]
     },
     "metadata": {
      "needs_background": "light"
     },
     "output_type": "display_data"
    }
   ],
   "source": [
    "display(IMG[:,:,0])\n",
    "plt.imshow(IMG[:,:,0],'gray')"
   ]
  },
  {
   "cell_type": "markdown",
   "metadata": {},
   "source": []
  },
  {
   "cell_type": "code",
   "execution_count": 19,
   "metadata": {
    "ExecuteTime": {
     "end_time": "2020-03-06T23:19:52.419897Z",
     "start_time": "2020-03-06T23:19:51.371844Z"
    },
    "slideshow": {
     "slide_type": "slide"
    }
   },
   "outputs": [
    {
     "data": {
      "text/plain": [
       "[(-0.5, 2299.5, 3424.5, -0.5),\n",
       " (-0.5, 2299.5, 3424.5, -0.5),\n",
       " (-0.5, 2299.5, 3424.5, -0.5),\n",
       " (-0.5, 2299.5, 3424.5, -0.5)]"
      ]
     },
     "execution_count": 19,
     "metadata": {},
     "output_type": "execute_result"
    },
    {
     "data": {
      "image/png": "[encoded data removed]",
      "text/plain": [
       "<Figure size 576x720 with 4 Axes>"
      ]
     },
     "metadata": {
      "needs_background": "light"
     },
     "output_type": "display_data"
    }
   ],
   "source": [
    "fig, ax = plt.subplots(ncols=4,figsize=(8,10))\n",
    "ax[0].imshow(IMG)\n",
    "ax[1].imshow(IMG[:,:,0],cmap= 'gray')\n",
    "ax[2].imshow(IMG[:,:,1],cmap='gray')\n",
    "ax[3].imshow(IMG[:,:,2],cmap='gray')\n",
    "\n",
    "[a.axis('off') for a in ax]"
   ]
  },
  {
   "cell_type": "markdown",
   "metadata": {},
   "source": [
    "### Indexing with NumPy"
   ]
  },
  {
   "cell_type": "markdown",
   "metadata": {},
   "source": [
    "<img src=\"https://raw.githubusercontent.com/learn-co-students/dsc-scalars-vectors-matrices-tensors-codealong-online-ds-pt-100719/master/images/new_tensors.png\" width=80%>"
   ]
  },
  {
   "cell_type": "markdown",
   "metadata": {},
   "source": [
    "#### Different parts of a vector"
   ]
  },
  {
   "cell_type": "code",
   "execution_count": 20,
   "metadata": {
    "ExecuteTime": {
     "end_time": "2020-03-06T23:20:44.414933Z",
     "start_time": "2020-03-06T23:20:44.409418Z"
    }
   },
   "outputs": [
    {
     "data": {
      "text/plain": [
       "array([0, 1, 2, 3])"
      ]
     },
     "metadata": {},
     "output_type": "display_data"
    }
   ],
   "source": [
    "display(v)"
   ]
  },
  {
   "cell_type": "code",
   "execution_count": 23,
   "metadata": {
    "ExecuteTime": {
     "end_time": "2020-03-06T23:22:19.826046Z",
     "start_time": "2020-03-06T23:22:19.817347Z"
    }
   },
   "outputs": [
    {
     "data": {
      "text/plain": [
       "array([1, 2, 3])"
      ]
     },
     "metadata": {},
     "output_type": "display_data"
    },
    {
     "data": {
      "text/plain": [
       "array([0, 2])"
      ]
     },
     "metadata": {},
     "output_type": "display_data"
    },
    {
     "data": {
      "text/plain": [
       "array([0, 1, 2, 3])"
      ]
     },
     "metadata": {},
     "output_type": "display_data"
    },
    {
     "data": {
      "text/plain": [
       "array([3, 2, 1, 0])"
      ]
     },
     "metadata": {},
     "output_type": "display_data"
    }
   ],
   "source": [
    "# For Vectors\n",
    "display(v[1:4])  # second to fourth element.\n",
    "display(v[::2])  # every other element\n",
    "display(v[:])    # print the whole vector\n",
    "display(v[::-1]) # reverse the vector!"
   ]
  },
  {
   "cell_type": "markdown",
   "metadata": {},
   "source": [
    "#### Different parts of a matrix"
   ]
  },
  {
   "cell_type": "code",
   "execution_count": 24,
   "metadata": {
    "ExecuteTime": {
     "end_time": "2020-03-06T23:22:32.311883Z",
     "start_time": "2020-03-06T23:22:32.307775Z"
    }
   },
   "outputs": [
    {
     "data": {
      "text/plain": [
       "array([[0, 1],\n",
       "       [2, 3],\n",
       "       [4, 5],\n",
       "       [6, 7]])"
      ]
     },
     "metadata": {},
     "output_type": "display_data"
    }
   ],
   "source": [
    "display(M)"
   ]
  },
  {
   "cell_type": "code",
   "execution_count": 25,
   "metadata": {
    "ExecuteTime": {
     "end_time": "2020-03-06T23:22:38.527647Z",
     "start_time": "2020-03-06T23:22:38.524260Z"
    }
   },
   "outputs": [
    {
     "data": {
      "text/plain": [
       "0"
      ]
     },
     "metadata": {},
     "output_type": "display_data"
    }
   ],
   "source": [
    "display(M[0, 0])   # element at first row and first column"
   ]
  },
  {
   "cell_type": "code",
   "execution_count": 26,
   "metadata": {
    "ExecuteTime": {
     "end_time": "2020-03-06T23:22:48.247666Z",
     "start_time": "2020-03-06T23:22:48.243644Z"
    }
   },
   "outputs": [
    {
     "data": {
      "text/plain": [
       "7"
      ]
     },
     "metadata": {},
     "output_type": "display_data"
    }
   ],
   "source": [
    "display(M[-1, -1]) # elemenet last row and last column "
   ]
  },
  {
   "cell_type": "code",
   "execution_count": 27,
   "metadata": {
    "ExecuteTime": {
     "end_time": "2020-03-06T23:22:54.421881Z",
     "start_time": "2020-03-06T23:22:54.418246Z"
    }
   },
   "outputs": [
    {
     "data": {
      "text/plain": [
       "array([0, 1])"
      ]
     },
     "metadata": {},
     "output_type": "display_data"
    }
   ],
   "source": [
    "display(M[0, :])   # first row and all columns"
   ]
  },
  {
   "cell_type": "code",
   "execution_count": 28,
   "metadata": {
    "ExecuteTime": {
     "end_time": "2020-03-06T23:23:04.827919Z",
     "start_time": "2020-03-06T23:23:04.817493Z"
    }
   },
   "outputs": [
    {
     "data": {
      "text/plain": [
       "array([0, 2, 4, 6])"
      ]
     },
     "metadata": {},
     "output_type": "display_data"
    }
   ],
   "source": [
    "display(M[:, 0])   # all rows and first column "
   ]
  },
  {
   "cell_type": "code",
   "execution_count": 29,
   "metadata": {
    "ExecuteTime": {
     "end_time": "2020-03-06T23:23:11.120094Z",
     "start_time": "2020-03-06T23:23:11.115526Z"
    }
   },
   "outputs": [
    {
     "data": {
      "text/plain": [
       "array([[0, 1],\n",
       "       [2, 3],\n",
       "       [4, 5],\n",
       "       [6, 7]])"
      ]
     },
     "metadata": {},
     "output_type": "display_data"
    }
   ],
   "source": [
    "display(M[:])      # all rows and all columns"
   ]
  },
  {
   "cell_type": "markdown",
   "metadata": {},
   "source": [
    "#### Different parts of a tensor"
   ]
  },
  {
   "cell_type": "code",
   "execution_count": 30,
   "metadata": {
    "ExecuteTime": {
     "end_time": "2020-03-06T23:23:15.116408Z",
     "start_time": "2020-03-06T23:23:15.111173Z"
    }
   },
   "outputs": [
    {
     "data": {
      "text/plain": [
       "array([[[ 0,  1,  2],\n",
       "        [ 3,  4,  5]],\n",
       "\n",
       "       [[ 6,  7,  8],\n",
       "        [ 9, 10, 11]],\n",
       "\n",
       "       [[12, 13, 14],\n",
       "        [15, 16, 17]],\n",
       "\n",
       "       [[18, 19, 20],\n",
       "        [21, 22, 23]]])"
      ]
     },
     "metadata": {},
     "output_type": "display_data"
    }
   ],
   "source": [
    "display(T_3d)"
   ]
  },
  {
   "cell_type": "code",
   "execution_count": 31,
   "metadata": {
    "ExecuteTime": {
     "end_time": "2020-03-06T23:23:18.890194Z",
     "start_time": "2020-03-06T23:23:18.886038Z"
    }
   },
   "outputs": [
    {
     "data": {
      "text/plain": [
       "array([[0, 1, 2],\n",
       "       [3, 4, 5]])"
      ]
     },
     "metadata": {},
     "output_type": "display_data"
    }
   ],
   "source": [
    "display(T_3d[0])      # 2D: First matrix"
   ]
  },
  {
   "cell_type": "code",
   "execution_count": 32,
   "metadata": {
    "ExecuteTime": {
     "end_time": "2020-03-06T23:23:33.964648Z",
     "start_time": "2020-03-06T23:23:33.960695Z"
    }
   },
   "outputs": [
    {
     "data": {
      "text/plain": [
       "array([0, 1, 2])"
      ]
     },
     "metadata": {},
     "output_type": "display_data"
    }
   ],
   "source": [
    "display(T_3d[0, 0])   # 1D: First matrix's first vector"
   ]
  },
  {
   "cell_type": "code",
   "execution_count": 33,
   "metadata": {
    "ExecuteTime": {
     "end_time": "2020-03-06T23:23:59.660169Z",
     "start_time": "2020-03-06T23:23:59.656065Z"
    }
   },
   "outputs": [
    {
     "data": {
      "text/plain": [
       "0"
      ]
     },
     "metadata": {},
     "output_type": "display_data"
    }
   ],
   "source": [
    "display(T_3d[0,0, 0]) # 0D: First matrix's first vector's first element"
   ]
  },
  {
   "cell_type": "code",
   "execution_count": 34,
   "metadata": {
    "ExecuteTime": {
     "end_time": "2020-03-06T23:24:10.501159Z",
     "start_time": "2020-03-06T23:24:10.496263Z"
    }
   },
   "outputs": [
    {
     "data": {
      "text/plain": [
       "array([0, 1, 2])"
      ]
     },
     "metadata": {},
     "output_type": "display_data"
    }
   ],
   "source": [
    "display(T_3d[0, 0, :])  # 1D: first matrix, first vector, all elements"
   ]
  },
  {
   "cell_type": "code",
   "execution_count": 35,
   "metadata": {
    "ExecuteTime": {
     "end_time": "2020-03-06T23:24:15.749638Z",
     "start_time": "2020-03-06T23:24:15.746056Z"
    }
   },
   "outputs": [
    {
     "data": {
      "text/plain": [
       "array([[[ 0,  1,  2],\n",
       "        [ 3,  4,  5]],\n",
       "\n",
       "       [[ 6,  7,  8],\n",
       "        [ 9, 10, 11]],\n",
       "\n",
       "       [[12, 13, 14],\n",
       "        [15, 16, 17]],\n",
       "\n",
       "       [[18, 19, 20],\n",
       "        [21, 22, 23]]])"
      ]
     },
     "metadata": {},
     "output_type": "display_data"
    }
   ],
   "source": [
    "display(T_3d)"
   ]
  },
  {
   "cell_type": "code",
   "execution_count": 36,
   "metadata": {
    "ExecuteTime": {
     "end_time": "2020-03-06T23:24:22.148486Z",
     "start_time": "2020-03-06T23:24:22.144453Z"
    }
   },
   "outputs": [
    {
     "data": {
      "text/plain": [
       "array([0, 3])"
      ]
     },
     "metadata": {},
     "output_type": "display_data"
    }
   ],
   "source": [
    "display(T_3d[0, :, 0])  # 1D: first matrix, all the vectors, just the fist element"
   ]
  },
  {
   "cell_type": "code",
   "execution_count": 37,
   "metadata": {
    "ExecuteTime": {
     "end_time": "2020-03-06T23:24:32.077679Z",
     "start_time": "2020-03-06T23:24:32.073667Z"
    }
   },
   "outputs": [
    {
     "data": {
      "text/plain": [
       "array([[1, 2],\n",
       "       [4, 5]])"
      ]
     },
     "metadata": {},
     "output_type": "display_data"
    }
   ],
   "source": [
    "display(T_3d[0, :, 1:]) # 1D: first matrix, all the vectors, all elements after the first"
   ]
  },
  {
   "cell_type": "markdown",
   "metadata": {},
   "source": [
    "# Basic Properties"
   ]
  },
  {
   "cell_type": "markdown",
   "metadata": {},
   "source": [
    "## Shape\n",
    "\n",
    "Can help us know the dimensions and size"
   ]
  },
  {
   "cell_type": "code",
   "execution_count": 39,
   "metadata": {
    "ExecuteTime": {
     "end_time": "2020-03-06T23:25:04.566497Z",
     "start_time": "2020-03-06T23:25:04.558258Z"
    }
   },
   "outputs": [
    {
     "name": "stdout",
     "output_type": "stream",
     "text": [
      "Scalar:\n"
     ]
    },
    {
     "data": {
      "text/plain": [
       "array(100)"
      ]
     },
     "metadata": {},
     "output_type": "display_data"
    },
    {
     "data": {
      "text/plain": [
       "()"
      ]
     },
     "metadata": {},
     "output_type": "display_data"
    },
    {
     "data": {
      "text/plain": [
       "1"
      ]
     },
     "metadata": {},
     "output_type": "display_data"
    }
   ],
   "source": [
    "print('Scalar:')\n",
    "s = np.array(100)\n",
    "display(s)\n",
    "display(s.shape)\n",
    "display(s.size)"
   ]
  },
  {
   "cell_type": "code",
   "execution_count": 41,
   "metadata": {
    "ExecuteTime": {
     "end_time": "2020-03-06T23:25:38.851447Z",
     "start_time": "2020-03-06T23:25:38.842614Z"
    }
   },
   "outputs": [
    {
     "name": "stdout",
     "output_type": "stream",
     "text": [
      "Vector:\n"
     ]
    },
    {
     "data": {
      "text/plain": [
       "array([0, 1, 2, 3])"
      ]
     },
     "metadata": {},
     "output_type": "display_data"
    },
    {
     "data": {
      "text/plain": [
       "(4,)"
      ]
     },
     "metadata": {},
     "output_type": "display_data"
    },
    {
     "data": {
      "text/plain": [
       "4"
      ]
     },
     "metadata": {},
     "output_type": "display_data"
    }
   ],
   "source": [
    "print('Vector:')\n",
    "display(v)\n",
    "display(v.shape)\n",
    "display(v.size)"
   ]
  },
  {
   "cell_type": "code",
   "execution_count": 43,
   "metadata": {
    "ExecuteTime": {
     "end_time": "2020-03-06T23:26:11.752915Z",
     "start_time": "2020-03-06T23:26:11.746265Z"
    }
   },
   "outputs": [
    {
     "name": "stdout",
     "output_type": "stream",
     "text": [
      "Matrix:\n"
     ]
    },
    {
     "data": {
      "text/plain": [
       "array([[0, 1],\n",
       "       [2, 3],\n",
       "       [4, 5],\n",
       "       [6, 7]])"
      ]
     },
     "metadata": {},
     "output_type": "display_data"
    },
    {
     "data": {
      "text/plain": [
       "(4, 2)"
      ]
     },
     "metadata": {},
     "output_type": "display_data"
    },
    {
     "data": {
      "text/plain": [
       "8"
      ]
     },
     "metadata": {},
     "output_type": "display_data"
    }
   ],
   "source": [
    "print('Matrix:')\n",
    "display(M)\n",
    "display(M.shape)\n",
    "display(M.size)"
   ]
  },
  {
   "cell_type": "code",
   "execution_count": 44,
   "metadata": {
    "ExecuteTime": {
     "end_time": "2020-03-06T23:27:29.532446Z",
     "start_time": "2020-03-06T23:27:29.526651Z"
    }
   },
   "outputs": [
    {
     "name": "stdout",
     "output_type": "stream",
     "text": [
      "3D Tensor:\n",
      "[[[ 0  1  2]\n",
      "  [ 3  4  5]]\n",
      "\n",
      " [[ 6  7  8]\n",
      "  [ 9 10 11]]\n",
      "\n",
      " [[12 13 14]\n",
      "  [15 16 17]]\n",
      "\n",
      " [[18 19 20]\n",
      "  [21 22 23]]]\n"
     ]
    },
    {
     "data": {
      "text/plain": [
       "(4, 2, 3)"
      ]
     },
     "metadata": {},
     "output_type": "display_data"
    },
    {
     "data": {
      "text/plain": [
       "24"
      ]
     },
     "metadata": {},
     "output_type": "display_data"
    }
   ],
   "source": [
    "print('3D Tensor:')\n",
    "print(T_3d)\n",
    "display(T_3d.shape)\n",
    "display(T_3d.size)"
   ]
  },
  {
   "cell_type": "markdown",
   "metadata": {},
   "source": [
    "## Transpose"
   ]
  },
  {
   "cell_type": "markdown",
   "metadata": {},
   "source": [
    "<img src=\"https://raw.githubusercontent.com/jirvingphd/flatiron-school-data-science-curriculum-resources/master/Mathematics/LinearAlgebra/images/transpose_tensors.png\">\n",
    "\n",
    "\n",
    "<img src=\"https://raw.githubusercontent.com/learn-co-students/dsc-scalars-vectors-matrices-tensors-codealong-online-ds-pt-100719/master/images/new_matrix.png\" width=40%>"
   ]
  },
  {
   "cell_type": "code",
   "execution_count": 45,
   "metadata": {
    "ExecuteTime": {
     "end_time": "2020-03-06T23:29:35.702223Z",
     "start_time": "2020-03-06T23:29:35.694914Z"
    }
   },
   "outputs": [
    {
     "data": {
      "text/plain": [
       "(4, 2)"
      ]
     },
     "metadata": {},
     "output_type": "display_data"
    },
    {
     "name": "stdout",
     "output_type": "stream",
     "text": [
      "[[0 1]\n",
      " [2 3]\n",
      " [4 5]\n",
      " [6 7]]\n"
     ]
    },
    {
     "data": {
      "text/plain": [
       "(2, 4)"
      ]
     },
     "metadata": {},
     "output_type": "display_data"
    },
    {
     "name": "stdout",
     "output_type": "stream",
     "text": [
      "[[0 2 4 6]\n",
      " [1 3 5 7]]\n"
     ]
    }
   ],
   "source": [
    "display(M.shape)\n",
    "print(M)\n",
    "\n",
    "display(M.T.shape)\n",
    "# Alternative to: M.T\n",
    "print(np.transpose(M))"
   ]
  },
  {
   "cell_type": "code",
   "execution_count": 46,
   "metadata": {
    "ExecuteTime": {
     "end_time": "2020-03-06T23:30:02.738411Z",
     "start_time": "2020-03-06T23:30:02.729043Z"
    }
   },
   "outputs": [
    {
     "data": {
      "text/plain": [
       "(4, 2, 3)"
      ]
     },
     "metadata": {},
     "output_type": "display_data"
    },
    {
     "name": "stdout",
     "output_type": "stream",
     "text": [
      "[[[ 0  1  2]\n",
      "  [ 3  4  5]]\n",
      "\n",
      " [[ 6  7  8]\n",
      "  [ 9 10 11]]\n",
      "\n",
      " [[12 13 14]\n",
      "  [15 16 17]]\n",
      "\n",
      " [[18 19 20]\n",
      "  [21 22 23]]]\n"
     ]
    },
    {
     "data": {
      "text/plain": [
       "(3, 2, 4)"
      ]
     },
     "metadata": {},
     "output_type": "display_data"
    },
    {
     "name": "stdout",
     "output_type": "stream",
     "text": [
      "[[[ 0  6 12 18]\n",
      "  [ 3  9 15 21]]\n",
      "\n",
      " [[ 1  7 13 19]\n",
      "  [ 4 10 16 22]]\n",
      "\n",
      " [[ 2  8 14 20]\n",
      "  [ 5 11 17 23]]]\n"
     ]
    },
    {
     "data": {
      "text/plain": [
       "(4, 2, 3)"
      ]
     },
     "metadata": {},
     "output_type": "display_data"
    },
    {
     "name": "stdout",
     "output_type": "stream",
     "text": [
      "[[[ 0  1  2]\n",
      "  [ 3  4  5]]\n",
      "\n",
      " [[ 6  7  8]\n",
      "  [ 9 10 11]]\n",
      "\n",
      " [[12 13 14]\n",
      "  [15 16 17]]\n",
      "\n",
      " [[18 19 20]\n",
      "  [21 22 23]]]\n"
     ]
    }
   ],
   "source": [
    "display(T_3d.shape)\n",
    "print(T_3d)\n",
    "\n",
    "display(T_3d.T.shape)\n",
    "print(T_3d.T)\n",
    "\n",
    "display(T_3d.T.T.shape)\n",
    "print(T_3d.T.T)"
   ]
  },
  {
   "cell_type": "code",
   "execution_count": null,
   "metadata": {
    "ExecuteTime": {
     "end_time": "2020-03-06T22:46:14.303128Z",
     "start_time": "2020-03-06T22:46:14.300731Z"
    }
   },
   "outputs": [],
   "source": [
    "# Imports for this notebook\n",
    "import numpy as np"
   ]
  },
  {
   "cell_type": "markdown",
   "metadata": {},
   "source": [
    "# Combining Tensors"
   ]
  },
  {
   "cell_type": "markdown",
   "metadata": {},
   "source": [
    "> Note: NumPy is pretty smart when you combine tensors; it will attempt to combine even if the dimensions don't match. This is called broadcasting & you can read about it in the documentation (https://docs.scipy.org/doc/numpy/user/basics.broadcasting.html)[https://docs.scipy.org/doc/numpy/user/basics.broadcasting.html]."
   ]
  },
  {
   "cell_type": "code",
   "execution_count": 48,
   "metadata": {
    "ExecuteTime": {
     "end_time": "2020-03-06T23:31:50.911746Z",
     "start_time": "2020-03-06T23:31:50.906205Z"
    }
   },
   "outputs": [
    {
     "name": "stdout",
     "output_type": "stream",
     "text": [
      "A:\n",
      " [[0 1]\n",
      " [2 3]\n",
      " [4 5]]\n",
      "\n",
      "B:\n",
      " [[ 0 10]\n",
      " [20 30]\n",
      " [40 50]]\n"
     ]
    }
   ],
   "source": [
    "A = np.arange(6).reshape(3,2)\n",
    "B = 10 * A\n",
    "\n",
    "print('A:\\n', A)\n",
    "print()\n",
    "print('B:\\n', B)"
   ]
  },
  {
   "cell_type": "markdown",
   "metadata": {},
   "source": [
    "## Addition"
   ]
  },
  {
   "cell_type": "code",
   "execution_count": 50,
   "metadata": {
    "ExecuteTime": {
     "end_time": "2020-03-06T23:32:14.743465Z",
     "start_time": "2020-03-06T23:32:14.738613Z"
    }
   },
   "outputs": [
    {
     "name": "stdout",
     "output_type": "stream",
     "text": [
      "A:\n",
      " [[0 1]\n",
      " [2 3]\n",
      " [4 5]]\n",
      "\n",
      "B:\n",
      " [[10 11]\n",
      " [12 13]\n",
      " [14 15]]\n"
     ]
    }
   ],
   "source": [
    "A = np.arange(6).reshape(3,2)\n",
    "B = 10 + np.arange(6).reshape(3,2)\n",
    "\n",
    "print('A:\\n', A)\n",
    "print()\n",
    "print('B:\\n', B)"
   ]
  },
  {
   "cell_type": "code",
   "execution_count": 51,
   "metadata": {
    "ExecuteTime": {
     "end_time": "2020-03-06T23:32:27.000193Z",
     "start_time": "2020-03-06T23:32:26.996186Z"
    }
   },
   "outputs": [
    {
     "data": {
      "text/plain": [
       "array([[10, 12],\n",
       "       [14, 16],\n",
       "       [18, 20]])"
      ]
     },
     "execution_count": 51,
     "metadata": {},
     "output_type": "execute_result"
    }
   ],
   "source": [
    "# We can add up the same dimensions! (elementwise)\n",
    "A + B"
   ]
  },
  {
   "cell_type": "code",
   "execution_count": 52,
   "metadata": {
    "ExecuteTime": {
     "end_time": "2020-03-06T23:32:41.776633Z",
     "start_time": "2020-03-06T23:32:41.773401Z"
    }
   },
   "outputs": [
    {
     "data": {
      "text/plain": [
       "array([[100, 101],\n",
       "       [102, 103],\n",
       "       [104, 105]])"
      ]
     },
     "execution_count": 52,
     "metadata": {},
     "output_type": "execute_result"
    }
   ],
   "source": [
    "# Broadcasting: We can even add scalars to the whole array (as you might expect)\n",
    "A + 100"
   ]
  },
  {
   "cell_type": "markdown",
   "metadata": {},
   "source": [
    "## What happens when we have different dimensions? Broadcasting happens"
   ]
  },
  {
   "cell_type": "code",
   "execution_count": 55,
   "metadata": {
    "ExecuteTime": {
     "end_time": "2020-03-06T23:33:47.889562Z",
     "start_time": "2020-03-06T23:33:47.879408Z"
    },
    "scrolled": true
   },
   "outputs": [
    {
     "data": {
      "text/plain": [
       "array([  0, 100])"
      ]
     },
     "metadata": {},
     "output_type": "display_data"
    },
    {
     "name": "stdout",
     "output_type": "stream",
     "text": [
      "Size: (2,)\n",
      "\n"
     ]
    },
    {
     "data": {
      "text/plain": [
       "(3, 2)"
      ]
     },
     "metadata": {},
     "output_type": "display_data"
    },
    {
     "data": {
      "text/plain": [
       "array([[0, 1],\n",
       "       [2, 3],\n",
       "       [4, 5]])"
      ]
     },
     "metadata": {},
     "output_type": "display_data"
    },
    {
     "name": "stdout",
     "output_type": "stream",
     "text": [
      "\n",
      "[[  0 101]\n",
      " [  2 103]\n",
      " [  4 105]]\n"
     ]
    }
   ],
   "source": [
    "# 3-by-2 add 1-by-2\n",
    "x = 100*np.arange(2).reshape(2)\n",
    "display(x)\n",
    "print('Size:',x.shape)\n",
    "print()\n",
    "display(A.shape)\n",
    "display(A)\n",
    "print()\n",
    "\n",
    "print(A + x)"
   ]
  },
  {
   "cell_type": "code",
   "execution_count": 56,
   "metadata": {
    "ExecuteTime": {
     "end_time": "2020-03-06T23:34:14.901377Z",
     "start_time": "2020-03-06T23:34:14.895114Z"
    }
   },
   "outputs": [
    {
     "name": "stdout",
     "output_type": "stream",
     "text": [
      "[[0 1]\n",
      " [2 3]\n",
      " [4 5]]\n",
      "\n",
      "[[  0 100]\n",
      " [200 300]\n",
      " [400 500]]\n",
      "Size: (3, 2)\n",
      "\n",
      "[[  0 101]\n",
      " [202 303]\n",
      " [404 505]]\n"
     ]
    }
   ],
   "source": [
    "# 3-by-2 add 3-by-2\n",
    "A = np.arange(6).reshape(3,2)\n",
    "print(A)\n",
    "print()\n",
    "x = 100*np.arange(3*2).reshape(3,2)\n",
    "print(x)\n",
    "print('Size:',x.shape)\n",
    "print()\n",
    "print(A + x)"
   ]
  },
  {
   "cell_type": "code",
   "execution_count": 57,
   "metadata": {
    "ExecuteTime": {
     "end_time": "2020-03-06T23:34:22.792441Z",
     "start_time": "2020-03-06T23:34:22.772500Z"
    },
    "scrolled": true
   },
   "outputs": [
    {
     "name": "stdout",
     "output_type": "stream",
     "text": [
      "[[  0 100 200]\n",
      " [300 400 500]]\n",
      "Size: (2, 3)\n",
      "\n"
     ]
    },
    {
     "ename": "ValueError",
     "evalue": "operands could not be broadcast together with shapes (3,2) (2,3) ",
     "output_type": "error",
     "traceback": [
      "\u001b[0;31m---------------------------------------------------------------------------\u001b[0m",
      "\u001b[0;31mValueError\u001b[0m                                Traceback (most recent call last)",
      "\u001b[0;32m<ipython-input-57-975902721f51>\u001b[0m in \u001b[0;36m<module>\u001b[0;34m\u001b[0m\n\u001b[1;32m      4\u001b[0m \u001b[0mprint\u001b[0m\u001b[0;34m(\u001b[0m\u001b[0;34m'Size:'\u001b[0m\u001b[0;34m,\u001b[0m\u001b[0mx\u001b[0m\u001b[0;34m.\u001b[0m\u001b[0mshape\u001b[0m\u001b[0;34m)\u001b[0m\u001b[0;34m\u001b[0m\u001b[0;34m\u001b[0m\u001b[0m\n\u001b[1;32m      5\u001b[0m \u001b[0mprint\u001b[0m\u001b[0;34m(\u001b[0m\u001b[0;34m)\u001b[0m\u001b[0;34m\u001b[0m\u001b[0;34m\u001b[0m\u001b[0m\n\u001b[0;32m----> 6\u001b[0;31m \u001b[0mprint\u001b[0m\u001b[0;34m(\u001b[0m\u001b[0mA\u001b[0m \u001b[0;34m+\u001b[0m \u001b[0mx\u001b[0m\u001b[0;34m)\u001b[0m\u001b[0;34m\u001b[0m\u001b[0;34m\u001b[0m\u001b[0m\n\u001b[0m",
      "\u001b[0;31mValueError\u001b[0m: operands could not be broadcast together with shapes (3,2) (2,3) "
     ]
    }
   ],
   "source": [
    "# 3-by-2 add 2-by-3 --> Will this work?\n",
    "x = 100*np.arange(2*3).reshape(2,3)\n",
    "print(x)\n",
    "print('Size:',x.shape)\n",
    "print()\n",
    "print(A + x)"
   ]
  },
  {
   "cell_type": "markdown",
   "metadata": {},
   "source": [
    "## Multiplication (Hadamard Product & Dot Product)"
   ]
  },
  {
   "cell_type": "markdown",
   "metadata": {},
   "source": [
    "### Hadamard Product a.k.a. Element-wise multiplication"
   ]
  },
  {
   "cell_type": "markdown",
   "metadata": {},
   "source": [
    "> $C = A \\circ B$\n",
    "\n",
    "- The Hadamard product can be calculated in Python using the $*$ operator between two NumPy arrays: "
   ]
  },
  {
   "cell_type": "markdown",
   "metadata": {},
   "source": [
    "- Result: \n",
    "    - Each element in A is multiplied by its corresponding element (same row/column) as B\n",
    "    - Same dimensions (after broadcasting)\n"
   ]
  },
  {
   "cell_type": "markdown",
   "metadata": {},
   "source": [
    "\n",
    "$$ A \\circ B = \n",
    "   \\left[ {\\begin{array}{cc}\n",
    "   A_{1,1} * B_{1,1} & A_{1,2} * B_{1,2}\\\\\n",
    "   A_{2,1} * B_{2,1}& A_{2,2} * B_{2,2} \\\\\n",
    "   A_{3,1} * B_{3,1} & A_{3,2} * B_{3,2} \\\\\n",
    "  \\end{array} } \\right] \n",
    "$$"
   ]
  },
  {
   "cell_type": "code",
   "execution_count": 58,
   "metadata": {
    "ExecuteTime": {
     "end_time": "2020-03-06T23:35:16.576997Z",
     "start_time": "2020-03-06T23:35:16.572771Z"
    }
   },
   "outputs": [],
   "source": [
    "def print_matrix(matrix,name='A'):\n",
    "    print(f'{name}(shape={matrix.shape}):\\n')\n",
    "    print(matrix)\n",
    "    print('\\n')"
   ]
  },
  {
   "cell_type": "code",
   "execution_count": 59,
   "metadata": {
    "ExecuteTime": {
     "end_time": "2020-03-06T23:35:18.285076Z",
     "start_time": "2020-03-06T23:35:18.280478Z"
    }
   },
   "outputs": [
    {
     "name": "stdout",
     "output_type": "stream",
     "text": [
      "A(shape=(3, 2)):\n",
      "\n",
      "[[0 1]\n",
      " [2 3]\n",
      " [4 5]]\n",
      "\n",
      "\n",
      "\n",
      "B(shape=(3, 2)):\n",
      "\n",
      "[[10 11]\n",
      " [12 13]\n",
      " [14 15]]\n",
      "\n",
      "\n"
     ]
    }
   ],
   "source": [
    "print_matrix(A)\n",
    "print()\n",
    "print_matrix(B,'B')"
   ]
  },
  {
   "cell_type": "code",
   "execution_count": 60,
   "metadata": {
    "ExecuteTime": {
     "end_time": "2020-03-06T23:35:29.991592Z",
     "start_time": "2020-03-06T23:35:29.987882Z"
    }
   },
   "outputs": [
    {
     "name": "stdout",
     "output_type": "stream",
     "text": [
      "C(shape=(3, 2)):\n",
      "\n",
      "[[ 0 11]\n",
      " [24 39]\n",
      " [56 75]]\n",
      "\n",
      "\n"
     ]
    }
   ],
   "source": [
    "C = A*B\n",
    "print_matrix(C,'C')"
   ]
  },
  {
   "cell_type": "code",
   "execution_count": 61,
   "metadata": {
    "ExecuteTime": {
     "end_time": "2020-03-06T23:35:47.659359Z",
     "start_time": "2020-03-06T23:35:47.651041Z"
    }
   },
   "outputs": [
    {
     "name": "stdout",
     "output_type": "stream",
     "text": [
      "A(shape=(3, 2)):\n",
      "\n",
      "[[0 1]\n",
      " [2 3]\n",
      " [4 5]]\n",
      "\n",
      "\n",
      "x(shape=(2,)):\n",
      "\n",
      "[  0 100]\n",
      "\n",
      "\n",
      "C(shape=(3, 2)):\n",
      "\n",
      "[[  0 100]\n",
      " [  0 300]\n",
      " [  0 500]]\n",
      "\n",
      "\n"
     ]
    }
   ],
   "source": [
    "# 3-by-2 add 1-by-2\n",
    "print_matrix(A,'A')\n",
    "\n",
    "x = 100*np.arange(2).reshape(2)\n",
    "print_matrix(x,'x')\n",
    "# print(x)\n",
    "# print('Size:',x.shape)\n",
    "# print()\n",
    "C = A * x\n",
    "print_matrix(C,'C')"
   ]
  },
  {
   "cell_type": "code",
   "execution_count": 62,
   "metadata": {
    "ExecuteTime": {
     "end_time": "2020-03-06T23:36:18.666826Z",
     "start_time": "2020-03-06T23:36:18.660759Z"
    }
   },
   "outputs": [
    {
     "name": "stdout",
     "output_type": "stream",
     "text": [
      "A(shape=(3, 2)):\n",
      "\n",
      "[[0 1]\n",
      " [2 3]\n",
      " [4 5]]\n",
      "\n",
      "\n",
      "x(shape=(3, 2)):\n",
      "\n",
      "[[  0 100]\n",
      " [200 300]\n",
      " [400 500]]\n",
      "\n",
      "\n",
      "C(shape=(3, 2)):\n",
      "\n",
      "[[   0  100]\n",
      " [ 400  900]\n",
      " [1600 2500]]\n",
      "\n",
      "\n"
     ]
    }
   ],
   "source": [
    "# 3-by-2 add 3-by-2\n",
    "# print(A)\n",
    "print_matrix(A,'A')\n",
    "x = 100*np.arange(3*2).reshape(3,2)\n",
    "print_matrix(x,'x')\n",
    "C = A * x\n",
    "print_matrix(C,'C')"
   ]
  },
  {
   "cell_type": "code",
   "execution_count": 63,
   "metadata": {
    "ExecuteTime": {
     "end_time": "2020-03-06T23:36:35.548398Z",
     "start_time": "2020-03-06T23:36:35.531867Z"
    }
   },
   "outputs": [
    {
     "name": "stdout",
     "output_type": "stream",
     "text": [
      "A(shape=(3, 2)):\n",
      "\n",
      "[[0 1]\n",
      " [2 3]\n",
      " [4 5]]\n",
      "\n",
      "\n",
      "x(shape=(2, 3)):\n",
      "\n",
      "[[  0 100 200]\n",
      " [300 400 500]]\n",
      "\n",
      "\n"
     ]
    },
    {
     "ename": "ValueError",
     "evalue": "operands could not be broadcast together with shapes (3,2) (2,3) ",
     "output_type": "error",
     "traceback": [
      "\u001b[0;31m---------------------------------------------------------------------------\u001b[0m",
      "\u001b[0;31mValueError\u001b[0m                                Traceback (most recent call last)",
      "\u001b[0;32m<ipython-input-63-28b70d1b6b5e>\u001b[0m in \u001b[0;36m<module>\u001b[0;34m\u001b[0m\n\u001b[1;32m      5\u001b[0m \u001b[0mprint_matrix\u001b[0m\u001b[0;34m(\u001b[0m\u001b[0mx\u001b[0m\u001b[0;34m,\u001b[0m\u001b[0;34m'x'\u001b[0m\u001b[0;34m)\u001b[0m\u001b[0;34m\u001b[0m\u001b[0;34m\u001b[0m\u001b[0m\n\u001b[1;32m      6\u001b[0m \u001b[0;34m\u001b[0m\u001b[0m\n\u001b[0;32m----> 7\u001b[0;31m \u001b[0mC\u001b[0m \u001b[0;34m=\u001b[0m \u001b[0mA\u001b[0m \u001b[0;34m*\u001b[0m \u001b[0mx\u001b[0m\u001b[0;34m\u001b[0m\u001b[0;34m\u001b[0m\u001b[0m\n\u001b[0m\u001b[1;32m      8\u001b[0m \u001b[0mprint_matrix\u001b[0m\u001b[0;34m(\u001b[0m\u001b[0mC\u001b[0m\u001b[0;34m,\u001b[0m\u001b[0;34m'C'\u001b[0m\u001b[0;34m)\u001b[0m\u001b[0;34m\u001b[0m\u001b[0;34m\u001b[0m\u001b[0m\n",
      "\u001b[0;31mValueError\u001b[0m: operands could not be broadcast together with shapes (3,2) (2,3) "
     ]
    }
   ],
   "source": [
    "# 3-by-2 add 2-by-3 --> Will this work?\n",
    "print_matrix(A,'A')\n",
    "\n",
    "x = x = 100*np.arange(3*2).reshape(2,3)\n",
    "print_matrix(x,'x')\n",
    "\n",
    "C = A * x\n",
    "print_matrix(C,'C')"
   ]
  },
  {
   "cell_type": "markdown",
   "metadata": {},
   "source": [
    "### Dot Product"
   ]
  },
  {
   "cell_type": "markdown",
   "metadata": {},
   "source": [
    "[Kahn Academy: Intro to Matrix Multiplication](https://youtu.be/kT4Mp9EdVqs)"
   ]
  },
  {
   "cell_type": "markdown",
   "metadata": {},
   "source": [
    "Result: (m-by-n) DOT (n-by-p) ==> (m-by-p)\n",
    "\n",
    "$$A \\cdot B = C$$\n",
    "\n",
    "Likely the most common operation when we think of \"multiplying\" matrices.\n",
    "\n",
    "- Matrix $A$ has $m$ rows and $n$ columns\n",
    "- Matrix $B$ has $n$ rows and $k$ columns. \n",
    "\n",
    "- Provided the $n$ columns in $A$ and $n$ rows in $B$ are equal, the result is a new matrix with $m$ rows and $k$ columns. \n",
    "\n",
    "- The dot product can be shown using (.) or (dot). \n",
    "\n",
    "> $ C_{(m, k)} = A_{(m, n)} \\cdot B_{(n, k)}$ OR $ C_{(m, k)} = A_{(m, n)} \\text{  dot  } B_{(n, k)}$\n",
    "\n",
    "The product operation is deﬁned by\n",
    "\n",
    "$$ \\large C_{i, j}= \\sum_k A_{i, k}B_{k, j}$$"
   ]
  },
  {
   "cell_type": "markdown",
   "metadata": {},
   "source": [
    "  𝐴  must have the same number of dimensions as  𝐵  has rows."
   ]
  },
  {
   "cell_type": "code",
   "execution_count": 68,
   "metadata": {
    "ExecuteTime": {
     "end_time": "2020-03-06T23:39:14.127778Z",
     "start_time": "2020-03-06T23:39:14.121374Z"
    }
   },
   "outputs": [
    {
     "name": "stdout",
     "output_type": "stream",
     "text": [
      "A(shape=(3, 2)):\n",
      "\n",
      "[[0 1]\n",
      " [2 3]\n",
      " [4 5]]\n",
      "\n",
      "\n",
      "B(shape=(3, 2)):\n",
      "\n",
      "[[10 11]\n",
      " [12 13]\n",
      " [14 15]]\n",
      "\n",
      "\n",
      "B.T(shape=(2, 3)):\n",
      "\n",
      "[[10 12 14]\n",
      " [11 13 15]]\n",
      "\n",
      "\n",
      "C(shape=(3, 3)):\n",
      "\n",
      "[[ 11  13  15]\n",
      " [ 53  63  73]\n",
      " [ 95 113 131]]\n",
      "\n",
      "\n"
     ]
    }
   ],
   "source": [
    "print_matrix(A,'A')\n",
    "print_matrix(B,'B')\n",
    "print_matrix(B.T,'B.T')\n",
    "C = A.dot(B.T) \n",
    "\n",
    "print_matrix(C,'C')"
   ]
  },
  {
   "cell_type": "markdown",
   "metadata": {},
   "source": [
    "### Summary of Dot Product.\n",
    "- When using the dot product, the number of columns in the first matrix must be equal the number of rows in the second matrix.\n",
    "\n",
    "- We basically take the a column from B and transpose  it and perform broadcasted multiplication with A.\n",
    "\n",
    "- end shape is # of rows from A and number of columns from B.\n",
    "\n",
    "\n",
    "$$ A = \n",
    "   \\left[ {\\begin{array}{cc}\n",
    "   A_{1,1}& A_{1,2} \\\\\n",
    "   A_{2,1}& A_{2,2}  \\\\\n",
    "   A_{3,1} & A_{3,2} \\\\\n",
    "  \\end{array} } \\right] \n",
    "$$\n",
    "\n",
    "$$ B = \n",
    "   \\left[ {\\begin{array}{cc}\n",
    "   B_{1,1}&  B_{1,2} \\\\\n",
    "   B_{2,1} & B_{2,2} \\\\\n",
    "  \\end{array} } \\right] \n",
    "$$\n",
    "\n",
    "$$ C = \n",
    "  \\left[ {\\begin{array}{cc}\n",
    "   A_{1,1}* B_{1,1}+ A_{1,2}*B_{2,1} & A_{1,1}* B_{1,2}+ A_{1,2}*B_{2,2} \\\\\n",
    "   A_{2,1}* B_{1,1}+ A_{2,2}*B_{2,1} & A_{2,1}* B_{1,2}+ A_{2,2}*B_{2,2} \\\\\n",
    "   A_{3,1}* B_{1,1}+ A_{3,2}*B_{2,1} & A_{3,1}* B_{1,2}+ A_{3,2}*B_{2,2} \\\\\n",
    "  \\end{array} } \\right]\n",
    "$$\n",
    "\n"
   ]
  },
  {
   "cell_type": "code",
   "execution_count": 70,
   "metadata": {
    "ExecuteTime": {
     "end_time": "2020-03-06T23:43:04.207296Z",
     "start_time": "2020-03-06T23:43:04.185222Z"
    }
   },
   "outputs": [
    {
     "name": "stdout",
     "output_type": "stream",
     "text": [
      "A(shape=(3, 2)):\n",
      "\n",
      "[[0 1]\n",
      " [2 3]\n",
      " [4 5]]\n",
      "\n",
      "\n",
      "C(shape=(3, 3)):\n",
      "\n",
      "[[ 11  13  15]\n",
      " [ 53  63  73]\n",
      " [ 95 113 131]]\n",
      "\n",
      "\n"
     ]
    },
    {
     "ename": "ValueError",
     "evalue": "shapes (3,2) and (3,3) not aligned: 2 (dim 1) != 3 (dim 0)",
     "output_type": "error",
     "traceback": [
      "\u001b[0;31m---------------------------------------------------------------------------\u001b[0m",
      "\u001b[0;31mValueError\u001b[0m                                Traceback (most recent call last)",
      "\u001b[0;32m<ipython-input-70-ffe64ee1322b>\u001b[0m in \u001b[0;36m<module>\u001b[0;34m\u001b[0m\n\u001b[1;32m      2\u001b[0m \u001b[0mprint_matrix\u001b[0m\u001b[0;34m(\u001b[0m\u001b[0mA\u001b[0m\u001b[0;34m,\u001b[0m\u001b[0;34m'A'\u001b[0m\u001b[0;34m)\u001b[0m\u001b[0;34m\u001b[0m\u001b[0;34m\u001b[0m\u001b[0m\n\u001b[1;32m      3\u001b[0m \u001b[0mprint_matrix\u001b[0m\u001b[0;34m(\u001b[0m\u001b[0mC\u001b[0m\u001b[0;34m,\u001b[0m\u001b[0;34m'C'\u001b[0m\u001b[0;34m)\u001b[0m\u001b[0;34m\u001b[0m\u001b[0;34m\u001b[0m\u001b[0m\n\u001b[0;32m----> 4\u001b[0;31m \u001b[0mZ\u001b[0m \u001b[0;34m=\u001b[0m \u001b[0mnp\u001b[0m\u001b[0;34m.\u001b[0m\u001b[0mdot\u001b[0m\u001b[0;34m(\u001b[0m\u001b[0mA\u001b[0m\u001b[0;34m,\u001b[0m \u001b[0mC\u001b[0m\u001b[0;34m)\u001b[0m\u001b[0;34m\u001b[0m\u001b[0;34m\u001b[0m\u001b[0m\n\u001b[0m\u001b[1;32m      5\u001b[0m \u001b[0mZ\u001b[0m \u001b[0;34m=\u001b[0m \u001b[0mA\u001b[0m\u001b[0;34m.\u001b[0m\u001b[0mdot\u001b[0m\u001b[0;34m(\u001b[0m\u001b[0mC\u001b[0m\u001b[0;34m)\u001b[0m\u001b[0;34m\u001b[0m\u001b[0;34m\u001b[0m\u001b[0m\n\u001b[1;32m      6\u001b[0m \u001b[0mZ\u001b[0m \u001b[0;34m=\u001b[0m \u001b[0mA\u001b[0m \u001b[0;34m@\u001b[0m \u001b[0mC\u001b[0m\u001b[0;34m\u001b[0m\u001b[0;34m\u001b[0m\u001b[0m\n",
      "\u001b[0;32m<__array_function__ internals>\u001b[0m in \u001b[0;36mdot\u001b[0;34m(*args, **kwargs)\u001b[0m\n",
      "\u001b[0;31mValueError\u001b[0m: shapes (3,2) and (3,3) not aligned: 2 (dim 1) != 3 (dim 0)"
     ]
    }
   ],
   "source": [
    "# All the ways you can do the dot product\n",
    "print_matrix(A,'A')\n",
    "print_matrix(C,'C')\n",
    "Z = np.dot(A, C)\n",
    "Z = A.dot(C)\n",
    "Z = A @ C\n",
    "\n",
    "print(Z.shape)\n",
    "print(Z)"
   ]
  },
  {
   "cell_type": "code",
   "execution_count": 71,
   "metadata": {
    "ExecuteTime": {
     "end_time": "2020-03-06T23:43:27.342465Z",
     "start_time": "2020-03-06T23:43:27.324559Z"
    }
   },
   "outputs": [
    {
     "name": "stdout",
     "output_type": "stream",
     "text": [
      "A(shape=(3, 2)):\n",
      "\n",
      "[[0 1]\n",
      " [2 3]\n",
      " [4 5]]\n",
      "\n",
      "\n",
      "x(shape=(3,)):\n",
      "\n",
      "[  0 100 200]\n",
      "\n",
      "\n"
     ]
    },
    {
     "ename": "ValueError",
     "evalue": "matmul: Input operand 1 has a mismatch in its core dimension 0, with gufunc signature (n?,k),(k,m?)->(n?,m?) (size 3 is different from 2)",
     "output_type": "error",
     "traceback": [
      "\u001b[0;31m---------------------------------------------------------------------------\u001b[0m",
      "\u001b[0;31mValueError\u001b[0m                                Traceback (most recent call last)",
      "\u001b[0;32m<ipython-input-71-992fcbd8618e>\u001b[0m in \u001b[0;36m<module>\u001b[0;34m\u001b[0m\n\u001b[1;32m      3\u001b[0m \u001b[0mx\u001b[0m \u001b[0;34m=\u001b[0m \u001b[0;36m100\u001b[0m\u001b[0;34m*\u001b[0m\u001b[0mnp\u001b[0m\u001b[0;34m.\u001b[0m\u001b[0marange\u001b[0m\u001b[0;34m(\u001b[0m\u001b[0;36m3\u001b[0m\u001b[0;34m)\u001b[0m\u001b[0;34m.\u001b[0m\u001b[0mreshape\u001b[0m\u001b[0;34m(\u001b[0m\u001b[0;36m3\u001b[0m\u001b[0;34m)\u001b[0m\u001b[0;34m\u001b[0m\u001b[0;34m\u001b[0m\u001b[0m\n\u001b[1;32m      4\u001b[0m \u001b[0mprint_matrix\u001b[0m\u001b[0;34m(\u001b[0m\u001b[0mx\u001b[0m\u001b[0;34m,\u001b[0m\u001b[0;34m'x'\u001b[0m\u001b[0;34m)\u001b[0m\u001b[0;34m\u001b[0m\u001b[0;34m\u001b[0m\u001b[0m\n\u001b[0;32m----> 5\u001b[0;31m \u001b[0mC\u001b[0m \u001b[0;34m=\u001b[0m \u001b[0mA\u001b[0m \u001b[0;34m@\u001b[0m \u001b[0mx\u001b[0m\u001b[0;34m\u001b[0m\u001b[0;34m\u001b[0m\u001b[0m\n\u001b[0m",
      "\u001b[0;31mValueError\u001b[0m: matmul: Input operand 1 has a mismatch in its core dimension 0, with gufunc signature (n?,k),(k,m?)->(n?,m?) (size 3 is different from 2)"
     ]
    }
   ],
   "source": [
    "# 3-by-2 add 2-by-1\n",
    "print_matrix(A,'A')\n",
    "x = 100*np.arange(3).reshape(3)\n",
    "print_matrix(x,'x')\n",
    "C = A @ x"
   ]
  },
  {
   "cell_type": "markdown",
   "metadata": {},
   "source": [
    "### Cross Product"
   ]
  },
  {
   "cell_type": "markdown",
   "metadata": {},
   "source": [
    "Produces another tensor of the same shape (Note broadcasting can still work)\n",
    "\n",
    "- [Kahn Academy: Intro to Cross Product](https://youtu.be/pJzmiywagfY)\n",
    "\n",
    "<img src=\"https://raw.githubusercontent.com/learn-co-students/dsc-linalg-mat-multiplication-codealong-online-ds-pt-100719/master/images/cross.png\">"
   ]
  },
  {
   "cell_type": "code",
   "execution_count": 72,
   "metadata": {
    "ExecuteTime": {
     "end_time": "2020-03-06T23:43:55.334716Z",
     "start_time": "2020-03-06T23:43:55.327310Z"
    }
   },
   "outputs": [
    {
     "data": {
      "text/plain": [
       "array([0, 2, 4])"
      ]
     },
     "metadata": {},
     "output_type": "display_data"
    },
    {
     "data": {
      "text/plain": [
       "array([1, 3, 5])"
      ]
     },
     "metadata": {},
     "output_type": "display_data"
    },
    {
     "name": "stdout",
     "output_type": "stream",
     "text": [
      "\n"
     ]
    }
   ],
   "source": [
    "display(A[:,0])\n",
    "display(A[:,1])\n",
    "print()"
   ]
  },
  {
   "cell_type": "code",
   "execution_count": 73,
   "metadata": {
    "ExecuteTime": {
     "end_time": "2020-03-06T23:44:27.163256Z",
     "start_time": "2020-03-06T23:44:27.158377Z"
    }
   },
   "outputs": [
    {
     "name": "stdout",
     "output_type": "stream",
     "text": [
      "result(shape=(3,)):\n",
      "\n",
      "[-2  4 -2]\n",
      "\n",
      "\n"
     ]
    }
   ],
   "source": [
    "result= np.cross(A[:,0],A[:,1])\n",
    "print_matrix(result,'result')"
   ]
  },
  {
   "cell_type": "markdown",
   "metadata": {},
   "source": [
    "# Manipulating Matrices (Identity & Inverse)"
   ]
  },
  {
   "cell_type": "markdown",
   "metadata": {},
   "source": [
    "## Identity Matrix"
   ]
  },
  {
   "cell_type": "markdown",
   "metadata": {},
   "source": [
    "Square matrix of diagonal 1's, rest are 0's"
   ]
  },
  {
   "cell_type": "code",
   "execution_count": 74,
   "metadata": {
    "ExecuteTime": {
     "end_time": "2020-03-06T23:45:07.818702Z",
     "start_time": "2020-03-06T23:45:07.814383Z"
    }
   },
   "outputs": [
    {
     "name": "stdout",
     "output_type": "stream",
     "text": [
      "[[1. 0. 0. 0. 0.]\n",
      " [0. 1. 0. 0. 0.]\n",
      " [0. 0. 1. 0. 0.]\n",
      " [0. 0. 0. 1. 0.]\n",
      " [0. 0. 0. 0. 1.]]\n"
     ]
    }
   ],
   "source": [
    "I5 = np.eye(5)\n",
    "print(I5)"
   ]
  },
  {
   "cell_type": "markdown",
   "metadata": {},
   "source": [
    "When multiplying (dot product), you always get the same matrix (note that still has be compatible shape)"
   ]
  },
  {
   "cell_type": "code",
   "execution_count": 75,
   "metadata": {
    "ExecuteTime": {
     "end_time": "2020-03-06T23:45:48.515254Z",
     "start_time": "2020-03-06T23:45:48.510769Z"
    }
   },
   "outputs": [
    {
     "name": "stdout",
     "output_type": "stream",
     "text": [
      "A(shape=(5, 5)):\n",
      "\n",
      "[[ 0  1  2  3  4]\n",
      " [ 5  6  7  8  9]\n",
      " [10 11 12 13 14]\n",
      " [15 16 17 18 19]\n",
      " [20 21 22 23 24]]\n",
      "\n",
      "\n"
     ]
    }
   ],
   "source": [
    "A = np.arange(25).reshape(5,5)\n",
    "print_matrix(A,'A')"
   ]
  },
  {
   "cell_type": "code",
   "execution_count": 76,
   "metadata": {
    "ExecuteTime": {
     "end_time": "2020-03-06T23:45:59.094837Z",
     "start_time": "2020-03-06T23:45:59.088728Z"
    }
   },
   "outputs": [
    {
     "name": "stdout",
     "output_type": "stream",
     "text": [
      "IA(shape=(5, 5)):\n",
      "\n",
      "[[ 0.  1.  2.  3.  4.]\n",
      " [ 5.  6.  7.  8.  9.]\n",
      " [10. 11. 12. 13. 14.]\n",
      " [15. 16. 17. 18. 19.]\n",
      " [20. 21. 22. 23. 24.]]\n",
      "\n",
      "\n",
      "AI(shape=(5, 5)):\n",
      "\n",
      "[[ 0.  1.  2.  3.  4.]\n",
      " [ 5.  6.  7.  8.  9.]\n",
      " [10. 11. 12. 13. 14.]\n",
      " [15. 16. 17. 18. 19.]\n",
      " [20. 21. 22. 23. 24.]]\n",
      "\n",
      "\n",
      "\n",
      "Both are the same:\n",
      "[[ True  True  True  True  True]\n",
      " [ True  True  True  True  True]\n",
      " [ True  True  True  True  True]\n",
      " [ True  True  True  True  True]\n",
      " [ True  True  True  True  True]]\n"
     ]
    }
   ],
   "source": [
    "IA = I5 @ A\n",
    "print_matrix(IA,'IA')\n",
    "\n",
    "AI = A @ I5\n",
    "print_matrix(AI,'AI')\n",
    "print()\n",
    "is_equal = (I5 @ A) == (A @ I5)\n",
    "print('Both are the same:')\n",
    "print(is_equal)"
   ]
  },
  {
   "cell_type": "markdown",
   "metadata": {},
   "source": [
    "## Inverse Matrix"
   ]
  },
  {
   "cell_type": "markdown",
   "metadata": {},
   "source": [
    "Remember that we can't divide by a matrix, but we can do something similar by finding an **inverse matrix**"
   ]
  },
  {
   "cell_type": "code",
   "execution_count": 77,
   "metadata": {
    "ExecuteTime": {
     "end_time": "2020-03-06T23:46:22.973791Z",
     "start_time": "2020-03-06T23:46:22.967503Z"
    }
   },
   "outputs": [
    {
     "name": "stdout",
     "output_type": "stream",
     "text": [
      "X(shape=(3, 3)):\n",
      "\n",
      "[[ 1 -2  3]\n",
      " [ 2 -5 10]\n",
      " [ 0  0  1]]\n",
      "\n",
      "\n",
      "\n",
      "Y(shape=(3, 3)):\n",
      "\n",
      "[[ 5 -2  5]\n",
      " [ 2 -1  4]\n",
      " [ 0  0  1]]\n",
      "\n",
      "\n"
     ]
    }
   ],
   "source": [
    "# Define two arrays\n",
    "X = np.array([1,-2,3,2,-5,10,0,0,1]).reshape(3,3)\n",
    "print_matrix(X,'X')\n",
    "print()\n",
    "Y = np.array([5,-2,5,2,-1,4,0,0,1]).reshape(3,3)\n",
    "\n",
    "print_matrix(Y,'Y')"
   ]
  },
  {
   "cell_type": "code",
   "execution_count": 78,
   "metadata": {
    "ExecuteTime": {
     "end_time": "2020-03-06T23:46:48.839969Z",
     "start_time": "2020-03-06T23:46:48.836294Z"
    }
   },
   "outputs": [
    {
     "name": "stdout",
     "output_type": "stream",
     "text": [
      "[[1 0 0]\n",
      " [0 1 0]\n",
      " [0 0 1]]\n",
      "\n",
      "[[1 0 0]\n",
      " [0 1 0]\n",
      " [0 0 1]]\n"
     ]
    }
   ],
   "source": [
    "# What happens when these are multiplied?\n",
    "print(X @ Y)\n",
    "print()\n",
    "print(Y @ X)"
   ]
  },
  {
   "cell_type": "markdown",
   "metadata": {},
   "source": [
    "We can also find the inverse of a matrix with NumPy"
   ]
  },
  {
   "cell_type": "code",
   "execution_count": 79,
   "metadata": {
    "ExecuteTime": {
     "end_time": "2020-03-06T23:47:19.811957Z",
     "start_time": "2020-03-06T23:47:19.805758Z"
    }
   },
   "outputs": [
    {
     "name": "stdout",
     "output_type": "stream",
     "text": [
      "A_inv(shape=(3, 3)):\n",
      "\n",
      "[[ 0.3 -0.1  0.2]\n",
      " [-0.3  0.1  0.8]\n",
      " [ 0.4  0.2 -2.4]]\n",
      "\n",
      "\n"
     ]
    }
   ],
   "source": [
    "A = np.array([4,2,1,4,8,3,1,1,0]).reshape(3,3)\n",
    "# Finding the inverse matrix\n",
    "A_inv = np.linalg.inv(A)\n",
    "print_matrix(A_inv,'A_inv')"
   ]
  },
  {
   "cell_type": "code",
   "execution_count": 80,
   "metadata": {
    "ExecuteTime": {
     "end_time": "2020-03-06T23:47:23.634869Z",
     "start_time": "2020-03-06T23:47:23.631082Z"
    }
   },
   "outputs": [
    {
     "name": "stdout",
     "output_type": "stream",
     "text": [
      "AAinv(shape=(3, 3)):\n",
      "\n",
      "[[ 1.00000000e+00 -2.77555756e-17  0.00000000e+00]\n",
      " [-1.66533454e-16  1.00000000e+00  0.00000000e+00]\n",
      " [-5.55111512e-17 -1.38777878e-17  1.00000000e+00]]\n",
      "\n",
      "\n"
     ]
    }
   ],
   "source": [
    "# Note the rounding\n",
    "AAinv = A @ A_inv\n",
    "print_matrix(AAinv,'AAinv')"
   ]
  },
  {
   "cell_type": "markdown",
   "metadata": {},
   "source": [
    "However, not all matrices have an inverse"
   ]
  },
  {
   "cell_type": "code",
   "execution_count": 81,
   "metadata": {
    "ExecuteTime": {
     "end_time": "2020-03-06T23:47:37.963929Z",
     "start_time": "2020-03-06T23:47:37.939691Z"
    }
   },
   "outputs": [
    {
     "name": "stdout",
     "output_type": "stream",
     "text": [
      "A(shape=(3, 3)):\n",
      "\n",
      "[[0 1 2]\n",
      " [3 4 5]\n",
      " [6 7 8]]\n",
      "\n",
      "\n"
     ]
    },
    {
     "ename": "LinAlgError",
     "evalue": "Singular matrix",
     "output_type": "error",
     "traceback": [
      "\u001b[0;31m---------------------------------------------------------------------------\u001b[0m",
      "\u001b[0;31mLinAlgError\u001b[0m                               Traceback (most recent call last)",
      "\u001b[0;32m<ipython-input-81-90208fcbe982>\u001b[0m in \u001b[0;36m<module>\u001b[0;34m\u001b[0m\n\u001b[1;32m      1\u001b[0m \u001b[0mA\u001b[0m \u001b[0;34m=\u001b[0m \u001b[0mnp\u001b[0m\u001b[0;34m.\u001b[0m\u001b[0marange\u001b[0m\u001b[0;34m(\u001b[0m\u001b[0;36m9\u001b[0m\u001b[0;34m)\u001b[0m\u001b[0;34m.\u001b[0m\u001b[0mreshape\u001b[0m\u001b[0;34m(\u001b[0m\u001b[0;36m3\u001b[0m\u001b[0;34m,\u001b[0m\u001b[0;36m3\u001b[0m\u001b[0;34m)\u001b[0m\u001b[0;34m\u001b[0m\u001b[0;34m\u001b[0m\u001b[0m\n\u001b[1;32m      2\u001b[0m \u001b[0mprint_matrix\u001b[0m\u001b[0;34m(\u001b[0m\u001b[0mA\u001b[0m\u001b[0;34m,\u001b[0m\u001b[0;34m'A'\u001b[0m\u001b[0;34m)\u001b[0m\u001b[0;34m\u001b[0m\u001b[0;34m\u001b[0m\u001b[0m\n\u001b[0;32m----> 3\u001b[0;31m \u001b[0minv_A\u001b[0m \u001b[0;34m=\u001b[0m \u001b[0mnp\u001b[0m\u001b[0;34m.\u001b[0m\u001b[0mlinalg\u001b[0m\u001b[0;34m.\u001b[0m\u001b[0minv\u001b[0m\u001b[0;34m(\u001b[0m\u001b[0mA\u001b[0m\u001b[0;34m)\u001b[0m\u001b[0;34m\u001b[0m\u001b[0;34m\u001b[0m\u001b[0m\n\u001b[0m\u001b[1;32m      4\u001b[0m \u001b[0mprint_matrix\u001b[0m\u001b[0;34m(\u001b[0m\u001b[0minv_A\u001b[0m\u001b[0;34m)\u001b[0m\u001b[0;34m\u001b[0m\u001b[0;34m\u001b[0m\u001b[0m\n",
      "\u001b[0;32m<__array_function__ internals>\u001b[0m in \u001b[0;36minv\u001b[0;34m(*args, **kwargs)\u001b[0m\n",
      "\u001b[0;32m//anaconda3/envs/learn-env/lib/python3.6/site-packages/numpy/linalg/linalg.py\u001b[0m in \u001b[0;36minv\u001b[0;34m(a)\u001b[0m\n\u001b[1;32m    545\u001b[0m     \u001b[0msignature\u001b[0m \u001b[0;34m=\u001b[0m \u001b[0;34m'D->D'\u001b[0m \u001b[0;32mif\u001b[0m \u001b[0misComplexType\u001b[0m\u001b[0;34m(\u001b[0m\u001b[0mt\u001b[0m\u001b[0;34m)\u001b[0m \u001b[0;32melse\u001b[0m \u001b[0;34m'd->d'\u001b[0m\u001b[0;34m\u001b[0m\u001b[0;34m\u001b[0m\u001b[0m\n\u001b[1;32m    546\u001b[0m     \u001b[0mextobj\u001b[0m \u001b[0;34m=\u001b[0m \u001b[0mget_linalg_error_extobj\u001b[0m\u001b[0;34m(\u001b[0m\u001b[0m_raise_linalgerror_singular\u001b[0m\u001b[0;34m)\u001b[0m\u001b[0;34m\u001b[0m\u001b[0;34m\u001b[0m\u001b[0m\n\u001b[0;32m--> 547\u001b[0;31m     \u001b[0mainv\u001b[0m \u001b[0;34m=\u001b[0m \u001b[0m_umath_linalg\u001b[0m\u001b[0;34m.\u001b[0m\u001b[0minv\u001b[0m\u001b[0;34m(\u001b[0m\u001b[0ma\u001b[0m\u001b[0;34m,\u001b[0m \u001b[0msignature\u001b[0m\u001b[0;34m=\u001b[0m\u001b[0msignature\u001b[0m\u001b[0;34m,\u001b[0m \u001b[0mextobj\u001b[0m\u001b[0;34m=\u001b[0m\u001b[0mextobj\u001b[0m\u001b[0;34m)\u001b[0m\u001b[0;34m\u001b[0m\u001b[0;34m\u001b[0m\u001b[0m\n\u001b[0m\u001b[1;32m    548\u001b[0m     \u001b[0;32mreturn\u001b[0m \u001b[0mwrap\u001b[0m\u001b[0;34m(\u001b[0m\u001b[0mainv\u001b[0m\u001b[0;34m.\u001b[0m\u001b[0mastype\u001b[0m\u001b[0;34m(\u001b[0m\u001b[0mresult_t\u001b[0m\u001b[0;34m,\u001b[0m \u001b[0mcopy\u001b[0m\u001b[0;34m=\u001b[0m\u001b[0;32mFalse\u001b[0m\u001b[0;34m)\u001b[0m\u001b[0;34m)\u001b[0m\u001b[0;34m\u001b[0m\u001b[0;34m\u001b[0m\u001b[0m\n\u001b[1;32m    549\u001b[0m \u001b[0;34m\u001b[0m\u001b[0m\n",
      "\u001b[0;32m//anaconda3/envs/learn-env/lib/python3.6/site-packages/numpy/linalg/linalg.py\u001b[0m in \u001b[0;36m_raise_linalgerror_singular\u001b[0;34m(err, flag)\u001b[0m\n\u001b[1;32m     95\u001b[0m \u001b[0;34m\u001b[0m\u001b[0m\n\u001b[1;32m     96\u001b[0m \u001b[0;32mdef\u001b[0m \u001b[0m_raise_linalgerror_singular\u001b[0m\u001b[0;34m(\u001b[0m\u001b[0merr\u001b[0m\u001b[0;34m,\u001b[0m \u001b[0mflag\u001b[0m\u001b[0;34m)\u001b[0m\u001b[0;34m:\u001b[0m\u001b[0;34m\u001b[0m\u001b[0;34m\u001b[0m\u001b[0m\n\u001b[0;32m---> 97\u001b[0;31m     \u001b[0;32mraise\u001b[0m \u001b[0mLinAlgError\u001b[0m\u001b[0;34m(\u001b[0m\u001b[0;34m\"Singular matrix\"\u001b[0m\u001b[0;34m)\u001b[0m\u001b[0;34m\u001b[0m\u001b[0;34m\u001b[0m\u001b[0m\n\u001b[0m\u001b[1;32m     98\u001b[0m \u001b[0;34m\u001b[0m\u001b[0m\n\u001b[1;32m     99\u001b[0m \u001b[0;32mdef\u001b[0m \u001b[0m_raise_linalgerror_nonposdef\u001b[0m\u001b[0;34m(\u001b[0m\u001b[0merr\u001b[0m\u001b[0;34m,\u001b[0m \u001b[0mflag\u001b[0m\u001b[0;34m)\u001b[0m\u001b[0;34m:\u001b[0m\u001b[0;34m\u001b[0m\u001b[0;34m\u001b[0m\u001b[0m\n",
      "\u001b[0;31mLinAlgError\u001b[0m: Singular matrix"
     ]
    }
   ],
   "source": [
    "A = np.arange(9).reshape(3,3)\n",
    "print_matrix(A,'A')\n",
    "inv_A = np.linalg.inv(A)\n",
    "print_matrix(inv_A)"
   ]
  },
  {
   "cell_type": "markdown",
   "metadata": {},
   "source": [
    "# Solving Systems of Equations"
   ]
  },
  {
   "cell_type": "markdown",
   "metadata": {},
   "source": [
    "Solving a system of equations can take a lot of work\n",
    "\n",
    "$$ x - 2y + 3z = 9 $$\n",
    "$$ 2x - 5y + 10z = 4 $$\n",
    "$$ 0x + 0y + 6z = 0 $$\n",
    "\n",
    "- **But we can make it easier by writing it in matrix form**\n",
    "\n",
    "    - Our X-values for all 3 eqns are [1,2,0]\n",
    "    - Our y-values for all 3 eqns are [-2,-5,0]\n",
    "    - Our z-vales for all 3 eqns are [3,10,6]\n",
    "    - Our outcomes for each eqn are [9,4,0]\n",
    "\n",
    "\n",
    "- Below, each row of the matrix (A) contains an X,y,Z.\n",
    "- The dot product of matrix A and vector [x,y,z] will produce the outcomes [9,4,0]. \n",
    "$$ \n",
    "\\begin{pmatrix} \n",
    "    1 & -2 & 3 \\\\\n",
    "    2 & -5 & 10 \\\\\n",
    "    0 & 0 & 6\n",
    "\\end{pmatrix}\n",
    "\\cdot\n",
    "\\begin{pmatrix} \n",
    "    x \\\\\n",
    "    y \\\\\n",
    "    z\n",
    "\\end{pmatrix}\n",
    "=\n",
    "\\begin{pmatrix} \n",
    "    9 \\\\\n",
    "    4 \\\\\n",
    "    0\n",
    "\\end{pmatrix}\n",
    "$$\n",
    "\n",
    "\n",
    "<!--- We can think of this in the abstract:\n",
    "$$ A \\cdot X = B $$\n",
    "$$ A^{-1} \\cdot A \\cdot X = A^{-1} \\cdot B $$\n",
    "$$ I \\cdot X = A^{-1} \\cdot B $$\n",
    "$$ X = A^{-1} \\cdot B $$ --->"
   ]
  },
  {
   "cell_type": "markdown",
   "metadata": {},
   "source": [
    "## Using NumPy"
   ]
  },
  {
   "cell_type": "code",
   "execution_count": 82,
   "metadata": {
    "ExecuteTime": {
     "end_time": "2020-03-06T23:49:53.622787Z",
     "start_time": "2020-03-06T23:49:53.617418Z"
    }
   },
   "outputs": [
    {
     "name": "stdout",
     "output_type": "stream",
     "text": [
      "A(shape=(3, 3)):\n",
      "\n",
      "[[ 1 -2  3]\n",
      " [ 2 -5 10]\n",
      " [ 0  0  6]]\n",
      "\n",
      "\n"
     ]
    }
   ],
   "source": [
    "# Define the system's matrices\n",
    "# eqn = [x,y,z]\n",
    "eqn1 = np.array([1,-2,3])\n",
    "eqn2 = np.array([2,-5,10])\n",
    "eqn3 = np.array([0,0,6])\n",
    "\n",
    "A = np.stack([eqn1,eqn2,eqn3])#,axis=None)\n",
    "print_matrix(A,'A')"
   ]
  },
  {
   "cell_type": "code",
   "execution_count": 83,
   "metadata": {
    "ExecuteTime": {
     "end_time": "2020-03-06T23:50:07.513960Z",
     "start_time": "2020-03-06T23:50:07.509455Z"
    }
   },
   "outputs": [
    {
     "name": "stdout",
     "output_type": "stream",
     "text": [
      "A(shape=(3, 3)):\n",
      "\n",
      "[[ 1 -2  3]\n",
      " [ 2 -5 10]\n",
      " [ 0  0  6]]\n",
      "\n",
      "\n",
      "\n",
      "B(shape=(3, 1)):\n",
      "\n",
      "[[9]\n",
      " [4]\n",
      " [0]]\n",
      "\n",
      "\n"
     ]
    }
   ],
   "source": [
    "B = np.array([9,4,0]).reshape(3,1)\n",
    "print_matrix(A,'A')\n",
    "print()\n",
    "print_matrix(B,'B')"
   ]
  },
  {
   "cell_type": "code",
   "execution_count": 84,
   "metadata": {
    "ExecuteTime": {
     "end_time": "2020-03-06T23:50:21.514257Z",
     "start_time": "2020-03-06T23:50:21.510492Z"
    }
   },
   "outputs": [
    {
     "name": "stdout",
     "output_type": "stream",
     "text": [
      "A_inv(shape=(3, 3)):\n",
      "\n",
      "[[ 5.         -2.          0.83333333]\n",
      " [ 2.         -1.          0.66666667]\n",
      " [ 0.          0.          0.16666667]]\n",
      "\n",
      "\n"
     ]
    }
   ],
   "source": [
    "# Find the inverse\n",
    "A_inv = np.linalg.inv(A)\n",
    "print_matrix(A_inv,'A_inv')"
   ]
  },
  {
   "cell_type": "code",
   "execution_count": 85,
   "metadata": {
    "ExecuteTime": {
     "end_time": "2020-03-06T23:50:35.395467Z",
     "start_time": "2020-03-06T23:50:35.391639Z"
    }
   },
   "outputs": [
    {
     "name": "stdout",
     "output_type": "stream",
     "text": [
      "solution(shape=(3, 1)):\n",
      "\n",
      "[[37.]\n",
      " [14.]\n",
      " [ 0.]]\n",
      "\n",
      "\n"
     ]
    }
   ],
   "source": [
    "# Solutions:\n",
    "solution = A_inv @ B\n",
    "print_matrix(solution,'solution')"
   ]
  },
  {
   "cell_type": "code",
   "execution_count": 86,
   "metadata": {
    "ExecuteTime": {
     "end_time": "2020-03-06T23:50:48.532293Z",
     "start_time": "2020-03-06T23:50:48.523235Z"
    }
   },
   "outputs": [
    {
     "name": "stdout",
     "output_type": "stream",
     "text": [
      "x - 2y + 3z = 9\n",
      "37.0 + -28.0 + 0.0\n",
      "9.0\n",
      "\n",
      "2x - 5y + 10z = 4\n",
      "74.0 + -70.0 + 0.0\n",
      "4.0\n",
      "\n",
      "0x + 0y + 6z = 0\n",
      "0.0 + 0.0 + 0.0\n",
      "0.0\n",
      "\n"
     ]
    }
   ],
   "source": [
    "# Checking solutions:\n",
    "\n",
    "\n",
    "print('x - 2y + 3z = 9')\n",
    "print(f'{solution[0][0]} + {-2*solution[1][0]} + {3*solution[2][0]}')\n",
    "print(solution[0][0] + -2*solution[1][0] + 3*solution[2][0])\n",
    "print()\n",
    "\n",
    "print('2x - 5y + 10z = 4')\n",
    "print(f'{2*solution[0][0]} + {-5*solution[1][0]} + {10*solution[2][0]}')\n",
    "print(2*solution[0][0] + -5*solution[1][0] + 10*solution[2][0])\n",
    "print()\n",
    "\n",
    "print('0x + 0y + 6z = 0')\n",
    "print(f'{0*solution[0][0]} + {0*solution[1][0]} + {6*solution[2][0]}')\n",
    "print(0*solution[0][0] + 0*solution[1][0] + 6*solution[2][0])\n",
    "print()"
   ]
  },
  {
   "cell_type": "markdown",
   "metadata": {},
   "source": [
    "## Solving Systems of Linear Equations with NumPy- Lab"
   ]
  },
  {
   "cell_type": "markdown",
   "metadata": {},
   "source": [
    "> ## Exercise 1\n",
    "- A coffee shop is having a sale on coffee and tea. \n",
    "- On day 1, 29 bags of coffee and 41 bags of tea were sold, for a total of 490 dollars.\n",
    "- On day 2, they sold 23 bags of coffee and 41 bags of tea, for which customers paid a total of 448 dollars.  \n",
    "- How much does each bag cost?"
   ]
  },
  {
   "cell_type": "code",
   "execution_count": 89,
   "metadata": {
    "ExecuteTime": {
     "end_time": "2020-03-06T23:54:22.915550Z",
     "start_time": "2020-03-06T23:54:22.910684Z"
    }
   },
   "outputs": [
    {
     "name": "stdout",
     "output_type": "stream",
     "text": [
      "A(shape=(2, 2)):\n",
      "\n",
      "[[29 41]\n",
      " [23 41]]\n",
      "\n",
      "\n",
      "B(shape=(1, 2)):\n",
      "\n",
      "[[490 448]]\n",
      "\n",
      "\n"
     ]
    }
   ],
   "source": [
    "# 29*c + 41*t = 490\n",
    "# 23c +41t = 448\n",
    "A = np.matrix([[29,41],\n",
    "             [23,41]])\n",
    "B = np.matrix([[490,448]])\n",
    "\n",
    "print_matrix(A,'A')\n",
    "print_matrix(B,'B')"
   ]
  },
  {
   "cell_type": "code",
   "execution_count": 90,
   "metadata": {
    "ExecuteTime": {
     "end_time": "2020-03-06T23:55:47.190150Z",
     "start_time": "2020-03-06T23:55:47.185959Z"
    }
   },
   "outputs": [
    {
     "name": "stdout",
     "output_type": "stream",
     "text": [
      "A(shape=(2, 1)):\n",
      "\n",
      "[[7.]\n",
      " [7.]]\n",
      "\n",
      "\n"
     ]
    }
   ],
   "source": [
    "A_inv = np.linalg.inv(A)\n",
    "X = A_inv.dot(B.T)\n",
    "print_matrix(X)"
   ]
  },
  {
   "cell_type": "code",
   "execution_count": 91,
   "metadata": {
    "ExecuteTime": {
     "end_time": "2020-03-06T23:56:01.764073Z",
     "start_time": "2020-03-06T23:56:01.759931Z"
    }
   },
   "outputs": [
    {
     "data": {
      "text/plain": [
       "matrix([[7.],\n",
       "        [7.]])"
      ]
     },
     "execution_count": 91,
     "metadata": {},
     "output_type": "execute_result"
    }
   ],
   "source": [
    "np.linalg.solve(A,B.T)"
   ]
  },
  {
   "cell_type": "markdown",
   "metadata": {},
   "source": [
    "> ## Exercise 3\n",
    "-You want to make a soup containing tomatoes, carrots, and onions.\n",
    "- Suppose you don't know the exact mix to put in, but you know there are 7 individual pieces of vegetables, \n",
    "- and there are twice as many tomatoes as onions, and that the 7 pieces of vegetables cost 5.25 USD in total. \n",
    "- You also know that onions cost 0.5 USD each, tomatoes cost 0.75 USD and carrots cost 1.25 USD each.\n",
    "- Create a system of equations to find out exactly how many of each of the vegetables are in your soup."
   ]
  },
  {
   "cell_type": "code",
   "execution_count": 93,
   "metadata": {
    "ExecuteTime": {
     "end_time": "2020-03-07T00:02:16.632691Z",
     "start_time": "2020-03-07T00:02:16.627227Z"
    }
   },
   "outputs": [
    {
     "data": {
      "text/plain": [
       "matrix([[4.],\n",
       "        [1.],\n",
       "        [2.]])"
      ]
     },
     "execution_count": 93,
     "metadata": {},
     "output_type": "execute_result"
    }
   ],
   "source": [
    "# t + c + o = 7\n",
    "# t + 0c =2o  ->  t +0c -2o = 0\n",
    "# .75t + 1.25c + .5o = 5.25\n",
    "\n",
    "A = np.matrix([[1,1,1],\n",
    "               [1,0,-2],\n",
    "               [.75,1.25,.5]])\n",
    "B = np.matrix([[7,0,5.25]])\n",
    "x = np.linalg.solve(A, B.T)\n",
    "x"
   ]
  },
  {
   "cell_type": "markdown",
   "metadata": {},
   "source": [
    "## Linear Regression w/ Systems of Equations\n",
    "\n",
    "> We'll find that this is actually computationally expensive for large systems 😭"
   ]
  },
  {
   "cell_type": "markdown",
   "metadata": {},
   "source": [
    "# Simple Linear Regression: Ordinary Least Squares using NumPy "
   ]
  },
  {
   "cell_type": "markdown",
   "metadata": {},
   "source": [
    "Let's look at a toy example. \n",
    "\n",
    "We have the following data:\n",
    "\n",
    "```python\n",
    "x = [1, 2, 3, 4]\n",
    "y = [7, 4, 3, 2]\n",
    "```\n",
    "\n",
    "Here, x is the number of cups of coffee Joe drank during three consecutive days, and y is the number of hours he slept each of those nights.  \n",
    "\n",
    "We want to fit a line to this data to describe the relationship between the number of cups of coffee Joe drank in a day and the hours he was able to sleep each night with a linear model. \n",
    "\n",
    "This line will be of the form $y = mx + b$, where y is the number of hours of sleep per night, x is the number of cups of coffee drank in the day, m is the slope of the line, and b the y-intercept of the line. \n",
    "\n",
    "Using this, we can write: \n",
    "\n",
    "$$ b + m*1 = 7 \\\\\n",
    "b + m*2 = 4 \\\\\n",
    "b + m*3 = 3 \\\\\n",
    "b + m*4 = 2$$\n",
    "\n",
    "This is a system of linear equations that can be written in matrix form as follows: \n",
    "\n",
    "$$\n",
    "    \\left[ {\\begin{array}{cc}\n",
    "   1 & 1 \\\\\n",
    "   1 & 2 \\\\\n",
    "   1 & 3 \\\\\n",
    "   1 & 4\n",
    "  \\end{array} } \\right]\n",
    "   \\left[ {\\begin{array}{c}\n",
    "   b \\\\\n",
    "   m \\\\\n",
    "  \\end{array} } \\right] =\n",
    "    \\left[ {\\begin{array}{c}\n",
    "    7 \\\\\n",
    "    4 \\\\\n",
    "    3 \\\\\n",
    "    2\n",
    "  \\end{array} } \\right] \n",
    "$$\n",
    "\n",
    "We are hoping that there is some _linear combination_ of the columns of the first matrix that will give us our vector of observed values $y$. \n",
    "\n",
    "Before we proceed, let's visualize our data using a scatter plot:"
   ]
  },
  {
   "cell_type": "code",
   "execution_count": 94,
   "metadata": {
    "ExecuteTime": {
     "end_time": "2020-03-07T00:05:10.886069Z",
     "start_time": "2020-03-07T00:05:10.686699Z"
    }
   },
   "outputs": [
    {
     "data": {
      "image/png": "[encoded data removed]",
      "text/plain": [
       "<Figure size 432x288 with 1 Axes>"
      ]
     },
     "metadata": {
      "needs_background": "light"
     },
     "output_type": "display_data"
    }
   ],
   "source": [
    "import matplotlib.pyplot as plt \n",
    "%matplotlib inline \n",
    "\n",
    "x = [1, 2, 3, 4]\n",
    "y = [7, 4, 3, 2]\n",
    "\n",
    "plt.scatter(x, y)\n",
    "plt.xlabel('cups of coffee')\n",
    "plt.ylabel('hours of sleep');"
   ]
  },
  {
   "cell_type": "markdown",
   "metadata": {
    "ExecuteTime": {
     "end_time": "2020-03-06T16:41:17.752994Z",
     "start_time": "2020-03-06T16:41:17.749005Z"
    }
   },
   "source": [
    "\n",
    "We can see our points do not lie on a line. A linear model won't fit our data perfectly. \n",
    "\n",
    "> Every line we attempt to draw through these points will have some error associated with it.\n"
   ]
  },
  {
   "cell_type": "markdown",
   "metadata": {},
   "source": [
    "## Ordinary Least Squares\n",
    "\n",
    "Ordinary least squares tells us that our linear regression equation can be represented as the sum of a linear term and an error term: \n",
    "\n",
    "$$y = X\\beta + error$$\n",
    "\n",
    "To solve for the best estimate of $\\beta$, we are going to assume that on average, the error is equal to 0, thus:  \n",
    "\n",
    "$$ y = X \\beta $$\n",
    "\n",
    "In our toy example, \n",
    "\n",
    "$$X = \\begin{bmatrix}\n",
    "1 & 1 \\\\\n",
    "1 & 2 \\\\ \n",
    "1 & 3 \\\\\n",
    "1 & 4 \n",
    "\\end{bmatrix},$$ \n",
    "\n",
    "$$\\beta = \\begin{bmatrix}\n",
    "b \\\\\n",
    "m\n",
    "\\end{bmatrix},\n",
    "$$\n",
    "\n",
    "and \n",
    "\n",
    "$$y = \\begin{bmatrix}\n",
    "7 \\\\\n",
    "4 \\\\ \n",
    "3 \\\\\n",
    "2\n",
    "\\end{bmatrix}.$$\n",
    "\n",
    "$\\beta$ is a vector comprised of the intercept $b$ for the line and the slope $m$ for the line. "
   ]
  },
  {
   "cell_type": "markdown",
   "metadata": {},
   "source": [
    "> - Q: Why does the matrix $X$ include a column of ones? \n",
    "- A: We need a column of ones for the intercept $b$. If we don't include an intercept term in our linear model, we would be constraining our lines to pass through the origin, which limits the types of relationships the model we're fitting can describe. \n",
    " "
   ]
  },
  {
   "cell_type": "markdown",
   "metadata": {},
   "source": [
    "> - Q: Can you compute the inverse of $X$? \n"
   ]
  },
  {
   "cell_type": "markdown",
   "metadata": {},
   "source": [
    "To solve for $\\beta$, we need to make $X$ into a square matrix by multiplying both sides of the equation from the left by $X^T$ : \n",
    "\n",
    "$$X^T y = X^T X \\beta $$\n"
   ]
  },
  {
   "cell_type": "markdown",
   "metadata": {},
   "source": [
    "Now we have a square matrix that with any luck has an inverse, which we will call $(X^T X)^{-1}$. \n",
    "\n",
    "Multiply both sides from the left by this inverse, and we have\n",
    "\n",
    "$$(X^T X)^{-1} X^T y =(X^T X)^{-1} X^T X\\beta $$"
   ]
  },
  {
   "cell_type": "markdown",
   "metadata": {},
   "source": [
    "It turns out that a matrix multiplied by its inverse is the identity matrix $(X^{-1} X)= I$:\n",
    "\n",
    "$$(X^T X)^{-1} X^T y =I \\beta $$\n",
    "\n",
    "\n",
    "You know that $I\\beta= \\beta$. \n",
    "\n",
    "So, if you want to solve for $\\beta$ (that is, remember, equivalent to finding the values $m$ and $b$ in this case), you find that:\n",
    "\n",
    "$$ \\beta = (X^T X)^{-1} X^T y $$"
   ]
  },
  {
   "cell_type": "markdown",
   "metadata": {},
   "source": [
    "Find $\\beta$ using Ordinary Least Squares."
   ]
  },
  {
   "cell_type": "code",
   "execution_count": 96,
   "metadata": {
    "ExecuteTime": {
     "end_time": "2020-03-07T00:10:24.839519Z",
     "start_time": "2020-03-07T00:10:24.833967Z"
    }
   },
   "outputs": [
    {
     "data": {
      "text/plain": [
       "array([[ 4, 10],\n",
       "       [10, 30]])"
      ]
     },
     "execution_count": 96,
     "metadata": {},
     "output_type": "execute_result"
    }
   ],
   "source": [
    "X = np.array([[1, 1], [1, 2], [1, 3], [1, 4]])\n",
    "y = np.array([7, 4, 3, 2]) \n",
    "\n",
    "## Your code below\n",
    "Xt =X.T\n",
    "XtX = Xt.dot(X)\n",
    "XtX"
   ]
  },
  {
   "cell_type": "code",
   "execution_count": 99,
   "metadata": {
    "ExecuteTime": {
     "end_time": "2020-03-07T00:13:09.283488Z",
     "start_time": "2020-03-07T00:13:09.278832Z"
    }
   },
   "outputs": [
    {
     "data": {
      "text/plain": [
       "array([[ 1.5, -0.5],\n",
       "       [-0.5,  0.2]])"
      ]
     },
     "execution_count": 99,
     "metadata": {},
     "output_type": "execute_result"
    }
   ],
   "source": [
    "XtX_inv = np.linalg.inv(XtX)\n",
    "Xty = Xt.dot(y)\n",
    "XtX_inv"
   ]
  },
  {
   "cell_type": "code",
   "execution_count": 100,
   "metadata": {
    "ExecuteTime": {
     "end_time": "2020-03-07T00:13:12.275299Z",
     "start_time": "2020-03-07T00:13:12.271601Z"
    }
   },
   "outputs": [
    {
     "data": {
      "text/plain": [
       "array([16, 32])"
      ]
     },
     "execution_count": 100,
     "metadata": {},
     "output_type": "execute_result"
    }
   ],
   "source": [
    "Xty"
   ]
  },
  {
   "cell_type": "code",
   "execution_count": 101,
   "metadata": {
    "ExecuteTime": {
     "end_time": "2020-03-07T00:13:27.476227Z",
     "start_time": "2020-03-07T00:13:27.471430Z"
    }
   },
   "outputs": [
    {
     "data": {
      "text/plain": [
       "array([ 8. , -1.6])"
      ]
     },
     "execution_count": 101,
     "metadata": {},
     "output_type": "execute_result"
    }
   ],
   "source": [
    "b = XtX_inv.dot(Xty)\n",
    "b"
   ]
  },
  {
   "cell_type": "markdown",
   "metadata": {},
   "source": [
    "Plot the best line obtained via Ordinary Least Squares against the original data. "
   ]
  },
  {
   "cell_type": "code",
   "execution_count": 102,
   "metadata": {
    "ExecuteTime": {
     "end_time": "2020-03-07T00:13:48.543087Z",
     "start_time": "2020-03-07T00:13:48.325486Z"
    }
   },
   "outputs": [
    {
     "data": {
      "image/png": "[encoded data removed]",
      "text/plain": [
       "<Figure size 432x288 with 1 Axes>"
      ]
     },
     "metadata": {
      "needs_background": "light"
     },
     "output_type": "display_data"
    }
   ],
   "source": [
    "import matplotlib.pyplot as plt \n",
    "%matplotlib inline \n",
    "\n",
    "x = [1, 2, 3, 4]\n",
    "y = [7, 4, 3, 2]\n",
    "\n",
    "plt.scatter(x, y)\n",
    "plt.plot(x, b[0] + b[1]*np.array(x), ls='dashed', color='r', label='line of best fit')\n",
    "plt.xlabel('cups of coffee')\n",
    "plt.ylabel('hours of sleep')\n",
    "plt.legend();"
   ]
  },
  {
   "cell_type": "code",
   "execution_count": null,
   "metadata": {},
   "outputs": [],
   "source": []
  }
 ],
 "metadata": {
  "kernelspec": {
   "display_name": "learn-env",
   "language": "python",
   "name": "learn-env"
  },
  "language_info": {
   "codemirror_mode": {
    "name": "ipython",
    "version": 3
   },
   "file_extension": ".py",
   "mimetype": "text/x-python",
   "name": "python",
   "nbconvert_exporter": "python",
   "pygments_lexer": "ipython3",
   "version": "3.6.9"
  },
  "toc": {
   "base_numbering": 1,
   "nav_menu": {},
   "number_sections": false,
   "sideBar": true,
   "skip_h1_title": false,
   "title_cell": "Table of Contents",
   "title_sidebar": "Contents",
   "toc_cell": false,
   "toc_position": {
    "height": "calc(100% - 180px)",
    "left": "10px",
    "top": "150px",
    "width": "290.909px"
   },
   "toc_section_display": true,
   "toc_window_display": true
  },
  "varInspector": {
   "cols": {
    "lenName": 16,
    "lenType": 16,
    "lenVar": 40
   },
   "kernels_config": {
    "python": {
     "delete_cmd_postfix": "",
     "delete_cmd_prefix": "del ",
     "library": "var_list.py",
     "varRefreshCmd": "print(var_dic_list())"
    },
    "r": {
     "delete_cmd_postfix": ") ",
     "delete_cmd_prefix": "rm(",
     "library": "var_list.r",
     "varRefreshCmd": "cat(var_dic_list()) "
    }
   },
   "types_to_exclude": [
    "module",
    "function",
    "builtin_function_or_method",
    "instance",
    "_Feature"
   ],
   "window_display": false
  }
 },
 "nbformat": 4,
 "nbformat_minor": 2
}
