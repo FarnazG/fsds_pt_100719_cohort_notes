{
 "cells": [
  {
   "cell_type": "markdown",
   "metadata": {},
   "source": [
    "# Sect 20 (v2.1): Extensions to Linear Models\n",
    "\n",
    "- online-ds-pt-100719\n",
    "- 02/27/2020\n"
   ]
  },
  {
   "cell_type": "markdown",
   "metadata": {},
   "source": [
    "## Objectives"
   ]
  },
  {
   "cell_type": "markdown",
   "metadata": {},
   "source": [
    "**DISCUSSION:**\n",
    "- Discuss interactions between variables\n",
    "- Discuss polynomial regressions\n",
    "- Discuss the Bias vs Variance trade-off\n",
    "\n",
    "\n",
    "\n",
    "**APPLICATION:**\n",
    "- [Sect 20: Interactions Lab](https://learn.co/tracks/module-2-data-science-career-2-1/statistics-ab-testing-and-linear-regression/section-20-extensions-to-linear-models/interactions-lab)\n",
    " \n",
    "\n",
    "- [Sect 20: Polynomial Regression Lab](https://github.com/learn-co-students/dsc-polynomial-regression-lab-online-ds-pt-100719)"
   ]
  },
  {
   "cell_type": "markdown",
   "metadata": {},
   "source": [
    "## Topics Covered in Section 20\n"
   ]
  },
  {
   "cell_type": "markdown",
   "metadata": {
    "ExecuteTime": {
     "end_time": "2020-02-27T01:46:00.399565Z",
     "start_time": "2020-02-27T01:45:57.348812Z"
    }
   },
   "source": [
    "- Interactions\n",
    "- Polynomial Regression    \n",
    "- [Bias-Variance Trade Off](https://towardsdatascience.com/understanding-the-bias-variance-tradeoff-165e6942b229)"
   ]
  },
  {
   "cell_type": "markdown",
   "metadata": {},
   "source": [
    "# Interactions"
   ]
  },
  {
   "cell_type": "markdown",
   "metadata": {},
   "source": [
    "## What is an interaction?"
   ]
  },
  {
   "cell_type": "markdown",
   "metadata": {},
   "source": [
    "When variables interact to **cause an effect** to another variable but is **not the sum of their parts**\n",
    "\n",
    "> \"An interaction is a particular property of two or more variables where they interact in a non-additive manner when affecting a third variable\" - *Section recap*\n",
    "\n",
    "<img src=\"https://raw.githubusercontent.com/jirvingphd/dsc-interaction-terms-online-ds-pt-100719/master/images/new_diet_image.png\">\n",
    "\n",
    "\n",
    "> In our example, the interaction plot was composed out of categorical predictors (countries and diet type), but interactions can occur between categorical variables or between a mix of categorical variables and continuous variables!"
   ]
  },
  {
   "cell_type": "markdown",
   "metadata": {},
   "source": [
    "### Confounding factor"
   ]
  },
  {
   "cell_type": "markdown",
   "metadata": {},
   "source": [
    ">This means that the \"Country\" and \"Diet\" affect weight loss in a non-additive matter. If we're mostly interested in the effect of diet on weight loss (which seems to be plausible here), we say that \"Country\" is a **confounding factor** of the effect of \"Diet\" on weight loss."
   ]
  },
  {
   "cell_type": "markdown",
   "metadata": {},
   "source": [
    "![](images/diet_interaction.png)"
   ]
  },
  {
   "cell_type": "markdown",
   "metadata": {},
   "source": [
    "### Why is important to account for interactions?"
   ]
  },
  {
   "cell_type": "markdown",
   "metadata": {},
   "source": [
    "- \"Not accounting for them might lead to results that are wrong.\"\n",
    "- Replacing 2 individual columns with their interaction column can reduce the overall number of features.\n",
    "\n",
    "- Addressing multicollinearity by creating an interaction variable instead of using the multicollinear ones.\n",
    "\n",
    "\n",
    "- You'll also notice that including them when they're needed will increase your $R^2$ value!\n"
   ]
  },
  {
   "cell_type": "markdown",
   "metadata": {},
   "source": [
    "### When should we use interactions?"
   ]
  },
  {
   "cell_type": "markdown",
   "metadata": {},
   "source": [
    "- Whenever it can help the model, but not required.\n",
    "- Can use in hypothesis testing as well (for ANOVAs)"
   ]
  },
  {
   "cell_type": "markdown",
   "metadata": {},
   "source": [
    "## High-Level Programmatic Scrubbing"
   ]
  },
  {
   "cell_type": "markdown",
   "metadata": {},
   "source": [
    "### Quick EDA/Srubbing with `pandas_profiling` and dictionaries.\n",
    "\n",
    "- When we know what we must address, we can use advanced tool and loops/dictionaries to do all scrubbing in a few lines of code3"
   ]
  },
  {
   "cell_type": "markdown",
   "metadata": {},
   "source": [
    "- [Speed Up Your Exploratory Data Analysis With Pandas-Profiling](https://towardsdatascience.com/speed-up-your-exploratory-data-analysis-with-pandas-profiling-88b33dc53625)\n",
    "\n",
    "```python\n",
    "from pandas_profiling import ProfileReport\n",
    "ProfileReport(df)```"
   ]
  },
  {
   "cell_type": "code",
   "execution_count": 1,
   "metadata": {
    "ExecuteTime": {
     "end_time": "2020-03-02T05:57:21.767571Z",
     "start_time": "2020-03-02T05:57:18.228996Z"
    }
   },
   "outputs": [
    {
     "name": "stdout",
     "output_type": "stream",
     "text": [
      "fsds_1007219  v0.7.13 loaded.  Read the docs: https://fsds.readthedocs.io/en/latest/ \n"
     ]
    },
    {
     "data": {
      "text/html": [
       "<style  type=\"text/css\" >\n",
       "</style><table id=\"T_ae8b4142_5c4a_11ea_98df_acde48001122\" ><caption>Loaded Packages and Handles</caption><thead>    <tr>        <th class=\"col_heading level0 col0\" >Handle</th>        <th class=\"col_heading level0 col1\" >Package</th>        <th class=\"col_heading level0 col2\" >Description</th>    </tr></thead><tbody>\n",
       "                <tr>\n",
       "                                <td id=\"T_ae8b4142_5c4a_11ea_98df_acde48001122row0_col0\" class=\"data row0 col0\" >dp</td>\n",
       "                        <td id=\"T_ae8b4142_5c4a_11ea_98df_acde48001122row0_col1\" class=\"data row0 col1\" >IPython.display</td>\n",
       "                        <td id=\"T_ae8b4142_5c4a_11ea_98df_acde48001122row0_col2\" class=\"data row0 col2\" >Display modules with helpful display and clearing commands.</td>\n",
       "            </tr>\n",
       "            <tr>\n",
       "                                <td id=\"T_ae8b4142_5c4a_11ea_98df_acde48001122row1_col0\" class=\"data row1 col0\" >fs</td>\n",
       "                        <td id=\"T_ae8b4142_5c4a_11ea_98df_acde48001122row1_col1\" class=\"data row1 col1\" >fsds_100719</td>\n",
       "                        <td id=\"T_ae8b4142_5c4a_11ea_98df_acde48001122row1_col2\" class=\"data row1 col2\" >Custom data science bootcamp student package</td>\n",
       "            </tr>\n",
       "            <tr>\n",
       "                                <td id=\"T_ae8b4142_5c4a_11ea_98df_acde48001122row2_col0\" class=\"data row2 col0\" >mpl</td>\n",
       "                        <td id=\"T_ae8b4142_5c4a_11ea_98df_acde48001122row2_col1\" class=\"data row2 col1\" >matplotlib</td>\n",
       "                        <td id=\"T_ae8b4142_5c4a_11ea_98df_acde48001122row2_col2\" class=\"data row2 col2\" >Matplotlib's base OOP module with formatting artists</td>\n",
       "            </tr>\n",
       "            <tr>\n",
       "                                <td id=\"T_ae8b4142_5c4a_11ea_98df_acde48001122row3_col0\" class=\"data row3 col0\" >plt</td>\n",
       "                        <td id=\"T_ae8b4142_5c4a_11ea_98df_acde48001122row3_col1\" class=\"data row3 col1\" >matplotlib.pyplot</td>\n",
       "                        <td id=\"T_ae8b4142_5c4a_11ea_98df_acde48001122row3_col2\" class=\"data row3 col2\" >Matplotlib's matlab-like plotting module</td>\n",
       "            </tr>\n",
       "            <tr>\n",
       "                                <td id=\"T_ae8b4142_5c4a_11ea_98df_acde48001122row4_col0\" class=\"data row4 col0\" >np</td>\n",
       "                        <td id=\"T_ae8b4142_5c4a_11ea_98df_acde48001122row4_col1\" class=\"data row4 col1\" >numpy</td>\n",
       "                        <td id=\"T_ae8b4142_5c4a_11ea_98df_acde48001122row4_col2\" class=\"data row4 col2\" >scientific computing with Python</td>\n",
       "            </tr>\n",
       "            <tr>\n",
       "                                <td id=\"T_ae8b4142_5c4a_11ea_98df_acde48001122row5_col0\" class=\"data row5 col0\" >pd</td>\n",
       "                        <td id=\"T_ae8b4142_5c4a_11ea_98df_acde48001122row5_col1\" class=\"data row5 col1\" >pandas</td>\n",
       "                        <td id=\"T_ae8b4142_5c4a_11ea_98df_acde48001122row5_col2\" class=\"data row5 col2\" >High performance data structures and tools</td>\n",
       "            </tr>\n",
       "            <tr>\n",
       "                                <td id=\"T_ae8b4142_5c4a_11ea_98df_acde48001122row6_col0\" class=\"data row6 col0\" >sns</td>\n",
       "                        <td id=\"T_ae8b4142_5c4a_11ea_98df_acde48001122row6_col1\" class=\"data row6 col1\" >seaborn</td>\n",
       "                        <td id=\"T_ae8b4142_5c4a_11ea_98df_acde48001122row6_col2\" class=\"data row6 col2\" >High-level data visualization library based on matplotlib</td>\n",
       "            </tr>\n",
       "    </tbody></table>"
      ],
      "text/plain": [
       "<pandas.io.formats.style.Styler at 0x1115bb5c0>"
      ]
     },
     "metadata": {},
     "output_type": "display_data"
    },
    {
     "data": {
      "text/html": [
       "        <script type=\"text/javascript\">\n",
       "        window.PlotlyConfig = {MathJaxConfig: 'local'};\n",
       "        if (window.MathJax) {MathJax.Hub.Config({SVG: {font: \"STIX-Web\"}});}\n",
       "        if (typeof require !== 'undefined') {\n",
       "        require.undef(\"plotly\");\n",
       "        requirejs.config({\n",
       "            paths: {\n",
       "                'plotly': ['https://cdn.plot.ly/plotly-latest.min']\n",
       "            }\n",
       "        });\n",
       "        require(['plotly'], function(Plotly) {\n",
       "            window._Plotly = Plotly;\n",
       "        });\n",
       "        }\n",
       "        </script>\n",
       "        "
      ]
     },
     "metadata": {},
     "output_type": "display_data"
    },
    {
     "name": "stdout",
     "output_type": "stream",
     "text": [
      "['[i] Pandas .iplot() method activated.']\n"
     ]
    }
   ],
   "source": [
    "!pip install -U fsds_100719\n",
    "from fsds_100719.imports import *\n",
    "\n",
    "# pd.set_option('display.max_rows',999)\n",
    "pd.set_option('display.max_columns',0)\n",
    "plt.style.use('seaborn-notebook')"
   ]
  },
  {
   "cell_type": "code",
   "execution_count": 2,
   "metadata": {
    "ExecuteTime": {
     "end_time": "2020-03-02T05:57:21.798178Z",
     "start_time": "2020-03-02T05:57:21.768863Z"
    }
   },
   "outputs": [],
   "source": [
    "def load_dataset():\n",
    "    df = fs.datasets.load_boston()\n",
    "\n",
    "    # Making example column\n",
    "    data = ['?',1,2,3,4,np.nan,\"N/A\"]\n",
    "    df['example'] = np.random.choice(data,len(df),replace=True)\n",
    "    return df\n",
    "\n",
    "df = load_dataset()"
   ]
  },
  {
   "cell_type": "code",
   "execution_count": 3,
   "metadata": {
    "ExecuteTime": {
     "end_time": "2020-03-02T05:57:21.801989Z",
     "start_time": "2020-03-02T05:57:21.799972Z"
    },
    "scrolled": true
   },
   "outputs": [],
   "source": [
    "# from pandas_profiling import ProfileReport\n",
    "# ProfileReport(df)"
   ]
  },
  {
   "cell_type": "markdown",
   "metadata": {},
   "source": [
    "#### OSEMN\n",
    "1. **[OBTAIN](#OBTAIN)**\n",
    "    - Import data, inspect, check dtypes, preview\n",
    "    - Drop unneeded columns\n",
    "\n",
    "2. **[SCRUB](#SCRUB)**\n",
    "    - Recast data types\n",
    "    - Find and deal with weird/placeholder values\n",
    "    - Check for and Address null values\n",
    "    - Identify (& remove) outliers\n",
    "    - Check for multicollinearity\n",
    "    - Normalize/standardize data (depending on type of model)\n",
    "    \n",
    "\n",
    "         \n",
    "3. **[EXPLORE](#EXPLORE)**\n",
    "    - [ ] Check distributions, outliers, etc\n",
    "    - [ ] Check scales, ranges (df.describe())\n",
    "    - [ ] Check histograms to get an idea of distributions (df.hist()) and data transformations to perform.\n",
    "    - [ ] Use scatter plots to check for linearity and possible categorical variables \n",
    "    - [ ] Check for linear relationships (if required by model).\n",
    "   \n",
    "4. **[MODEL](#MODEL)**\n",
    "\n",
    "    - **Fit an initial model:** \n",
    "        - Run an initial model and get results\n",
    "\n",
    "    - **Holdout validation / Train/test split**\n",
    "        - use sklearn `train_test_split`\n",
    "    \n",
    "5. **[iNTERPRET](#iNTERPRET)**\n",
    "    - **Assessing the model:**\n",
    "        - Assess parameters (slope,intercept)\n",
    "        - Check if the model explains the variation in the data (RMSE, F, R_square)\n",
    "        - *Are the coeffs, slopes, intercepts in appropriate units?*\n",
    "        - *Whats the impact of collinearity? Can we ignore?*\n",
    "        <br><br>\n",
    "    - **Revise the fitted model**\n",
    "        - Multicollinearity is big issue for lin regression and cannot fully remove it\n",
    "        - Use the predictive ability of model to test it (like R2 and RMSE)\n",
    "        - Check for missed non-linearity\n",
    "        \n",
    "- **Interpret final model and draw >=3 conclusions and recommendations from dataset**"
   ]
  },
  {
   "cell_type": "code",
   "execution_count": 4,
   "metadata": {
    "ExecuteTime": {
     "end_time": "2020-03-02T05:57:21.836993Z",
     "start_time": "2020-03-02T05:57:21.803851Z"
    }
   },
   "outputs": [
    {
     "data": {
      "text/html": [
       "<div>\n",
       "<style scoped>\n",
       "    .dataframe tbody tr th:only-of-type {\n",
       "        vertical-align: middle;\n",
       "    }\n",
       "\n",
       "    .dataframe tbody tr th {\n",
       "        vertical-align: top;\n",
       "    }\n",
       "\n",
       "    .dataframe thead th {\n",
       "        text-align: right;\n",
       "    }\n",
       "</style>\n",
       "<table border=\"1\" class=\"dataframe\">\n",
       "  <thead>\n",
       "    <tr style=\"text-align: right;\">\n",
       "      <th></th>\n",
       "      <th>CRIM</th>\n",
       "      <th>ZN</th>\n",
       "      <th>INDUS</th>\n",
       "      <th>CHAS</th>\n",
       "      <th>NOX</th>\n",
       "      <th>RM</th>\n",
       "      <th>AGE</th>\n",
       "      <th>DIS</th>\n",
       "      <th>RAD</th>\n",
       "      <th>TAX</th>\n",
       "      <th>PTRATIO</th>\n",
       "      <th>B</th>\n",
       "      <th>LSTAT</th>\n",
       "      <th>price</th>\n",
       "      <th>example</th>\n",
       "    </tr>\n",
       "  </thead>\n",
       "  <tbody>\n",
       "    <tr>\n",
       "      <td>0</td>\n",
       "      <td>0.00632</td>\n",
       "      <td>18.0</td>\n",
       "      <td>2.31</td>\n",
       "      <td>0.0</td>\n",
       "      <td>0.538</td>\n",
       "      <td>6.575</td>\n",
       "      <td>65.2</td>\n",
       "      <td>4.0900</td>\n",
       "      <td>1.0</td>\n",
       "      <td>296.0</td>\n",
       "      <td>15.3</td>\n",
       "      <td>396.90</td>\n",
       "      <td>4.98</td>\n",
       "      <td>24.0</td>\n",
       "      <td>nan</td>\n",
       "    </tr>\n",
       "    <tr>\n",
       "      <td>1</td>\n",
       "      <td>0.02731</td>\n",
       "      <td>0.0</td>\n",
       "      <td>7.07</td>\n",
       "      <td>0.0</td>\n",
       "      <td>0.469</td>\n",
       "      <td>6.421</td>\n",
       "      <td>78.9</td>\n",
       "      <td>4.9671</td>\n",
       "      <td>2.0</td>\n",
       "      <td>242.0</td>\n",
       "      <td>17.8</td>\n",
       "      <td>396.90</td>\n",
       "      <td>9.14</td>\n",
       "      <td>21.6</td>\n",
       "      <td>1</td>\n",
       "    </tr>\n",
       "    <tr>\n",
       "      <td>2</td>\n",
       "      <td>0.02729</td>\n",
       "      <td>0.0</td>\n",
       "      <td>7.07</td>\n",
       "      <td>0.0</td>\n",
       "      <td>0.469</td>\n",
       "      <td>7.185</td>\n",
       "      <td>61.1</td>\n",
       "      <td>4.9671</td>\n",
       "      <td>2.0</td>\n",
       "      <td>242.0</td>\n",
       "      <td>17.8</td>\n",
       "      <td>392.83</td>\n",
       "      <td>4.03</td>\n",
       "      <td>34.7</td>\n",
       "      <td>?</td>\n",
       "    </tr>\n",
       "    <tr>\n",
       "      <td>3</td>\n",
       "      <td>0.03237</td>\n",
       "      <td>0.0</td>\n",
       "      <td>2.18</td>\n",
       "      <td>0.0</td>\n",
       "      <td>0.458</td>\n",
       "      <td>6.998</td>\n",
       "      <td>45.8</td>\n",
       "      <td>6.0622</td>\n",
       "      <td>3.0</td>\n",
       "      <td>222.0</td>\n",
       "      <td>18.7</td>\n",
       "      <td>394.63</td>\n",
       "      <td>2.94</td>\n",
       "      <td>33.4</td>\n",
       "      <td>N/A</td>\n",
       "    </tr>\n",
       "    <tr>\n",
       "      <td>4</td>\n",
       "      <td>0.06905</td>\n",
       "      <td>0.0</td>\n",
       "      <td>2.18</td>\n",
       "      <td>0.0</td>\n",
       "      <td>0.458</td>\n",
       "      <td>7.147</td>\n",
       "      <td>54.2</td>\n",
       "      <td>6.0622</td>\n",
       "      <td>3.0</td>\n",
       "      <td>222.0</td>\n",
       "      <td>18.7</td>\n",
       "      <td>396.90</td>\n",
       "      <td>5.33</td>\n",
       "      <td>36.2</td>\n",
       "      <td>nan</td>\n",
       "    </tr>\n",
       "  </tbody>\n",
       "</table>\n",
       "</div>"
      ],
      "text/plain": [
       "      CRIM    ZN  INDUS  CHAS    NOX  ...  PTRATIO       B  LSTAT  price  example\n",
       "0  0.00632  18.0   2.31   0.0  0.538  ...     15.3  396.90   4.98   24.0      nan\n",
       "1  0.02731   0.0   7.07   0.0  0.469  ...     17.8  396.90   9.14   21.6        1\n",
       "2  0.02729   0.0   7.07   0.0  0.469  ...     17.8  392.83   4.03   34.7        ?\n",
       "3  0.03237   0.0   2.18   0.0  0.458  ...     18.7  394.63   2.94   33.4      N/A\n",
       "4  0.06905   0.0   2.18   0.0  0.458  ...     18.7  396.90   5.33   36.2      nan\n",
       "\n",
       "[5 rows x 15 columns]"
      ]
     },
     "execution_count": 4,
     "metadata": {},
     "output_type": "execute_result"
    }
   ],
   "source": [
    "## Drop cols\n",
    "drop_cols = []\n",
    "[df.drop(col,axis=1,inplace=True) for col in drop_cols if col in df.columns]\n",
    "df.head()"
   ]
  },
  {
   "cell_type": "code",
   "execution_count": 5,
   "metadata": {
    "ExecuteTime": {
     "end_time": "2020-03-02T05:57:21.844454Z",
     "start_time": "2020-03-02T05:57:21.838179Z"
    }
   },
   "outputs": [
    {
     "data": {
      "text/plain": [
       "N/A    78\n",
       "nan    77\n",
       "1      76\n",
       "3      74\n",
       "?      72\n",
       "4      66\n",
       "2      63\n",
       "Name: example, dtype: int64"
      ]
     },
     "metadata": {},
     "output_type": "display_data"
    },
    {
     "name": "stdout",
     "output_type": "stream",
     "text": [
      "# Null values: 0\n"
     ]
    }
   ],
   "source": [
    "display(df['example'].value_counts())\n",
    "print(f\"# Null values: {df['example'].isna().sum()}\")"
   ]
  },
  {
   "cell_type": "code",
   "execution_count": 6,
   "metadata": {
    "ExecuteTime": {
     "end_time": "2020-03-02T05:57:21.848094Z",
     "start_time": "2020-03-02T05:57:21.845823Z"
    }
   },
   "outputs": [],
   "source": [
    "# help(df.replace)"
   ]
  },
  {
   "cell_type": "code",
   "execution_count": 7,
   "metadata": {
    "ExecuteTime": {
     "end_time": "2020-03-02T05:57:21.861549Z",
     "start_time": "2020-03-02T05:57:21.849838Z"
    }
   },
   "outputs": [
    {
     "data": {
      "text/plain": [
       "N/A    78\n",
       "nan    77\n",
       "1      76\n",
       "3      74\n",
       "?      72\n",
       "4      66\n",
       "2      63\n",
       "Name: example, dtype: int64"
      ]
     },
     "metadata": {},
     "output_type": "display_data"
    },
    {
     "data": {
      "text/plain": [
       "0      149\n",
       "NaN     78\n",
       "1       76\n",
       "3       74\n",
       "4       66\n",
       "2       63\n",
       "Name: example, dtype: int64"
      ]
     },
     "metadata": {},
     "output_type": "display_data"
    }
   ],
   "source": [
    "## Replacing Values\n",
    "repl_dict = {'example':\n",
    "             {'?':0, 'N/A':np.nan,'nan':0 }\n",
    "            }\n",
    "             \n",
    "\n",
    "for col,replace_vals in repl_dict.items():\n",
    "\n",
    "    display(df[col].value_counts(dropna=False))\n",
    "    df[col] = df[col].replace(replace_vals)\n",
    "    display(df[col].value_counts(dropna=False))"
   ]
  },
  {
   "cell_type": "code",
   "execution_count": 8,
   "metadata": {
    "ExecuteTime": {
     "end_time": "2020-03-02T05:57:21.868463Z",
     "start_time": "2020-03-02T05:57:21.863553Z"
    }
   },
   "outputs": [
    {
     "data": {
      "text/plain": [
       "78"
      ]
     },
     "execution_count": 8,
     "metadata": {},
     "output_type": "execute_result"
    }
   ],
   "source": [
    "df['example'].isna().sum()"
   ]
  },
  {
   "cell_type": "code",
   "execution_count": 9,
   "metadata": {
    "ExecuteTime": {
     "end_time": "2020-03-02T05:57:21.878003Z",
     "start_time": "2020-03-02T05:57:21.871270Z"
    }
   },
   "outputs": [
    {
     "data": {
      "text/plain": [
       "0    227\n",
       "1     76\n",
       "3     74\n",
       "4     66\n",
       "2     63\n",
       "Name: example, dtype: int64"
      ]
     },
     "execution_count": 9,
     "metadata": {},
     "output_type": "execute_result"
    }
   ],
   "source": [
    "## Fill Null values / zeros\n",
    "fillna_dict = {'example':0}\n",
    "for col,val in fillna_dict.items():\n",
    "    df[col] = df[col].fillna(val)\n",
    "    \n",
    "    \n",
    "df['example'].value_counts(dropna=False)"
   ]
  },
  {
   "cell_type": "code",
   "execution_count": 10,
   "metadata": {
    "ExecuteTime": {
     "end_time": "2020-03-02T05:57:21.884260Z",
     "start_time": "2020-03-02T05:57:21.879180Z"
    }
   },
   "outputs": [
    {
     "data": {
      "text/plain": [
       "CRIM       float64\n",
       "ZN         float64\n",
       "INDUS      float64\n",
       "CHAS       float64\n",
       "NOX        float64\n",
       "RM         float64\n",
       "AGE        float64\n",
       "DIS        float64\n",
       "RAD        float64\n",
       "TAX        float64\n",
       "PTRATIO    float64\n",
       "B          float64\n",
       "LSTAT      float64\n",
       "price      float64\n",
       "example     object\n",
       "dtype: object"
      ]
     },
     "execution_count": 10,
     "metadata": {},
     "output_type": "execute_result"
    }
   ],
   "source": [
    "df.dtypes"
   ]
  },
  {
   "cell_type": "code",
   "execution_count": 11,
   "metadata": {
    "ExecuteTime": {
     "end_time": "2020-03-02T05:57:21.891779Z",
     "start_time": "2020-03-02T05:57:21.885609Z"
    }
   },
   "outputs": [
    {
     "data": {
      "text/plain": [
       "CRIM       float64\n",
       "ZN         float64\n",
       "INDUS      float64\n",
       "CHAS         int64\n",
       "NOX        float64\n",
       "RM         float64\n",
       "AGE        float64\n",
       "DIS        float64\n",
       "RAD        float64\n",
       "TAX        float64\n",
       "PTRATIO    float64\n",
       "B          float64\n",
       "LSTAT      float64\n",
       "price      float64\n",
       "example      int64\n",
       "dtype: object"
      ]
     },
     "execution_count": 11,
     "metadata": {},
     "output_type": "execute_result"
    }
   ],
   "source": [
    "## Recasting datatypes\n",
    "recast_dict = {'CHAS':int, 'example':int}\n",
    "\n",
    "for col,dtype in recast_dict.items():\n",
    "    df[col] = df[col].astype(dtype)\n",
    "df.dtypes"
   ]
  },
  {
   "cell_type": "code",
   "execution_count": 12,
   "metadata": {
    "ExecuteTime": {
     "end_time": "2020-03-02T05:57:21.925707Z",
     "start_time": "2020-03-02T05:57:21.893301Z"
    }
   },
   "outputs": [
    {
     "data": {
      "text/html": [
       "<div>\n",
       "<style scoped>\n",
       "    .dataframe tbody tr th:only-of-type {\n",
       "        vertical-align: middle;\n",
       "    }\n",
       "\n",
       "    .dataframe tbody tr th {\n",
       "        vertical-align: top;\n",
       "    }\n",
       "\n",
       "    .dataframe thead th {\n",
       "        text-align: right;\n",
       "    }\n",
       "</style>\n",
       "<table border=\"1\" class=\"dataframe\">\n",
       "  <thead>\n",
       "    <tr style=\"text-align: right;\">\n",
       "      <th></th>\n",
       "      <th>CRIM</th>\n",
       "      <th>ZN</th>\n",
       "      <th>INDUS</th>\n",
       "      <th>CHAS</th>\n",
       "      <th>NOX</th>\n",
       "      <th>RM</th>\n",
       "      <th>AGE</th>\n",
       "      <th>DIS</th>\n",
       "      <th>RAD</th>\n",
       "      <th>TAX</th>\n",
       "      <th>PTRATIO</th>\n",
       "      <th>B</th>\n",
       "      <th>LSTAT</th>\n",
       "      <th>price</th>\n",
       "      <th>example</th>\n",
       "    </tr>\n",
       "  </thead>\n",
       "  <tbody>\n",
       "    <tr>\n",
       "      <td>0</td>\n",
       "      <td>0.00632</td>\n",
       "      <td>18.0</td>\n",
       "      <td>2.31</td>\n",
       "      <td>0</td>\n",
       "      <td>0.538</td>\n",
       "      <td>6.575</td>\n",
       "      <td>65.2</td>\n",
       "      <td>4.0900</td>\n",
       "      <td>1.0</td>\n",
       "      <td>296.0</td>\n",
       "      <td>15.3</td>\n",
       "      <td>396.90</td>\n",
       "      <td>4.98</td>\n",
       "      <td>24.0</td>\n",
       "      <td>0</td>\n",
       "    </tr>\n",
       "    <tr>\n",
       "      <td>1</td>\n",
       "      <td>0.02731</td>\n",
       "      <td>0.0</td>\n",
       "      <td>7.07</td>\n",
       "      <td>0</td>\n",
       "      <td>0.469</td>\n",
       "      <td>6.421</td>\n",
       "      <td>78.9</td>\n",
       "      <td>4.9671</td>\n",
       "      <td>2.0</td>\n",
       "      <td>242.0</td>\n",
       "      <td>17.8</td>\n",
       "      <td>396.90</td>\n",
       "      <td>9.14</td>\n",
       "      <td>21.6</td>\n",
       "      <td>1</td>\n",
       "    </tr>\n",
       "    <tr>\n",
       "      <td>2</td>\n",
       "      <td>0.02729</td>\n",
       "      <td>0.0</td>\n",
       "      <td>7.07</td>\n",
       "      <td>0</td>\n",
       "      <td>0.469</td>\n",
       "      <td>7.185</td>\n",
       "      <td>61.1</td>\n",
       "      <td>4.9671</td>\n",
       "      <td>2.0</td>\n",
       "      <td>242.0</td>\n",
       "      <td>17.8</td>\n",
       "      <td>392.83</td>\n",
       "      <td>4.03</td>\n",
       "      <td>34.7</td>\n",
       "      <td>0</td>\n",
       "    </tr>\n",
       "    <tr>\n",
       "      <td>3</td>\n",
       "      <td>0.03237</td>\n",
       "      <td>0.0</td>\n",
       "      <td>2.18</td>\n",
       "      <td>0</td>\n",
       "      <td>0.458</td>\n",
       "      <td>6.998</td>\n",
       "      <td>45.8</td>\n",
       "      <td>6.0622</td>\n",
       "      <td>3.0</td>\n",
       "      <td>222.0</td>\n",
       "      <td>18.7</td>\n",
       "      <td>394.63</td>\n",
       "      <td>2.94</td>\n",
       "      <td>33.4</td>\n",
       "      <td>0</td>\n",
       "    </tr>\n",
       "    <tr>\n",
       "      <td>4</td>\n",
       "      <td>0.06905</td>\n",
       "      <td>0.0</td>\n",
       "      <td>2.18</td>\n",
       "      <td>0</td>\n",
       "      <td>0.458</td>\n",
       "      <td>7.147</td>\n",
       "      <td>54.2</td>\n",
       "      <td>6.0622</td>\n",
       "      <td>3.0</td>\n",
       "      <td>222.0</td>\n",
       "      <td>18.7</td>\n",
       "      <td>396.90</td>\n",
       "      <td>5.33</td>\n",
       "      <td>36.2</td>\n",
       "      <td>0</td>\n",
       "    </tr>\n",
       "  </tbody>\n",
       "</table>\n",
       "</div>"
      ],
      "text/plain": [
       "      CRIM    ZN  INDUS  CHAS    NOX  ...  PTRATIO       B  LSTAT  price  example\n",
       "0  0.00632  18.0   2.31     0  0.538  ...     15.3  396.90   4.98   24.0        0\n",
       "1  0.02731   0.0   7.07     0  0.469  ...     17.8  396.90   9.14   21.6        1\n",
       "2  0.02729   0.0   7.07     0  0.469  ...     17.8  392.83   4.03   34.7        0\n",
       "3  0.03237   0.0   2.18     0  0.458  ...     18.7  394.63   2.94   33.4        0\n",
       "4  0.06905   0.0   2.18     0  0.458  ...     18.7  396.90   5.33   36.2        0\n",
       "\n",
       "[5 rows x 15 columns]"
      ]
     },
     "metadata": {},
     "output_type": "display_data"
    },
    {
     "data": {
      "text/plain": [
       "CRIM       float64\n",
       "ZN         float64\n",
       "INDUS      float64\n",
       "CHAS         int64\n",
       "NOX        float64\n",
       "RM         float64\n",
       "AGE        float64\n",
       "DIS        float64\n",
       "RAD        float64\n",
       "TAX        float64\n",
       "PTRATIO    float64\n",
       "B          float64\n",
       "LSTAT      float64\n",
       "price      float64\n",
       "example      int64\n",
       "dtype: object"
      ]
     },
     "metadata": {},
     "output_type": "display_data"
    },
    {
     "data": {
      "text/plain": [
       "CRIM       0\n",
       "ZN         0\n",
       "INDUS      0\n",
       "CHAS       0\n",
       "NOX        0\n",
       "RM         0\n",
       "AGE        0\n",
       "DIS        0\n",
       "RAD        0\n",
       "TAX        0\n",
       "PTRATIO    0\n",
       "B          0\n",
       "LSTAT      0\n",
       "price      0\n",
       "example    0\n",
       "dtype: int64"
      ]
     },
     "metadata": {},
     "output_type": "display_data"
    }
   ],
   "source": [
    "display(df.head(), df.dtypes, df.isna().sum())"
   ]
  },
  {
   "cell_type": "code",
   "execution_count": 13,
   "metadata": {
    "ExecuteTime": {
     "end_time": "2020-03-02T05:57:21.966569Z",
     "start_time": "2020-03-02T05:57:21.927303Z"
    }
   },
   "outputs": [
    {
     "data": {
      "text/html": [
       "<div>\n",
       "<style scoped>\n",
       "    .dataframe tbody tr th:only-of-type {\n",
       "        vertical-align: middle;\n",
       "    }\n",
       "\n",
       "    .dataframe tbody tr th {\n",
       "        vertical-align: top;\n",
       "    }\n",
       "\n",
       "    .dataframe thead th {\n",
       "        text-align: right;\n",
       "    }\n",
       "</style>\n",
       "<table border=\"1\" class=\"dataframe\">\n",
       "  <thead>\n",
       "    <tr style=\"text-align: right;\">\n",
       "      <th></th>\n",
       "      <th>CRIM</th>\n",
       "      <th>ZN</th>\n",
       "      <th>INDUS</th>\n",
       "      <th>CHAS</th>\n",
       "      <th>NOX</th>\n",
       "      <th>RM</th>\n",
       "      <th>AGE</th>\n",
       "      <th>DIS</th>\n",
       "      <th>RAD</th>\n",
       "      <th>TAX</th>\n",
       "      <th>PTRATIO</th>\n",
       "      <th>B</th>\n",
       "      <th>LSTAT</th>\n",
       "      <th>price</th>\n",
       "      <th>example</th>\n",
       "    </tr>\n",
       "  </thead>\n",
       "  <tbody>\n",
       "    <tr>\n",
       "      <td>0</td>\n",
       "      <td>0.00632</td>\n",
       "      <td>18.0</td>\n",
       "      <td>2.31</td>\n",
       "      <td>0</td>\n",
       "      <td>0.538</td>\n",
       "      <td>6.575</td>\n",
       "      <td>65.2</td>\n",
       "      <td>4.0900</td>\n",
       "      <td>1.0</td>\n",
       "      <td>296.0</td>\n",
       "      <td>15.3</td>\n",
       "      <td>396.90</td>\n",
       "      <td>4.98</td>\n",
       "      <td>24.0</td>\n",
       "      <td>0</td>\n",
       "    </tr>\n",
       "    <tr>\n",
       "      <td>1</td>\n",
       "      <td>0.02731</td>\n",
       "      <td>0.0</td>\n",
       "      <td>7.07</td>\n",
       "      <td>0</td>\n",
       "      <td>0.469</td>\n",
       "      <td>6.421</td>\n",
       "      <td>78.9</td>\n",
       "      <td>4.9671</td>\n",
       "      <td>2.0</td>\n",
       "      <td>242.0</td>\n",
       "      <td>17.8</td>\n",
       "      <td>396.90</td>\n",
       "      <td>9.14</td>\n",
       "      <td>21.6</td>\n",
       "      <td>1</td>\n",
       "    </tr>\n",
       "    <tr>\n",
       "      <td>2</td>\n",
       "      <td>0.02729</td>\n",
       "      <td>0.0</td>\n",
       "      <td>7.07</td>\n",
       "      <td>0</td>\n",
       "      <td>0.469</td>\n",
       "      <td>7.185</td>\n",
       "      <td>61.1</td>\n",
       "      <td>4.9671</td>\n",
       "      <td>2.0</td>\n",
       "      <td>242.0</td>\n",
       "      <td>17.8</td>\n",
       "      <td>392.83</td>\n",
       "      <td>4.03</td>\n",
       "      <td>34.7</td>\n",
       "      <td>0</td>\n",
       "    </tr>\n",
       "    <tr>\n",
       "      <td>3</td>\n",
       "      <td>0.03237</td>\n",
       "      <td>0.0</td>\n",
       "      <td>2.18</td>\n",
       "      <td>0</td>\n",
       "      <td>0.458</td>\n",
       "      <td>6.998</td>\n",
       "      <td>45.8</td>\n",
       "      <td>6.0622</td>\n",
       "      <td>3.0</td>\n",
       "      <td>222.0</td>\n",
       "      <td>18.7</td>\n",
       "      <td>394.63</td>\n",
       "      <td>2.94</td>\n",
       "      <td>33.4</td>\n",
       "      <td>0</td>\n",
       "    </tr>\n",
       "    <tr>\n",
       "      <td>4</td>\n",
       "      <td>0.06905</td>\n",
       "      <td>0.0</td>\n",
       "      <td>2.18</td>\n",
       "      <td>0</td>\n",
       "      <td>0.458</td>\n",
       "      <td>7.147</td>\n",
       "      <td>54.2</td>\n",
       "      <td>6.0622</td>\n",
       "      <td>3.0</td>\n",
       "      <td>222.0</td>\n",
       "      <td>18.7</td>\n",
       "      <td>396.90</td>\n",
       "      <td>5.33</td>\n",
       "      <td>36.2</td>\n",
       "      <td>0</td>\n",
       "    </tr>\n",
       "    <tr>\n",
       "      <td>...</td>\n",
       "      <td>...</td>\n",
       "      <td>...</td>\n",
       "      <td>...</td>\n",
       "      <td>...</td>\n",
       "      <td>...</td>\n",
       "      <td>...</td>\n",
       "      <td>...</td>\n",
       "      <td>...</td>\n",
       "      <td>...</td>\n",
       "      <td>...</td>\n",
       "      <td>...</td>\n",
       "      <td>...</td>\n",
       "      <td>...</td>\n",
       "      <td>...</td>\n",
       "      <td>...</td>\n",
       "    </tr>\n",
       "    <tr>\n",
       "      <td>501</td>\n",
       "      <td>0.06263</td>\n",
       "      <td>0.0</td>\n",
       "      <td>11.93</td>\n",
       "      <td>0</td>\n",
       "      <td>0.573</td>\n",
       "      <td>6.593</td>\n",
       "      <td>69.1</td>\n",
       "      <td>2.4786</td>\n",
       "      <td>1.0</td>\n",
       "      <td>273.0</td>\n",
       "      <td>21.0</td>\n",
       "      <td>391.99</td>\n",
       "      <td>9.67</td>\n",
       "      <td>22.4</td>\n",
       "      <td>0</td>\n",
       "    </tr>\n",
       "    <tr>\n",
       "      <td>502</td>\n",
       "      <td>0.04527</td>\n",
       "      <td>0.0</td>\n",
       "      <td>11.93</td>\n",
       "      <td>0</td>\n",
       "      <td>0.573</td>\n",
       "      <td>6.120</td>\n",
       "      <td>76.7</td>\n",
       "      <td>2.2875</td>\n",
       "      <td>1.0</td>\n",
       "      <td>273.0</td>\n",
       "      <td>21.0</td>\n",
       "      <td>396.90</td>\n",
       "      <td>9.08</td>\n",
       "      <td>20.6</td>\n",
       "      <td>3</td>\n",
       "    </tr>\n",
       "    <tr>\n",
       "      <td>503</td>\n",
       "      <td>0.06076</td>\n",
       "      <td>0.0</td>\n",
       "      <td>11.93</td>\n",
       "      <td>0</td>\n",
       "      <td>0.573</td>\n",
       "      <td>6.976</td>\n",
       "      <td>91.0</td>\n",
       "      <td>2.1675</td>\n",
       "      <td>1.0</td>\n",
       "      <td>273.0</td>\n",
       "      <td>21.0</td>\n",
       "      <td>396.90</td>\n",
       "      <td>5.64</td>\n",
       "      <td>23.9</td>\n",
       "      <td>1</td>\n",
       "    </tr>\n",
       "    <tr>\n",
       "      <td>504</td>\n",
       "      <td>0.10959</td>\n",
       "      <td>0.0</td>\n",
       "      <td>11.93</td>\n",
       "      <td>0</td>\n",
       "      <td>0.573</td>\n",
       "      <td>6.794</td>\n",
       "      <td>89.3</td>\n",
       "      <td>2.3889</td>\n",
       "      <td>1.0</td>\n",
       "      <td>273.0</td>\n",
       "      <td>21.0</td>\n",
       "      <td>393.45</td>\n",
       "      <td>6.48</td>\n",
       "      <td>22.0</td>\n",
       "      <td>0</td>\n",
       "    </tr>\n",
       "    <tr>\n",
       "      <td>505</td>\n",
       "      <td>0.04741</td>\n",
       "      <td>0.0</td>\n",
       "      <td>11.93</td>\n",
       "      <td>0</td>\n",
       "      <td>0.573</td>\n",
       "      <td>6.030</td>\n",
       "      <td>80.8</td>\n",
       "      <td>2.5050</td>\n",
       "      <td>1.0</td>\n",
       "      <td>273.0</td>\n",
       "      <td>21.0</td>\n",
       "      <td>396.90</td>\n",
       "      <td>7.88</td>\n",
       "      <td>11.9</td>\n",
       "      <td>1</td>\n",
       "    </tr>\n",
       "  </tbody>\n",
       "</table>\n",
       "<p>506 rows × 15 columns</p>\n",
       "</div>"
      ],
      "text/plain": [
       "        CRIM    ZN  INDUS  CHAS    NOX  ...  PTRATIO       B  LSTAT  price  example\n",
       "0    0.00632  18.0   2.31     0  0.538  ...     15.3  396.90   4.98   24.0        0\n",
       "1    0.02731   0.0   7.07     0  0.469  ...     17.8  396.90   9.14   21.6        1\n",
       "2    0.02729   0.0   7.07     0  0.469  ...     17.8  392.83   4.03   34.7        0\n",
       "3    0.03237   0.0   2.18     0  0.458  ...     18.7  394.63   2.94   33.4        0\n",
       "4    0.06905   0.0   2.18     0  0.458  ...     18.7  396.90   5.33   36.2        0\n",
       "..       ...   ...    ...   ...    ...  ...      ...     ...    ...    ...      ...\n",
       "501  0.06263   0.0  11.93     0  0.573  ...     21.0  391.99   9.67   22.4        0\n",
       "502  0.04527   0.0  11.93     0  0.573  ...     21.0  396.90   9.08   20.6        3\n",
       "503  0.06076   0.0  11.93     0  0.573  ...     21.0  396.90   5.64   23.9        1\n",
       "504  0.10959   0.0  11.93     0  0.573  ...     21.0  393.45   6.48   22.0        0\n",
       "505  0.04741   0.0  11.93     0  0.573  ...     21.0  396.90   7.88   11.9        1\n",
       "\n",
       "[506 rows x 15 columns]"
      ]
     },
     "execution_count": 13,
     "metadata": {},
     "output_type": "execute_result"
    }
   ],
   "source": [
    "df"
   ]
  },
  {
   "cell_type": "code",
   "execution_count": 14,
   "metadata": {
    "ExecuteTime": {
     "end_time": "2020-03-02T05:57:21.975298Z",
     "start_time": "2020-03-02T05:57:21.968013Z"
    },
    "code_folding": []
   },
   "outputs": [],
   "source": [
    "def scrub_df(data,drop_cols =[],#['id','date','view'],\n",
    "                       repl_dict = {},#{'sqft_basement':('?','0.0')},\n",
    "                       recast_dict = {},#{'sqft_basement':'float'},\n",
    "                       fillna_dict = {},#{'waterfront':0,'yr_renovated':0},\n",
    "                      verbose=1):\n",
    "    \"\"\"\n",
    "    Performs scrubbing process on the df in the following order:\n",
    "    1. Drop cols in the drop_cols list\n",
    "    2. Replace values using repl_dict\n",
    "    3. Recast dtypes using recast_dict\n",
    "    4. Fillna using fillna_dict\n",
    "    \n",
    "    Args:\n",
    "        data (Frame):\n",
    "        drop_cols (list):\n",
    "        repl_dict (dict): Key=column name, \n",
    "                            value= dict of {to_replace:replace_with}\n",
    "        recast_dict(dict): \n",
    "        fillna_dict(dict): key = column name,\n",
    "                            val = value to fill with or function to apply \n",
    "    \"\"\"\n",
    "    import copy\n",
    "    df = copy.deepcopy(data)#.copy()\n",
    "    \n",
    "    ## Drop cols\n",
    "    drop_cols = []\n",
    "    [df.drop(col,axis=1,inplace=True) for col in drop_cols if col in df.columns]\n",
    "\n",
    "\n",
    "    ## Replacing Values\n",
    "    for col,replace_vals in repl_dict.items():\n",
    "            df[col] = df[col].replace(replace_vals)\n",
    "\n",
    "\n",
    "    \n",
    "    ## Fill Null values / zeros\n",
    "    for col,val in fillna_dict.items():\n",
    "        import types\n",
    "        if isinstance(val, types.FunctionType):\n",
    "            fill_val = val(df[col])\n",
    "        else:\n",
    "            fill_val = val\n",
    "        \n",
    "        df[col].fillna(fill_val,inplace=True)\n",
    " \n",
    "    ## Recasting datatypes\n",
    "    for col,dtype in recast_dict.items():\n",
    "        df[col] = df[col].astype(dtype)\n",
    "    df.dtypes\n",
    "    \n",
    "    ## display preview\n",
    "    if verbose>0:\n",
    "        display(df.head())\n",
    "    if verbose>1:\n",
    "        display(df.info())\n",
    "\n",
    "    return df\n",
    "    "
   ]
  },
  {
   "cell_type": "code",
   "execution_count": 15,
   "metadata": {
    "ExecuteTime": {
     "end_time": "2020-03-02T05:57:22.012342Z",
     "start_time": "2020-03-02T05:57:21.977162Z"
    }
   },
   "outputs": [
    {
     "data": {
      "text/html": [
       "<div>\n",
       "<style scoped>\n",
       "    .dataframe tbody tr th:only-of-type {\n",
       "        vertical-align: middle;\n",
       "    }\n",
       "\n",
       "    .dataframe tbody tr th {\n",
       "        vertical-align: top;\n",
       "    }\n",
       "\n",
       "    .dataframe thead th {\n",
       "        text-align: right;\n",
       "    }\n",
       "</style>\n",
       "<table border=\"1\" class=\"dataframe\">\n",
       "  <thead>\n",
       "    <tr style=\"text-align: right;\">\n",
       "      <th></th>\n",
       "      <th>CRIM</th>\n",
       "      <th>ZN</th>\n",
       "      <th>INDUS</th>\n",
       "      <th>CHAS</th>\n",
       "      <th>NOX</th>\n",
       "      <th>RM</th>\n",
       "      <th>AGE</th>\n",
       "      <th>DIS</th>\n",
       "      <th>RAD</th>\n",
       "      <th>TAX</th>\n",
       "      <th>PTRATIO</th>\n",
       "      <th>B</th>\n",
       "      <th>LSTAT</th>\n",
       "      <th>price</th>\n",
       "      <th>example</th>\n",
       "    </tr>\n",
       "  </thead>\n",
       "  <tbody>\n",
       "    <tr>\n",
       "      <td>0</td>\n",
       "      <td>0.00632</td>\n",
       "      <td>18.0</td>\n",
       "      <td>2.31</td>\n",
       "      <td>0</td>\n",
       "      <td>0.538</td>\n",
       "      <td>6.575</td>\n",
       "      <td>65.2</td>\n",
       "      <td>4.0900</td>\n",
       "      <td>1.0</td>\n",
       "      <td>296.0</td>\n",
       "      <td>15.3</td>\n",
       "      <td>396.90</td>\n",
       "      <td>4.98</td>\n",
       "      <td>24.0</td>\n",
       "      <td>0</td>\n",
       "    </tr>\n",
       "    <tr>\n",
       "      <td>1</td>\n",
       "      <td>0.02731</td>\n",
       "      <td>0.0</td>\n",
       "      <td>7.07</td>\n",
       "      <td>0</td>\n",
       "      <td>0.469</td>\n",
       "      <td>6.421</td>\n",
       "      <td>78.9</td>\n",
       "      <td>4.9671</td>\n",
       "      <td>2.0</td>\n",
       "      <td>242.0</td>\n",
       "      <td>17.8</td>\n",
       "      <td>396.90</td>\n",
       "      <td>9.14</td>\n",
       "      <td>21.6</td>\n",
       "      <td>3</td>\n",
       "    </tr>\n",
       "    <tr>\n",
       "      <td>2</td>\n",
       "      <td>0.02729</td>\n",
       "      <td>0.0</td>\n",
       "      <td>7.07</td>\n",
       "      <td>0</td>\n",
       "      <td>0.469</td>\n",
       "      <td>7.185</td>\n",
       "      <td>61.1</td>\n",
       "      <td>4.9671</td>\n",
       "      <td>2.0</td>\n",
       "      <td>242.0</td>\n",
       "      <td>17.8</td>\n",
       "      <td>392.83</td>\n",
       "      <td>4.03</td>\n",
       "      <td>34.7</td>\n",
       "      <td>0</td>\n",
       "    </tr>\n",
       "    <tr>\n",
       "      <td>3</td>\n",
       "      <td>0.03237</td>\n",
       "      <td>0.0</td>\n",
       "      <td>2.18</td>\n",
       "      <td>0</td>\n",
       "      <td>0.458</td>\n",
       "      <td>6.998</td>\n",
       "      <td>45.8</td>\n",
       "      <td>6.0622</td>\n",
       "      <td>3.0</td>\n",
       "      <td>222.0</td>\n",
       "      <td>18.7</td>\n",
       "      <td>394.63</td>\n",
       "      <td>2.94</td>\n",
       "      <td>33.4</td>\n",
       "      <td>1</td>\n",
       "    </tr>\n",
       "    <tr>\n",
       "      <td>4</td>\n",
       "      <td>0.06905</td>\n",
       "      <td>0.0</td>\n",
       "      <td>2.18</td>\n",
       "      <td>0</td>\n",
       "      <td>0.458</td>\n",
       "      <td>7.147</td>\n",
       "      <td>54.2</td>\n",
       "      <td>6.0622</td>\n",
       "      <td>3.0</td>\n",
       "      <td>222.0</td>\n",
       "      <td>18.7</td>\n",
       "      <td>396.90</td>\n",
       "      <td>5.33</td>\n",
       "      <td>36.2</td>\n",
       "      <td>0</td>\n",
       "    </tr>\n",
       "  </tbody>\n",
       "</table>\n",
       "</div>"
      ],
      "text/plain": [
       "      CRIM    ZN  INDUS  CHAS    NOX  ...  PTRATIO       B  LSTAT  price  example\n",
       "0  0.00632  18.0   2.31     0  0.538  ...     15.3  396.90   4.98   24.0        0\n",
       "1  0.02731   0.0   7.07     0  0.469  ...     17.8  396.90   9.14   21.6        3\n",
       "2  0.02729   0.0   7.07     0  0.469  ...     17.8  392.83   4.03   34.7        0\n",
       "3  0.03237   0.0   2.18     0  0.458  ...     18.7  394.63   2.94   33.4        1\n",
       "4  0.06905   0.0   2.18     0  0.458  ...     18.7  396.90   5.33   36.2        0\n",
       "\n",
       "[5 rows x 15 columns]"
      ]
     },
     "metadata": {},
     "output_type": "display_data"
    }
   ],
   "source": [
    "df = load_dataset()\n",
    "df = scrub_df(df,drop_cols=drop_cols,repl_dict=repl_dict, \n",
    "              recast_dict=recast_dict,fillna_dict=fillna_dict)"
   ]
  },
  {
   "cell_type": "code",
   "execution_count": 16,
   "metadata": {
    "ExecuteTime": {
     "end_time": "2020-03-02T05:57:22.081019Z",
     "start_time": "2020-03-02T05:57:22.013575Z"
    }
   },
   "outputs": [
    {
     "data": {
      "text/html": [
       "<div>\n",
       "<style scoped>\n",
       "    .dataframe tbody tr th:only-of-type {\n",
       "        vertical-align: middle;\n",
       "    }\n",
       "\n",
       "    .dataframe tbody tr th {\n",
       "        vertical-align: top;\n",
       "    }\n",
       "\n",
       "    .dataframe thead th {\n",
       "        text-align: right;\n",
       "    }\n",
       "</style>\n",
       "<table border=\"1\" class=\"dataframe\">\n",
       "  <thead>\n",
       "    <tr style=\"text-align: right;\">\n",
       "      <th></th>\n",
       "      <th>CRIM</th>\n",
       "      <th>ZN</th>\n",
       "      <th>INDUS</th>\n",
       "      <th>CHAS</th>\n",
       "      <th>NOX</th>\n",
       "      <th>RM</th>\n",
       "      <th>AGE</th>\n",
       "      <th>DIS</th>\n",
       "      <th>RAD</th>\n",
       "      <th>TAX</th>\n",
       "      <th>PTRATIO</th>\n",
       "      <th>B</th>\n",
       "      <th>LSTAT</th>\n",
       "      <th>price</th>\n",
       "      <th>example</th>\n",
       "    </tr>\n",
       "  </thead>\n",
       "  <tbody>\n",
       "    <tr>\n",
       "      <td>count</td>\n",
       "      <td>506.000</td>\n",
       "      <td>506.000</td>\n",
       "      <td>506.000</td>\n",
       "      <td>506.000</td>\n",
       "      <td>506.000</td>\n",
       "      <td>506.000</td>\n",
       "      <td>506.000</td>\n",
       "      <td>506.000</td>\n",
       "      <td>506.000</td>\n",
       "      <td>506.000</td>\n",
       "      <td>506.000</td>\n",
       "      <td>506.000</td>\n",
       "      <td>506.000</td>\n",
       "      <td>506.000</td>\n",
       "      <td>506.000</td>\n",
       "    </tr>\n",
       "    <tr>\n",
       "      <td>mean</td>\n",
       "      <td>3.614</td>\n",
       "      <td>11.364</td>\n",
       "      <td>11.137</td>\n",
       "      <td>0.069</td>\n",
       "      <td>0.555</td>\n",
       "      <td>6.285</td>\n",
       "      <td>68.575</td>\n",
       "      <td>3.795</td>\n",
       "      <td>9.549</td>\n",
       "      <td>408.237</td>\n",
       "      <td>18.456</td>\n",
       "      <td>356.674</td>\n",
       "      <td>12.653</td>\n",
       "      <td>22.533</td>\n",
       "      <td>1.415</td>\n",
       "    </tr>\n",
       "    <tr>\n",
       "      <td>std</td>\n",
       "      <td>8.602</td>\n",
       "      <td>23.322</td>\n",
       "      <td>6.860</td>\n",
       "      <td>0.254</td>\n",
       "      <td>0.116</td>\n",
       "      <td>0.703</td>\n",
       "      <td>28.149</td>\n",
       "      <td>2.106</td>\n",
       "      <td>8.707</td>\n",
       "      <td>168.537</td>\n",
       "      <td>2.165</td>\n",
       "      <td>91.295</td>\n",
       "      <td>7.141</td>\n",
       "      <td>9.197</td>\n",
       "      <td>1.486</td>\n",
       "    </tr>\n",
       "    <tr>\n",
       "      <td>min</td>\n",
       "      <td>0.006</td>\n",
       "      <td>0.000</td>\n",
       "      <td>0.460</td>\n",
       "      <td>0.000</td>\n",
       "      <td>0.385</td>\n",
       "      <td>3.561</td>\n",
       "      <td>2.900</td>\n",
       "      <td>1.130</td>\n",
       "      <td>1.000</td>\n",
       "      <td>187.000</td>\n",
       "      <td>12.600</td>\n",
       "      <td>0.320</td>\n",
       "      <td>1.730</td>\n",
       "      <td>5.000</td>\n",
       "      <td>0.000</td>\n",
       "    </tr>\n",
       "    <tr>\n",
       "      <td>25%</td>\n",
       "      <td>0.082</td>\n",
       "      <td>0.000</td>\n",
       "      <td>5.190</td>\n",
       "      <td>0.000</td>\n",
       "      <td>0.449</td>\n",
       "      <td>5.886</td>\n",
       "      <td>45.025</td>\n",
       "      <td>2.100</td>\n",
       "      <td>4.000</td>\n",
       "      <td>279.000</td>\n",
       "      <td>17.400</td>\n",
       "      <td>375.378</td>\n",
       "      <td>6.950</td>\n",
       "      <td>17.025</td>\n",
       "      <td>0.000</td>\n",
       "    </tr>\n",
       "    <tr>\n",
       "      <td>50%</td>\n",
       "      <td>0.257</td>\n",
       "      <td>0.000</td>\n",
       "      <td>9.690</td>\n",
       "      <td>0.000</td>\n",
       "      <td>0.538</td>\n",
       "      <td>6.208</td>\n",
       "      <td>77.500</td>\n",
       "      <td>3.207</td>\n",
       "      <td>5.000</td>\n",
       "      <td>330.000</td>\n",
       "      <td>19.050</td>\n",
       "      <td>391.440</td>\n",
       "      <td>11.360</td>\n",
       "      <td>21.200</td>\n",
       "      <td>1.000</td>\n",
       "    </tr>\n",
       "    <tr>\n",
       "      <td>75%</td>\n",
       "      <td>3.677</td>\n",
       "      <td>12.500</td>\n",
       "      <td>18.100</td>\n",
       "      <td>0.000</td>\n",
       "      <td>0.624</td>\n",
       "      <td>6.624</td>\n",
       "      <td>94.075</td>\n",
       "      <td>5.188</td>\n",
       "      <td>24.000</td>\n",
       "      <td>666.000</td>\n",
       "      <td>20.200</td>\n",
       "      <td>396.225</td>\n",
       "      <td>16.955</td>\n",
       "      <td>25.000</td>\n",
       "      <td>3.000</td>\n",
       "    </tr>\n",
       "    <tr>\n",
       "      <td>max</td>\n",
       "      <td>88.976</td>\n",
       "      <td>100.000</td>\n",
       "      <td>27.740</td>\n",
       "      <td>1.000</td>\n",
       "      <td>0.871</td>\n",
       "      <td>8.780</td>\n",
       "      <td>100.000</td>\n",
       "      <td>12.126</td>\n",
       "      <td>24.000</td>\n",
       "      <td>711.000</td>\n",
       "      <td>22.000</td>\n",
       "      <td>396.900</td>\n",
       "      <td>37.970</td>\n",
       "      <td>50.000</td>\n",
       "      <td>4.000</td>\n",
       "    </tr>\n",
       "  </tbody>\n",
       "</table>\n",
       "</div>"
      ],
      "text/plain": [
       "          CRIM       ZN    INDUS     CHAS  ...        B    LSTAT    price  example\n",
       "count  506.000  506.000  506.000  506.000  ...  506.000  506.000  506.000  506.000\n",
       "mean     3.614   11.364   11.137    0.069  ...  356.674   12.653   22.533    1.415\n",
       "std      8.602   23.322    6.860    0.254  ...   91.295    7.141    9.197    1.486\n",
       "min      0.006    0.000    0.460    0.000  ...    0.320    1.730    5.000    0.000\n",
       "25%      0.082    0.000    5.190    0.000  ...  375.378    6.950   17.025    0.000\n",
       "50%      0.257    0.000    9.690    0.000  ...  391.440   11.360   21.200    1.000\n",
       "75%      3.677   12.500   18.100    0.000  ...  396.225   16.955   25.000    3.000\n",
       "max     88.976  100.000   27.740    1.000  ...  396.900   37.970   50.000    4.000\n",
       "\n",
       "[8 rows x 15 columns]"
      ]
     },
     "execution_count": 16,
     "metadata": {},
     "output_type": "execute_result"
    }
   ],
   "source": [
    "df.describe().round(3)"
   ]
  },
  {
   "cell_type": "code",
   "execution_count": 17,
   "metadata": {
    "ExecuteTime": {
     "end_time": "2020-03-02T05:57:22.112820Z",
     "start_time": "2020-03-02T05:57:22.082215Z"
    }
   },
   "outputs": [
    {
     "data": {
      "text/html": [
       "<div>\n",
       "<style scoped>\n",
       "    .dataframe tbody tr th:only-of-type {\n",
       "        vertical-align: middle;\n",
       "    }\n",
       "\n",
       "    .dataframe tbody tr th {\n",
       "        vertical-align: top;\n",
       "    }\n",
       "\n",
       "    .dataframe thead th {\n",
       "        text-align: right;\n",
       "    }\n",
       "</style>\n",
       "<table border=\"1\" class=\"dataframe\">\n",
       "  <thead>\n",
       "    <tr style=\"text-align: right;\">\n",
       "      <th></th>\n",
       "      <th>CRIM</th>\n",
       "      <th>ZN</th>\n",
       "      <th>INDUS</th>\n",
       "      <th>CHAS</th>\n",
       "      <th>NOX</th>\n",
       "      <th>RM</th>\n",
       "      <th>AGE</th>\n",
       "      <th>DIS</th>\n",
       "      <th>RAD</th>\n",
       "      <th>TAX</th>\n",
       "      <th>PTRATIO</th>\n",
       "      <th>B</th>\n",
       "      <th>LSTAT</th>\n",
       "      <th>price</th>\n",
       "      <th>example</th>\n",
       "    </tr>\n",
       "  </thead>\n",
       "  <tbody>\n",
       "    <tr>\n",
       "      <td>0</td>\n",
       "      <td>0.00632</td>\n",
       "      <td>18.0</td>\n",
       "      <td>2.31</td>\n",
       "      <td>0</td>\n",
       "      <td>0.538</td>\n",
       "      <td>6.575</td>\n",
       "      <td>65.2</td>\n",
       "      <td>4.0900</td>\n",
       "      <td>1.0</td>\n",
       "      <td>296.0</td>\n",
       "      <td>15.3</td>\n",
       "      <td>396.90</td>\n",
       "      <td>4.98</td>\n",
       "      <td>24.0</td>\n",
       "      <td>0</td>\n",
       "    </tr>\n",
       "    <tr>\n",
       "      <td>1</td>\n",
       "      <td>0.02731</td>\n",
       "      <td>0.0</td>\n",
       "      <td>7.07</td>\n",
       "      <td>0</td>\n",
       "      <td>0.469</td>\n",
       "      <td>6.421</td>\n",
       "      <td>78.9</td>\n",
       "      <td>4.9671</td>\n",
       "      <td>2.0</td>\n",
       "      <td>242.0</td>\n",
       "      <td>17.8</td>\n",
       "      <td>396.90</td>\n",
       "      <td>9.14</td>\n",
       "      <td>21.6</td>\n",
       "      <td>3</td>\n",
       "    </tr>\n",
       "    <tr>\n",
       "      <td>2</td>\n",
       "      <td>0.02729</td>\n",
       "      <td>0.0</td>\n",
       "      <td>7.07</td>\n",
       "      <td>0</td>\n",
       "      <td>0.469</td>\n",
       "      <td>7.185</td>\n",
       "      <td>61.1</td>\n",
       "      <td>4.9671</td>\n",
       "      <td>2.0</td>\n",
       "      <td>242.0</td>\n",
       "      <td>17.8</td>\n",
       "      <td>392.83</td>\n",
       "      <td>4.03</td>\n",
       "      <td>34.7</td>\n",
       "      <td>0</td>\n",
       "    </tr>\n",
       "    <tr>\n",
       "      <td>3</td>\n",
       "      <td>0.03237</td>\n",
       "      <td>0.0</td>\n",
       "      <td>2.18</td>\n",
       "      <td>0</td>\n",
       "      <td>0.458</td>\n",
       "      <td>6.998</td>\n",
       "      <td>45.8</td>\n",
       "      <td>6.0622</td>\n",
       "      <td>3.0</td>\n",
       "      <td>222.0</td>\n",
       "      <td>18.7</td>\n",
       "      <td>394.63</td>\n",
       "      <td>2.94</td>\n",
       "      <td>33.4</td>\n",
       "      <td>1</td>\n",
       "    </tr>\n",
       "    <tr>\n",
       "      <td>4</td>\n",
       "      <td>0.06905</td>\n",
       "      <td>0.0</td>\n",
       "      <td>2.18</td>\n",
       "      <td>0</td>\n",
       "      <td>0.458</td>\n",
       "      <td>7.147</td>\n",
       "      <td>54.2</td>\n",
       "      <td>6.0622</td>\n",
       "      <td>3.0</td>\n",
       "      <td>222.0</td>\n",
       "      <td>18.7</td>\n",
       "      <td>396.90</td>\n",
       "      <td>5.33</td>\n",
       "      <td>36.2</td>\n",
       "      <td>0</td>\n",
       "    </tr>\n",
       "  </tbody>\n",
       "</table>\n",
       "</div>"
      ],
      "text/plain": [
       "      CRIM    ZN  INDUS  CHAS    NOX  ...  PTRATIO       B  LSTAT  price  example\n",
       "0  0.00632  18.0   2.31     0  0.538  ...     15.3  396.90   4.98   24.0        0\n",
       "1  0.02731   0.0   7.07     0  0.469  ...     17.8  396.90   9.14   21.6        3\n",
       "2  0.02729   0.0   7.07     0  0.469  ...     17.8  392.83   4.03   34.7        0\n",
       "3  0.03237   0.0   2.18     0  0.458  ...     18.7  394.63   2.94   33.4        1\n",
       "4  0.06905   0.0   2.18     0  0.458  ...     18.7  396.90   5.33   36.2        0\n",
       "\n",
       "[5 rows x 15 columns]"
      ]
     },
     "metadata": {},
     "output_type": "display_data"
    },
    {
     "data": {
      "text/plain": [
       "CRIM       float64\n",
       "ZN         float64\n",
       "INDUS      float64\n",
       "CHAS         int64\n",
       "NOX        float64\n",
       "RM         float64\n",
       "AGE        float64\n",
       "DIS        float64\n",
       "RAD        float64\n",
       "TAX        float64\n",
       "PTRATIO    float64\n",
       "B          float64\n",
       "LSTAT      float64\n",
       "price      float64\n",
       "example      int64\n",
       "dtype: object"
      ]
     },
     "metadata": {},
     "output_type": "display_data"
    },
    {
     "data": {
      "text/plain": [
       "CRIM       0\n",
       "ZN         0\n",
       "INDUS      0\n",
       "CHAS       0\n",
       "NOX        0\n",
       "RM         0\n",
       "AGE        0\n",
       "DIS        0\n",
       "RAD        0\n",
       "TAX        0\n",
       "PTRATIO    0\n",
       "B          0\n",
       "LSTAT      0\n",
       "price      0\n",
       "example    0\n",
       "dtype: int64"
      ]
     },
     "metadata": {},
     "output_type": "display_data"
    }
   ],
   "source": [
    "display(df.head(), df.dtypes, df.isna().sum())"
   ]
  },
  {
   "cell_type": "code",
   "execution_count": 18,
   "metadata": {
    "ExecuteTime": {
     "end_time": "2020-03-02T05:57:22.120258Z",
     "start_time": "2020-03-02T05:57:22.113981Z"
    }
   },
   "outputs": [
    {
     "data": {
      "text/plain": [
       "Index(['CHAS', 'example'], dtype='object')"
      ]
     },
     "execution_count": 18,
     "metadata": {},
     "output_type": "execute_result"
    }
   ],
   "source": [
    "df.select_dtypes('int').columns"
   ]
  },
  {
   "cell_type": "code",
   "execution_count": 19,
   "metadata": {
    "ExecuteTime": {
     "end_time": "2020-03-02T05:57:22.134762Z",
     "start_time": "2020-03-02T05:57:22.121744Z"
    }
   },
   "outputs": [
    {
     "data": {
      "text/plain": [
       "(['CHAS', 'example'],\n",
       " ['CRIM',\n",
       "  'ZN',\n",
       "  'INDUS',\n",
       "  'NOX',\n",
       "  'RM',\n",
       "  'AGE',\n",
       "  'DIS',\n",
       "  'RAD',\n",
       "  'TAX',\n",
       "  'PTRATIO',\n",
       "  'B',\n",
       "  'LSTAT',\n",
       "  'price'])"
      ]
     },
     "execution_count": 19,
     "metadata": {},
     "output_type": "execute_result"
    }
   ],
   "source": [
    "## Get lists of categorical vs numeric columns\n",
    "\n",
    "\n",
    "## Scale non-categorical columns\n",
    "cat_cols = list(df.select_dtypes('int').columns)\n",
    "\n",
    "num_cols = list(df.select_dtypes(include=['number'],\n",
    "                           exclude=['int']).columns)\n",
    "\n",
    "cat_cols,num_cols"
   ]
  },
  {
   "cell_type": "code",
   "execution_count": null,
   "metadata": {},
   "outputs": [],
   "source": []
  },
  {
   "cell_type": "code",
   "execution_count": 20,
   "metadata": {
    "ExecuteTime": {
     "end_time": "2020-03-02T05:57:22.168312Z",
     "start_time": "2020-03-02T05:57:22.135913Z"
    }
   },
   "outputs": [
    {
     "data": {
      "text/html": [
       "<div>\n",
       "<style scoped>\n",
       "    .dataframe tbody tr th:only-of-type {\n",
       "        vertical-align: middle;\n",
       "    }\n",
       "\n",
       "    .dataframe tbody tr th {\n",
       "        vertical-align: top;\n",
       "    }\n",
       "\n",
       "    .dataframe thead th {\n",
       "        text-align: right;\n",
       "    }\n",
       "</style>\n",
       "<table border=\"1\" class=\"dataframe\">\n",
       "  <thead>\n",
       "    <tr style=\"text-align: right;\">\n",
       "      <th></th>\n",
       "      <th>CRIM</th>\n",
       "      <th>ZN</th>\n",
       "      <th>INDUS</th>\n",
       "      <th>CHAS</th>\n",
       "      <th>NOX</th>\n",
       "      <th>RM</th>\n",
       "      <th>AGE</th>\n",
       "      <th>DIS</th>\n",
       "      <th>RAD</th>\n",
       "      <th>TAX</th>\n",
       "      <th>PTRATIO</th>\n",
       "      <th>B</th>\n",
       "      <th>LSTAT</th>\n",
       "      <th>price</th>\n",
       "      <th>example</th>\n",
       "    </tr>\n",
       "  </thead>\n",
       "  <tbody>\n",
       "    <tr>\n",
       "      <td>0</td>\n",
       "      <td>-0.419782</td>\n",
       "      <td>0.284830</td>\n",
       "      <td>-1.287909</td>\n",
       "      <td>0</td>\n",
       "      <td>-0.144217</td>\n",
       "      <td>0.413672</td>\n",
       "      <td>-0.120013</td>\n",
       "      <td>0.140214</td>\n",
       "      <td>-0.982843</td>\n",
       "      <td>-0.666608</td>\n",
       "      <td>-1.459000</td>\n",
       "      <td>0.441052</td>\n",
       "      <td>-1.075562</td>\n",
       "      <td>0.159686</td>\n",
       "      <td>0</td>\n",
       "    </tr>\n",
       "    <tr>\n",
       "      <td>1</td>\n",
       "      <td>-0.417339</td>\n",
       "      <td>-0.487722</td>\n",
       "      <td>-0.593381</td>\n",
       "      <td>0</td>\n",
       "      <td>-0.740262</td>\n",
       "      <td>0.194274</td>\n",
       "      <td>0.367166</td>\n",
       "      <td>0.557160</td>\n",
       "      <td>-0.867883</td>\n",
       "      <td>-0.987329</td>\n",
       "      <td>-0.303094</td>\n",
       "      <td>0.441052</td>\n",
       "      <td>-0.492439</td>\n",
       "      <td>-0.101524</td>\n",
       "      <td>3</td>\n",
       "    </tr>\n",
       "    <tr>\n",
       "      <td>2</td>\n",
       "      <td>-0.417342</td>\n",
       "      <td>-0.487722</td>\n",
       "      <td>-0.593381</td>\n",
       "      <td>0</td>\n",
       "      <td>-0.740262</td>\n",
       "      <td>1.282714</td>\n",
       "      <td>-0.265812</td>\n",
       "      <td>0.557160</td>\n",
       "      <td>-0.867883</td>\n",
       "      <td>-0.987329</td>\n",
       "      <td>-0.303094</td>\n",
       "      <td>0.396427</td>\n",
       "      <td>-1.208727</td>\n",
       "      <td>1.324247</td>\n",
       "      <td>0</td>\n",
       "    </tr>\n",
       "    <tr>\n",
       "      <td>3</td>\n",
       "      <td>-0.416750</td>\n",
       "      <td>-0.487722</td>\n",
       "      <td>-1.306878</td>\n",
       "      <td>0</td>\n",
       "      <td>-0.835284</td>\n",
       "      <td>1.016303</td>\n",
       "      <td>-0.809889</td>\n",
       "      <td>1.077737</td>\n",
       "      <td>-0.752922</td>\n",
       "      <td>-1.106115</td>\n",
       "      <td>0.113032</td>\n",
       "      <td>0.416163</td>\n",
       "      <td>-1.361517</td>\n",
       "      <td>1.182758</td>\n",
       "      <td>1</td>\n",
       "    </tr>\n",
       "    <tr>\n",
       "      <td>4</td>\n",
       "      <td>-0.412482</td>\n",
       "      <td>-0.487722</td>\n",
       "      <td>-1.306878</td>\n",
       "      <td>0</td>\n",
       "      <td>-0.835284</td>\n",
       "      <td>1.228577</td>\n",
       "      <td>-0.511180</td>\n",
       "      <td>1.077737</td>\n",
       "      <td>-0.752922</td>\n",
       "      <td>-1.106115</td>\n",
       "      <td>0.113032</td>\n",
       "      <td>0.441052</td>\n",
       "      <td>-1.026501</td>\n",
       "      <td>1.487503</td>\n",
       "      <td>0</td>\n",
       "    </tr>\n",
       "  </tbody>\n",
       "</table>\n",
       "</div>"
      ],
      "text/plain": [
       "       CRIM        ZN     INDUS  CHAS  ...         B     LSTAT     price  example\n",
       "0 -0.419782  0.284830 -1.287909     0  ...  0.441052 -1.075562  0.159686        0\n",
       "1 -0.417339 -0.487722 -0.593381     0  ...  0.441052 -0.492439 -0.101524        3\n",
       "2 -0.417342 -0.487722 -0.593381     0  ...  0.396427 -1.208727  1.324247        0\n",
       "3 -0.416750 -0.487722 -1.306878     0  ...  0.416163 -1.361517  1.182758        1\n",
       "4 -0.412482 -0.487722 -1.306878     0  ...  0.441052 -1.026501  1.487503        0\n",
       "\n",
       "[5 rows x 15 columns]"
      ]
     },
     "execution_count": 20,
     "metadata": {},
     "output_type": "execute_result"
    }
   ],
   "source": [
    "from sklearn.preprocessing import scale,StandardScaler\n",
    "\n",
    "scaler = StandardScaler()\n",
    "df[num_cols] = scaler.fit_transform(df[num_cols])\n",
    "df.head()"
   ]
  },
  {
   "cell_type": "code",
   "execution_count": null,
   "metadata": {
    "ExecuteTime": {
     "end_time": "2020-03-02T03:21:38.199278Z",
     "start_time": "2020-03-02T03:21:38.185436Z"
    }
   },
   "outputs": [],
   "source": []
  },
  {
   "cell_type": "code",
   "execution_count": 21,
   "metadata": {
    "ExecuteTime": {
     "end_time": "2020-03-02T05:57:22.173238Z",
     "start_time": "2020-03-02T05:57:22.169474Z"
    }
   },
   "outputs": [
    {
     "data": {
      "text/plain": [
       "['CRIM',\n",
       " 'ZN',\n",
       " 'INDUS',\n",
       " 'NOX',\n",
       " 'RM',\n",
       " 'AGE',\n",
       " 'DIS',\n",
       " 'RAD',\n",
       " 'TAX',\n",
       " 'PTRATIO',\n",
       " 'B',\n",
       " 'LSTAT']"
      ]
     },
     "execution_count": 21,
     "metadata": {},
     "output_type": "execute_result"
    }
   ],
   "source": [
    "# deal with outliers in numeric non-target columns\n",
    "ignore_cols = ['price',*cat_cols]\n",
    "[num_cols.remove(col) for col in ignore_cols if col in num_cols]\n",
    "num_cols"
   ]
  },
  {
   "cell_type": "code",
   "execution_count": 22,
   "metadata": {
    "ExecuteTime": {
     "end_time": "2020-03-02T05:57:22.189047Z",
     "start_time": "2020-03-02T05:57:22.174561Z"
    }
   },
   "outputs": [
    {
     "name": "stdout",
     "output_type": "stream",
     "text": [
      "There are 58 rows with outliers out of 506 rows.\n",
      "CRIM        8\n",
      "ZN         14\n",
      "INDUS       0\n",
      "NOX         0\n",
      "RM          8\n",
      "AGE         0\n",
      "DIS         5\n",
      "RAD         0\n",
      "TAX         0\n",
      "PTRATIO     0\n",
      "B          25\n",
      "LSTAT       5\n",
      "dtype: int64\n"
     ]
    }
   ],
   "source": [
    "df_outs = pd.DataFrame()\n",
    "\n",
    "for col in num_cols:\n",
    "    \n",
    "    idx_outs = fs.find_outliers_Z(df[col])\n",
    "    df_outs[col] = idx_outs\n",
    "\n",
    "out_rows = df_outs.any(axis=1)\n",
    "\n",
    "print(f\"There are {out_rows.sum()} rows with outliers out of {len(df_outs)} rows.\")\n",
    "\n",
    "print(df_outs.sum())"
   ]
  },
  {
   "cell_type": "code",
   "execution_count": 23,
   "metadata": {
    "ExecuteTime": {
     "end_time": "2020-03-02T05:57:22.220541Z",
     "start_time": "2020-03-02T05:57:22.193673Z"
    }
   },
   "outputs": [
    {
     "data": {
      "text/html": [
       "<div>\n",
       "<style scoped>\n",
       "    .dataframe tbody tr th:only-of-type {\n",
       "        vertical-align: middle;\n",
       "    }\n",
       "\n",
       "    .dataframe tbody tr th {\n",
       "        vertical-align: top;\n",
       "    }\n",
       "\n",
       "    .dataframe thead th {\n",
       "        text-align: right;\n",
       "    }\n",
       "</style>\n",
       "<table border=\"1\" class=\"dataframe\">\n",
       "  <thead>\n",
       "    <tr style=\"text-align: right;\">\n",
       "      <th></th>\n",
       "      <th>CRIM</th>\n",
       "      <th>ZN</th>\n",
       "      <th>INDUS</th>\n",
       "      <th>CHAS</th>\n",
       "      <th>NOX</th>\n",
       "      <th>RM</th>\n",
       "      <th>AGE</th>\n",
       "      <th>DIS</th>\n",
       "      <th>RAD</th>\n",
       "      <th>TAX</th>\n",
       "      <th>PTRATIO</th>\n",
       "      <th>B</th>\n",
       "      <th>LSTAT</th>\n",
       "      <th>price</th>\n",
       "      <th>example</th>\n",
       "    </tr>\n",
       "  </thead>\n",
       "  <tbody>\n",
       "    <tr>\n",
       "      <td>0</td>\n",
       "      <td>-0.419782</td>\n",
       "      <td>0.284830</td>\n",
       "      <td>-1.287909</td>\n",
       "      <td>0</td>\n",
       "      <td>-0.144217</td>\n",
       "      <td>0.413672</td>\n",
       "      <td>-0.120013</td>\n",
       "      <td>0.140214</td>\n",
       "      <td>-0.982843</td>\n",
       "      <td>-0.666608</td>\n",
       "      <td>-1.459000</td>\n",
       "      <td>0.441052</td>\n",
       "      <td>-1.075562</td>\n",
       "      <td>0.159686</td>\n",
       "      <td>0</td>\n",
       "    </tr>\n",
       "    <tr>\n",
       "      <td>1</td>\n",
       "      <td>-0.417339</td>\n",
       "      <td>-0.487722</td>\n",
       "      <td>-0.593381</td>\n",
       "      <td>0</td>\n",
       "      <td>-0.740262</td>\n",
       "      <td>0.194274</td>\n",
       "      <td>0.367166</td>\n",
       "      <td>0.557160</td>\n",
       "      <td>-0.867883</td>\n",
       "      <td>-0.987329</td>\n",
       "      <td>-0.303094</td>\n",
       "      <td>0.441052</td>\n",
       "      <td>-0.492439</td>\n",
       "      <td>-0.101524</td>\n",
       "      <td>3</td>\n",
       "    </tr>\n",
       "    <tr>\n",
       "      <td>2</td>\n",
       "      <td>-0.417342</td>\n",
       "      <td>-0.487722</td>\n",
       "      <td>-0.593381</td>\n",
       "      <td>0</td>\n",
       "      <td>-0.740262</td>\n",
       "      <td>1.282714</td>\n",
       "      <td>-0.265812</td>\n",
       "      <td>0.557160</td>\n",
       "      <td>-0.867883</td>\n",
       "      <td>-0.987329</td>\n",
       "      <td>-0.303094</td>\n",
       "      <td>0.396427</td>\n",
       "      <td>-1.208727</td>\n",
       "      <td>1.324247</td>\n",
       "      <td>0</td>\n",
       "    </tr>\n",
       "    <tr>\n",
       "      <td>3</td>\n",
       "      <td>-0.416750</td>\n",
       "      <td>-0.487722</td>\n",
       "      <td>-1.306878</td>\n",
       "      <td>0</td>\n",
       "      <td>-0.835284</td>\n",
       "      <td>1.016303</td>\n",
       "      <td>-0.809889</td>\n",
       "      <td>1.077737</td>\n",
       "      <td>-0.752922</td>\n",
       "      <td>-1.106115</td>\n",
       "      <td>0.113032</td>\n",
       "      <td>0.416163</td>\n",
       "      <td>-1.361517</td>\n",
       "      <td>1.182758</td>\n",
       "      <td>1</td>\n",
       "    </tr>\n",
       "    <tr>\n",
       "      <td>4</td>\n",
       "      <td>-0.412482</td>\n",
       "      <td>-0.487722</td>\n",
       "      <td>-1.306878</td>\n",
       "      <td>0</td>\n",
       "      <td>-0.835284</td>\n",
       "      <td>1.228577</td>\n",
       "      <td>-0.511180</td>\n",
       "      <td>1.077737</td>\n",
       "      <td>-0.752922</td>\n",
       "      <td>-1.106115</td>\n",
       "      <td>0.113032</td>\n",
       "      <td>0.441052</td>\n",
       "      <td>-1.026501</td>\n",
       "      <td>1.487503</td>\n",
       "      <td>0</td>\n",
       "    </tr>\n",
       "  </tbody>\n",
       "</table>\n",
       "</div>"
      ],
      "text/plain": [
       "       CRIM        ZN     INDUS  CHAS  ...         B     LSTAT     price  example\n",
       "0 -0.419782  0.284830 -1.287909     0  ...  0.441052 -1.075562  0.159686        0\n",
       "1 -0.417339 -0.487722 -0.593381     0  ...  0.441052 -0.492439 -0.101524        3\n",
       "2 -0.417342 -0.487722 -0.593381     0  ...  0.396427 -1.208727  1.324247        0\n",
       "3 -0.416750 -0.487722 -1.306878     0  ...  0.416163 -1.361517  1.182758        1\n",
       "4 -0.412482 -0.487722 -1.306878     0  ...  0.441052 -1.026501  1.487503        0\n",
       "\n",
       "[5 rows x 15 columns]"
      ]
     },
     "execution_count": 23,
     "metadata": {},
     "output_type": "execute_result"
    }
   ],
   "source": [
    "df = df[~out_rows].reset_index(drop=True)\n",
    "df.head()"
   ]
  },
  {
   "cell_type": "code",
   "execution_count": 24,
   "metadata": {
    "ExecuteTime": {
     "end_time": "2020-03-02T05:57:22.394462Z",
     "start_time": "2020-03-02T05:57:22.222595Z"
    }
   },
   "outputs": [],
   "source": [
    "import scipy.stats as stats\n",
    "import statsmodels.api as sms\n",
    "import statsmodels.formula.api as smf\n",
    "\n",
    "\n",
    "def make_ols_f(df,target='price',col_list=None,exclude_cols=[],\n",
    "               cat_cols = [],  show_summary=True,\n",
    "               diagnose=True,\n",
    "               return_formula=False):\n",
    "    \"\"\"\n",
    "    Makes statsmodels formula-based regression with options to make categorical columns.    \n",
    "    Args:\n",
    "        df (Frame): df with data\n",
    "        target (str): target column name\n",
    "        col_list (list, optional): List of predictor columns. Defaults to all except target.\n",
    "        exclude_cols (list, optional): Columns to remove from col_list. Defaults to [].\n",
    "        cat_cols (list, optional): Columns to process as categorical using f'C({col})\". Defaults to [].\n",
    "        show_summary (bool, optional): Display model.summary(). Defaults to True.\n",
    "        diagnose (bool, optional): Plot Q-Q plot & residuals. Defaults to True.\n",
    "        return_formula (bool, optional): Return formula with model. Defaults to False.\n",
    "    \n",
    "    Returns:\n",
    "        model : statsmodels ols model\n",
    "        formula : str formula from model, only if return_formula == True\n",
    "        \n",
    "    \n",
    "    \"\"\"\n",
    "    if col_list is None:\n",
    "        col_list = list(df.drop(target,axis=1).columns)\n",
    "        \n",
    "    ## remove exclude cols\n",
    "    [col_list.remove(ecol) for ecol in exclude_cols if ecol in col_list]\n",
    "\n",
    "    ## Make rightn side of formula eqn\n",
    "    features = '+'.join(col_list)\n",
    "\n",
    "    # ADD C() around categorical cols\n",
    "    for col in cat_cols:\n",
    "        features = features.replace(col,f\"C({col})\")\n",
    "\n",
    "    ## MAKE FULL FORMULA\n",
    "    formula = target+'~'+features #target~predictors\n",
    "    #print(formula)\n",
    "    \n",
    "    ## Fit model\n",
    "    model = smf.ols(formula=formula, data=df).fit()\n",
    "    \n",
    "    ## Display summary\n",
    "    if show_summary:\n",
    "        display(model.summary())\n",
    "        \n",
    "    ## Plot Q-Qplot & model residuals\n",
    "    if diagnose:\n",
    "        fig,ax = diagnose_model(model)\n",
    "        plt.show()\n",
    "\n",
    "    # Returns formula or just mmodel\n",
    "    if return_formula:\n",
    "        return model,formula\n",
    "    else:\n",
    "        return model\n",
    "\n",
    "    \n",
    "def diagnose_model(model):\n",
    "    \"\"\"\n",
    "    Plot Q-Q plot and model residuals from statsmodels ols model.\n",
    "    \n",
    "    Args:\n",
    "        model (smf.ols model): statsmodels formula ols \n",
    "    \n",
    "    Returns:\n",
    "        fig, ax: matplotlib objects\n",
    "    \"\"\"\n",
    "    \n",
    "    resids = model.resid\n",
    "    \n",
    "    fig,ax = plt.subplots(ncols=2,figsize=(10,5))\n",
    "    sms.qqplot(resids, stats.distributions.norm,\n",
    "              fit=True, line='45',ax=ax[0])\n",
    "    xs = np.linspace(0,1,len(resids))\n",
    "    ax[1].scatter(x=xs,y=resids)\n",
    "    \n",
    "    return fig,ax "
   ]
  },
  {
   "cell_type": "code",
   "execution_count": 25,
   "metadata": {
    "ExecuteTime": {
     "end_time": "2020-03-02T05:57:22.398216Z",
     "start_time": "2020-03-02T05:57:22.395557Z"
    }
   },
   "outputs": [
    {
     "data": {
      "text/plain": [
       "['CHAS', 'example']"
      ]
     },
     "execution_count": 25,
     "metadata": {},
     "output_type": "execute_result"
    }
   ],
   "source": [
    "cat_cols"
   ]
  },
  {
   "cell_type": "code",
   "execution_count": 26,
   "metadata": {
    "ExecuteTime": {
     "end_time": "2020-03-02T05:57:22.698765Z",
     "start_time": "2020-03-02T05:57:22.399422Z"
    }
   },
   "outputs": [
    {
     "data": {
      "text/html": [
       "<table class=\"simpletable\">\n",
       "<caption>OLS Regression Results</caption>\n",
       "<tr>\n",
       "  <th>Dep. Variable:</th>          <td>price</td>      <th>  R-squared:         </th> <td>   0.734</td> \n",
       "</tr>\n",
       "<tr>\n",
       "  <th>Model:</th>                   <td>OLS</td>       <th>  Adj. R-squared:    </th> <td>   0.723</td> \n",
       "</tr>\n",
       "<tr>\n",
       "  <th>Method:</th>             <td>Least Squares</td>  <th>  F-statistic:       </th> <td>   69.70</td> \n",
       "</tr>\n",
       "<tr>\n",
       "  <th>Date:</th>             <td>Mon, 02 Mar 2020</td> <th>  Prob (F-statistic):</th> <td>7.11e-112</td>\n",
       "</tr>\n",
       "<tr>\n",
       "  <th>Time:</th>                 <td>00:57:22</td>     <th>  Log-Likelihood:    </th> <td> -303.34</td> \n",
       "</tr>\n",
       "<tr>\n",
       "  <th>No. Observations:</th>      <td>   448</td>      <th>  AIC:               </th> <td>   642.7</td> \n",
       "</tr>\n",
       "<tr>\n",
       "  <th>Df Residuals:</th>          <td>   430</td>      <th>  BIC:               </th> <td>   716.6</td> \n",
       "</tr>\n",
       "<tr>\n",
       "  <th>Df Model:</th>              <td>    17</td>      <th>                     </th>     <td> </td>    \n",
       "</tr>\n",
       "<tr>\n",
       "  <th>Covariance Type:</th>      <td>nonrobust</td>    <th>                     </th>     <td> </td>    \n",
       "</tr>\n",
       "</table>\n",
       "<table class=\"simpletable\">\n",
       "<tr>\n",
       "         <td></td>            <th>coef</th>     <th>std err</th>      <th>t</th>      <th>P>|t|</th>  <th>[0.025</th>    <th>0.975]</th>  \n",
       "</tr>\n",
       "<tr>\n",
       "  <th>Intercept</th>       <td>   -0.0264</td> <td>    0.037</td> <td>   -0.706</td> <td> 0.481</td> <td>   -0.100</td> <td>    0.047</td>\n",
       "</tr>\n",
       "<tr>\n",
       "  <th>C(CHAS)[T.1]</th>    <td>    0.3578</td> <td>    0.092</td> <td>    3.907</td> <td> 0.000</td> <td>    0.178</td> <td>    0.538</td>\n",
       "</tr>\n",
       "<tr>\n",
       "  <th>C(example)[T.1]</th> <td>   -0.0208</td> <td>    0.067</td> <td>   -0.312</td> <td> 0.755</td> <td>   -0.152</td> <td>    0.110</td>\n",
       "</tr>\n",
       "<tr>\n",
       "  <th>C(example)[T.2]</th> <td>   -0.0332</td> <td>    0.078</td> <td>   -0.427</td> <td> 0.670</td> <td>   -0.186</td> <td>    0.120</td>\n",
       "</tr>\n",
       "<tr>\n",
       "  <th>C(example)[T.3]</th> <td>   -0.0585</td> <td>    0.068</td> <td>   -0.867</td> <td> 0.387</td> <td>   -0.191</td> <td>    0.074</td>\n",
       "</tr>\n",
       "<tr>\n",
       "  <th>C(example)[T.4]</th> <td>   -0.1023</td> <td>    0.075</td> <td>   -1.359</td> <td> 0.175</td> <td>   -0.250</td> <td>    0.046</td>\n",
       "</tr>\n",
       "<tr>\n",
       "  <th>CRIM</th>            <td>   -0.1255</td> <td>    0.075</td> <td>   -1.681</td> <td> 0.093</td> <td>   -0.272</td> <td>    0.021</td>\n",
       "</tr>\n",
       "<tr>\n",
       "  <th>ZN</th>              <td>    0.0179</td> <td>    0.039</td> <td>    0.457</td> <td> 0.648</td> <td>   -0.059</td> <td>    0.095</td>\n",
       "</tr>\n",
       "<tr>\n",
       "  <th>INDUS</th>           <td>    0.0291</td> <td>    0.044</td> <td>    0.658</td> <td> 0.511</td> <td>   -0.058</td> <td>    0.116</td>\n",
       "</tr>\n",
       "<tr>\n",
       "  <th>NOX</th>             <td>   -0.1914</td> <td>    0.049</td> <td>   -3.924</td> <td> 0.000</td> <td>   -0.287</td> <td>   -0.096</td>\n",
       "</tr>\n",
       "<tr>\n",
       "  <th>RM</th>              <td>    0.3787</td> <td>    0.037</td> <td>   10.186</td> <td> 0.000</td> <td>    0.306</td> <td>    0.452</td>\n",
       "</tr>\n",
       "<tr>\n",
       "  <th>AGE</th>             <td>   -0.0324</td> <td>    0.040</td> <td>   -0.809</td> <td> 0.419</td> <td>   -0.111</td> <td>    0.046</td>\n",
       "</tr>\n",
       "<tr>\n",
       "  <th>DIS</th>             <td>   -0.2927</td> <td>    0.048</td> <td>   -6.119</td> <td> 0.000</td> <td>   -0.387</td> <td>   -0.199</td>\n",
       "</tr>\n",
       "<tr>\n",
       "  <th>RAD</th>             <td>    0.2482</td> <td>    0.068</td> <td>    3.633</td> <td> 0.000</td> <td>    0.114</td> <td>    0.382</td>\n",
       "</tr>\n",
       "<tr>\n",
       "  <th>TAX</th>             <td>   -0.1846</td> <td>    0.068</td> <td>   -2.726</td> <td> 0.007</td> <td>   -0.318</td> <td>   -0.051</td>\n",
       "</tr>\n",
       "<tr>\n",
       "  <th>PTRATIO</th>         <td>   -0.2067</td> <td>    0.031</td> <td>   -6.744</td> <td> 0.000</td> <td>   -0.267</td> <td>   -0.146</td>\n",
       "</tr>\n",
       "<tr>\n",
       "  <th>B</th>               <td>    0.0741</td> <td>    0.045</td> <td>    1.651</td> <td> 0.100</td> <td>   -0.014</td> <td>    0.162</td>\n",
       "</tr>\n",
       "<tr>\n",
       "  <th>LSTAT</th>           <td>   -0.3962</td> <td>    0.045</td> <td>   -8.871</td> <td> 0.000</td> <td>   -0.484</td> <td>   -0.308</td>\n",
       "</tr>\n",
       "</table>\n",
       "<table class=\"simpletable\">\n",
       "<tr>\n",
       "  <th>Omnibus:</th>       <td>209.733</td> <th>  Durbin-Watson:     </th> <td>   1.082</td>\n",
       "</tr>\n",
       "<tr>\n",
       "  <th>Prob(Omnibus):</th> <td> 0.000</td>  <th>  Jarque-Bera (JB):  </th> <td>1494.727</td>\n",
       "</tr>\n",
       "<tr>\n",
       "  <th>Skew:</th>          <td> 1.884</td>  <th>  Prob(JB):          </th> <td>    0.00</td>\n",
       "</tr>\n",
       "<tr>\n",
       "  <th>Kurtosis:</th>      <td>11.117</td>  <th>  Cond. No.          </th> <td>    10.1</td>\n",
       "</tr>\n",
       "</table><br/><br/>Warnings:<br/>[1] Standard Errors assume that the covariance matrix of the errors is correctly specified."
      ],
      "text/plain": [
       "<class 'statsmodels.iolib.summary.Summary'>\n",
       "\"\"\"\n",
       "                            OLS Regression Results                            \n",
       "==============================================================================\n",
       "Dep. Variable:                  price   R-squared:                       0.734\n",
       "Model:                            OLS   Adj. R-squared:                  0.723\n",
       "Method:                 Least Squares   F-statistic:                     69.70\n",
       "Date:                Mon, 02 Mar 2020   Prob (F-statistic):          7.11e-112\n",
       "Time:                        00:57:22   Log-Likelihood:                -303.34\n",
       "No. Observations:                 448   AIC:                             642.7\n",
       "Df Residuals:                     430   BIC:                             716.6\n",
       "Df Model:                          17                                         \n",
       "Covariance Type:            nonrobust                                         \n",
       "===================================================================================\n",
       "                      coef    std err          t      P>|t|      [0.025      0.975]\n",
       "-----------------------------------------------------------------------------------\n",
       "Intercept          -0.0264      0.037     -0.706      0.481      -0.100       0.047\n",
       "C(CHAS)[T.1]        0.3578      0.092      3.907      0.000       0.178       0.538\n",
       "C(example)[T.1]    -0.0208      0.067     -0.312      0.755      -0.152       0.110\n",
       "C(example)[T.2]    -0.0332      0.078     -0.427      0.670      -0.186       0.120\n",
       "C(example)[T.3]    -0.0585      0.068     -0.867      0.387      -0.191       0.074\n",
       "C(example)[T.4]    -0.1023      0.075     -1.359      0.175      -0.250       0.046\n",
       "CRIM               -0.1255      0.075     -1.681      0.093      -0.272       0.021\n",
       "ZN                  0.0179      0.039      0.457      0.648      -0.059       0.095\n",
       "INDUS               0.0291      0.044      0.658      0.511      -0.058       0.116\n",
       "NOX                -0.1914      0.049     -3.924      0.000      -0.287      -0.096\n",
       "RM                  0.3787      0.037     10.186      0.000       0.306       0.452\n",
       "AGE                -0.0324      0.040     -0.809      0.419      -0.111       0.046\n",
       "DIS                -0.2927      0.048     -6.119      0.000      -0.387      -0.199\n",
       "RAD                 0.2482      0.068      3.633      0.000       0.114       0.382\n",
       "TAX                -0.1846      0.068     -2.726      0.007      -0.318      -0.051\n",
       "PTRATIO            -0.2067      0.031     -6.744      0.000      -0.267      -0.146\n",
       "B                   0.0741      0.045      1.651      0.100      -0.014       0.162\n",
       "LSTAT              -0.3962      0.045     -8.871      0.000      -0.484      -0.308\n",
       "==============================================================================\n",
       "Omnibus:                      209.733   Durbin-Watson:                   1.082\n",
       "Prob(Omnibus):                  0.000   Jarque-Bera (JB):             1494.727\n",
       "Skew:                           1.884   Prob(JB):                         0.00\n",
       "Kurtosis:                      11.117   Cond. No.                         10.1\n",
       "==============================================================================\n",
       "\n",
       "Warnings:\n",
       "[1] Standard Errors assume that the covariance matrix of the errors is correctly specified.\n",
       "\"\"\""
      ]
     },
     "metadata": {},
     "output_type": "display_data"
    },
    {
     "data": {
      "image/png": "[encoded data removed]",
      "text/plain": [
       "<Figure size 720x360 with 2 Axes>"
      ]
     },
     "metadata": {
      "needs_background": "light"
     },
     "output_type": "display_data"
    }
   ],
   "source": [
    "model = make_ols_f(df,target='price',cat_cols=cat_cols)"
   ]
  },
  {
   "cell_type": "code",
   "execution_count": 27,
   "metadata": {
    "ExecuteTime": {
     "end_time": "2020-03-02T05:57:22.720179Z",
     "start_time": "2020-03-02T05:57:22.700639Z"
    }
   },
   "outputs": [
    {
     "data": {
      "text/html": [
       "<div>\n",
       "<style scoped>\n",
       "    .dataframe tbody tr th:only-of-type {\n",
       "        vertical-align: middle;\n",
       "    }\n",
       "\n",
       "    .dataframe tbody tr th {\n",
       "        vertical-align: top;\n",
       "    }\n",
       "\n",
       "    .dataframe thead th {\n",
       "        text-align: right;\n",
       "    }\n",
       "</style>\n",
       "<table border=\"1\" class=\"dataframe\">\n",
       "  <thead>\n",
       "    <tr style=\"text-align: right;\">\n",
       "      <th></th>\n",
       "      <th>p-value</th>\n",
       "      <th>coeff</th>\n",
       "      <th>sig</th>\n",
       "    </tr>\n",
       "  </thead>\n",
       "  <tbody>\n",
       "    <tr>\n",
       "      <td>Intercept</td>\n",
       "      <td>0.4806</td>\n",
       "      <td>-0.0264</td>\n",
       "      <td>False</td>\n",
       "    </tr>\n",
       "    <tr>\n",
       "      <td>C(CHAS)[T.1]</td>\n",
       "      <td>0.0001</td>\n",
       "      <td>0.3578</td>\n",
       "      <td>True</td>\n",
       "    </tr>\n",
       "    <tr>\n",
       "      <td>C(example)[T.1]</td>\n",
       "      <td>0.7553</td>\n",
       "      <td>-0.0208</td>\n",
       "      <td>False</td>\n",
       "    </tr>\n",
       "    <tr>\n",
       "      <td>C(example)[T.2]</td>\n",
       "      <td>0.6696</td>\n",
       "      <td>-0.0332</td>\n",
       "      <td>False</td>\n",
       "    </tr>\n",
       "    <tr>\n",
       "      <td>C(example)[T.3]</td>\n",
       "      <td>0.3867</td>\n",
       "      <td>-0.0585</td>\n",
       "      <td>False</td>\n",
       "    </tr>\n",
       "    <tr>\n",
       "      <td>C(example)[T.4]</td>\n",
       "      <td>0.1748</td>\n",
       "      <td>-0.1023</td>\n",
       "      <td>False</td>\n",
       "    </tr>\n",
       "    <tr>\n",
       "      <td>CRIM</td>\n",
       "      <td>0.0935</td>\n",
       "      <td>-0.1255</td>\n",
       "      <td>False</td>\n",
       "    </tr>\n",
       "    <tr>\n",
       "      <td>ZN</td>\n",
       "      <td>0.6482</td>\n",
       "      <td>0.0179</td>\n",
       "      <td>False</td>\n",
       "    </tr>\n",
       "    <tr>\n",
       "      <td>INDUS</td>\n",
       "      <td>0.5108</td>\n",
       "      <td>0.0291</td>\n",
       "      <td>False</td>\n",
       "    </tr>\n",
       "    <tr>\n",
       "      <td>NOX</td>\n",
       "      <td>0.0001</td>\n",
       "      <td>-0.1914</td>\n",
       "      <td>True</td>\n",
       "    </tr>\n",
       "    <tr>\n",
       "      <td>RM</td>\n",
       "      <td>0.0000</td>\n",
       "      <td>0.3787</td>\n",
       "      <td>True</td>\n",
       "    </tr>\n",
       "    <tr>\n",
       "      <td>AGE</td>\n",
       "      <td>0.4189</td>\n",
       "      <td>-0.0324</td>\n",
       "      <td>False</td>\n",
       "    </tr>\n",
       "    <tr>\n",
       "      <td>DIS</td>\n",
       "      <td>0.0000</td>\n",
       "      <td>-0.2927</td>\n",
       "      <td>True</td>\n",
       "    </tr>\n",
       "    <tr>\n",
       "      <td>RAD</td>\n",
       "      <td>0.0003</td>\n",
       "      <td>0.2482</td>\n",
       "      <td>True</td>\n",
       "    </tr>\n",
       "    <tr>\n",
       "      <td>TAX</td>\n",
       "      <td>0.0067</td>\n",
       "      <td>-0.1846</td>\n",
       "      <td>True</td>\n",
       "    </tr>\n",
       "    <tr>\n",
       "      <td>PTRATIO</td>\n",
       "      <td>0.0000</td>\n",
       "      <td>-0.2067</td>\n",
       "      <td>True</td>\n",
       "    </tr>\n",
       "    <tr>\n",
       "      <td>B</td>\n",
       "      <td>0.0995</td>\n",
       "      <td>0.0741</td>\n",
       "      <td>False</td>\n",
       "    </tr>\n",
       "    <tr>\n",
       "      <td>LSTAT</td>\n",
       "      <td>0.0000</td>\n",
       "      <td>-0.3962</td>\n",
       "      <td>True</td>\n",
       "    </tr>\n",
       "  </tbody>\n",
       "</table>\n",
       "</div>"
      ],
      "text/plain": [
       "                 p-value   coeff    sig\n",
       "Intercept         0.4806 -0.0264  False\n",
       "C(CHAS)[T.1]      0.0001  0.3578   True\n",
       "C(example)[T.1]   0.7553 -0.0208  False\n",
       "C(example)[T.2]   0.6696 -0.0332  False\n",
       "C(example)[T.3]   0.3867 -0.0585  False\n",
       "C(example)[T.4]   0.1748 -0.1023  False\n",
       "CRIM              0.0935 -0.1255  False\n",
       "ZN                0.6482  0.0179  False\n",
       "INDUS             0.5108  0.0291  False\n",
       "NOX               0.0001 -0.1914   True\n",
       "RM                0.0000  0.3787   True\n",
       "AGE               0.4189 -0.0324  False\n",
       "DIS               0.0000 -0.2927   True\n",
       "RAD               0.0003  0.2482   True\n",
       "TAX               0.0067 -0.1846   True\n",
       "PTRATIO           0.0000 -0.2067   True\n",
       "B                 0.0995  0.0741  False\n",
       "LSTAT             0.0000 -0.3962   True"
      ]
     },
     "execution_count": 27,
     "metadata": {},
     "output_type": "execute_result"
    }
   ],
   "source": [
    "## Get p-values\n",
    "def get_model_params(model):\n",
    "    coeffs =pd.DataFrame({'p-value':model.pvalues,\n",
    "                          'coeff':model.params,\n",
    "                         'sig':model.pvalues<.05}).round(4)\n",
    "#     coeffs.sort_values('sig')\n",
    "    return coeffs\n",
    "coeffs = get_model_params(model)\n",
    "coeffs"
   ]
  },
  {
   "cell_type": "code",
   "execution_count": 28,
   "metadata": {
    "ExecuteTime": {
     "end_time": "2020-03-02T05:57:22.735244Z",
     "start_time": "2020-03-02T05:57:22.721531Z"
    }
   },
   "outputs": [
    {
     "data": {
      "text/html": [
       "<div>\n",
       "<style scoped>\n",
       "    .dataframe tbody tr th:only-of-type {\n",
       "        vertical-align: middle;\n",
       "    }\n",
       "\n",
       "    .dataframe tbody tr th {\n",
       "        vertical-align: top;\n",
       "    }\n",
       "\n",
       "    .dataframe thead th {\n",
       "        text-align: right;\n",
       "    }\n",
       "</style>\n",
       "<table border=\"1\" class=\"dataframe\">\n",
       "  <thead>\n",
       "    <tr style=\"text-align: right;\">\n",
       "      <th></th>\n",
       "      <th>p-value</th>\n",
       "      <th>coeff</th>\n",
       "      <th>sig</th>\n",
       "    </tr>\n",
       "  </thead>\n",
       "  <tbody>\n",
       "    <tr>\n",
       "      <td>Intercept</td>\n",
       "      <td>0.4806</td>\n",
       "      <td>-0.0264</td>\n",
       "      <td>False</td>\n",
       "    </tr>\n",
       "    <tr>\n",
       "      <td>C(example)[T.1]</td>\n",
       "      <td>0.7553</td>\n",
       "      <td>-0.0208</td>\n",
       "      <td>False</td>\n",
       "    </tr>\n",
       "    <tr>\n",
       "      <td>C(example)[T.2]</td>\n",
       "      <td>0.6696</td>\n",
       "      <td>-0.0332</td>\n",
       "      <td>False</td>\n",
       "    </tr>\n",
       "    <tr>\n",
       "      <td>C(example)[T.3]</td>\n",
       "      <td>0.3867</td>\n",
       "      <td>-0.0585</td>\n",
       "      <td>False</td>\n",
       "    </tr>\n",
       "    <tr>\n",
       "      <td>C(example)[T.4]</td>\n",
       "      <td>0.1748</td>\n",
       "      <td>-0.1023</td>\n",
       "      <td>False</td>\n",
       "    </tr>\n",
       "    <tr>\n",
       "      <td>CRIM</td>\n",
       "      <td>0.0935</td>\n",
       "      <td>-0.1255</td>\n",
       "      <td>False</td>\n",
       "    </tr>\n",
       "    <tr>\n",
       "      <td>ZN</td>\n",
       "      <td>0.6482</td>\n",
       "      <td>0.0179</td>\n",
       "      <td>False</td>\n",
       "    </tr>\n",
       "    <tr>\n",
       "      <td>INDUS</td>\n",
       "      <td>0.5108</td>\n",
       "      <td>0.0291</td>\n",
       "      <td>False</td>\n",
       "    </tr>\n",
       "    <tr>\n",
       "      <td>AGE</td>\n",
       "      <td>0.4189</td>\n",
       "      <td>-0.0324</td>\n",
       "      <td>False</td>\n",
       "    </tr>\n",
       "    <tr>\n",
       "      <td>B</td>\n",
       "      <td>0.0995</td>\n",
       "      <td>0.0741</td>\n",
       "      <td>False</td>\n",
       "    </tr>\n",
       "  </tbody>\n",
       "</table>\n",
       "</div>"
      ],
      "text/plain": [
       "                 p-value   coeff    sig\n",
       "Intercept         0.4806 -0.0264  False\n",
       "C(example)[T.1]   0.7553 -0.0208  False\n",
       "C(example)[T.2]   0.6696 -0.0332  False\n",
       "C(example)[T.3]   0.3867 -0.0585  False\n",
       "C(example)[T.4]   0.1748 -0.1023  False\n",
       "CRIM              0.0935 -0.1255  False\n",
       "ZN                0.6482  0.0179  False\n",
       "INDUS             0.5108  0.0291  False\n",
       "AGE               0.4189 -0.0324  False\n",
       "B                 0.0995  0.0741  False"
      ]
     },
     "execution_count": 28,
     "metadata": {},
     "output_type": "execute_result"
    }
   ],
   "source": [
    "## get list of cols to exclude\n",
    "coeffs.query('sig == False')#.index\n"
   ]
  },
  {
   "cell_type": "code",
   "execution_count": 29,
   "metadata": {
    "ExecuteTime": {
     "end_time": "2020-03-02T05:57:22.739817Z",
     "start_time": "2020-03-02T05:57:22.737112Z"
    }
   },
   "outputs": [],
   "source": [
    "best_model_kws = dict(target='price',cat_cols=cat_cols,exclude_cols=[\n",
    "    'example','ZN','CRIM','INDUS','AGE',],return_formula=True)"
   ]
  },
  {
   "cell_type": "code",
   "execution_count": 30,
   "metadata": {
    "ExecuteTime": {
     "end_time": "2020-03-02T05:57:22.989506Z",
     "start_time": "2020-03-02T05:57:22.741014Z"
    }
   },
   "outputs": [
    {
     "data": {
      "text/html": [
       "<table class=\"simpletable\">\n",
       "<caption>OLS Regression Results</caption>\n",
       "<tr>\n",
       "  <th>Dep. Variable:</th>          <td>price</td>      <th>  R-squared:         </th> <td>   0.730</td> \n",
       "</tr>\n",
       "<tr>\n",
       "  <th>Model:</th>                   <td>OLS</td>       <th>  Adj. R-squared:    </th> <td>   0.724</td> \n",
       "</tr>\n",
       "<tr>\n",
       "  <th>Method:</th>             <td>Least Squares</td>  <th>  F-statistic:       </th> <td>   131.4</td> \n",
       "</tr>\n",
       "<tr>\n",
       "  <th>Date:</th>             <td>Mon, 02 Mar 2020</td> <th>  Prob (F-statistic):</th> <td>1.69e-118</td>\n",
       "</tr>\n",
       "<tr>\n",
       "  <th>Time:</th>                 <td>00:57:22</td>     <th>  Log-Likelihood:    </th> <td> -306.68</td> \n",
       "</tr>\n",
       "<tr>\n",
       "  <th>No. Observations:</th>      <td>   448</td>      <th>  AIC:               </th> <td>   633.4</td> \n",
       "</tr>\n",
       "<tr>\n",
       "  <th>Df Residuals:</th>          <td>   438</td>      <th>  BIC:               </th> <td>   674.4</td> \n",
       "</tr>\n",
       "<tr>\n",
       "  <th>Df Model:</th>              <td>     9</td>      <th>                     </th>     <td> </td>    \n",
       "</tr>\n",
       "<tr>\n",
       "  <th>Covariance Type:</th>      <td>nonrobust</td>    <th>                     </th>     <td> </td>    \n",
       "</tr>\n",
       "</table>\n",
       "<table class=\"simpletable\">\n",
       "<tr>\n",
       "        <td></td>          <th>coef</th>     <th>std err</th>      <th>t</th>      <th>P>|t|</th>  <th>[0.025</th>    <th>0.975]</th>  \n",
       "</tr>\n",
       "<tr>\n",
       "  <th>Intercept</th>    <td>   -0.0465</td> <td>    0.025</td> <td>   -1.847</td> <td> 0.065</td> <td>   -0.096</td> <td>    0.003</td>\n",
       "</tr>\n",
       "<tr>\n",
       "  <th>C(CHAS)[T.1]</th> <td>    0.3597</td> <td>    0.090</td> <td>    3.996</td> <td> 0.000</td> <td>    0.183</td> <td>    0.537</td>\n",
       "</tr>\n",
       "<tr>\n",
       "  <th>NOX</th>          <td>   -0.1897</td> <td>    0.045</td> <td>   -4.194</td> <td> 0.000</td> <td>   -0.279</td> <td>   -0.101</td>\n",
       "</tr>\n",
       "<tr>\n",
       "  <th>RM</th>           <td>    0.3682</td> <td>    0.035</td> <td>   10.401</td> <td> 0.000</td> <td>    0.299</td> <td>    0.438</td>\n",
       "</tr>\n",
       "<tr>\n",
       "  <th>DIS</th>          <td>   -0.2701</td> <td>    0.040</td> <td>   -6.738</td> <td> 0.000</td> <td>   -0.349</td> <td>   -0.191</td>\n",
       "</tr>\n",
       "<tr>\n",
       "  <th>RAD</th>          <td>    0.1876</td> <td>    0.057</td> <td>    3.308</td> <td> 0.001</td> <td>    0.076</td> <td>    0.299</td>\n",
       "</tr>\n",
       "<tr>\n",
       "  <th>TAX</th>          <td>   -0.1595</td> <td>    0.059</td> <td>   -2.685</td> <td> 0.008</td> <td>   -0.276</td> <td>   -0.043</td>\n",
       "</tr>\n",
       "<tr>\n",
       "  <th>PTRATIO</th>      <td>   -0.2091</td> <td>    0.028</td> <td>   -7.373</td> <td> 0.000</td> <td>   -0.265</td> <td>   -0.153</td>\n",
       "</tr>\n",
       "<tr>\n",
       "  <th>B</th>            <td>    0.0754</td> <td>    0.044</td> <td>    1.710</td> <td> 0.088</td> <td>   -0.011</td> <td>    0.162</td>\n",
       "</tr>\n",
       "<tr>\n",
       "  <th>LSTAT</th>        <td>   -0.4316</td> <td>    0.039</td> <td>  -10.971</td> <td> 0.000</td> <td>   -0.509</td> <td>   -0.354</td>\n",
       "</tr>\n",
       "</table>\n",
       "<table class=\"simpletable\">\n",
       "<tr>\n",
       "  <th>Omnibus:</th>       <td>200.598</td> <th>  Durbin-Watson:     </th> <td>   1.104</td> \n",
       "</tr>\n",
       "<tr>\n",
       "  <th>Prob(Omnibus):</th> <td> 0.000</td>  <th>  Jarque-Bera (JB):  </th> <td>1397.650</td> \n",
       "</tr>\n",
       "<tr>\n",
       "  <th>Skew:</th>          <td> 1.790</td>  <th>  Prob(JB):          </th> <td>3.19e-304</td>\n",
       "</tr>\n",
       "<tr>\n",
       "  <th>Kurtosis:</th>      <td>10.877</td>  <th>  Cond. No.          </th> <td>    7.30</td> \n",
       "</tr>\n",
       "</table><br/><br/>Warnings:<br/>[1] Standard Errors assume that the covariance matrix of the errors is correctly specified."
      ],
      "text/plain": [
       "<class 'statsmodels.iolib.summary.Summary'>\n",
       "\"\"\"\n",
       "                            OLS Regression Results                            \n",
       "==============================================================================\n",
       "Dep. Variable:                  price   R-squared:                       0.730\n",
       "Model:                            OLS   Adj. R-squared:                  0.724\n",
       "Method:                 Least Squares   F-statistic:                     131.4\n",
       "Date:                Mon, 02 Mar 2020   Prob (F-statistic):          1.69e-118\n",
       "Time:                        00:57:22   Log-Likelihood:                -306.68\n",
       "No. Observations:                 448   AIC:                             633.4\n",
       "Df Residuals:                     438   BIC:                             674.4\n",
       "Df Model:                           9                                         \n",
       "Covariance Type:            nonrobust                                         \n",
       "================================================================================\n",
       "                   coef    std err          t      P>|t|      [0.025      0.975]\n",
       "--------------------------------------------------------------------------------\n",
       "Intercept       -0.0465      0.025     -1.847      0.065      -0.096       0.003\n",
       "C(CHAS)[T.1]     0.3597      0.090      3.996      0.000       0.183       0.537\n",
       "NOX             -0.1897      0.045     -4.194      0.000      -0.279      -0.101\n",
       "RM               0.3682      0.035     10.401      0.000       0.299       0.438\n",
       "DIS             -0.2701      0.040     -6.738      0.000      -0.349      -0.191\n",
       "RAD              0.1876      0.057      3.308      0.001       0.076       0.299\n",
       "TAX             -0.1595      0.059     -2.685      0.008      -0.276      -0.043\n",
       "PTRATIO         -0.2091      0.028     -7.373      0.000      -0.265      -0.153\n",
       "B                0.0754      0.044      1.710      0.088      -0.011       0.162\n",
       "LSTAT           -0.4316      0.039    -10.971      0.000      -0.509      -0.354\n",
       "==============================================================================\n",
       "Omnibus:                      200.598   Durbin-Watson:                   1.104\n",
       "Prob(Omnibus):                  0.000   Jarque-Bera (JB):             1397.650\n",
       "Skew:                           1.790   Prob(JB):                    3.19e-304\n",
       "Kurtosis:                      10.877   Cond. No.                         7.30\n",
       "==============================================================================\n",
       "\n",
       "Warnings:\n",
       "[1] Standard Errors assume that the covariance matrix of the errors is correctly specified.\n",
       "\"\"\""
      ]
     },
     "metadata": {},
     "output_type": "display_data"
    },
    {
     "data": {
      "image/png": "[encoded data removed]",
      "text/plain": [
       "<Figure size 720x360 with 2 Axes>"
      ]
     },
     "metadata": {
      "needs_background": "light"
     },
     "output_type": "display_data"
    }
   ],
   "source": [
    "model= make_ols_f(df,**best_model_kws)#target='price',cat_cols=cat_cols,exclude_cols=[\n",
    "#     'example','ZN','CRIM','INDUS','AGE',])"
   ]
  },
  {
   "cell_type": "markdown",
   "metadata": {},
   "source": [
    "# Using seaborn to view interactions"
   ]
  },
  {
   "cell_type": "markdown",
   "metadata": {},
   "source": [
    "### Ex Interaction: Not very different"
   ]
  },
  {
   "cell_type": "code",
   "execution_count": 31,
   "metadata": {
    "ExecuteTime": {
     "end_time": "2020-03-02T05:57:23.458133Z",
     "start_time": "2020-03-02T05:57:22.991192Z"
    },
    "scrolled": true
   },
   "outputs": [
    {
     "data": {
      "text/plain": [
       "<seaborn.axisgrid.FacetGrid at 0x1c26876a58>"
      ]
     },
     "execution_count": 31,
     "metadata": {},
     "output_type": "execute_result"
    },
    {
     "data": {
      "image/png": "[encoded data removed]",
      "text/plain": [
       "<Figure size 762.375x360 with 1 Axes>"
      ]
     },
     "metadata": {
      "needs_background": "light"
     },
     "output_type": "display_data"
    }
   ],
   "source": [
    "g = sns.FacetGrid(df,hue='CHAS',aspect=2,height=5)\n",
    "g.map(sns.regplot,'AGE','price')\n",
    "g.add_legend()"
   ]
  },
  {
   "cell_type": "markdown",
   "metadata": {},
   "source": [
    "### Ex Interaction: different"
   ]
  },
  {
   "cell_type": "markdown",
   "metadata": {},
   "source": [
    "https://blog.insightdatascience.com/data-visualization-in-python-advanced-functionality-in-seaborn-20d217f1a9a6\n",
    "\n",
    "- ~~`sns.factorplot`~~\n",
    "- `sns.catplot`\n",
    "- `sns.FacetGrid`"
   ]
  },
  {
   "cell_type": "code",
   "execution_count": 32,
   "metadata": {
    "ExecuteTime": {
     "end_time": "2020-03-02T05:57:23.903903Z",
     "start_time": "2020-03-02T05:57:23.460314Z"
    }
   },
   "outputs": [
    {
     "data": {
      "text/plain": [
       "<seaborn.axisgrid.FacetGrid at 0x1c28a6dcf8>"
      ]
     },
     "execution_count": 32,
     "metadata": {},
     "output_type": "execute_result"
    },
    {
     "data": {
      "image/png": "[encoded data removed]",
      "text/plain": [
       "<Figure size 762.375x360 with 1 Axes>"
      ]
     },
     "metadata": {
      "needs_background": "light"
     },
     "output_type": "display_data"
    }
   ],
   "source": [
    "g = sns.FacetGrid(df,hue='CHAS',aspect=2,height=5)\n",
    "g.map(sns.regplot,'TAX','price')\n",
    "g.add_legend()"
   ]
  },
  {
   "cell_type": "code",
   "execution_count": 33,
   "metadata": {
    "ExecuteTime": {
     "end_time": "2020-03-02T05:57:24.327173Z",
     "start_time": "2020-03-02T05:57:23.905840Z"
    }
   },
   "outputs": [
    {
     "data": {
      "text/plain": [
       "<seaborn.axisgrid.FacetGrid at 0x1c256f97b8>"
      ]
     },
     "execution_count": 33,
     "metadata": {},
     "output_type": "execute_result"
    },
    {
     "data": {
      "image/png": "[encoded data removed]",
      "text/plain": [
       "<Figure size 762.375x360 with 1 Axes>"
      ]
     },
     "metadata": {
      "needs_background": "light"
     },
     "output_type": "display_data"
    }
   ],
   "source": [
    "g = sns.FacetGrid(df,hue='CHAS',aspect=2,height=5)\n",
    "g.map(sns.regplot,'PTRATIO','price')\n",
    "g.add_legend()"
   ]
  },
  {
   "cell_type": "markdown",
   "metadata": {},
   "source": [
    "## Interactions Effect On Model"
   ]
  },
  {
   "cell_type": "code",
   "execution_count": 34,
   "metadata": {
    "ExecuteTime": {
     "end_time": "2020-03-02T05:57:24.332459Z",
     "start_time": "2020-03-02T05:57:24.328641Z"
    },
    "scrolled": false
   },
   "outputs": [
    {
     "data": {
      "text/plain": [
       "{'target': 'price',\n",
       " 'cat_cols': ['CHAS', 'example'],\n",
       " 'exclude_cols': ['example', 'ZN', 'CRIM', 'INDUS', 'AGE'],\n",
       " 'return_formula': True}"
      ]
     },
     "execution_count": 34,
     "metadata": {},
     "output_type": "execute_result"
    }
   ],
   "source": [
    "pd.set_option('display.max_rows',999)\n",
    "best_model_kws"
   ]
  },
  {
   "cell_type": "code",
   "execution_count": 35,
   "metadata": {
    "ExecuteTime": {
     "end_time": "2020-03-02T05:57:24.590642Z",
     "start_time": "2020-03-02T05:57:24.334294Z"
    },
    "scrolled": false
   },
   "outputs": [
    {
     "data": {
      "text/html": [
       "<table class=\"simpletable\">\n",
       "<caption>OLS Regression Results</caption>\n",
       "<tr>\n",
       "  <th>Dep. Variable:</th>          <td>price</td>      <th>  R-squared:         </th> <td>   0.730</td> \n",
       "</tr>\n",
       "<tr>\n",
       "  <th>Model:</th>                   <td>OLS</td>       <th>  Adj. R-squared:    </th> <td>   0.724</td> \n",
       "</tr>\n",
       "<tr>\n",
       "  <th>Method:</th>             <td>Least Squares</td>  <th>  F-statistic:       </th> <td>   131.4</td> \n",
       "</tr>\n",
       "<tr>\n",
       "  <th>Date:</th>             <td>Mon, 02 Mar 2020</td> <th>  Prob (F-statistic):</th> <td>1.69e-118</td>\n",
       "</tr>\n",
       "<tr>\n",
       "  <th>Time:</th>                 <td>00:57:24</td>     <th>  Log-Likelihood:    </th> <td> -306.68</td> \n",
       "</tr>\n",
       "<tr>\n",
       "  <th>No. Observations:</th>      <td>   448</td>      <th>  AIC:               </th> <td>   633.4</td> \n",
       "</tr>\n",
       "<tr>\n",
       "  <th>Df Residuals:</th>          <td>   438</td>      <th>  BIC:               </th> <td>   674.4</td> \n",
       "</tr>\n",
       "<tr>\n",
       "  <th>Df Model:</th>              <td>     9</td>      <th>                     </th>     <td> </td>    \n",
       "</tr>\n",
       "<tr>\n",
       "  <th>Covariance Type:</th>      <td>nonrobust</td>    <th>                     </th>     <td> </td>    \n",
       "</tr>\n",
       "</table>\n",
       "<table class=\"simpletable\">\n",
       "<tr>\n",
       "        <td></td>          <th>coef</th>     <th>std err</th>      <th>t</th>      <th>P>|t|</th>  <th>[0.025</th>    <th>0.975]</th>  \n",
       "</tr>\n",
       "<tr>\n",
       "  <th>Intercept</th>    <td>   -0.0465</td> <td>    0.025</td> <td>   -1.847</td> <td> 0.065</td> <td>   -0.096</td> <td>    0.003</td>\n",
       "</tr>\n",
       "<tr>\n",
       "  <th>C(CHAS)[T.1]</th> <td>    0.3597</td> <td>    0.090</td> <td>    3.996</td> <td> 0.000</td> <td>    0.183</td> <td>    0.537</td>\n",
       "</tr>\n",
       "<tr>\n",
       "  <th>NOX</th>          <td>   -0.1897</td> <td>    0.045</td> <td>   -4.194</td> <td> 0.000</td> <td>   -0.279</td> <td>   -0.101</td>\n",
       "</tr>\n",
       "<tr>\n",
       "  <th>RM</th>           <td>    0.3682</td> <td>    0.035</td> <td>   10.401</td> <td> 0.000</td> <td>    0.299</td> <td>    0.438</td>\n",
       "</tr>\n",
       "<tr>\n",
       "  <th>DIS</th>          <td>   -0.2701</td> <td>    0.040</td> <td>   -6.738</td> <td> 0.000</td> <td>   -0.349</td> <td>   -0.191</td>\n",
       "</tr>\n",
       "<tr>\n",
       "  <th>RAD</th>          <td>    0.1876</td> <td>    0.057</td> <td>    3.308</td> <td> 0.001</td> <td>    0.076</td> <td>    0.299</td>\n",
       "</tr>\n",
       "<tr>\n",
       "  <th>TAX</th>          <td>   -0.1595</td> <td>    0.059</td> <td>   -2.685</td> <td> 0.008</td> <td>   -0.276</td> <td>   -0.043</td>\n",
       "</tr>\n",
       "<tr>\n",
       "  <th>PTRATIO</th>      <td>   -0.2091</td> <td>    0.028</td> <td>   -7.373</td> <td> 0.000</td> <td>   -0.265</td> <td>   -0.153</td>\n",
       "</tr>\n",
       "<tr>\n",
       "  <th>B</th>            <td>    0.0754</td> <td>    0.044</td> <td>    1.710</td> <td> 0.088</td> <td>   -0.011</td> <td>    0.162</td>\n",
       "</tr>\n",
       "<tr>\n",
       "  <th>LSTAT</th>        <td>   -0.4316</td> <td>    0.039</td> <td>  -10.971</td> <td> 0.000</td> <td>   -0.509</td> <td>   -0.354</td>\n",
       "</tr>\n",
       "</table>\n",
       "<table class=\"simpletable\">\n",
       "<tr>\n",
       "  <th>Omnibus:</th>       <td>200.598</td> <th>  Durbin-Watson:     </th> <td>   1.104</td> \n",
       "</tr>\n",
       "<tr>\n",
       "  <th>Prob(Omnibus):</th> <td> 0.000</td>  <th>  Jarque-Bera (JB):  </th> <td>1397.650</td> \n",
       "</tr>\n",
       "<tr>\n",
       "  <th>Skew:</th>          <td> 1.790</td>  <th>  Prob(JB):          </th> <td>3.19e-304</td>\n",
       "</tr>\n",
       "<tr>\n",
       "  <th>Kurtosis:</th>      <td>10.877</td>  <th>  Cond. No.          </th> <td>    7.30</td> \n",
       "</tr>\n",
       "</table><br/><br/>Warnings:<br/>[1] Standard Errors assume that the covariance matrix of the errors is correctly specified."
      ],
      "text/plain": [
       "<class 'statsmodels.iolib.summary.Summary'>\n",
       "\"\"\"\n",
       "                            OLS Regression Results                            \n",
       "==============================================================================\n",
       "Dep. Variable:                  price   R-squared:                       0.730\n",
       "Model:                            OLS   Adj. R-squared:                  0.724\n",
       "Method:                 Least Squares   F-statistic:                     131.4\n",
       "Date:                Mon, 02 Mar 2020   Prob (F-statistic):          1.69e-118\n",
       "Time:                        00:57:24   Log-Likelihood:                -306.68\n",
       "No. Observations:                 448   AIC:                             633.4\n",
       "Df Residuals:                     438   BIC:                             674.4\n",
       "Df Model:                           9                                         \n",
       "Covariance Type:            nonrobust                                         \n",
       "================================================================================\n",
       "                   coef    std err          t      P>|t|      [0.025      0.975]\n",
       "--------------------------------------------------------------------------------\n",
       "Intercept       -0.0465      0.025     -1.847      0.065      -0.096       0.003\n",
       "C(CHAS)[T.1]     0.3597      0.090      3.996      0.000       0.183       0.537\n",
       "NOX             -0.1897      0.045     -4.194      0.000      -0.279      -0.101\n",
       "RM               0.3682      0.035     10.401      0.000       0.299       0.438\n",
       "DIS             -0.2701      0.040     -6.738      0.000      -0.349      -0.191\n",
       "RAD              0.1876      0.057      3.308      0.001       0.076       0.299\n",
       "TAX             -0.1595      0.059     -2.685      0.008      -0.276      -0.043\n",
       "PTRATIO         -0.2091      0.028     -7.373      0.000      -0.265      -0.153\n",
       "B                0.0754      0.044      1.710      0.088      -0.011       0.162\n",
       "LSTAT           -0.4316      0.039    -10.971      0.000      -0.509      -0.354\n",
       "==============================================================================\n",
       "Omnibus:                      200.598   Durbin-Watson:                   1.104\n",
       "Prob(Omnibus):                  0.000   Jarque-Bera (JB):             1397.650\n",
       "Skew:                           1.790   Prob(JB):                    3.19e-304\n",
       "Kurtosis:                      10.877   Cond. No.                         7.30\n",
       "==============================================================================\n",
       "\n",
       "Warnings:\n",
       "[1] Standard Errors assume that the covariance matrix of the errors is correctly specified.\n",
       "\"\"\""
      ]
     },
     "metadata": {},
     "output_type": "display_data"
    },
    {
     "data": {
      "image/png": "[encoded data removed]",
      "text/plain": [
       "<Figure size 720x360 with 2 Axes>"
      ]
     },
     "metadata": {
      "needs_background": "light"
     },
     "output_type": "display_data"
    },
    {
     "name": "stdout",
     "output_type": "stream",
     "text": [
      "price~C(CHAS)+NOX+RM+DIS+RAD+TAX+PTRATIO+B+LSTAT\n"
     ]
    }
   ],
   "source": [
    "model,form = make_ols_f(df,**best_model_kws)\n",
    "print(form)"
   ]
  },
  {
   "cell_type": "markdown",
   "metadata": {},
   "source": [
    "### adding interactions"
   ]
  },
  {
   "cell_type": "code",
   "execution_count": 36,
   "metadata": {
    "ExecuteTime": {
     "end_time": "2020-03-02T05:57:24.597182Z",
     "start_time": "2020-03-02T05:57:24.592808Z"
    }
   },
   "outputs": [],
   "source": [
    "exclude_cols = best_model_kws['exclude_cols']\n",
    "target= 'price'\n",
    "ixn_cols=[('CHAS','LSTAT')]\n",
    "col_list = list(df.drop(target,axis=1).columns)"
   ]
  },
  {
   "cell_type": "code",
   "execution_count": 37,
   "metadata": {
    "ExecuteTime": {
     "end_time": "2020-03-02T05:57:24.604691Z",
     "start_time": "2020-03-02T05:57:24.598901Z"
    }
   },
   "outputs": [
    {
     "data": {
      "text/plain": [
       "['CHAS',\n",
       " 'NOX',\n",
       " 'RM',\n",
       " 'DIS',\n",
       " 'RAD',\n",
       " 'TAX',\n",
       " 'PTRATIO',\n",
       " 'B',\n",
       " 'LSTAT',\n",
       " 'CHAS*LSTAT']"
      ]
     },
     "execution_count": 37,
     "metadata": {},
     "output_type": "execute_result"
    }
   ],
   "source": [
    "## remove exclude cols\n",
    "[col_list.remove(ecol) for ecol in exclude_cols if ecol in col_list]\n",
    "\n",
    "## ADDDING INTERACTION TERMS    \n",
    "# if len(ixn_cols)>0:\n",
    "for ixn in ixn_cols:\n",
    "    ixn_term=f\"{ixn[0]}*{ixn[1]}\"\n",
    "    col_list.append(ixn_term) #= features + ixn_term\n",
    "col_list"
   ]
  },
  {
   "cell_type": "code",
   "execution_count": 38,
   "metadata": {
    "ExecuteTime": {
     "end_time": "2020-03-02T05:57:24.611457Z",
     "start_time": "2020-03-02T05:57:24.606704Z"
    }
   },
   "outputs": [
    {
     "data": {
      "text/plain": [
       "'C(CHAS) + NOX + RM + DIS + RAD + TAX + PTRATIO + B + LSTAT + C(CHAS)*LSTAT'"
      ]
     },
     "execution_count": 38,
     "metadata": {},
     "output_type": "execute_result"
    }
   ],
   "source": [
    "features = ' + '.join(col_list)\n",
    "features\n",
    "\n",
    "for col in cat_cols:\n",
    "    features = features.replace(col,f\"C({col})\")\n",
    "\n",
    "features"
   ]
  },
  {
   "cell_type": "code",
   "execution_count": 39,
   "metadata": {
    "ExecuteTime": {
     "end_time": "2020-03-02T05:57:24.616266Z",
     "start_time": "2020-03-02T05:57:24.613147Z"
    }
   },
   "outputs": [
    {
     "name": "stdout",
     "output_type": "stream",
     "text": [
      "price~C(CHAS) + NOX + RM + DIS + RAD + TAX + PTRATIO + B + LSTAT + C(CHAS)*LSTAT\n"
     ]
    }
   ],
   "source": [
    "## MAKE FULL FORMULA\n",
    "formula = target+'~'+features #target~predictors\n",
    "print(formula)"
   ]
  },
  {
   "cell_type": "code",
   "execution_count": 40,
   "metadata": {
    "ExecuteTime": {
     "end_time": "2020-03-02T05:57:24.662791Z",
     "start_time": "2020-03-02T05:57:24.618113Z"
    }
   },
   "outputs": [
    {
     "data": {
      "text/html": [
       "<table class=\"simpletable\">\n",
       "<caption>OLS Regression Results</caption>\n",
       "<tr>\n",
       "  <th>Dep. Variable:</th>          <td>price</td>      <th>  R-squared:         </th> <td>   0.733</td> \n",
       "</tr>\n",
       "<tr>\n",
       "  <th>Model:</th>                   <td>OLS</td>       <th>  Adj. R-squared:    </th> <td>   0.727</td> \n",
       "</tr>\n",
       "<tr>\n",
       "  <th>Method:</th>             <td>Least Squares</td>  <th>  F-statistic:       </th> <td>   120.2</td> \n",
       "</tr>\n",
       "<tr>\n",
       "  <th>Date:</th>             <td>Mon, 02 Mar 2020</td> <th>  Prob (F-statistic):</th> <td>1.02e-118</td>\n",
       "</tr>\n",
       "<tr>\n",
       "  <th>Time:</th>                 <td>00:57:24</td>     <th>  Log-Likelihood:    </th> <td> -303.60</td> \n",
       "</tr>\n",
       "<tr>\n",
       "  <th>No. Observations:</th>      <td>   448</td>      <th>  AIC:               </th> <td>   629.2</td> \n",
       "</tr>\n",
       "<tr>\n",
       "  <th>Df Residuals:</th>          <td>   437</td>      <th>  BIC:               </th> <td>   674.4</td> \n",
       "</tr>\n",
       "<tr>\n",
       "  <th>Df Model:</th>              <td>    10</td>      <th>                     </th>     <td> </td>    \n",
       "</tr>\n",
       "<tr>\n",
       "  <th>Covariance Type:</th>      <td>nonrobust</td>    <th>                     </th>     <td> </td>    \n",
       "</tr>\n",
       "</table>\n",
       "<table class=\"simpletable\">\n",
       "<tr>\n",
       "           <td></td>             <th>coef</th>     <th>std err</th>      <th>t</th>      <th>P>|t|</th>  <th>[0.025</th>    <th>0.975]</th>  \n",
       "</tr>\n",
       "<tr>\n",
       "  <th>Intercept</th>          <td>   -0.0472</td> <td>    0.025</td> <td>   -1.885</td> <td> 0.060</td> <td>   -0.096</td> <td>    0.002</td>\n",
       "</tr>\n",
       "<tr>\n",
       "  <th>C(CHAS)[T.1]</th>       <td>    0.3290</td> <td>    0.090</td> <td>    3.639</td> <td> 0.000</td> <td>    0.151</td> <td>    0.507</td>\n",
       "</tr>\n",
       "<tr>\n",
       "  <th>NOX</th>                <td>   -0.1842</td> <td>    0.045</td> <td>   -4.091</td> <td> 0.000</td> <td>   -0.273</td> <td>   -0.096</td>\n",
       "</tr>\n",
       "<tr>\n",
       "  <th>RM</th>                 <td>    0.3610</td> <td>    0.035</td> <td>   10.222</td> <td> 0.000</td> <td>    0.292</td> <td>    0.430</td>\n",
       "</tr>\n",
       "<tr>\n",
       "  <th>DIS</th>                <td>   -0.2628</td> <td>    0.040</td> <td>   -6.575</td> <td> 0.000</td> <td>   -0.341</td> <td>   -0.184</td>\n",
       "</tr>\n",
       "<tr>\n",
       "  <th>RAD</th>                <td>    0.1893</td> <td>    0.056</td> <td>    3.357</td> <td> 0.001</td> <td>    0.078</td> <td>    0.300</td>\n",
       "</tr>\n",
       "<tr>\n",
       "  <th>TAX</th>                <td>   -0.1717</td> <td>    0.059</td> <td>   -2.897</td> <td> 0.004</td> <td>   -0.288</td> <td>   -0.055</td>\n",
       "</tr>\n",
       "<tr>\n",
       "  <th>PTRATIO</th>            <td>   -0.2109</td> <td>    0.028</td> <td>   -7.477</td> <td> 0.000</td> <td>   -0.266</td> <td>   -0.155</td>\n",
       "</tr>\n",
       "<tr>\n",
       "  <th>B</th>                  <td>    0.0800</td> <td>    0.044</td> <td>    1.824</td> <td> 0.069</td> <td>   -0.006</td> <td>    0.166</td>\n",
       "</tr>\n",
       "<tr>\n",
       "  <th>LSTAT</th>              <td>   -0.4111</td> <td>    0.040</td> <td>  -10.280</td> <td> 0.000</td> <td>   -0.490</td> <td>   -0.333</td>\n",
       "</tr>\n",
       "<tr>\n",
       "  <th>C(CHAS)[T.1]:LSTAT</th> <td>   -0.2398</td> <td>    0.098</td> <td>   -2.457</td> <td> 0.014</td> <td>   -0.432</td> <td>   -0.048</td>\n",
       "</tr>\n",
       "</table>\n",
       "<table class=\"simpletable\">\n",
       "<tr>\n",
       "  <th>Omnibus:</th>       <td>199.113</td> <th>  Durbin-Watson:     </th> <td>   1.142</td> \n",
       "</tr>\n",
       "<tr>\n",
       "  <th>Prob(Omnibus):</th> <td> 0.000</td>  <th>  Jarque-Bera (JB):  </th> <td>1421.890</td> \n",
       "</tr>\n",
       "<tr>\n",
       "  <th>Skew:</th>          <td> 1.764</td>  <th>  Prob(JB):          </th> <td>1.74e-309</td>\n",
       "</tr>\n",
       "<tr>\n",
       "  <th>Kurtosis:</th>      <td>10.983</td>  <th>  Cond. No.          </th> <td>    8.20</td> \n",
       "</tr>\n",
       "</table><br/><br/>Warnings:<br/>[1] Standard Errors assume that the covariance matrix of the errors is correctly specified."
      ],
      "text/plain": [
       "<class 'statsmodels.iolib.summary.Summary'>\n",
       "\"\"\"\n",
       "                            OLS Regression Results                            \n",
       "==============================================================================\n",
       "Dep. Variable:                  price   R-squared:                       0.733\n",
       "Model:                            OLS   Adj. R-squared:                  0.727\n",
       "Method:                 Least Squares   F-statistic:                     120.2\n",
       "Date:                Mon, 02 Mar 2020   Prob (F-statistic):          1.02e-118\n",
       "Time:                        00:57:24   Log-Likelihood:                -303.60\n",
       "No. Observations:                 448   AIC:                             629.2\n",
       "Df Residuals:                     437   BIC:                             674.4\n",
       "Df Model:                          10                                         \n",
       "Covariance Type:            nonrobust                                         \n",
       "======================================================================================\n",
       "                         coef    std err          t      P>|t|      [0.025      0.975]\n",
       "--------------------------------------------------------------------------------------\n",
       "Intercept             -0.0472      0.025     -1.885      0.060      -0.096       0.002\n",
       "C(CHAS)[T.1]           0.3290      0.090      3.639      0.000       0.151       0.507\n",
       "NOX                   -0.1842      0.045     -4.091      0.000      -0.273      -0.096\n",
       "RM                     0.3610      0.035     10.222      0.000       0.292       0.430\n",
       "DIS                   -0.2628      0.040     -6.575      0.000      -0.341      -0.184\n",
       "RAD                    0.1893      0.056      3.357      0.001       0.078       0.300\n",
       "TAX                   -0.1717      0.059     -2.897      0.004      -0.288      -0.055\n",
       "PTRATIO               -0.2109      0.028     -7.477      0.000      -0.266      -0.155\n",
       "B                      0.0800      0.044      1.824      0.069      -0.006       0.166\n",
       "LSTAT                 -0.4111      0.040    -10.280      0.000      -0.490      -0.333\n",
       "C(CHAS)[T.1]:LSTAT    -0.2398      0.098     -2.457      0.014      -0.432      -0.048\n",
       "==============================================================================\n",
       "Omnibus:                      199.113   Durbin-Watson:                   1.142\n",
       "Prob(Omnibus):                  0.000   Jarque-Bera (JB):             1421.890\n",
       "Skew:                           1.764   Prob(JB):                    1.74e-309\n",
       "Kurtosis:                      10.983   Cond. No.                         8.20\n",
       "==============================================================================\n",
       "\n",
       "Warnings:\n",
       "[1] Standard Errors assume that the covariance matrix of the errors is correctly specified.\n",
       "\"\"\""
      ]
     },
     "execution_count": 40,
     "metadata": {},
     "output_type": "execute_result"
    }
   ],
   "source": [
    "## Fit model\n",
    "model = smf.ols(formula=formula, data=df).fit()\n",
    "model.summary()\n",
    "## Display summary"
   ]
  },
  {
   "cell_type": "code",
   "execution_count": 41,
   "metadata": {
    "ExecuteTime": {
     "end_time": "2020-03-02T05:57:24.672642Z",
     "start_time": "2020-03-02T05:57:24.664247Z"
    }
   },
   "outputs": [],
   "source": [
    "def make_ols_f_ixn(df,target='price',col_list=None,exclude_cols=[],\n",
    "               cat_cols = [], ixn_cols=[],  show_summary=True,\n",
    "               diagnose=True,\n",
    "               return_formula=False):\n",
    "    \"\"\"\n",
    "    Makes statsmodels formula-based regression with options to make categorical columns.    \n",
    "    Args:\n",
    "        df (Frame): df with data\n",
    "        target (str): target column name\n",
    "        col_list (list, optional): List of predictor columns. Defaults to all except target.\n",
    "        exclude_cols (list, optional): Columns to remove from col_list. Defaults to [].\n",
    "        cat_cols (list, optional): Columns to process as categorical using f'C({col})\". Defaults to [].\n",
    "        ixn_cols ()\n",
    "        show_summary (bool, optional): Display model.summary(). Defaults to True.\n",
    "        diagnose (bool, optional): Plot Q-Q plot & residuals. Defaults to True.\n",
    "        return_formula (bool, optional): Return formula with model. Defaults to False.\n",
    "    \n",
    "    Returns:\n",
    "        model : statsmodels ols model\n",
    "        formula : str formula from model, only if return_formula == True\n",
    "        \n",
    "    \n",
    "    \"\"\"\n",
    "    if col_list is None:\n",
    "        col_list = list(df.drop(target,axis=1).columns)\n",
    "        \n",
    "    ## remove exclude cols\n",
    "    [col_list.remove(ecol) for ecol in exclude_cols if ecol in col_list]\n",
    "    \n",
    "    ## ADDDING INTERACTION TERMS    \n",
    "    if len(ixn_cols)>0:\n",
    "        for ixn in ixn_cols:\n",
    "            ixn_term=f\"{ixn[0]}*{ixn[1]}\"\n",
    "            col_list.append(ixn_term) #= features + ixn_term\n",
    "        \n",
    "        \n",
    "    ## Make rightn side of formula eqn\n",
    "    features = '+'.join(col_list)\n",
    "\n",
    "    # ADD C() around categorical cols\n",
    "    for col in cat_cols:\n",
    "        features = features.replace(col,f\"C({col})\")\n",
    "\n",
    "\n",
    "        \n",
    "    ## MAKE FULL FORMULA\n",
    "    formula = target+'~'+features #target~predictors\n",
    "    #print(formula)\n",
    "    \n",
    "    ## Fit model\n",
    "    model = smf.ols(formula=formula, data=df).fit()\n",
    "    \n",
    "    ## Display summary\n",
    "    if show_summary:\n",
    "        display(model.summary())\n",
    "        \n",
    "    ## Plot Q-Qplot & model residuals\n",
    "    if diagnose:\n",
    "        fig,ax = diagnose_model(model)\n",
    "        plt.show()\n",
    "\n",
    "    # Returns formula or just mmodel\n",
    "    if return_formula:\n",
    "        return model,formula\n",
    "    else:\n",
    "        return model\n",
    "    \n",
    "    "
   ]
  },
  {
   "cell_type": "code",
   "execution_count": 42,
   "metadata": {
    "ExecuteTime": {
     "end_time": "2020-03-02T05:57:24.933253Z",
     "start_time": "2020-03-02T05:57:24.674039Z"
    }
   },
   "outputs": [
    {
     "data": {
      "text/html": [
       "<table class=\"simpletable\">\n",
       "<caption>OLS Regression Results</caption>\n",
       "<tr>\n",
       "  <th>Dep. Variable:</th>          <td>price</td>      <th>  R-squared:         </th> <td>   0.733</td> \n",
       "</tr>\n",
       "<tr>\n",
       "  <th>Model:</th>                   <td>OLS</td>       <th>  Adj. R-squared:    </th> <td>   0.727</td> \n",
       "</tr>\n",
       "<tr>\n",
       "  <th>Method:</th>             <td>Least Squares</td>  <th>  F-statistic:       </th> <td>   120.2</td> \n",
       "</tr>\n",
       "<tr>\n",
       "  <th>Date:</th>             <td>Mon, 02 Mar 2020</td> <th>  Prob (F-statistic):</th> <td>1.02e-118</td>\n",
       "</tr>\n",
       "<tr>\n",
       "  <th>Time:</th>                 <td>00:57:24</td>     <th>  Log-Likelihood:    </th> <td> -303.60</td> \n",
       "</tr>\n",
       "<tr>\n",
       "  <th>No. Observations:</th>      <td>   448</td>      <th>  AIC:               </th> <td>   629.2</td> \n",
       "</tr>\n",
       "<tr>\n",
       "  <th>Df Residuals:</th>          <td>   437</td>      <th>  BIC:               </th> <td>   674.4</td> \n",
       "</tr>\n",
       "<tr>\n",
       "  <th>Df Model:</th>              <td>    10</td>      <th>                     </th>     <td> </td>    \n",
       "</tr>\n",
       "<tr>\n",
       "  <th>Covariance Type:</th>      <td>nonrobust</td>    <th>                     </th>     <td> </td>    \n",
       "</tr>\n",
       "</table>\n",
       "<table class=\"simpletable\">\n",
       "<tr>\n",
       "           <td></td>             <th>coef</th>     <th>std err</th>      <th>t</th>      <th>P>|t|</th>  <th>[0.025</th>    <th>0.975]</th>  \n",
       "</tr>\n",
       "<tr>\n",
       "  <th>Intercept</th>          <td>   -0.0472</td> <td>    0.025</td> <td>   -1.885</td> <td> 0.060</td> <td>   -0.096</td> <td>    0.002</td>\n",
       "</tr>\n",
       "<tr>\n",
       "  <th>C(CHAS)[T.1]</th>       <td>    0.3290</td> <td>    0.090</td> <td>    3.639</td> <td> 0.000</td> <td>    0.151</td> <td>    0.507</td>\n",
       "</tr>\n",
       "<tr>\n",
       "  <th>NOX</th>                <td>   -0.1842</td> <td>    0.045</td> <td>   -4.091</td> <td> 0.000</td> <td>   -0.273</td> <td>   -0.096</td>\n",
       "</tr>\n",
       "<tr>\n",
       "  <th>RM</th>                 <td>    0.3610</td> <td>    0.035</td> <td>   10.222</td> <td> 0.000</td> <td>    0.292</td> <td>    0.430</td>\n",
       "</tr>\n",
       "<tr>\n",
       "  <th>DIS</th>                <td>   -0.2628</td> <td>    0.040</td> <td>   -6.575</td> <td> 0.000</td> <td>   -0.341</td> <td>   -0.184</td>\n",
       "</tr>\n",
       "<tr>\n",
       "  <th>RAD</th>                <td>    0.1893</td> <td>    0.056</td> <td>    3.357</td> <td> 0.001</td> <td>    0.078</td> <td>    0.300</td>\n",
       "</tr>\n",
       "<tr>\n",
       "  <th>TAX</th>                <td>   -0.1717</td> <td>    0.059</td> <td>   -2.897</td> <td> 0.004</td> <td>   -0.288</td> <td>   -0.055</td>\n",
       "</tr>\n",
       "<tr>\n",
       "  <th>PTRATIO</th>            <td>   -0.2109</td> <td>    0.028</td> <td>   -7.477</td> <td> 0.000</td> <td>   -0.266</td> <td>   -0.155</td>\n",
       "</tr>\n",
       "<tr>\n",
       "  <th>B</th>                  <td>    0.0800</td> <td>    0.044</td> <td>    1.824</td> <td> 0.069</td> <td>   -0.006</td> <td>    0.166</td>\n",
       "</tr>\n",
       "<tr>\n",
       "  <th>LSTAT</th>              <td>   -0.4111</td> <td>    0.040</td> <td>  -10.280</td> <td> 0.000</td> <td>   -0.490</td> <td>   -0.333</td>\n",
       "</tr>\n",
       "<tr>\n",
       "  <th>C(CHAS)[T.1]:LSTAT</th> <td>   -0.2398</td> <td>    0.098</td> <td>   -2.457</td> <td> 0.014</td> <td>   -0.432</td> <td>   -0.048</td>\n",
       "</tr>\n",
       "</table>\n",
       "<table class=\"simpletable\">\n",
       "<tr>\n",
       "  <th>Omnibus:</th>       <td>199.113</td> <th>  Durbin-Watson:     </th> <td>   1.142</td> \n",
       "</tr>\n",
       "<tr>\n",
       "  <th>Prob(Omnibus):</th> <td> 0.000</td>  <th>  Jarque-Bera (JB):  </th> <td>1421.890</td> \n",
       "</tr>\n",
       "<tr>\n",
       "  <th>Skew:</th>          <td> 1.764</td>  <th>  Prob(JB):          </th> <td>1.74e-309</td>\n",
       "</tr>\n",
       "<tr>\n",
       "  <th>Kurtosis:</th>      <td>10.983</td>  <th>  Cond. No.          </th> <td>    8.20</td> \n",
       "</tr>\n",
       "</table><br/><br/>Warnings:<br/>[1] Standard Errors assume that the covariance matrix of the errors is correctly specified."
      ],
      "text/plain": [
       "<class 'statsmodels.iolib.summary.Summary'>\n",
       "\"\"\"\n",
       "                            OLS Regression Results                            \n",
       "==============================================================================\n",
       "Dep. Variable:                  price   R-squared:                       0.733\n",
       "Model:                            OLS   Adj. R-squared:                  0.727\n",
       "Method:                 Least Squares   F-statistic:                     120.2\n",
       "Date:                Mon, 02 Mar 2020   Prob (F-statistic):          1.02e-118\n",
       "Time:                        00:57:24   Log-Likelihood:                -303.60\n",
       "No. Observations:                 448   AIC:                             629.2\n",
       "Df Residuals:                     437   BIC:                             674.4\n",
       "Df Model:                          10                                         \n",
       "Covariance Type:            nonrobust                                         \n",
       "======================================================================================\n",
       "                         coef    std err          t      P>|t|      [0.025      0.975]\n",
       "--------------------------------------------------------------------------------------\n",
       "Intercept             -0.0472      0.025     -1.885      0.060      -0.096       0.002\n",
       "C(CHAS)[T.1]           0.3290      0.090      3.639      0.000       0.151       0.507\n",
       "NOX                   -0.1842      0.045     -4.091      0.000      -0.273      -0.096\n",
       "RM                     0.3610      0.035     10.222      0.000       0.292       0.430\n",
       "DIS                   -0.2628      0.040     -6.575      0.000      -0.341      -0.184\n",
       "RAD                    0.1893      0.056      3.357      0.001       0.078       0.300\n",
       "TAX                   -0.1717      0.059     -2.897      0.004      -0.288      -0.055\n",
       "PTRATIO               -0.2109      0.028     -7.477      0.000      -0.266      -0.155\n",
       "B                      0.0800      0.044      1.824      0.069      -0.006       0.166\n",
       "LSTAT                 -0.4111      0.040    -10.280      0.000      -0.490      -0.333\n",
       "C(CHAS)[T.1]:LSTAT    -0.2398      0.098     -2.457      0.014      -0.432      -0.048\n",
       "==============================================================================\n",
       "Omnibus:                      199.113   Durbin-Watson:                   1.142\n",
       "Prob(Omnibus):                  0.000   Jarque-Bera (JB):             1421.890\n",
       "Skew:                           1.764   Prob(JB):                    1.74e-309\n",
       "Kurtosis:                      10.983   Cond. No.                         8.20\n",
       "==============================================================================\n",
       "\n",
       "Warnings:\n",
       "[1] Standard Errors assume that the covariance matrix of the errors is correctly specified.\n",
       "\"\"\""
      ]
     },
     "metadata": {},
     "output_type": "display_data"
    },
    {
     "data": {
      "image/png": "[encoded data removed]",
      "text/plain": [
       "<Figure size 720x360 with 2 Axes>"
      ]
     },
     "metadata": {
      "needs_background": "light"
     },
     "output_type": "display_data"
    },
    {
     "data": {
      "text/plain": [
       "(<statsmodels.regression.linear_model.RegressionResultsWrapper at 0x1c29368d30>,\n",
       " 'price~C(CHAS)+NOX+RM+DIS+RAD+TAX+PTRATIO+B+LSTAT+C(CHAS)*LSTAT')"
      ]
     },
     "execution_count": 42,
     "metadata": {},
     "output_type": "execute_result"
    }
   ],
   "source": [
    "make_ols_f_ixn(df,ixn_cols=ixn_cols,**best_model_kws)"
   ]
  },
  {
   "cell_type": "markdown",
   "metadata": {
    "ExecuteTime": {
     "end_time": "2020-03-02T04:29:22.154576Z",
     "start_time": "2020-03-02T04:29:22.152322Z"
    }
   },
   "source": [
    "### Make interaction term pairs"
   ]
  },
  {
   "cell_type": "code",
   "execution_count": 43,
   "metadata": {
    "ExecuteTime": {
     "end_time": "2020-03-02T05:57:24.939561Z",
     "start_time": "2020-03-02T05:57:24.934783Z"
    }
   },
   "outputs": [
    {
     "data": {
      "text/plain": [
       "[('CHAS', 'NOX'),\n",
       " ('CHAS', 'RM'),\n",
       " ('CHAS', 'DIS'),\n",
       " ('CHAS', 'RAD'),\n",
       " ('CHAS', 'TAX')]"
      ]
     },
     "execution_count": 43,
     "metadata": {},
     "output_type": "execute_result"
    }
   ],
   "source": [
    "import itertools\n",
    "make_combs = df.drop(columns=['price',*best_model_kws['exclude_cols']]).columns\n",
    "col_pairs  = list(itertools.combinations(make_combs,2))\n",
    "col_pairs[:5]"
   ]
  },
  {
   "cell_type": "code",
   "execution_count": 44,
   "metadata": {
    "ExecuteTime": {
     "end_time": "2020-03-02T05:57:24.943443Z",
     "start_time": "2020-03-02T05:57:24.941052Z"
    }
   },
   "outputs": [],
   "source": [
    "best_model_kws['ixn_cols']=col_pairs"
   ]
  },
  {
   "cell_type": "code",
   "execution_count": 45,
   "metadata": {
    "ExecuteTime": {
     "end_time": "2020-03-02T05:57:25.304963Z",
     "start_time": "2020-03-02T05:57:24.944729Z"
    },
    "scrolled": false
   },
   "outputs": [
    {
     "data": {
      "text/html": [
       "<table class=\"simpletable\">\n",
       "<caption>OLS Regression Results</caption>\n",
       "<tr>\n",
       "  <th>Dep. Variable:</th>          <td>price</td>      <th>  R-squared:         </th> <td>   0.869</td> \n",
       "</tr>\n",
       "<tr>\n",
       "  <th>Model:</th>                   <td>OLS</td>       <th>  Adj. R-squared:    </th> <td>   0.854</td> \n",
       "</tr>\n",
       "<tr>\n",
       "  <th>Method:</th>             <td>Least Squares</td>  <th>  F-statistic:       </th> <td>   59.22</td> \n",
       "</tr>\n",
       "<tr>\n",
       "  <th>Date:</th>             <td>Mon, 02 Mar 2020</td> <th>  Prob (F-statistic):</th> <td>9.27e-150</td>\n",
       "</tr>\n",
       "<tr>\n",
       "  <th>Time:</th>                 <td>00:57:24</td>     <th>  Log-Likelihood:    </th> <td> -144.59</td> \n",
       "</tr>\n",
       "<tr>\n",
       "  <th>No. Observations:</th>      <td>   448</td>      <th>  AIC:               </th> <td>   381.2</td> \n",
       "</tr>\n",
       "<tr>\n",
       "  <th>Df Residuals:</th>          <td>   402</td>      <th>  BIC:               </th> <td>   570.0</td> \n",
       "</tr>\n",
       "<tr>\n",
       "  <th>Df Model:</th>              <td>    45</td>      <th>                     </th>     <td> </td>    \n",
       "</tr>\n",
       "<tr>\n",
       "  <th>Covariance Type:</th>      <td>nonrobust</td>    <th>                     </th>     <td> </td>    \n",
       "</tr>\n",
       "</table>\n",
       "<table class=\"simpletable\">\n",
       "<tr>\n",
       "            <td></td>              <th>coef</th>     <th>std err</th>      <th>t</th>      <th>P>|t|</th>  <th>[0.025</th>    <th>0.975]</th>  \n",
       "</tr>\n",
       "<tr>\n",
       "  <th>Intercept</th>            <td>   -0.2068</td> <td>    0.065</td> <td>   -3.180</td> <td> 0.002</td> <td>   -0.335</td> <td>   -0.079</td>\n",
       "</tr>\n",
       "<tr>\n",
       "  <th>C(CHAS)[T.1]</th>         <td>    0.3429</td> <td>    0.187</td> <td>    1.833</td> <td> 0.067</td> <td>   -0.025</td> <td>    0.711</td>\n",
       "</tr>\n",
       "<tr>\n",
       "  <th>NOX</th>                  <td>   -0.2766</td> <td>    0.058</td> <td>   -4.775</td> <td> 0.000</td> <td>   -0.391</td> <td>   -0.163</td>\n",
       "</tr>\n",
       "<tr>\n",
       "  <th>C(CHAS)[T.1]:NOX</th>     <td>   -0.4104</td> <td>    0.173</td> <td>   -2.372</td> <td> 0.018</td> <td>   -0.751</td> <td>   -0.070</td>\n",
       "</tr>\n",
       "<tr>\n",
       "  <th>RM</th>                   <td>    0.3523</td> <td>    0.034</td> <td>   10.241</td> <td> 0.000</td> <td>    0.285</td> <td>    0.420</td>\n",
       "</tr>\n",
       "<tr>\n",
       "  <th>C(CHAS)[T.1]:RM</th>      <td>   -0.1402</td> <td>    0.113</td> <td>   -1.243</td> <td> 0.215</td> <td>   -0.362</td> <td>    0.082</td>\n",
       "</tr>\n",
       "<tr>\n",
       "  <th>DIS</th>                  <td>   -0.4547</td> <td>    0.073</td> <td>   -6.196</td> <td> 0.000</td> <td>   -0.599</td> <td>   -0.310</td>\n",
       "</tr>\n",
       "<tr>\n",
       "  <th>C(CHAS)[T.1]:DIS</th>     <td>   -0.1100</td> <td>    0.300</td> <td>   -0.366</td> <td> 0.714</td> <td>   -0.701</td> <td>    0.481</td>\n",
       "</tr>\n",
       "<tr>\n",
       "  <th>RAD</th>                  <td>    0.1718</td> <td>    0.104</td> <td>    1.645</td> <td> 0.101</td> <td>   -0.034</td> <td>    0.377</td>\n",
       "</tr>\n",
       "<tr>\n",
       "  <th>C(CHAS)[T.1]:RAD</th>     <td>   -0.3173</td> <td>    0.392</td> <td>   -0.810</td> <td> 0.418</td> <td>   -1.087</td> <td>    0.452</td>\n",
       "</tr>\n",
       "<tr>\n",
       "  <th>TAX</th>                  <td>   -0.2577</td> <td>    0.113</td> <td>   -2.282</td> <td> 0.023</td> <td>   -0.480</td> <td>   -0.036</td>\n",
       "</tr>\n",
       "<tr>\n",
       "  <th>C(CHAS)[T.1]:TAX</th>     <td>    0.8590</td> <td>    0.506</td> <td>    1.698</td> <td> 0.090</td> <td>   -0.136</td> <td>    1.854</td>\n",
       "</tr>\n",
       "<tr>\n",
       "  <th>PTRATIO</th>              <td>   -0.0966</td> <td>    0.099</td> <td>   -0.973</td> <td> 0.331</td> <td>   -0.292</td> <td>    0.098</td>\n",
       "</tr>\n",
       "<tr>\n",
       "  <th>C(CHAS)[T.1]:PTRATIO</th> <td>   -0.0590</td> <td>    0.190</td> <td>   -0.310</td> <td> 0.757</td> <td>   -0.433</td> <td>    0.315</td>\n",
       "</tr>\n",
       "<tr>\n",
       "  <th>B</th>                    <td>    0.0987</td> <td>    0.087</td> <td>    1.140</td> <td> 0.255</td> <td>   -0.072</td> <td>    0.269</td>\n",
       "</tr>\n",
       "<tr>\n",
       "  <th>C(CHAS)[T.1]:B</th>       <td>    0.0683</td> <td>    0.164</td> <td>    0.416</td> <td> 0.678</td> <td>   -0.255</td> <td>    0.391</td>\n",
       "</tr>\n",
       "<tr>\n",
       "  <th>LSTAT</th>                <td>   -0.4623</td> <td>    0.043</td> <td>  -10.792</td> <td> 0.000</td> <td>   -0.546</td> <td>   -0.378</td>\n",
       "</tr>\n",
       "<tr>\n",
       "  <th>C(CHAS)[T.1]:LSTAT</th>   <td>   -0.0508</td> <td>    0.138</td> <td>   -0.369</td> <td> 0.712</td> <td>   -0.321</td> <td>    0.220</td>\n",
       "</tr>\n",
       "<tr>\n",
       "  <th>NOX:RM</th>               <td>   -0.0043</td> <td>    0.057</td> <td>   -0.074</td> <td> 0.941</td> <td>   -0.117</td> <td>    0.109</td>\n",
       "</tr>\n",
       "<tr>\n",
       "  <th>NOX:DIS</th>              <td>   -0.0540</td> <td>    0.058</td> <td>   -0.924</td> <td> 0.356</td> <td>   -0.169</td> <td>    0.061</td>\n",
       "</tr>\n",
       "<tr>\n",
       "  <th>NOX:RAD</th>              <td>   -0.3440</td> <td>    0.130</td> <td>   -2.637</td> <td> 0.009</td> <td>   -0.600</td> <td>   -0.088</td>\n",
       "</tr>\n",
       "<tr>\n",
       "  <th>NOX:TAX</th>              <td>    0.2994</td> <td>    0.136</td> <td>    2.210</td> <td> 0.028</td> <td>    0.033</td> <td>    0.566</td>\n",
       "</tr>\n",
       "<tr>\n",
       "  <th>NOX:PTRATIO</th>          <td>    0.0151</td> <td>    0.059</td> <td>    0.259</td> <td> 0.796</td> <td>   -0.100</td> <td>    0.130</td>\n",
       "</tr>\n",
       "<tr>\n",
       "  <th>NOX:B</th>                <td>    0.0349</td> <td>    0.059</td> <td>    0.591</td> <td> 0.555</td> <td>   -0.081</td> <td>    0.151</td>\n",
       "</tr>\n",
       "<tr>\n",
       "  <th>NOX:LSTAT</th>            <td>   -0.0199</td> <td>    0.057</td> <td>   -0.349</td> <td> 0.727</td> <td>   -0.132</td> <td>    0.092</td>\n",
       "</tr>\n",
       "<tr>\n",
       "  <th>RM:DIS</th>               <td>    0.0754</td> <td>    0.045</td> <td>    1.681</td> <td> 0.093</td> <td>   -0.013</td> <td>    0.164</td>\n",
       "</tr>\n",
       "<tr>\n",
       "  <th>RM:RAD</th>               <td>   -0.0983</td> <td>    0.088</td> <td>   -1.116</td> <td> 0.265</td> <td>   -0.271</td> <td>    0.075</td>\n",
       "</tr>\n",
       "<tr>\n",
       "  <th>RM:TAX</th>               <td>   -0.0229</td> <td>    0.093</td> <td>   -0.247</td> <td> 0.805</td> <td>   -0.205</td> <td>    0.159</td>\n",
       "</tr>\n",
       "<tr>\n",
       "  <th>RM:PTRATIO</th>           <td>   -0.1014</td> <td>    0.033</td> <td>   -3.062</td> <td> 0.002</td> <td>   -0.167</td> <td>   -0.036</td>\n",
       "</tr>\n",
       "<tr>\n",
       "  <th>RM:B</th>                 <td>   -0.1600</td> <td>    0.058</td> <td>   -2.738</td> <td> 0.006</td> <td>   -0.275</td> <td>   -0.045</td>\n",
       "</tr>\n",
       "<tr>\n",
       "  <th>RM:LSTAT</th>             <td>   -0.1905</td> <td>    0.031</td> <td>   -6.234</td> <td> 0.000</td> <td>   -0.251</td> <td>   -0.130</td>\n",
       "</tr>\n",
       "<tr>\n",
       "  <th>DIS:RAD</th>              <td>   -0.3657</td> <td>    0.105</td> <td>   -3.487</td> <td> 0.001</td> <td>   -0.572</td> <td>   -0.160</td>\n",
       "</tr>\n",
       "<tr>\n",
       "  <th>DIS:TAX</th>              <td>    0.0755</td> <td>    0.098</td> <td>    0.767</td> <td> 0.443</td> <td>   -0.118</td> <td>    0.269</td>\n",
       "</tr>\n",
       "<tr>\n",
       "  <th>DIS:PTRATIO</th>          <td>    0.0840</td> <td>    0.046</td> <td>    1.811</td> <td> 0.071</td> <td>   -0.007</td> <td>    0.175</td>\n",
       "</tr>\n",
       "<tr>\n",
       "  <th>DIS:B</th>                <td>    0.2517</td> <td>    0.146</td> <td>    1.719</td> <td> 0.086</td> <td>   -0.036</td> <td>    0.540</td>\n",
       "</tr>\n",
       "<tr>\n",
       "  <th>DIS:LSTAT</th>            <td>    0.0811</td> <td>    0.061</td> <td>    1.333</td> <td> 0.183</td> <td>   -0.039</td> <td>    0.201</td>\n",
       "</tr>\n",
       "<tr>\n",
       "  <th>RAD:TAX</th>              <td>   -0.0209</td> <td>    0.092</td> <td>   -0.228</td> <td> 0.819</td> <td>   -0.201</td> <td>    0.159</td>\n",
       "</tr>\n",
       "<tr>\n",
       "  <th>RAD:PTRATIO</th>          <td>    0.0216</td> <td>    0.153</td> <td>    0.141</td> <td> 0.888</td> <td>   -0.279</td> <td>    0.322</td>\n",
       "</tr>\n",
       "<tr>\n",
       "  <th>RAD:B</th>                <td>   -0.1647</td> <td>    0.209</td> <td>   -0.787</td> <td> 0.432</td> <td>   -0.576</td> <td>    0.247</td>\n",
       "</tr>\n",
       "<tr>\n",
       "  <th>RAD:LSTAT</th>            <td>   -0.2020</td> <td>    0.106</td> <td>   -1.903</td> <td> 0.058</td> <td>   -0.411</td> <td>    0.007</td>\n",
       "</tr>\n",
       "<tr>\n",
       "  <th>TAX:PTRATIO</th>          <td>    0.0775</td> <td>    0.071</td> <td>    1.088</td> <td> 0.277</td> <td>   -0.063</td> <td>    0.218</td>\n",
       "</tr>\n",
       "<tr>\n",
       "  <th>TAX:B</th>                <td>    0.2730</td> <td>    0.270</td> <td>    1.011</td> <td> 0.313</td> <td>   -0.258</td> <td>    0.804</td>\n",
       "</tr>\n",
       "<tr>\n",
       "  <th>TAX:LSTAT</th>            <td>   -0.0895</td> <td>    0.122</td> <td>   -0.735</td> <td> 0.463</td> <td>   -0.329</td> <td>    0.150</td>\n",
       "</tr>\n",
       "<tr>\n",
       "  <th>PTRATIO:B</th>            <td>    0.0143</td> <td>    0.068</td> <td>    0.211</td> <td> 0.833</td> <td>   -0.119</td> <td>    0.147</td>\n",
       "</tr>\n",
       "<tr>\n",
       "  <th>PTRATIO:LSTAT</th>        <td>   -0.0282</td> <td>    0.044</td> <td>   -0.643</td> <td> 0.520</td> <td>   -0.114</td> <td>    0.058</td>\n",
       "</tr>\n",
       "<tr>\n",
       "  <th>B:LSTAT</th>              <td>   -0.1050</td> <td>    0.059</td> <td>   -1.774</td> <td> 0.077</td> <td>   -0.221</td> <td>    0.011</td>\n",
       "</tr>\n",
       "</table>\n",
       "<table class=\"simpletable\">\n",
       "<tr>\n",
       "  <th>Omnibus:</th>       <td>75.743</td> <th>  Durbin-Watson:     </th> <td>   1.429</td>\n",
       "</tr>\n",
       "<tr>\n",
       "  <th>Prob(Omnibus):</th> <td> 0.000</td> <th>  Jarque-Bera (JB):  </th> <td> 290.893</td>\n",
       "</tr>\n",
       "<tr>\n",
       "  <th>Skew:</th>          <td> 0.701</td> <th>  Prob(JB):          </th> <td>6.81e-64</td>\n",
       "</tr>\n",
       "<tr>\n",
       "  <th>Kurtosis:</th>      <td> 6.690</td> <th>  Cond. No.          </th> <td>    122.</td>\n",
       "</tr>\n",
       "</table><br/><br/>Warnings:<br/>[1] Standard Errors assume that the covariance matrix of the errors is correctly specified."
      ],
      "text/plain": [
       "<class 'statsmodels.iolib.summary.Summary'>\n",
       "\"\"\"\n",
       "                            OLS Regression Results                            \n",
       "==============================================================================\n",
       "Dep. Variable:                  price   R-squared:                       0.869\n",
       "Model:                            OLS   Adj. R-squared:                  0.854\n",
       "Method:                 Least Squares   F-statistic:                     59.22\n",
       "Date:                Mon, 02 Mar 2020   Prob (F-statistic):          9.27e-150\n",
       "Time:                        00:57:24   Log-Likelihood:                -144.59\n",
       "No. Observations:                 448   AIC:                             381.2\n",
       "Df Residuals:                     402   BIC:                             570.0\n",
       "Df Model:                          45                                         \n",
       "Covariance Type:            nonrobust                                         \n",
       "========================================================================================\n",
       "                           coef    std err          t      P>|t|      [0.025      0.975]\n",
       "----------------------------------------------------------------------------------------\n",
       "Intercept               -0.2068      0.065     -3.180      0.002      -0.335      -0.079\n",
       "C(CHAS)[T.1]             0.3429      0.187      1.833      0.067      -0.025       0.711\n",
       "NOX                     -0.2766      0.058     -4.775      0.000      -0.391      -0.163\n",
       "C(CHAS)[T.1]:NOX        -0.4104      0.173     -2.372      0.018      -0.751      -0.070\n",
       "RM                       0.3523      0.034     10.241      0.000       0.285       0.420\n",
       "C(CHAS)[T.1]:RM         -0.1402      0.113     -1.243      0.215      -0.362       0.082\n",
       "DIS                     -0.4547      0.073     -6.196      0.000      -0.599      -0.310\n",
       "C(CHAS)[T.1]:DIS        -0.1100      0.300     -0.366      0.714      -0.701       0.481\n",
       "RAD                      0.1718      0.104      1.645      0.101      -0.034       0.377\n",
       "C(CHAS)[T.1]:RAD        -0.3173      0.392     -0.810      0.418      -1.087       0.452\n",
       "TAX                     -0.2577      0.113     -2.282      0.023      -0.480      -0.036\n",
       "C(CHAS)[T.1]:TAX         0.8590      0.506      1.698      0.090      -0.136       1.854\n",
       "PTRATIO                 -0.0966      0.099     -0.973      0.331      -0.292       0.098\n",
       "C(CHAS)[T.1]:PTRATIO    -0.0590      0.190     -0.310      0.757      -0.433       0.315\n",
       "B                        0.0987      0.087      1.140      0.255      -0.072       0.269\n",
       "C(CHAS)[T.1]:B           0.0683      0.164      0.416      0.678      -0.255       0.391\n",
       "LSTAT                   -0.4623      0.043    -10.792      0.000      -0.546      -0.378\n",
       "C(CHAS)[T.1]:LSTAT      -0.0508      0.138     -0.369      0.712      -0.321       0.220\n",
       "NOX:RM                  -0.0043      0.057     -0.074      0.941      -0.117       0.109\n",
       "NOX:DIS                 -0.0540      0.058     -0.924      0.356      -0.169       0.061\n",
       "NOX:RAD                 -0.3440      0.130     -2.637      0.009      -0.600      -0.088\n",
       "NOX:TAX                  0.2994      0.136      2.210      0.028       0.033       0.566\n",
       "NOX:PTRATIO              0.0151      0.059      0.259      0.796      -0.100       0.130\n",
       "NOX:B                    0.0349      0.059      0.591      0.555      -0.081       0.151\n",
       "NOX:LSTAT               -0.0199      0.057     -0.349      0.727      -0.132       0.092\n",
       "RM:DIS                   0.0754      0.045      1.681      0.093      -0.013       0.164\n",
       "RM:RAD                  -0.0983      0.088     -1.116      0.265      -0.271       0.075\n",
       "RM:TAX                  -0.0229      0.093     -0.247      0.805      -0.205       0.159\n",
       "RM:PTRATIO              -0.1014      0.033     -3.062      0.002      -0.167      -0.036\n",
       "RM:B                    -0.1600      0.058     -2.738      0.006      -0.275      -0.045\n",
       "RM:LSTAT                -0.1905      0.031     -6.234      0.000      -0.251      -0.130\n",
       "DIS:RAD                 -0.3657      0.105     -3.487      0.001      -0.572      -0.160\n",
       "DIS:TAX                  0.0755      0.098      0.767      0.443      -0.118       0.269\n",
       "DIS:PTRATIO              0.0840      0.046      1.811      0.071      -0.007       0.175\n",
       "DIS:B                    0.2517      0.146      1.719      0.086      -0.036       0.540\n",
       "DIS:LSTAT                0.0811      0.061      1.333      0.183      -0.039       0.201\n",
       "RAD:TAX                 -0.0209      0.092     -0.228      0.819      -0.201       0.159\n",
       "RAD:PTRATIO              0.0216      0.153      0.141      0.888      -0.279       0.322\n",
       "RAD:B                   -0.1647      0.209     -0.787      0.432      -0.576       0.247\n",
       "RAD:LSTAT               -0.2020      0.106     -1.903      0.058      -0.411       0.007\n",
       "TAX:PTRATIO              0.0775      0.071      1.088      0.277      -0.063       0.218\n",
       "TAX:B                    0.2730      0.270      1.011      0.313      -0.258       0.804\n",
       "TAX:LSTAT               -0.0895      0.122     -0.735      0.463      -0.329       0.150\n",
       "PTRATIO:B                0.0143      0.068      0.211      0.833      -0.119       0.147\n",
       "PTRATIO:LSTAT           -0.0282      0.044     -0.643      0.520      -0.114       0.058\n",
       "B:LSTAT                 -0.1050      0.059     -1.774      0.077      -0.221       0.011\n",
       "==============================================================================\n",
       "Omnibus:                       75.743   Durbin-Watson:                   1.429\n",
       "Prob(Omnibus):                  0.000   Jarque-Bera (JB):              290.893\n",
       "Skew:                           0.701   Prob(JB):                     6.81e-64\n",
       "Kurtosis:                       6.690   Cond. No.                         122.\n",
       "==============================================================================\n",
       "\n",
       "Warnings:\n",
       "[1] Standard Errors assume that the covariance matrix of the errors is correctly specified.\n",
       "\"\"\""
      ]
     },
     "metadata": {},
     "output_type": "display_data"
    },
    {
     "data": {
      "image/png": "[encoded data removed]",
      "text/plain": [
       "<Figure size 720x360 with 2 Axes>"
      ]
     },
     "metadata": {
      "needs_background": "light"
     },
     "output_type": "display_data"
    },
    {
     "data": {
      "text/html": [
       "<div>\n",
       "<style scoped>\n",
       "    .dataframe tbody tr th:only-of-type {\n",
       "        vertical-align: middle;\n",
       "    }\n",
       "\n",
       "    .dataframe tbody tr th {\n",
       "        vertical-align: top;\n",
       "    }\n",
       "\n",
       "    .dataframe thead th {\n",
       "        text-align: right;\n",
       "    }\n",
       "</style>\n",
       "<table border=\"1\" class=\"dataframe\">\n",
       "  <thead>\n",
       "    <tr style=\"text-align: right;\">\n",
       "      <th></th>\n",
       "      <th>p-value</th>\n",
       "      <th>coeff</th>\n",
       "      <th>sig</th>\n",
       "    </tr>\n",
       "  </thead>\n",
       "  <tbody>\n",
       "    <tr>\n",
       "      <td>C(CHAS)[T.1]:NOX</td>\n",
       "      <td>0.0182</td>\n",
       "      <td>-0.4104</td>\n",
       "      <td>True</td>\n",
       "    </tr>\n",
       "    <tr>\n",
       "      <td>DIS</td>\n",
       "      <td>0.0000</td>\n",
       "      <td>-0.4547</td>\n",
       "      <td>True</td>\n",
       "    </tr>\n",
       "    <tr>\n",
       "      <td>DIS:RAD</td>\n",
       "      <td>0.0005</td>\n",
       "      <td>-0.3657</td>\n",
       "      <td>True</td>\n",
       "    </tr>\n",
       "    <tr>\n",
       "      <td>Intercept</td>\n",
       "      <td>0.0016</td>\n",
       "      <td>-0.2068</td>\n",
       "      <td>True</td>\n",
       "    </tr>\n",
       "    <tr>\n",
       "      <td>LSTAT</td>\n",
       "      <td>0.0000</td>\n",
       "      <td>-0.4623</td>\n",
       "      <td>True</td>\n",
       "    </tr>\n",
       "    <tr>\n",
       "      <td>NOX</td>\n",
       "      <td>0.0000</td>\n",
       "      <td>-0.2766</td>\n",
       "      <td>True</td>\n",
       "    </tr>\n",
       "    <tr>\n",
       "      <td>NOX:RAD</td>\n",
       "      <td>0.0087</td>\n",
       "      <td>-0.3440</td>\n",
       "      <td>True</td>\n",
       "    </tr>\n",
       "    <tr>\n",
       "      <td>NOX:TAX</td>\n",
       "      <td>0.0277</td>\n",
       "      <td>0.2994</td>\n",
       "      <td>True</td>\n",
       "    </tr>\n",
       "    <tr>\n",
       "      <td>RM</td>\n",
       "      <td>0.0000</td>\n",
       "      <td>0.3523</td>\n",
       "      <td>True</td>\n",
       "    </tr>\n",
       "    <tr>\n",
       "      <td>RM:B</td>\n",
       "      <td>0.0064</td>\n",
       "      <td>-0.1600</td>\n",
       "      <td>True</td>\n",
       "    </tr>\n",
       "    <tr>\n",
       "      <td>RM:LSTAT</td>\n",
       "      <td>0.0000</td>\n",
       "      <td>-0.1905</td>\n",
       "      <td>True</td>\n",
       "    </tr>\n",
       "    <tr>\n",
       "      <td>RM:PTRATIO</td>\n",
       "      <td>0.0023</td>\n",
       "      <td>-0.1014</td>\n",
       "      <td>True</td>\n",
       "    </tr>\n",
       "    <tr>\n",
       "      <td>TAX</td>\n",
       "      <td>0.0230</td>\n",
       "      <td>-0.2577</td>\n",
       "      <td>True</td>\n",
       "    </tr>\n",
       "  </tbody>\n",
       "</table>\n",
       "</div>"
      ],
      "text/plain": [
       "                  p-value   coeff   sig\n",
       "C(CHAS)[T.1]:NOX   0.0182 -0.4104  True\n",
       "DIS                0.0000 -0.4547  True\n",
       "DIS:RAD            0.0005 -0.3657  True\n",
       "Intercept          0.0016 -0.2068  True\n",
       "LSTAT              0.0000 -0.4623  True\n",
       "NOX                0.0000 -0.2766  True\n",
       "NOX:RAD            0.0087 -0.3440  True\n",
       "NOX:TAX            0.0277  0.2994  True\n",
       "RM                 0.0000  0.3523  True\n",
       "RM:B               0.0064 -0.1600  True\n",
       "RM:LSTAT           0.0000 -0.1905  True\n",
       "RM:PTRATIO         0.0023 -0.1014  True\n",
       "TAX                0.0230 -0.2577  True"
      ]
     },
     "execution_count": 45,
     "metadata": {},
     "output_type": "execute_result"
    }
   ],
   "source": [
    "model,f = make_ols_f_ixn(df,**best_model_kws,)\n",
    "# help(get_model_params(model).sort_index().style.background_gradient)\n",
    "params= get_model_params(model).sort_index()\n",
    "params.loc[params['sig']==True]"
   ]
  },
  {
   "cell_type": "code",
   "execution_count": 46,
   "metadata": {
    "ExecuteTime": {
     "end_time": "2020-03-02T05:57:25.336685Z",
     "start_time": "2020-03-02T05:57:25.306208Z"
    },
    "scrolled": false
   },
   "outputs": [
    {
     "data": {
      "text/html": [
       "<style  type=\"text/css\" >\n",
       "    #T_b0e3e228_5c4a_11ea_a3ab_acde48001122row0_col0 {\n",
       "            color: red;\n",
       "        }    #T_b0e3e228_5c4a_11ea_a3ab_acde48001122row1_col0 {\n",
       "            color: red;\n",
       "        }    #T_b0e3e228_5c4a_11ea_a3ab_acde48001122row2_col0 {\n",
       "            color: red;\n",
       "        }    #T_b0e3e228_5c4a_11ea_a3ab_acde48001122row3_col0 {\n",
       "            color: red;\n",
       "        }    #T_b0e3e228_5c4a_11ea_a3ab_acde48001122row4_col0 {\n",
       "            color: red;\n",
       "        }    #T_b0e3e228_5c4a_11ea_a3ab_acde48001122row5_col0 {\n",
       "            color: red;\n",
       "        }    #T_b0e3e228_5c4a_11ea_a3ab_acde48001122row6_col0 {\n",
       "            color: green;\n",
       "        }    #T_b0e3e228_5c4a_11ea_a3ab_acde48001122row7_col0 {\n",
       "            color: red;\n",
       "        }    #T_b0e3e228_5c4a_11ea_a3ab_acde48001122row8_col0 {\n",
       "            color: red;\n",
       "        }    #T_b0e3e228_5c4a_11ea_a3ab_acde48001122row9_col0 {\n",
       "            color: red;\n",
       "        }    #T_b0e3e228_5c4a_11ea_a3ab_acde48001122row10_col0 {\n",
       "            color: red;\n",
       "        }    #T_b0e3e228_5c4a_11ea_a3ab_acde48001122row11_col0 {\n",
       "            color: green;\n",
       "        }    #T_b0e3e228_5c4a_11ea_a3ab_acde48001122row12_col0 {\n",
       "            color: red;\n",
       "        }    #T_b0e3e228_5c4a_11ea_a3ab_acde48001122row13_col0 {\n",
       "            color: red;\n",
       "        }    #T_b0e3e228_5c4a_11ea_a3ab_acde48001122row14_col0 {\n",
       "            color: red;\n",
       "        }    #T_b0e3e228_5c4a_11ea_a3ab_acde48001122row15_col0 {\n",
       "            color: green;\n",
       "        }    #T_b0e3e228_5c4a_11ea_a3ab_acde48001122row16_col0 {\n",
       "            color: red;\n",
       "        }    #T_b0e3e228_5c4a_11ea_a3ab_acde48001122row17_col0 {\n",
       "            color: green;\n",
       "        }    #T_b0e3e228_5c4a_11ea_a3ab_acde48001122row18_col0 {\n",
       "            color: green;\n",
       "        }    #T_b0e3e228_5c4a_11ea_a3ab_acde48001122row19_col0 {\n",
       "            color: green;\n",
       "        }    #T_b0e3e228_5c4a_11ea_a3ab_acde48001122row20_col0 {\n",
       "            color: red;\n",
       "        }    #T_b0e3e228_5c4a_11ea_a3ab_acde48001122row21_col0 {\n",
       "            color: red;\n",
       "        }    #T_b0e3e228_5c4a_11ea_a3ab_acde48001122row22_col0 {\n",
       "            color: red;\n",
       "        }    #T_b0e3e228_5c4a_11ea_a3ab_acde48001122row23_col0 {\n",
       "            color: red;\n",
       "        }    #T_b0e3e228_5c4a_11ea_a3ab_acde48001122row24_col0 {\n",
       "            color: green;\n",
       "        }    #T_b0e3e228_5c4a_11ea_a3ab_acde48001122row25_col0 {\n",
       "            color: red;\n",
       "        }    #T_b0e3e228_5c4a_11ea_a3ab_acde48001122row26_col0 {\n",
       "            color: green;\n",
       "        }    #T_b0e3e228_5c4a_11ea_a3ab_acde48001122row27_col0 {\n",
       "            color: red;\n",
       "        }    #T_b0e3e228_5c4a_11ea_a3ab_acde48001122row28_col0 {\n",
       "            color: red;\n",
       "        }    #T_b0e3e228_5c4a_11ea_a3ab_acde48001122row29_col0 {\n",
       "            color: red;\n",
       "        }    #T_b0e3e228_5c4a_11ea_a3ab_acde48001122row30_col0 {\n",
       "            color: red;\n",
       "        }    #T_b0e3e228_5c4a_11ea_a3ab_acde48001122row31_col0 {\n",
       "            color: red;\n",
       "        }    #T_b0e3e228_5c4a_11ea_a3ab_acde48001122row32_col0 {\n",
       "            color: red;\n",
       "        }    #T_b0e3e228_5c4a_11ea_a3ab_acde48001122row33_col0 {\n",
       "            color: red;\n",
       "        }    #T_b0e3e228_5c4a_11ea_a3ab_acde48001122row34_col0 {\n",
       "            color: red;\n",
       "        }    #T_b0e3e228_5c4a_11ea_a3ab_acde48001122row35_col0 {\n",
       "            color: green;\n",
       "        }    #T_b0e3e228_5c4a_11ea_a3ab_acde48001122row36_col0 {\n",
       "            color: green;\n",
       "        }    #T_b0e3e228_5c4a_11ea_a3ab_acde48001122row37_col0 {\n",
       "            color: red;\n",
       "        }    #T_b0e3e228_5c4a_11ea_a3ab_acde48001122row38_col0 {\n",
       "            color: green;\n",
       "        }    #T_b0e3e228_5c4a_11ea_a3ab_acde48001122row39_col0 {\n",
       "            color: green;\n",
       "        }    #T_b0e3e228_5c4a_11ea_a3ab_acde48001122row40_col0 {\n",
       "            color: red;\n",
       "        }    #T_b0e3e228_5c4a_11ea_a3ab_acde48001122row41_col0 {\n",
       "            color: red;\n",
       "        }    #T_b0e3e228_5c4a_11ea_a3ab_acde48001122row42_col0 {\n",
       "            color: green;\n",
       "        }    #T_b0e3e228_5c4a_11ea_a3ab_acde48001122row43_col0 {\n",
       "            color: red;\n",
       "        }    #T_b0e3e228_5c4a_11ea_a3ab_acde48001122row44_col0 {\n",
       "            color: red;\n",
       "        }    #T_b0e3e228_5c4a_11ea_a3ab_acde48001122row45_col0 {\n",
       "            color: red;\n",
       "        }</style><table id=\"T_b0e3e228_5c4a_11ea_a3ab_acde48001122\" ><thead>    <tr>        <th class=\"blank level0\" ></th>        <th class=\"col_heading level0 col0\" >p-value</th>        <th class=\"col_heading level0 col1\" >coeff</th>        <th class=\"col_heading level0 col2\" >sig</th>    </tr></thead><tbody>\n",
       "                <tr>\n",
       "                        <th id=\"T_b0e3e228_5c4a_11ea_a3ab_acde48001122level0_row0\" class=\"row_heading level0 row0\" >B</th>\n",
       "                        <td id=\"T_b0e3e228_5c4a_11ea_a3ab_acde48001122row0_col0\" class=\"data row0 col0\" >0.255</td>\n",
       "                        <td id=\"T_b0e3e228_5c4a_11ea_a3ab_acde48001122row0_col1\" class=\"data row0 col1\" >0.0987</td>\n",
       "                        <td id=\"T_b0e3e228_5c4a_11ea_a3ab_acde48001122row0_col2\" class=\"data row0 col2\" >False</td>\n",
       "            </tr>\n",
       "            <tr>\n",
       "                        <th id=\"T_b0e3e228_5c4a_11ea_a3ab_acde48001122level0_row1\" class=\"row_heading level0 row1\" >B:LSTAT</th>\n",
       "                        <td id=\"T_b0e3e228_5c4a_11ea_a3ab_acde48001122row1_col0\" class=\"data row1 col0\" >0.0768</td>\n",
       "                        <td id=\"T_b0e3e228_5c4a_11ea_a3ab_acde48001122row1_col1\" class=\"data row1 col1\" >-0.105</td>\n",
       "                        <td id=\"T_b0e3e228_5c4a_11ea_a3ab_acde48001122row1_col2\" class=\"data row1 col2\" >False</td>\n",
       "            </tr>\n",
       "            <tr>\n",
       "                        <th id=\"T_b0e3e228_5c4a_11ea_a3ab_acde48001122level0_row2\" class=\"row_heading level0 row2\" >C(CHAS)[T.1]</th>\n",
       "                        <td id=\"T_b0e3e228_5c4a_11ea_a3ab_acde48001122row2_col0\" class=\"data row2 col0\" >0.0675</td>\n",
       "                        <td id=\"T_b0e3e228_5c4a_11ea_a3ab_acde48001122row2_col1\" class=\"data row2 col1\" >0.3429</td>\n",
       "                        <td id=\"T_b0e3e228_5c4a_11ea_a3ab_acde48001122row2_col2\" class=\"data row2 col2\" >False</td>\n",
       "            </tr>\n",
       "            <tr>\n",
       "                        <th id=\"T_b0e3e228_5c4a_11ea_a3ab_acde48001122level0_row3\" class=\"row_heading level0 row3\" >C(CHAS)[T.1]:B</th>\n",
       "                        <td id=\"T_b0e3e228_5c4a_11ea_a3ab_acde48001122row3_col0\" class=\"data row3 col0\" >0.6779</td>\n",
       "                        <td id=\"T_b0e3e228_5c4a_11ea_a3ab_acde48001122row3_col1\" class=\"data row3 col1\" >0.0683</td>\n",
       "                        <td id=\"T_b0e3e228_5c4a_11ea_a3ab_acde48001122row3_col2\" class=\"data row3 col2\" >False</td>\n",
       "            </tr>\n",
       "            <tr>\n",
       "                        <th id=\"T_b0e3e228_5c4a_11ea_a3ab_acde48001122level0_row4\" class=\"row_heading level0 row4\" >C(CHAS)[T.1]:DIS</th>\n",
       "                        <td id=\"T_b0e3e228_5c4a_11ea_a3ab_acde48001122row4_col0\" class=\"data row4 col0\" >0.7144</td>\n",
       "                        <td id=\"T_b0e3e228_5c4a_11ea_a3ab_acde48001122row4_col1\" class=\"data row4 col1\" >-0.11</td>\n",
       "                        <td id=\"T_b0e3e228_5c4a_11ea_a3ab_acde48001122row4_col2\" class=\"data row4 col2\" >False</td>\n",
       "            </tr>\n",
       "            <tr>\n",
       "                        <th id=\"T_b0e3e228_5c4a_11ea_a3ab_acde48001122level0_row5\" class=\"row_heading level0 row5\" >C(CHAS)[T.1]:LSTAT</th>\n",
       "                        <td id=\"T_b0e3e228_5c4a_11ea_a3ab_acde48001122row5_col0\" class=\"data row5 col0\" >0.7122</td>\n",
       "                        <td id=\"T_b0e3e228_5c4a_11ea_a3ab_acde48001122row5_col1\" class=\"data row5 col1\" >-0.0508</td>\n",
       "                        <td id=\"T_b0e3e228_5c4a_11ea_a3ab_acde48001122row5_col2\" class=\"data row5 col2\" >False</td>\n",
       "            </tr>\n",
       "            <tr>\n",
       "                        <th id=\"T_b0e3e228_5c4a_11ea_a3ab_acde48001122level0_row6\" class=\"row_heading level0 row6\" >C(CHAS)[T.1]:NOX</th>\n",
       "                        <td id=\"T_b0e3e228_5c4a_11ea_a3ab_acde48001122row6_col0\" class=\"data row6 col0\" >0.0182</td>\n",
       "                        <td id=\"T_b0e3e228_5c4a_11ea_a3ab_acde48001122row6_col1\" class=\"data row6 col1\" >-0.4104</td>\n",
       "                        <td id=\"T_b0e3e228_5c4a_11ea_a3ab_acde48001122row6_col2\" class=\"data row6 col2\" >True</td>\n",
       "            </tr>\n",
       "            <tr>\n",
       "                        <th id=\"T_b0e3e228_5c4a_11ea_a3ab_acde48001122level0_row7\" class=\"row_heading level0 row7\" >C(CHAS)[T.1]:PTRATIO</th>\n",
       "                        <td id=\"T_b0e3e228_5c4a_11ea_a3ab_acde48001122row7_col0\" class=\"data row7 col0\" >0.7566</td>\n",
       "                        <td id=\"T_b0e3e228_5c4a_11ea_a3ab_acde48001122row7_col1\" class=\"data row7 col1\" >-0.059</td>\n",
       "                        <td id=\"T_b0e3e228_5c4a_11ea_a3ab_acde48001122row7_col2\" class=\"data row7 col2\" >False</td>\n",
       "            </tr>\n",
       "            <tr>\n",
       "                        <th id=\"T_b0e3e228_5c4a_11ea_a3ab_acde48001122level0_row8\" class=\"row_heading level0 row8\" >C(CHAS)[T.1]:RAD</th>\n",
       "                        <td id=\"T_b0e3e228_5c4a_11ea_a3ab_acde48001122row8_col0\" class=\"data row8 col0\" >0.4182</td>\n",
       "                        <td id=\"T_b0e3e228_5c4a_11ea_a3ab_acde48001122row8_col1\" class=\"data row8 col1\" >-0.3173</td>\n",
       "                        <td id=\"T_b0e3e228_5c4a_11ea_a3ab_acde48001122row8_col2\" class=\"data row8 col2\" >False</td>\n",
       "            </tr>\n",
       "            <tr>\n",
       "                        <th id=\"T_b0e3e228_5c4a_11ea_a3ab_acde48001122level0_row9\" class=\"row_heading level0 row9\" >C(CHAS)[T.1]:RM</th>\n",
       "                        <td id=\"T_b0e3e228_5c4a_11ea_a3ab_acde48001122row9_col0\" class=\"data row9 col0\" >0.2146</td>\n",
       "                        <td id=\"T_b0e3e228_5c4a_11ea_a3ab_acde48001122row9_col1\" class=\"data row9 col1\" >-0.1402</td>\n",
       "                        <td id=\"T_b0e3e228_5c4a_11ea_a3ab_acde48001122row9_col2\" class=\"data row9 col2\" >False</td>\n",
       "            </tr>\n",
       "            <tr>\n",
       "                        <th id=\"T_b0e3e228_5c4a_11ea_a3ab_acde48001122level0_row10\" class=\"row_heading level0 row10\" >C(CHAS)[T.1]:TAX</th>\n",
       "                        <td id=\"T_b0e3e228_5c4a_11ea_a3ab_acde48001122row10_col0\" class=\"data row10 col0\" >0.0903</td>\n",
       "                        <td id=\"T_b0e3e228_5c4a_11ea_a3ab_acde48001122row10_col1\" class=\"data row10 col1\" >0.859</td>\n",
       "                        <td id=\"T_b0e3e228_5c4a_11ea_a3ab_acde48001122row10_col2\" class=\"data row10 col2\" >False</td>\n",
       "            </tr>\n",
       "            <tr>\n",
       "                        <th id=\"T_b0e3e228_5c4a_11ea_a3ab_acde48001122level0_row11\" class=\"row_heading level0 row11\" >DIS</th>\n",
       "                        <td id=\"T_b0e3e228_5c4a_11ea_a3ab_acde48001122row11_col0\" class=\"data row11 col0\" >0</td>\n",
       "                        <td id=\"T_b0e3e228_5c4a_11ea_a3ab_acde48001122row11_col1\" class=\"data row11 col1\" >-0.4547</td>\n",
       "                        <td id=\"T_b0e3e228_5c4a_11ea_a3ab_acde48001122row11_col2\" class=\"data row11 col2\" >True</td>\n",
       "            </tr>\n",
       "            <tr>\n",
       "                        <th id=\"T_b0e3e228_5c4a_11ea_a3ab_acde48001122level0_row12\" class=\"row_heading level0 row12\" >DIS:B</th>\n",
       "                        <td id=\"T_b0e3e228_5c4a_11ea_a3ab_acde48001122row12_col0\" class=\"data row12 col0\" >0.0864</td>\n",
       "                        <td id=\"T_b0e3e228_5c4a_11ea_a3ab_acde48001122row12_col1\" class=\"data row12 col1\" >0.2517</td>\n",
       "                        <td id=\"T_b0e3e228_5c4a_11ea_a3ab_acde48001122row12_col2\" class=\"data row12 col2\" >False</td>\n",
       "            </tr>\n",
       "            <tr>\n",
       "                        <th id=\"T_b0e3e228_5c4a_11ea_a3ab_acde48001122level0_row13\" class=\"row_heading level0 row13\" >DIS:LSTAT</th>\n",
       "                        <td id=\"T_b0e3e228_5c4a_11ea_a3ab_acde48001122row13_col0\" class=\"data row13 col0\" >0.1834</td>\n",
       "                        <td id=\"T_b0e3e228_5c4a_11ea_a3ab_acde48001122row13_col1\" class=\"data row13 col1\" >0.0811</td>\n",
       "                        <td id=\"T_b0e3e228_5c4a_11ea_a3ab_acde48001122row13_col2\" class=\"data row13 col2\" >False</td>\n",
       "            </tr>\n",
       "            <tr>\n",
       "                        <th id=\"T_b0e3e228_5c4a_11ea_a3ab_acde48001122level0_row14\" class=\"row_heading level0 row14\" >DIS:PTRATIO</th>\n",
       "                        <td id=\"T_b0e3e228_5c4a_11ea_a3ab_acde48001122row14_col0\" class=\"data row14 col0\" >0.0709</td>\n",
       "                        <td id=\"T_b0e3e228_5c4a_11ea_a3ab_acde48001122row14_col1\" class=\"data row14 col1\" >0.084</td>\n",
       "                        <td id=\"T_b0e3e228_5c4a_11ea_a3ab_acde48001122row14_col2\" class=\"data row14 col2\" >False</td>\n",
       "            </tr>\n",
       "            <tr>\n",
       "                        <th id=\"T_b0e3e228_5c4a_11ea_a3ab_acde48001122level0_row15\" class=\"row_heading level0 row15\" >DIS:RAD</th>\n",
       "                        <td id=\"T_b0e3e228_5c4a_11ea_a3ab_acde48001122row15_col0\" class=\"data row15 col0\" >0.0005</td>\n",
       "                        <td id=\"T_b0e3e228_5c4a_11ea_a3ab_acde48001122row15_col1\" class=\"data row15 col1\" >-0.3657</td>\n",
       "                        <td id=\"T_b0e3e228_5c4a_11ea_a3ab_acde48001122row15_col2\" class=\"data row15 col2\" >True</td>\n",
       "            </tr>\n",
       "            <tr>\n",
       "                        <th id=\"T_b0e3e228_5c4a_11ea_a3ab_acde48001122level0_row16\" class=\"row_heading level0 row16\" >DIS:TAX</th>\n",
       "                        <td id=\"T_b0e3e228_5c4a_11ea_a3ab_acde48001122row16_col0\" class=\"data row16 col0\" >0.4432</td>\n",
       "                        <td id=\"T_b0e3e228_5c4a_11ea_a3ab_acde48001122row16_col1\" class=\"data row16 col1\" >0.0755</td>\n",
       "                        <td id=\"T_b0e3e228_5c4a_11ea_a3ab_acde48001122row16_col2\" class=\"data row16 col2\" >False</td>\n",
       "            </tr>\n",
       "            <tr>\n",
       "                        <th id=\"T_b0e3e228_5c4a_11ea_a3ab_acde48001122level0_row17\" class=\"row_heading level0 row17\" >Intercept</th>\n",
       "                        <td id=\"T_b0e3e228_5c4a_11ea_a3ab_acde48001122row17_col0\" class=\"data row17 col0\" >0.0016</td>\n",
       "                        <td id=\"T_b0e3e228_5c4a_11ea_a3ab_acde48001122row17_col1\" class=\"data row17 col1\" >-0.2068</td>\n",
       "                        <td id=\"T_b0e3e228_5c4a_11ea_a3ab_acde48001122row17_col2\" class=\"data row17 col2\" >True</td>\n",
       "            </tr>\n",
       "            <tr>\n",
       "                        <th id=\"T_b0e3e228_5c4a_11ea_a3ab_acde48001122level0_row18\" class=\"row_heading level0 row18\" >LSTAT</th>\n",
       "                        <td id=\"T_b0e3e228_5c4a_11ea_a3ab_acde48001122row18_col0\" class=\"data row18 col0\" >0</td>\n",
       "                        <td id=\"T_b0e3e228_5c4a_11ea_a3ab_acde48001122row18_col1\" class=\"data row18 col1\" >-0.4623</td>\n",
       "                        <td id=\"T_b0e3e228_5c4a_11ea_a3ab_acde48001122row18_col2\" class=\"data row18 col2\" >True</td>\n",
       "            </tr>\n",
       "            <tr>\n",
       "                        <th id=\"T_b0e3e228_5c4a_11ea_a3ab_acde48001122level0_row19\" class=\"row_heading level0 row19\" >NOX</th>\n",
       "                        <td id=\"T_b0e3e228_5c4a_11ea_a3ab_acde48001122row19_col0\" class=\"data row19 col0\" >0</td>\n",
       "                        <td id=\"T_b0e3e228_5c4a_11ea_a3ab_acde48001122row19_col1\" class=\"data row19 col1\" >-0.2766</td>\n",
       "                        <td id=\"T_b0e3e228_5c4a_11ea_a3ab_acde48001122row19_col2\" class=\"data row19 col2\" >True</td>\n",
       "            </tr>\n",
       "            <tr>\n",
       "                        <th id=\"T_b0e3e228_5c4a_11ea_a3ab_acde48001122level0_row20\" class=\"row_heading level0 row20\" >NOX:B</th>\n",
       "                        <td id=\"T_b0e3e228_5c4a_11ea_a3ab_acde48001122row20_col0\" class=\"data row20 col0\" >0.5549</td>\n",
       "                        <td id=\"T_b0e3e228_5c4a_11ea_a3ab_acde48001122row20_col1\" class=\"data row20 col1\" >0.0349</td>\n",
       "                        <td id=\"T_b0e3e228_5c4a_11ea_a3ab_acde48001122row20_col2\" class=\"data row20 col2\" >False</td>\n",
       "            </tr>\n",
       "            <tr>\n",
       "                        <th id=\"T_b0e3e228_5c4a_11ea_a3ab_acde48001122level0_row21\" class=\"row_heading level0 row21\" >NOX:DIS</th>\n",
       "                        <td id=\"T_b0e3e228_5c4a_11ea_a3ab_acde48001122row21_col0\" class=\"data row21 col0\" >0.3559</td>\n",
       "                        <td id=\"T_b0e3e228_5c4a_11ea_a3ab_acde48001122row21_col1\" class=\"data row21 col1\" >-0.054</td>\n",
       "                        <td id=\"T_b0e3e228_5c4a_11ea_a3ab_acde48001122row21_col2\" class=\"data row21 col2\" >False</td>\n",
       "            </tr>\n",
       "            <tr>\n",
       "                        <th id=\"T_b0e3e228_5c4a_11ea_a3ab_acde48001122level0_row22\" class=\"row_heading level0 row22\" >NOX:LSTAT</th>\n",
       "                        <td id=\"T_b0e3e228_5c4a_11ea_a3ab_acde48001122row22_col0\" class=\"data row22 col0\" >0.7273</td>\n",
       "                        <td id=\"T_b0e3e228_5c4a_11ea_a3ab_acde48001122row22_col1\" class=\"data row22 col1\" >-0.0199</td>\n",
       "                        <td id=\"T_b0e3e228_5c4a_11ea_a3ab_acde48001122row22_col2\" class=\"data row22 col2\" >False</td>\n",
       "            </tr>\n",
       "            <tr>\n",
       "                        <th id=\"T_b0e3e228_5c4a_11ea_a3ab_acde48001122level0_row23\" class=\"row_heading level0 row23\" >NOX:PTRATIO</th>\n",
       "                        <td id=\"T_b0e3e228_5c4a_11ea_a3ab_acde48001122row23_col0\" class=\"data row23 col0\" >0.7959</td>\n",
       "                        <td id=\"T_b0e3e228_5c4a_11ea_a3ab_acde48001122row23_col1\" class=\"data row23 col1\" >0.0151</td>\n",
       "                        <td id=\"T_b0e3e228_5c4a_11ea_a3ab_acde48001122row23_col2\" class=\"data row23 col2\" >False</td>\n",
       "            </tr>\n",
       "            <tr>\n",
       "                        <th id=\"T_b0e3e228_5c4a_11ea_a3ab_acde48001122level0_row24\" class=\"row_heading level0 row24\" >NOX:RAD</th>\n",
       "                        <td id=\"T_b0e3e228_5c4a_11ea_a3ab_acde48001122row24_col0\" class=\"data row24 col0\" >0.0087</td>\n",
       "                        <td id=\"T_b0e3e228_5c4a_11ea_a3ab_acde48001122row24_col1\" class=\"data row24 col1\" >-0.344</td>\n",
       "                        <td id=\"T_b0e3e228_5c4a_11ea_a3ab_acde48001122row24_col2\" class=\"data row24 col2\" >True</td>\n",
       "            </tr>\n",
       "            <tr>\n",
       "                        <th id=\"T_b0e3e228_5c4a_11ea_a3ab_acde48001122level0_row25\" class=\"row_heading level0 row25\" >NOX:RM</th>\n",
       "                        <td id=\"T_b0e3e228_5c4a_11ea_a3ab_acde48001122row25_col0\" class=\"data row25 col0\" >0.941</td>\n",
       "                        <td id=\"T_b0e3e228_5c4a_11ea_a3ab_acde48001122row25_col1\" class=\"data row25 col1\" >-0.0043</td>\n",
       "                        <td id=\"T_b0e3e228_5c4a_11ea_a3ab_acde48001122row25_col2\" class=\"data row25 col2\" >False</td>\n",
       "            </tr>\n",
       "            <tr>\n",
       "                        <th id=\"T_b0e3e228_5c4a_11ea_a3ab_acde48001122level0_row26\" class=\"row_heading level0 row26\" >NOX:TAX</th>\n",
       "                        <td id=\"T_b0e3e228_5c4a_11ea_a3ab_acde48001122row26_col0\" class=\"data row26 col0\" >0.0277</td>\n",
       "                        <td id=\"T_b0e3e228_5c4a_11ea_a3ab_acde48001122row26_col1\" class=\"data row26 col1\" >0.2994</td>\n",
       "                        <td id=\"T_b0e3e228_5c4a_11ea_a3ab_acde48001122row26_col2\" class=\"data row26 col2\" >True</td>\n",
       "            </tr>\n",
       "            <tr>\n",
       "                        <th id=\"T_b0e3e228_5c4a_11ea_a3ab_acde48001122level0_row27\" class=\"row_heading level0 row27\" >PTRATIO</th>\n",
       "                        <td id=\"T_b0e3e228_5c4a_11ea_a3ab_acde48001122row27_col0\" class=\"data row27 col0\" >0.3309</td>\n",
       "                        <td id=\"T_b0e3e228_5c4a_11ea_a3ab_acde48001122row27_col1\" class=\"data row27 col1\" >-0.0966</td>\n",
       "                        <td id=\"T_b0e3e228_5c4a_11ea_a3ab_acde48001122row27_col2\" class=\"data row27 col2\" >False</td>\n",
       "            </tr>\n",
       "            <tr>\n",
       "                        <th id=\"T_b0e3e228_5c4a_11ea_a3ab_acde48001122level0_row28\" class=\"row_heading level0 row28\" >PTRATIO:B</th>\n",
       "                        <td id=\"T_b0e3e228_5c4a_11ea_a3ab_acde48001122row28_col0\" class=\"data row28 col0\" >0.8327</td>\n",
       "                        <td id=\"T_b0e3e228_5c4a_11ea_a3ab_acde48001122row28_col1\" class=\"data row28 col1\" >0.0143</td>\n",
       "                        <td id=\"T_b0e3e228_5c4a_11ea_a3ab_acde48001122row28_col2\" class=\"data row28 col2\" >False</td>\n",
       "            </tr>\n",
       "            <tr>\n",
       "                        <th id=\"T_b0e3e228_5c4a_11ea_a3ab_acde48001122level0_row29\" class=\"row_heading level0 row29\" >PTRATIO:LSTAT</th>\n",
       "                        <td id=\"T_b0e3e228_5c4a_11ea_a3ab_acde48001122row29_col0\" class=\"data row29 col0\" >0.5205</td>\n",
       "                        <td id=\"T_b0e3e228_5c4a_11ea_a3ab_acde48001122row29_col1\" class=\"data row29 col1\" >-0.0282</td>\n",
       "                        <td id=\"T_b0e3e228_5c4a_11ea_a3ab_acde48001122row29_col2\" class=\"data row29 col2\" >False</td>\n",
       "            </tr>\n",
       "            <tr>\n",
       "                        <th id=\"T_b0e3e228_5c4a_11ea_a3ab_acde48001122level0_row30\" class=\"row_heading level0 row30\" >RAD</th>\n",
       "                        <td id=\"T_b0e3e228_5c4a_11ea_a3ab_acde48001122row30_col0\" class=\"data row30 col0\" >0.1008</td>\n",
       "                        <td id=\"T_b0e3e228_5c4a_11ea_a3ab_acde48001122row30_col1\" class=\"data row30 col1\" >0.1718</td>\n",
       "                        <td id=\"T_b0e3e228_5c4a_11ea_a3ab_acde48001122row30_col2\" class=\"data row30 col2\" >False</td>\n",
       "            </tr>\n",
       "            <tr>\n",
       "                        <th id=\"T_b0e3e228_5c4a_11ea_a3ab_acde48001122level0_row31\" class=\"row_heading level0 row31\" >RAD:B</th>\n",
       "                        <td id=\"T_b0e3e228_5c4a_11ea_a3ab_acde48001122row31_col0\" class=\"data row31 col0\" >0.4319</td>\n",
       "                        <td id=\"T_b0e3e228_5c4a_11ea_a3ab_acde48001122row31_col1\" class=\"data row31 col1\" >-0.1647</td>\n",
       "                        <td id=\"T_b0e3e228_5c4a_11ea_a3ab_acde48001122row31_col2\" class=\"data row31 col2\" >False</td>\n",
       "            </tr>\n",
       "            <tr>\n",
       "                        <th id=\"T_b0e3e228_5c4a_11ea_a3ab_acde48001122level0_row32\" class=\"row_heading level0 row32\" >RAD:LSTAT</th>\n",
       "                        <td id=\"T_b0e3e228_5c4a_11ea_a3ab_acde48001122row32_col0\" class=\"data row32 col0\" >0.0578</td>\n",
       "                        <td id=\"T_b0e3e228_5c4a_11ea_a3ab_acde48001122row32_col1\" class=\"data row32 col1\" >-0.202</td>\n",
       "                        <td id=\"T_b0e3e228_5c4a_11ea_a3ab_acde48001122row32_col2\" class=\"data row32 col2\" >False</td>\n",
       "            </tr>\n",
       "            <tr>\n",
       "                        <th id=\"T_b0e3e228_5c4a_11ea_a3ab_acde48001122level0_row33\" class=\"row_heading level0 row33\" >RAD:PTRATIO</th>\n",
       "                        <td id=\"T_b0e3e228_5c4a_11ea_a3ab_acde48001122row33_col0\" class=\"data row33 col0\" >0.8878</td>\n",
       "                        <td id=\"T_b0e3e228_5c4a_11ea_a3ab_acde48001122row33_col1\" class=\"data row33 col1\" >0.0216</td>\n",
       "                        <td id=\"T_b0e3e228_5c4a_11ea_a3ab_acde48001122row33_col2\" class=\"data row33 col2\" >False</td>\n",
       "            </tr>\n",
       "            <tr>\n",
       "                        <th id=\"T_b0e3e228_5c4a_11ea_a3ab_acde48001122level0_row34\" class=\"row_heading level0 row34\" >RAD:TAX</th>\n",
       "                        <td id=\"T_b0e3e228_5c4a_11ea_a3ab_acde48001122row34_col0\" class=\"data row34 col0\" >0.8194</td>\n",
       "                        <td id=\"T_b0e3e228_5c4a_11ea_a3ab_acde48001122row34_col1\" class=\"data row34 col1\" >-0.0209</td>\n",
       "                        <td id=\"T_b0e3e228_5c4a_11ea_a3ab_acde48001122row34_col2\" class=\"data row34 col2\" >False</td>\n",
       "            </tr>\n",
       "            <tr>\n",
       "                        <th id=\"T_b0e3e228_5c4a_11ea_a3ab_acde48001122level0_row35\" class=\"row_heading level0 row35\" >RM</th>\n",
       "                        <td id=\"T_b0e3e228_5c4a_11ea_a3ab_acde48001122row35_col0\" class=\"data row35 col0\" >0</td>\n",
       "                        <td id=\"T_b0e3e228_5c4a_11ea_a3ab_acde48001122row35_col1\" class=\"data row35 col1\" >0.3523</td>\n",
       "                        <td id=\"T_b0e3e228_5c4a_11ea_a3ab_acde48001122row35_col2\" class=\"data row35 col2\" >True</td>\n",
       "            </tr>\n",
       "            <tr>\n",
       "                        <th id=\"T_b0e3e228_5c4a_11ea_a3ab_acde48001122level0_row36\" class=\"row_heading level0 row36\" >RM:B</th>\n",
       "                        <td id=\"T_b0e3e228_5c4a_11ea_a3ab_acde48001122row36_col0\" class=\"data row36 col0\" >0.0064</td>\n",
       "                        <td id=\"T_b0e3e228_5c4a_11ea_a3ab_acde48001122row36_col1\" class=\"data row36 col1\" >-0.16</td>\n",
       "                        <td id=\"T_b0e3e228_5c4a_11ea_a3ab_acde48001122row36_col2\" class=\"data row36 col2\" >True</td>\n",
       "            </tr>\n",
       "            <tr>\n",
       "                        <th id=\"T_b0e3e228_5c4a_11ea_a3ab_acde48001122level0_row37\" class=\"row_heading level0 row37\" >RM:DIS</th>\n",
       "                        <td id=\"T_b0e3e228_5c4a_11ea_a3ab_acde48001122row37_col0\" class=\"data row37 col0\" >0.0934</td>\n",
       "                        <td id=\"T_b0e3e228_5c4a_11ea_a3ab_acde48001122row37_col1\" class=\"data row37 col1\" >0.0754</td>\n",
       "                        <td id=\"T_b0e3e228_5c4a_11ea_a3ab_acde48001122row37_col2\" class=\"data row37 col2\" >False</td>\n",
       "            </tr>\n",
       "            <tr>\n",
       "                        <th id=\"T_b0e3e228_5c4a_11ea_a3ab_acde48001122level0_row38\" class=\"row_heading level0 row38\" >RM:LSTAT</th>\n",
       "                        <td id=\"T_b0e3e228_5c4a_11ea_a3ab_acde48001122row38_col0\" class=\"data row38 col0\" >0</td>\n",
       "                        <td id=\"T_b0e3e228_5c4a_11ea_a3ab_acde48001122row38_col1\" class=\"data row38 col1\" >-0.1905</td>\n",
       "                        <td id=\"T_b0e3e228_5c4a_11ea_a3ab_acde48001122row38_col2\" class=\"data row38 col2\" >True</td>\n",
       "            </tr>\n",
       "            <tr>\n",
       "                        <th id=\"T_b0e3e228_5c4a_11ea_a3ab_acde48001122level0_row39\" class=\"row_heading level0 row39\" >RM:PTRATIO</th>\n",
       "                        <td id=\"T_b0e3e228_5c4a_11ea_a3ab_acde48001122row39_col0\" class=\"data row39 col0\" >0.0023</td>\n",
       "                        <td id=\"T_b0e3e228_5c4a_11ea_a3ab_acde48001122row39_col1\" class=\"data row39 col1\" >-0.1014</td>\n",
       "                        <td id=\"T_b0e3e228_5c4a_11ea_a3ab_acde48001122row39_col2\" class=\"data row39 col2\" >True</td>\n",
       "            </tr>\n",
       "            <tr>\n",
       "                        <th id=\"T_b0e3e228_5c4a_11ea_a3ab_acde48001122level0_row40\" class=\"row_heading level0 row40\" >RM:RAD</th>\n",
       "                        <td id=\"T_b0e3e228_5c4a_11ea_a3ab_acde48001122row40_col0\" class=\"data row40 col0\" >0.2649</td>\n",
       "                        <td id=\"T_b0e3e228_5c4a_11ea_a3ab_acde48001122row40_col1\" class=\"data row40 col1\" >-0.0983</td>\n",
       "                        <td id=\"T_b0e3e228_5c4a_11ea_a3ab_acde48001122row40_col2\" class=\"data row40 col2\" >False</td>\n",
       "            </tr>\n",
       "            <tr>\n",
       "                        <th id=\"T_b0e3e228_5c4a_11ea_a3ab_acde48001122level0_row41\" class=\"row_heading level0 row41\" >RM:TAX</th>\n",
       "                        <td id=\"T_b0e3e228_5c4a_11ea_a3ab_acde48001122row41_col0\" class=\"data row41 col0\" >0.8048</td>\n",
       "                        <td id=\"T_b0e3e228_5c4a_11ea_a3ab_acde48001122row41_col1\" class=\"data row41 col1\" >-0.0229</td>\n",
       "                        <td id=\"T_b0e3e228_5c4a_11ea_a3ab_acde48001122row41_col2\" class=\"data row41 col2\" >False</td>\n",
       "            </tr>\n",
       "            <tr>\n",
       "                        <th id=\"T_b0e3e228_5c4a_11ea_a3ab_acde48001122level0_row42\" class=\"row_heading level0 row42\" >TAX</th>\n",
       "                        <td id=\"T_b0e3e228_5c4a_11ea_a3ab_acde48001122row42_col0\" class=\"data row42 col0\" >0.023</td>\n",
       "                        <td id=\"T_b0e3e228_5c4a_11ea_a3ab_acde48001122row42_col1\" class=\"data row42 col1\" >-0.2577</td>\n",
       "                        <td id=\"T_b0e3e228_5c4a_11ea_a3ab_acde48001122row42_col2\" class=\"data row42 col2\" >True</td>\n",
       "            </tr>\n",
       "            <tr>\n",
       "                        <th id=\"T_b0e3e228_5c4a_11ea_a3ab_acde48001122level0_row43\" class=\"row_heading level0 row43\" >TAX:B</th>\n",
       "                        <td id=\"T_b0e3e228_5c4a_11ea_a3ab_acde48001122row43_col0\" class=\"data row43 col0\" >0.3126</td>\n",
       "                        <td id=\"T_b0e3e228_5c4a_11ea_a3ab_acde48001122row43_col1\" class=\"data row43 col1\" >0.273</td>\n",
       "                        <td id=\"T_b0e3e228_5c4a_11ea_a3ab_acde48001122row43_col2\" class=\"data row43 col2\" >False</td>\n",
       "            </tr>\n",
       "            <tr>\n",
       "                        <th id=\"T_b0e3e228_5c4a_11ea_a3ab_acde48001122level0_row44\" class=\"row_heading level0 row44\" >TAX:LSTAT</th>\n",
       "                        <td id=\"T_b0e3e228_5c4a_11ea_a3ab_acde48001122row44_col0\" class=\"data row44 col0\" >0.4627</td>\n",
       "                        <td id=\"T_b0e3e228_5c4a_11ea_a3ab_acde48001122row44_col1\" class=\"data row44 col1\" >-0.0895</td>\n",
       "                        <td id=\"T_b0e3e228_5c4a_11ea_a3ab_acde48001122row44_col2\" class=\"data row44 col2\" >False</td>\n",
       "            </tr>\n",
       "            <tr>\n",
       "                        <th id=\"T_b0e3e228_5c4a_11ea_a3ab_acde48001122level0_row45\" class=\"row_heading level0 row45\" >TAX:PTRATIO</th>\n",
       "                        <td id=\"T_b0e3e228_5c4a_11ea_a3ab_acde48001122row45_col0\" class=\"data row45 col0\" >0.2773</td>\n",
       "                        <td id=\"T_b0e3e228_5c4a_11ea_a3ab_acde48001122row45_col1\" class=\"data row45 col1\" >0.0775</td>\n",
       "                        <td id=\"T_b0e3e228_5c4a_11ea_a3ab_acde48001122row45_col2\" class=\"data row45 col2\" >False</td>\n",
       "            </tr>\n",
       "    </tbody></table>"
      ],
      "text/plain": [
       "<pandas.io.formats.style.Styler at 0x1c29430748>"
      ]
     },
     "execution_count": 46,
     "metadata": {},
     "output_type": "execute_result"
    }
   ],
   "source": [
    "params.style.applymap(lambda x: 'color:red' if x >.05 else 'color:green',\n",
    "                     subset=['p-value'])#"
   ]
  },
  {
   "cell_type": "code",
   "execution_count": 47,
   "metadata": {
    "ExecuteTime": {
     "end_time": "2020-03-02T05:57:25.349345Z",
     "start_time": "2020-03-02T05:57:25.337823Z"
    }
   },
   "outputs": [
    {
     "data": {
      "text/html": [
       "<div>\n",
       "<style scoped>\n",
       "    .dataframe tbody tr th:only-of-type {\n",
       "        vertical-align: middle;\n",
       "    }\n",
       "\n",
       "    .dataframe tbody tr th {\n",
       "        vertical-align: top;\n",
       "    }\n",
       "\n",
       "    .dataframe thead th {\n",
       "        text-align: right;\n",
       "    }\n",
       "</style>\n",
       "<table border=\"1\" class=\"dataframe\">\n",
       "  <thead>\n",
       "    <tr style=\"text-align: right;\">\n",
       "      <th></th>\n",
       "      <th>p-value</th>\n",
       "      <th>coeff</th>\n",
       "      <th>sig</th>\n",
       "    </tr>\n",
       "  </thead>\n",
       "  <tbody>\n",
       "    <tr>\n",
       "      <td>C(CHAS)[T.1]:NOX</td>\n",
       "      <td>0.0182</td>\n",
       "      <td>-0.4104</td>\n",
       "      <td>True</td>\n",
       "    </tr>\n",
       "    <tr>\n",
       "      <td>DIS</td>\n",
       "      <td>0.0000</td>\n",
       "      <td>-0.4547</td>\n",
       "      <td>True</td>\n",
       "    </tr>\n",
       "    <tr>\n",
       "      <td>DIS:RAD</td>\n",
       "      <td>0.0005</td>\n",
       "      <td>-0.3657</td>\n",
       "      <td>True</td>\n",
       "    </tr>\n",
       "    <tr>\n",
       "      <td>Intercept</td>\n",
       "      <td>0.0016</td>\n",
       "      <td>-0.2068</td>\n",
       "      <td>True</td>\n",
       "    </tr>\n",
       "    <tr>\n",
       "      <td>LSTAT</td>\n",
       "      <td>0.0000</td>\n",
       "      <td>-0.4623</td>\n",
       "      <td>True</td>\n",
       "    </tr>\n",
       "    <tr>\n",
       "      <td>NOX</td>\n",
       "      <td>0.0000</td>\n",
       "      <td>-0.2766</td>\n",
       "      <td>True</td>\n",
       "    </tr>\n",
       "    <tr>\n",
       "      <td>NOX:RAD</td>\n",
       "      <td>0.0087</td>\n",
       "      <td>-0.3440</td>\n",
       "      <td>True</td>\n",
       "    </tr>\n",
       "    <tr>\n",
       "      <td>NOX:TAX</td>\n",
       "      <td>0.0277</td>\n",
       "      <td>0.2994</td>\n",
       "      <td>True</td>\n",
       "    </tr>\n",
       "    <tr>\n",
       "      <td>RM</td>\n",
       "      <td>0.0000</td>\n",
       "      <td>0.3523</td>\n",
       "      <td>True</td>\n",
       "    </tr>\n",
       "    <tr>\n",
       "      <td>RM:B</td>\n",
       "      <td>0.0064</td>\n",
       "      <td>-0.1600</td>\n",
       "      <td>True</td>\n",
       "    </tr>\n",
       "    <tr>\n",
       "      <td>RM:LSTAT</td>\n",
       "      <td>0.0000</td>\n",
       "      <td>-0.1905</td>\n",
       "      <td>True</td>\n",
       "    </tr>\n",
       "    <tr>\n",
       "      <td>RM:PTRATIO</td>\n",
       "      <td>0.0023</td>\n",
       "      <td>-0.1014</td>\n",
       "      <td>True</td>\n",
       "    </tr>\n",
       "    <tr>\n",
       "      <td>TAX</td>\n",
       "      <td>0.0230</td>\n",
       "      <td>-0.2577</td>\n",
       "      <td>True</td>\n",
       "    </tr>\n",
       "  </tbody>\n",
       "</table>\n",
       "</div>"
      ],
      "text/plain": [
       "                  p-value   coeff   sig\n",
       "C(CHAS)[T.1]:NOX   0.0182 -0.4104  True\n",
       "DIS                0.0000 -0.4547  True\n",
       "DIS:RAD            0.0005 -0.3657  True\n",
       "Intercept          0.0016 -0.2068  True\n",
       "LSTAT              0.0000 -0.4623  True\n",
       "NOX                0.0000 -0.2766  True\n",
       "NOX:RAD            0.0087 -0.3440  True\n",
       "NOX:TAX            0.0277  0.2994  True\n",
       "RM                 0.0000  0.3523  True\n",
       "RM:B               0.0064 -0.1600  True\n",
       "RM:LSTAT           0.0000 -0.1905  True\n",
       "RM:PTRATIO         0.0023 -0.1014  True\n",
       "TAX                0.0230 -0.2577  True"
      ]
     },
     "execution_count": 47,
     "metadata": {},
     "output_type": "execute_result"
    }
   ],
   "source": [
    "good_ixn = params.loc[params['sig']==True].sort_index()\n",
    "good_ixn"
   ]
  },
  {
   "cell_type": "code",
   "execution_count": 48,
   "metadata": {
    "ExecuteTime": {
     "end_time": "2020-03-02T05:57:25.354374Z",
     "start_time": "2020-03-02T05:57:25.350542Z"
    }
   },
   "outputs": [
    {
     "data": {
      "text/plain": [
       "[['CHAS', 'NOX'],\n",
       " ['DIS', 'RAD'],\n",
       " ['NOX', 'RAD'],\n",
       " ['NOX', 'TAX'],\n",
       " ['RM', 'B'],\n",
       " ['RM', 'LSTAT'],\n",
       " ['RM', 'PTRATIO']]"
      ]
     },
     "execution_count": 48,
     "metadata": {},
     "output_type": "execute_result"
    }
   ],
   "source": [
    "ixn_cols = [col for col in good_ixn.index.to_list() if \":\" in col]\n",
    "ixn_cols = list(map(lambda x: x.split(':'),ixn_cols))\n",
    "ixn_cols[0] = ['CHAS','NOX']\n",
    "ixn_cols"
   ]
  },
  {
   "cell_type": "code",
   "execution_count": 49,
   "metadata": {
    "ExecuteTime": {
     "end_time": "2020-03-02T05:57:25.360103Z",
     "start_time": "2020-03-02T05:57:25.355637Z"
    }
   },
   "outputs": [
    {
     "data": {
      "text/plain": [
       "{'target': 'price',\n",
       " 'cat_cols': ['CHAS', 'example'],\n",
       " 'exclude_cols': ['example', 'ZN', 'CRIM', 'INDUS', 'AGE'],\n",
       " 'return_formula': True,\n",
       " 'ixn_cols': [('CHAS', 'NOX'),\n",
       "  ('CHAS', 'RM'),\n",
       "  ('CHAS', 'DIS'),\n",
       "  ('CHAS', 'RAD'),\n",
       "  ('CHAS', 'TAX'),\n",
       "  ('CHAS', 'PTRATIO'),\n",
       "  ('CHAS', 'B'),\n",
       "  ('CHAS', 'LSTAT'),\n",
       "  ('NOX', 'RM'),\n",
       "  ('NOX', 'DIS'),\n",
       "  ('NOX', 'RAD'),\n",
       "  ('NOX', 'TAX'),\n",
       "  ('NOX', 'PTRATIO'),\n",
       "  ('NOX', 'B'),\n",
       "  ('NOX', 'LSTAT'),\n",
       "  ('RM', 'DIS'),\n",
       "  ('RM', 'RAD'),\n",
       "  ('RM', 'TAX'),\n",
       "  ('RM', 'PTRATIO'),\n",
       "  ('RM', 'B'),\n",
       "  ('RM', 'LSTAT'),\n",
       "  ('DIS', 'RAD'),\n",
       "  ('DIS', 'TAX'),\n",
       "  ('DIS', 'PTRATIO'),\n",
       "  ('DIS', 'B'),\n",
       "  ('DIS', 'LSTAT'),\n",
       "  ('RAD', 'TAX'),\n",
       "  ('RAD', 'PTRATIO'),\n",
       "  ('RAD', 'B'),\n",
       "  ('RAD', 'LSTAT'),\n",
       "  ('TAX', 'PTRATIO'),\n",
       "  ('TAX', 'B'),\n",
       "  ('TAX', 'LSTAT'),\n",
       "  ('PTRATIO', 'B'),\n",
       "  ('PTRATIO', 'LSTAT'),\n",
       "  ('B', 'LSTAT')]}"
      ]
     },
     "execution_count": 49,
     "metadata": {},
     "output_type": "execute_result"
    }
   ],
   "source": [
    "best_model_kws"
   ]
  },
  {
   "cell_type": "code",
   "execution_count": 50,
   "metadata": {
    "ExecuteTime": {
     "end_time": "2020-03-02T05:57:25.636553Z",
     "start_time": "2020-03-02T05:57:25.361189Z"
    }
   },
   "outputs": [
    {
     "data": {
      "text/html": [
       "<table class=\"simpletable\">\n",
       "<caption>OLS Regression Results</caption>\n",
       "<tr>\n",
       "  <th>Dep. Variable:</th>          <td>price</td>      <th>  R-squared:         </th> <td>   0.794</td> \n",
       "</tr>\n",
       "<tr>\n",
       "  <th>Model:</th>                   <td>OLS</td>       <th>  Adj. R-squared:    </th> <td>   0.786</td> \n",
       "</tr>\n",
       "<tr>\n",
       "  <th>Method:</th>             <td>Least Squares</td>  <th>  F-statistic:       </th> <td>   103.5</td> \n",
       "</tr>\n",
       "<tr>\n",
       "  <th>Date:</th>             <td>Mon, 02 Mar 2020</td> <th>  Prob (F-statistic):</th> <td>2.23e-136</td>\n",
       "</tr>\n",
       "<tr>\n",
       "  <th>Time:</th>                 <td>00:57:25</td>     <th>  Log-Likelihood:    </th> <td> -246.38</td> \n",
       "</tr>\n",
       "<tr>\n",
       "  <th>No. Observations:</th>      <td>   448</td>      <th>  AIC:               </th> <td>   526.8</td> \n",
       "</tr>\n",
       "<tr>\n",
       "  <th>Df Residuals:</th>          <td>   431</td>      <th>  BIC:               </th> <td>   596.5</td> \n",
       "</tr>\n",
       "<tr>\n",
       "  <th>Df Model:</th>              <td>    16</td>      <th>                     </th>     <td> </td>    \n",
       "</tr>\n",
       "<tr>\n",
       "  <th>Covariance Type:</th>      <td>nonrobust</td>    <th>                     </th>     <td> </td>    \n",
       "</tr>\n",
       "</table>\n",
       "<table class=\"simpletable\">\n",
       "<tr>\n",
       "          <td></td>            <th>coef</th>     <th>std err</th>      <th>t</th>      <th>P>|t|</th>  <th>[0.025</th>    <th>0.975]</th>  \n",
       "</tr>\n",
       "<tr>\n",
       "  <th>Intercept</th>        <td>   -0.1722</td> <td>    0.038</td> <td>   -4.549</td> <td> 0.000</td> <td>   -0.247</td> <td>   -0.098</td>\n",
       "</tr>\n",
       "<tr>\n",
       "  <th>C(CHAS)[T.1]</th>     <td>    0.3311</td> <td>    0.083</td> <td>    4.007</td> <td> 0.000</td> <td>    0.169</td> <td>    0.493</td>\n",
       "</tr>\n",
       "<tr>\n",
       "  <th>NOX</th>              <td>   -0.1630</td> <td>    0.047</td> <td>   -3.482</td> <td> 0.001</td> <td>   -0.255</td> <td>   -0.071</td>\n",
       "</tr>\n",
       "<tr>\n",
       "  <th>C(CHAS)[T.1]:NOX</th> <td>    0.0117</td> <td>    0.068</td> <td>    0.172</td> <td> 0.864</td> <td>   -0.122</td> <td>    0.145</td>\n",
       "</tr>\n",
       "<tr>\n",
       "  <th>RM</th>               <td>    0.2584</td> <td>    0.034</td> <td>    7.498</td> <td> 0.000</td> <td>    0.191</td> <td>    0.326</td>\n",
       "</tr>\n",
       "<tr>\n",
       "  <th>DIS</th>              <td>   -0.2983</td> <td>    0.046</td> <td>   -6.533</td> <td> 0.000</td> <td>   -0.388</td> <td>   -0.209</td>\n",
       "</tr>\n",
       "<tr>\n",
       "  <th>RAD</th>              <td>    0.2042</td> <td>    0.060</td> <td>    3.376</td> <td> 0.001</td> <td>    0.085</td> <td>    0.323</td>\n",
       "</tr>\n",
       "<tr>\n",
       "  <th>TAX</th>              <td>   -0.1987</td> <td>    0.053</td> <td>   -3.722</td> <td> 0.000</td> <td>   -0.304</td> <td>   -0.094</td>\n",
       "</tr>\n",
       "<tr>\n",
       "  <th>PTRATIO</th>          <td>   -0.1235</td> <td>    0.026</td> <td>   -4.670</td> <td> 0.000</td> <td>   -0.175</td> <td>   -0.071</td>\n",
       "</tr>\n",
       "<tr>\n",
       "  <th>B</th>                <td>    0.0442</td> <td>    0.043</td> <td>    1.016</td> <td> 0.310</td> <td>   -0.041</td> <td>    0.130</td>\n",
       "</tr>\n",
       "<tr>\n",
       "  <th>LSTAT</th>            <td>   -0.5895</td> <td>    0.040</td> <td>  -14.833</td> <td> 0.000</td> <td>   -0.668</td> <td>   -0.511</td>\n",
       "</tr>\n",
       "<tr>\n",
       "  <th>DIS:RAD</th>          <td>   -0.2080</td> <td>    0.060</td> <td>   -3.466</td> <td> 0.001</td> <td>   -0.326</td> <td>   -0.090</td>\n",
       "</tr>\n",
       "<tr>\n",
       "  <th>NOX:RAD</th>          <td>   -0.2677</td> <td>    0.079</td> <td>   -3.405</td> <td> 0.001</td> <td>   -0.422</td> <td>   -0.113</td>\n",
       "</tr>\n",
       "<tr>\n",
       "  <th>NOX:TAX</th>          <td>    0.1046</td> <td>    0.082</td> <td>    1.272</td> <td> 0.204</td> <td>   -0.057</td> <td>    0.266</td>\n",
       "</tr>\n",
       "<tr>\n",
       "  <th>RM:B</th>             <td>   -0.0670</td> <td>    0.055</td> <td>   -1.208</td> <td> 0.228</td> <td>   -0.176</td> <td>    0.042</td>\n",
       "</tr>\n",
       "<tr>\n",
       "  <th>RM:LSTAT</th>         <td>   -0.1932</td> <td>    0.026</td> <td>   -7.531</td> <td> 0.000</td> <td>   -0.244</td> <td>   -0.143</td>\n",
       "</tr>\n",
       "<tr>\n",
       "  <th>RM:PTRATIO</th>       <td>   -0.0961</td> <td>    0.024</td> <td>   -4.006</td> <td> 0.000</td> <td>   -0.143</td> <td>   -0.049</td>\n",
       "</tr>\n",
       "</table>\n",
       "<table class=\"simpletable\">\n",
       "<tr>\n",
       "  <th>Omnibus:</th>       <td>199.746</td> <th>  Durbin-Watson:     </th> <td>   1.113</td>\n",
       "</tr>\n",
       "<tr>\n",
       "  <th>Prob(Omnibus):</th> <td> 0.000</td>  <th>  Jarque-Bera (JB):  </th> <td>1651.401</td>\n",
       "</tr>\n",
       "<tr>\n",
       "  <th>Skew:</th>          <td> 1.716</td>  <th>  Prob(JB):          </th> <td>    0.00</td>\n",
       "</tr>\n",
       "<tr>\n",
       "  <th>Kurtosis:</th>      <td>11.757</td>  <th>  Cond. No.          </th> <td>    11.3</td>\n",
       "</tr>\n",
       "</table><br/><br/>Warnings:<br/>[1] Standard Errors assume that the covariance matrix of the errors is correctly specified."
      ],
      "text/plain": [
       "<class 'statsmodels.iolib.summary.Summary'>\n",
       "\"\"\"\n",
       "                            OLS Regression Results                            \n",
       "==============================================================================\n",
       "Dep. Variable:                  price   R-squared:                       0.794\n",
       "Model:                            OLS   Adj. R-squared:                  0.786\n",
       "Method:                 Least Squares   F-statistic:                     103.5\n",
       "Date:                Mon, 02 Mar 2020   Prob (F-statistic):          2.23e-136\n",
       "Time:                        00:57:25   Log-Likelihood:                -246.38\n",
       "No. Observations:                 448   AIC:                             526.8\n",
       "Df Residuals:                     431   BIC:                             596.5\n",
       "Df Model:                          16                                         \n",
       "Covariance Type:            nonrobust                                         \n",
       "====================================================================================\n",
       "                       coef    std err          t      P>|t|      [0.025      0.975]\n",
       "------------------------------------------------------------------------------------\n",
       "Intercept           -0.1722      0.038     -4.549      0.000      -0.247      -0.098\n",
       "C(CHAS)[T.1]         0.3311      0.083      4.007      0.000       0.169       0.493\n",
       "NOX                 -0.1630      0.047     -3.482      0.001      -0.255      -0.071\n",
       "C(CHAS)[T.1]:NOX     0.0117      0.068      0.172      0.864      -0.122       0.145\n",
       "RM                   0.2584      0.034      7.498      0.000       0.191       0.326\n",
       "DIS                 -0.2983      0.046     -6.533      0.000      -0.388      -0.209\n",
       "RAD                  0.2042      0.060      3.376      0.001       0.085       0.323\n",
       "TAX                 -0.1987      0.053     -3.722      0.000      -0.304      -0.094\n",
       "PTRATIO             -0.1235      0.026     -4.670      0.000      -0.175      -0.071\n",
       "B                    0.0442      0.043      1.016      0.310      -0.041       0.130\n",
       "LSTAT               -0.5895      0.040    -14.833      0.000      -0.668      -0.511\n",
       "DIS:RAD             -0.2080      0.060     -3.466      0.001      -0.326      -0.090\n",
       "NOX:RAD             -0.2677      0.079     -3.405      0.001      -0.422      -0.113\n",
       "NOX:TAX              0.1046      0.082      1.272      0.204      -0.057       0.266\n",
       "RM:B                -0.0670      0.055     -1.208      0.228      -0.176       0.042\n",
       "RM:LSTAT            -0.1932      0.026     -7.531      0.000      -0.244      -0.143\n",
       "RM:PTRATIO          -0.0961      0.024     -4.006      0.000      -0.143      -0.049\n",
       "==============================================================================\n",
       "Omnibus:                      199.746   Durbin-Watson:                   1.113\n",
       "Prob(Omnibus):                  0.000   Jarque-Bera (JB):             1651.401\n",
       "Skew:                           1.716   Prob(JB):                         0.00\n",
       "Kurtosis:                      11.757   Cond. No.                         11.3\n",
       "==============================================================================\n",
       "\n",
       "Warnings:\n",
       "[1] Standard Errors assume that the covariance matrix of the errors is correctly specified.\n",
       "\"\"\""
      ]
     },
     "metadata": {},
     "output_type": "display_data"
    },
    {
     "data": {
      "image/png": "[encoded data removed]",
      "text/plain": [
       "<Figure size 720x360 with 2 Axes>"
      ]
     },
     "metadata": {
      "needs_background": "light"
     },
     "output_type": "display_data"
    }
   ],
   "source": [
    "model = make_ols_f_ixn(df,**dict(best_model_kws,\n",
    "                                ixn_cols=ixn_cols))"
   ]
  },
  {
   "cell_type": "markdown",
   "metadata": {},
   "source": [
    "# Polynomial Regressions"
   ]
  },
  {
   "cell_type": "markdown",
   "metadata": {},
   "source": [
    "Remember we started with (multiple) linear equation:\n",
    "\n",
    "$$ \\large \\hat{y} = w_0 + w_1  x_1 + w_2  x_2 + ... + w_N  x_N $$\n",
    "$$ \\large \\hat{y} = \\sum_{n=0}^{N} w_n x_n $$\n",
    "\n",
    "\n",
    "**Knowledge check:** Why is this \"linear\"?"
   ]
  },
  {
   "cell_type": "markdown",
   "metadata": {},
   "source": [
    "## Making it more complex!"
   ]
  },
  {
   "cell_type": "code",
   "execution_count": 51,
   "metadata": {
    "ExecuteTime": {
     "end_time": "2020-03-02T05:57:25.640183Z",
     "start_time": "2020-03-02T05:57:25.638146Z"
    }
   },
   "outputs": [],
   "source": [
    "# ## LOOKING FOR NON-LINEAR RELATIONSHIPS\n",
    "\n",
    "# from itertools import combinations,product\n",
    "# drop_cols = ['price']\n",
    "# comb_cols = list(combinations(df.drop(drop_cols,axis=1).columns,2))\n",
    "\n",
    "# cols_v_target = list(product(df.columns,['price']))\n",
    "# cols_v_target"
   ]
  },
  {
   "cell_type": "markdown",
   "metadata": {},
   "source": [
    "### Looking for Non-linear relationships"
   ]
  },
  {
   "cell_type": "code",
   "execution_count": 52,
   "metadata": {
    "ExecuteTime": {
     "end_time": "2020-03-02T05:57:26.289576Z",
     "start_time": "2020-03-02T05:57:25.641965Z"
    }
   },
   "outputs": [
    {
     "data": {
      "application/vnd.plotly.v1+json": {
       "config": {
        "plotlyServerURL": "https://plot.ly"
       },
       "data": [
        {
         "hoverlabel": {
          "namelength": 0
         },
         "hovertemplate": "LSTAT=%{x}<br>price=%{y}",
         "legendgroup": "",
         "marker": {
          "color": "#636efa",
          "symbol": "circle"
         },
         "mode": "markers",
         "name": "",
         "showlegend": false,
         "type": "scatter",
         "x": [
          -1.0755623045678657,
          -0.492439365735295,
          -1.208727398772419,
          -1.3615168226492227,
          -1.0265014803872408,
          -1.0433223343920266,
          -0.03126761843742067,
          0.910700205830578,
          2.4217735905938262,
          0.6233439499154895,
          1.0929261242157564,
          0.08647835959607916,
          0.4285023910267218,
          -0.6157922951037235,
          -0.3354447283572953,
          -0.5863558005953484,
          -0.8512842511707231,
          0.282721656318579,
          -0.13499621813359913,
          -0.19246746931661696,
          1.1728251807384886,
          0.16497567828507914,
          0.850425478980096,
          1.0130270676930244,
          0.5112049232169181,
          0.5406414177252932,
          0.302345985990829,
          0.648575230922668,
          0.020596681410668692,
          -0.09434582095536692,
          1.3942997584681671,
          0.05423838942023986,
          2.1105877915052913,
          0.7985611791320071,
          1.077507008044703,
          -0.4167455227137595,
          -0.174244877478099,
          -0.5443036655833844,
          -0.353667320195813,
          -1.168077001594187,
          -1.496083654687508,
          -1.0951866342401158,
          -0.9592180643680981,
          -0.730734797469759,
          -0.4349681145522772,
          -0.3424534175259558,
          0.2098312889645077,
          0.8616393816499534,
          2.545126519962255,
          0.4971875448795965,
          0.11170964060325766,
          -0.451788968557063,
          -1.0335101695559015,
          -0.5919627519302771,
          0.3009442481570969,
          -0.8120355918262232,
          -0.48122546306543784,
          0.06965750559129358,
          0.2504816861427397,
          -0.830258183664741,
          -0.441976803720938,
          -0.6452287896120984,
          -1.119016177413562,
          -0.3382482040247595,
          -0.6382201004434378,
          0.06124707858890067,
          -0.5415001899159201,
          -0.8316599214984732,
          -0.38871076603911653,
          -0.9998684615463302,
          -0.7167174191324377,
          -0.8232494944960803,
          -0.520474122409938,
          -0.09574755878909903,
          -0.3340429905235632,
          -0.04388325894100992,
          -0.4980463170702237,
          -1.0321084317221694,
          -0.7615730298118661,
          -0.8316599214984732,
          -0.7209226326336341,
          -0.4251559497161524,
          -0.8582929403393839,
          0.02900710841306136,
          -0.590561014096545,
          -1.0026719372137944,
          -0.9746371805391516,
          -0.5386967142484557,
          -0.6242027221061164,
          -0.6298096734410449,
          -0.9031485510188124,
          -0.2891873798441346,
          -0.8414720863345981,
          -0.18405704231422404,
          -1.1834961177652406,
          -1.2732073391240977,
          -0.9059520266862766,
          -0.4531907063907951,
          -0.6984948272939199,
          0.11030790276952555,
          -0.04528499677474203,
          0.5350344663903642,
          0.8420150519777033,
          0.20142086196211478,
          -0.053695423777134946,
          0.4060745856870075,
          0.04863143808531142,
          -0.34946210669461664,
          0.49858928271332886,
          0.6219422120817572,
          -0.30881170951638465,
          0.4355110801953823,
          -0.08593539395297425,
          -0.3298377770223666,
          0.38084330467982874,
          0.13413744594297194,
          0.24066952130661465,
          0.22665214296929329,
          0.739688190115257,
          1.7881880897468987,
          0.6906273659346318,
          0.302345985990829,
          2.047509588987345,
          0.6359595904190787,
          0.3836467803472932,
          0.7971594412982748,
          -0.0074380752639742805,
          -0.05509716161086706,
          -0.21489527465633124,
          0.333184218332936,
          0.6527804444238641,
          0.6037196202432394,
          0.5953091932408463,
          0.2715077536487218,
          1.2148773157504529,
          0.8139802953030606,
          1.612970860530381,
          1.9858331243031304,
          1.929763610953845,
          2.3320623692349693,
          2.1232034320088804,
          0.5602657473975428,
          2.365704077244541,
          2.1960937993629517,
          1.2330999075889706,
          0.20282259979584688,
          0.08788009742981127,
          -0.07472149128311711,
          0.43971629369657866,
          0.3457998588365252,
          0.3317824804992039,
          0.4887771178772038,
          -1.1302300800834193,
          -0.8723103186767054,
          -0.7377434866384198,
          -1.0026719372137944,
          -1.5311271005308116,
          -1.504494081689901,
          -1.3082507849674012,
          -0.1420049073022597,
          -0.39852293087524154,
          -1.25498474728558,
          -0.07191801561565264,
          -0.21769875032379546,
          -0.18686051798168826,
          0.24907994830900756,
          -0.08733713178670637,
          0.2855251319860432,
          -0.5064567440726165,
          -0.4223524740486879,
          -1.0265014803872408,
          -0.35647079586327746,
          -0.8919346483489553,
          -0.8036251648238304,
          -1.067151877565473,
          -0.7139139434649734,
          -0.44898549288959877,
          -1.09799010990758,
          -0.9774406562066159,
          0.1860017457910613,
          0.06965750559129358,
          -1.1498544097556693,
          -0.8372668728334018,
          -1.1344352935846158,
          -1.018091053384848,
          -1.05874145056308,
          -1.1162127017460979,
          -1.3713289874853474,
          -1.068553615399205,
          -1.1596665745917945,
          -1.357311609148026,
          -1.2017187096037585,
          -0.5667314709230986,
          -0.8456772998357946,
          -0.24993872049963475,
          -0.23592134216231314,
          0.7579107819537747,
          0.2813199184848469,
          1.4629849123210419,
          0.6471734930889356,
          1.5877395795232025,
          0.47335800170615033,
          -0.45879765772572356,
          2.368507552912005,
          -0.4461820172221343,
          0.12012006760565058,
          -0.4153437848800274,
          0.7382864522815251,
          -0.3018030203477239,
          -0.4125403092125629,
          1.234501645422703,
          -0.38170207687045593,
          -0.7083069921300449,
          -1.1933082826013655,
          -1.334883803808312,
          -0.8821224835128303,
          -1.2241465149434727,
          -1.246574320283187,
          -0.14060316946852758,
          -1.037715383057098,
          -1.427398500834633,
          -1.2199413014422764,
          -0.6452287896120984,
          -0.2485369826659024,
          -0.43636985238600956,
          -1.1106057504111693,
          -0.8821224835128303,
          -0.740546962305884,
          -0.17845009097929534,
          -0.03547283193861701,
          -0.20087789631900962,
          -1.0461258100594908,
          -0.02145545360129564,
          0.8139802953030606,
          -0.48963589006783076,
          -0.35086384452834873,
          -0.43917332805347375,
          -0.8540877268381876,
          -0.9466024238645088,
          -1.2704038634566335,
          -1.2788142904590263,
          -1.2774125526252942,
          -0.8526859890044552,
          -0.4770202495642415,
          -0.6816739732891341,
          -0.8064286404912946,
          -0.42936116321734874,
          -0.7559660784769376,
          -0.19667268281781328,
          -0.6382201004434378,
          -0.30881170951638465,
          0.29954251032336454,
          -0.730734797469759,
          -1.3306785903071154,
          0.13974439727790064,
          0.04863143808531142,
          -0.849882513336991,
          -0.690084400291527,
          -0.8512842511707231,
          -1.2788142904590263,
          -1.3559098713142939,
          -0.9255763563585268,
          -1.1905048069339013,
          -0.7657782433130625,
          -1.0937848964063837,
          -1.246574320283187,
          -1.1302300800834193,
          -1.3517046578130976,
          -0.6199975086049199,
          0.03881927324918639,
          -0.7727869324817234,
          -0.7083069921300449,
          -0.44057506588720585,
          -1.3068490471336691,
          -1.2746090769578298,
          -1.1148109639123658,
          -0.5709366844242949,
          -0.31582039868504524,
          -0.8947381240164196,
          -0.7377434866384198,
          0.4467249828652395,
          -1.076964042401598,
          -1.1092040125774372,
          -0.9227728806910623,
          -0.441976803720938,
          -0.5583210439207057,
          -1.0923831585726513,
          -0.8022234269900983,
          -0.52187586024367,
          -0.8667033673417768,
          -0.7181191569661698,
          -1.13723876925208,
          -0.37609512553552726,
          -0.0018311239290455864,
          -0.9353885211946515,
          -0.13079100463240256,
          -0.6662548571180805,
          -0.4728150360630452,
          -0.16162923697450976,
          0.7957577034645424,
          0.46074236120256085,
          -0.3214273500199739,
          0.010784516574543664,
          -0.7643765054793304,
          -0.8106338539924911,
          -0.6942896137927234,
          -0.12798752896493834,
          -0.9157641915224016,
          -1.0615449262305443,
          -0.9115589780212052,
          0.01919494357693633,
          -0.37609512553552726,
          -0.7447521758070805,
          -0.4994480549039558,
          -0.03126761843742067,
          -0.6760670219542055,
          -0.9774406562066159,
          -0.8274547079972768,
          -0.650835740947027,
          -0.39992466870897364,
          -0.29339259334533097,
          -0.58074884926042,
          -0.40833509571136656,
          -0.47141329822931305,
          -1.0040736750475265,
          -0.5611245195881699,
          -0.7671799811467948,
          -1.127426604415955,
          -0.29759780684652754,
          0.002374089572150747,
          -0.9339867833609194,
          -0.948004161698241,
          -0.9353885211946515,
          0.6934308416020966,
          0.08647835959607916,
          -0.16443271264197398,
          0.002374089572150747,
          -0.6816739732891341,
          0.21543824029943615,
          -0.3452568931934203,
          0.27851644281738264,
          0.18880522145852552,
          -1.316661211969794,
          -1.2507795337843834,
          -1.3587133469817583,
          -0.43777159021974166,
          -0.5288845494123307,
          0.11030790276952555,
          1.4840109798270238,
          1.2036634130805954,
          1.5470891823449704,
          1.2793572561021316,
          1.1812356077408812,
          1.5344735418413813,
          1.6690403738796664,
          2.519895238955076,
          2.545126519962255,
          2.1904868480280233,
          2.710531584342647,
          2.5184935011213443,
          1.1489956375650423,
          0.6247456877492213,
          0.856032430315025,
          1.8260350112576664,
          0.352808548005186,
          0.518213612385579,
          0.6261474255829537,
          0.9415384381726855,
          1.0186340190279533,
          2.4273805419287546,
          1.9788244351344697,
          1.0747035323772387,
          1.0733017945435064,
          0.9976079515219709,
          -0.07331975344938475,
          1.9269601352863803,
          0.9990096893557032,
          1.041061824367667,
          1.960601843295952,
          0.3317824804992039,
          0.4271006531929894,
          0.20282259979584688,
          1.2429120724250955,
          0.699037792937025,
          -0.08733713178670637,
          0.4999910205470607,
          0.352808548005186,
          1.4882161933282203,
          1.4335484178126667,
          1.325614604615292,
          0.9625645056786674,
          0.5518553203951501,
          0.8686480708186142,
          1.5611065606822916,
          0.7200638604430069,
          0.5308292528891682,
          0.7677229467898997,
          0.9331280111702923,
          0.7116534334406143,
          0.6471734930889356,
          0.572881387901132,
          0.5013927583807931,
          0.28692686981977533,
          0.528025777221704,
          0.27991818065111473,
          0.18740348362479342,
          -0.3312395148560989,
          0.0794696704274186,
          0.20702781329704348,
          1.2148773157504529,
          0.7677229467898997,
          0.29533729682216825,
          0.5098031853831857,
          0.03040884624679347,
          0.23926778347288252,
          -0.13920143163479548,
          0.769124684623632,
          1.6045604335279882,
          0.8448185276451675,
          1.7181011980602916,
          0.7537055684525785,
          0.06405055425636488,
          -0.26816131233815244,
          -0.6886826624577947,
          -0.7910095243202412,
          -0.313016923017581,
          0.09629052443220419,
          -0.2905891176778667,
          0.32617552916427545,
          -0.16863792614317055,
          0.7579107819537747,
          1.58633784168947,
          2.3867301447505227,
          0.759312519787507,
          0.0976922622659363,
          -0.09014060745417059,
          0.13133397027550772,
          0.6934308416020966,
          1.1896460347432745,
          0.20282259979584688,
          0.03741753541545428,
          0.342996383169061,
          0.2350625699716862,
          -0.4181472605474916,
          -0.5008497927376879,
          -0.9830476075415445,
          -0.8653016295080446,
          -0.6690583327855448
         ],
         "xaxis": "x",
         "y": [
          0.1596856587150597,
          -0.1015242873296184,
          1.3242466681642504,
          1.1827579473900494,
          1.4875028844421743,
          0.6712218030525545,
          0.039964433444582,
          0.4970818390227692,
          -0.6565954226745598,
          -0.3953854766298817,
          -0.8198516389524837,
          -0.3953854766298817,
          -0.09064053957775704,
          -0.23212926035195783,
          -0.47157171089291283,
          -0.28654799911126577,
          0.061731928948305495,
          -0.5477579451559439,
          -0.25389675585568094,
          -0.47157171089291283,
          -0.972224107478546,
          -0.31919924236685027,
          -0.7980841434487606,
          -0.8742703777117917,
          -0.7545491524413142,
          -0.9395728642229612,
          -0.6457116749226981,
          -0.8416191344562068,
          -0.4498042153891897,
          -0.16682677384078812,
          -1.0701778372453004,
          -0.8742703777117917,
          -1.0157590984859926,
          -1.026642846237854,
          -0.9831078552304076,
          -0.3953854766298817,
          -0.27566425135940403,
          -0.16682677384078812,
          0.23587189297809075,
          0.8997805058416481,
          1.3460141636679732,
          0.4426631002634613,
          0.30117437948926046,
          0.23587189297809075,
          -0.145059278337065,
          -0.35185048562243515,
          -0.27566425135940403,
          -0.6457116749226981,
          -0.8851541254636532,
          -0.34096673787057374,
          -0.3083154946149889,
          -0.2212455126000961,
          0.26852313623367563,
          0.09438317220388996,
          -0.3953854766298817,
          0.0834994244520286,
          -0.31919924236685027,
          -0.41715297213360486,
          -0.7110141614338678,
          -0.03622180081844908,
          0.26852313623367563,
          1.139222956382603,
          0.10526691995575171,
          -0.34096673787057374,
          -0.05798929632217219,
          -0.5586416929078056,
          -0.17771052159264986,
          0.18145315421878278,
          -0.09064053957775704,
          0.029080685692720636,
          0.09438317220388996,
          0.17056940646692142,
          -0.1232917828333419,
          -0.27566425135940403,
          -0.18859426934451123,
          -0.145059278337065,
          -0.2430130081038192,
          0.5950355687895235,
          0.14880191096319792,
          0.2467556407299525,
          0.039964433444582,
          0.14880191096319792,
          0.4426631002634613,
          -0.00357055756286422,
          -0.03622180081844908,
          0.11615066770761347,
          0.6712218030525545,
          0.007313190188997528,
          -0.05798929632217219,
          0.039964433444582,
          0.26852313623367563,
          -0.21036176484823435,
          0.6385705597969696,
          -0.1232917828333419,
          1.7595965782387142,
          2.314667713583655,
          1.1609904518863265,
          0.5406168300302154,
          0.4317793525115995,
          -0.35185048562243515,
          -0.2647805036075423,
          -0.330082990118712,
          -0.330082990118712,
          -0.23212926035195783,
          -0.2974317468631272,
          -0.34096673787057374,
          -0.09064053957775704,
          0.029080685692720636,
          -0.40626922438174307,
          -0.41715297213360486,
          -0.43892046763732795,
          -0.46068796314105104,
          -0.145059278337065,
          -0.3627342333742969,
          -0.23212926035195783,
          -0.35185048562243515,
          -0.05798929632217219,
          -0.2430130081038192,
          -0.2212455126000961,
          -0.569525440659667,
          -0.40626922438174307,
          -0.1232917828333419,
          -0.7436654046894526,
          -0.6892466659301447,
          -0.4933392063966359,
          -0.8960378732155148,
          -0.3627342333742969,
          -0.31919924236685027,
          0.05084818119644375,
          -0.4498042153891897,
          -0.7545491524413142,
          -0.4824554586447742,
          -0.5586416929078056,
          -0.5912929361633901,
          -1.0048753507341308,
          -0.515106701900359,
          -0.9286891164710996,
          -0.9939916029822692,
          -0.7545491524413142,
          -1.1681315670120547,
          -0.9504566119748228,
          -0.7545491524413142,
          -0.8633866299599301,
          -0.515106701900359,
          -0.7763166479450373,
          -0.11240803508148016,
          -0.31919924236685027,
          -0.7872003956968988,
          -0.34096673787057374,
          -0.6021766839152518,
          -0.7545491524413142,
          -1.026642846237854,
          2.042574019787115,
          0.19233690197064454,
          0.0834994244520286,
          0.48619809127090746,
          2.989460074199074,
          2.989460074199074,
          2.989460074199074,
          0.01819693794085889,
          0.26852313623367563,
          2.989460074199074,
          0.13791816321133657,
          0.13791816321133657,
          -0.02533805306658733,
          -0.5586416929078056,
          -0.37361798112615824,
          0.061731928948305495,
          0.11615066770761347,
          0.007313190188997528,
          0.7474080373155856,
          0.07261567670016686,
          0.2249881452262294,
          0.8018267760748935,
          1.5963403619607903,
          1.879317803509191,
          1.4875028844421743,
          1.672526596223821,
          1.084804217623295,
          0.42089560475973775,
          0.7691755328193091,
          2.989460074199074,
          1.0303854788639872,
          0.7909430283230322,
          1.3460141636679732,
          1.5745728664570668,
          0.8671292625860633,
          1.509270379945897,
          0.9324317490972329,
          0.7147567940600011,
          2.989460074199074,
          1.1718741996381876,
          0.8453617670823401,
          1.3133629204123887,
          0.007313190188997528,
          0.2032206497225059,
          -0.00357055756286422,
          0.2032206497225059,
          -0.27566425135940403,
          -0.09064053957775704,
          -0.35185048562243515,
          -0.014454305314725968,
          0.6059193165413852,
          0.12703441545947483,
          0.26852313623367563,
          0.0834994244520286,
          0.6712218030525545,
          -0.11240803508148016,
          0.05084818119644375,
          0.45354684801532263,
          -0.09064053957775704,
          0.5406168300302154,
          0.823594271578617,
          2.423505191102271,
          1.6398753529682366,
          0.986850487856541,
          2.6302963983876415,
          0.9759667401046792,
          0.19233690197064454,
          0.9977342356084022,
          2.086109010794562,
          2.8044363624174267,
          0.7038730463081393,
          0.1596856587150597,
          0.27940688398553737,
          0.9759667401046792,
          0.12703441545947483,
          0.0834994244520286,
          -0.05798929632217219,
          -0.2647805036075423,
          -0.03622180081844908,
          0.12703441545947483,
          -0.5368741974040822,
          -0.43892046763732795,
          0.19233690197064454,
          -0.2212455126000961,
          0.21410439747436766,
          0.39912810925601466,
          0.2032206497225059,
          0.2467556407299525,
          0.7691755328193091,
          2.205830236065039,
          -0.06887304407403394,
          -0.17771052159264986,
          1.4657353889384508,
          0.823594271578617,
          1.2262929383974954,
          2.2384814793206242,
          0.9215480013453712,
          1.5201541276977588,
          0.029080685692720636,
          0.8888967580897863,
          2.989460074199074,
          2.2820164703280703,
          -0.19947801709637297,
          -0.15594302608892638,
          0.2902906317373987,
          0.2032206497225059,
          1.3786654069235584,
          1.0739204698714333,
          1.0303854788639872,
          1.1609904518863265,
          1.1501067041344648,
          0.7147567940600011,
          1.3677816591716967,
          2.4888076776134405,
          1.4004329024272812,
          2.55411016412461,
          -0.05798929632217219,
          -0.2647805036075423,
          0.07261567670016686,
          -0.02533805306658733,
          0.2467556407299525,
          0.6494543075488314,
          1.6072241097126512,
          0.5841518210376616,
          0.14880191096319792,
          -0.09064053957775704,
          0.6603380553006931,
          0.4970818390227692,
          -0.2430130081038192,
          -0.00357055756286422,
          0.7038730463081393,
          0.2467556407299525,
          -0.05798929632217219,
          0.42089560475973775,
          1.1501067041344648,
          1.4766191366903125,
          0.6385705597969696,
          1.1827579473900494,
          0.6168030642932465,
          0.029080685692720636,
          -0.2430130081038192,
          -0.700130413682006,
          -0.047105548570310435,
          -0.34096673787057374,
          -0.1015242873296184,
          0.13791816321133657,
          -0.6892466659301447,
          -0.515106701900359,
          -0.2974317468631272,
          0.061731928948305495,
          -0.16682677384078812,
          0.13791816321133657,
          0.061731928948305495,
          -0.23212926035195783,
          -0.43892046763732795,
          0.26852313623367563,
          0.2249881452262294,
          0.05084818119644375,
          -0.03622180081844908,
          -0.35185048562243515,
          0.007313190188997528,
          -0.2974317468631272,
          -0.5912929361633901,
          -0.34096673787057374,
          -0.03622180081844908,
          -0.19947801709637297,
          -0.15594302608892638,
          -0.330082990118712,
          -0.43892046763732795,
          -0.21036176484823435,
          -0.38450172887802,
          -0.41715297213360486,
          1.1065717131270185,
          -0.6565954226745598,
          0.14880191096319792,
          0.9433154968490943,
          -0.5477579451559439,
          -0.5804091884115288,
          0.21410439747436766,
          0.4426631002634613,
          0.039964433444582,
          -0.515106701900359,
          -0.09064053957775704,
          0.01819693794085889,
          0.007313190188997528,
          0.26852313623367563,
          -0.28654799911126577,
          -0.18859426934451123,
          -0.623944179418975,
          -0.06887304407403394,
          2.989460074199074,
          2.989460074199074,
          2.989460074199074,
          2.989460074199074,
          2.989460074199074,
          -0.8198516389524837,
          -0.9395728642229612,
          -1.0048753507341308,
          -1.026642846237854,
          -1.3422715310418403,
          -1.266085296778809,
          -1.2225503057713625,
          -1.1137128282527466,
          -1.4946439995679024,
          -1.668783963597688,
          -1.3096202877862555,
          -1.6470164680939647,
          -1.3422715310418403,
          -1.2007828102676394,
          -0.8089678912006222,
          0.07261567670016686,
          -1.3966902698011483,
          -0.9504566119748228,
          -1.0701778372453004,
          -1.026642846237854,
          -1.0919453327490236,
          -1.5272952428234872,
          -1.7667376933644423,
          -1.8429239276274738,
          -1.668783963597688,
          -1.13548032375647,
          -1.5490627383272104,
          0.5841518210376616,
          -0.5804091884115288,
          0.5406168300302154,
          -0.6783629181782829,
          -1.320504035538117,
          -0.6348279271708367,
          -0.9069216209673765,
          -0.18859426934451123,
          -1.2552015490269475,
          -0.8742703777117917,
          -0.700130413682006,
          -0.8960378732155148,
          -1.1790153147639164,
          -0.9939916029822692,
          -1.0592940894934386,
          -1.3096202877862555,
          -0.5912929361633901,
          -0.4498042153891897,
          -0.7763166479450373,
          -1.2769690445306705,
          -0.8307353867043452,
          -1.081061584997162,
          -0.9178053687192381,
          -1.0375265939897156,
          -0.7980841434487606,
          -0.700130413682006,
          -0.515106701900359,
          -0.8307353867043452,
          -0.27566425135940403,
          -0.6674791704264216,
          -0.5259904496522207,
          -0.330082990118712,
          -0.25389675585568094,
          -0.1232917828333419,
          -0.28654799911126577,
          -0.37361798112615824,
          -0.37361798112615824,
          -0.2647805036075423,
          -0.28654799911126577,
          -0.31919924236685027,
          0.07261567670016686,
          0.7909430283230322,
          -0.9504566119748228,
          -1.0048753507341308,
          -0.6348279271708367,
          -1.1463640715083314,
          -0.8633866299599301,
          -0.1232917828333419,
          0.05084818119644375,
          0.12703441545947483,
          0.26852313623367563,
          -0.07975679182589529,
          -0.21036176484823435,
          -0.145059278337065,
          -0.37361798112615824,
          -0.21036176484823435,
          -0.7980841434487606,
          -1.6905514591014112,
          -1.5708302338309337,
          -0.972224107478546,
          -0.2647805036075423,
          -0.07975679182589529,
          0.21410439747436766,
          0.061731928948305495,
          -0.3083154946149889,
          -0.46068796314105104,
          -0.145059278337065,
          -0.5477579451559439,
          -0.623944179418975,
          -0.014454305314725968,
          -0.21036176484823435,
          0.14880191096319792,
          -0.05798929632217219,
          -1.1572478192601932
         ],
         "yaxis": "y"
        }
       ],
       "layout": {
        "legend": {
         "tracegroupgap": 0
        },
        "margin": {
         "t": 60
        },
        "template": {
         "data": {
          "bar": [
           {
            "error_x": {
             "color": "#2a3f5f"
            },
            "error_y": {
             "color": "#2a3f5f"
            },
            "marker": {
             "line": {
              "color": "#E5ECF6",
              "width": 0.5
             }
            },
            "type": "bar"
           }
          ],
          "barpolar": [
           {
            "marker": {
             "line": {
              "color": "#E5ECF6",
              "width": 0.5
             }
            },
            "type": "barpolar"
           }
          ],
          "carpet": [
           {
            "aaxis": {
             "endlinecolor": "#2a3f5f",
             "gridcolor": "white",
             "linecolor": "white",
             "minorgridcolor": "white",
             "startlinecolor": "#2a3f5f"
            },
            "baxis": {
             "endlinecolor": "#2a3f5f",
             "gridcolor": "white",
             "linecolor": "white",
             "minorgridcolor": "white",
             "startlinecolor": "#2a3f5f"
            },
            "type": "carpet"
           }
          ],
          "choropleth": [
           {
            "colorbar": {
             "outlinewidth": 0,
             "ticks": ""
            },
            "type": "choropleth"
           }
          ],
          "contour": [
           {
            "colorbar": {
             "outlinewidth": 0,
             "ticks": ""
            },
            "colorscale": [
             [
              0,
              "#0d0887"
             ],
             [
              0.1111111111111111,
              "#46039f"
             ],
             [
              0.2222222222222222,
              "#7201a8"
             ],
             [
              0.3333333333333333,
              "#9c179e"
             ],
             [
              0.4444444444444444,
              "#bd3786"
             ],
             [
              0.5555555555555556,
              "#d8576b"
             ],
             [
              0.6666666666666666,
              "#ed7953"
             ],
             [
              0.7777777777777778,
              "#fb9f3a"
             ],
             [
              0.8888888888888888,
              "#fdca26"
             ],
             [
              1,
              "#f0f921"
             ]
            ],
            "type": "contour"
           }
          ],
          "contourcarpet": [
           {
            "colorbar": {
             "outlinewidth": 0,
             "ticks": ""
            },
            "type": "contourcarpet"
           }
          ],
          "heatmap": [
           {
            "colorbar": {
             "outlinewidth": 0,
             "ticks": ""
            },
            "colorscale": [
             [
              0,
              "#0d0887"
             ],
             [
              0.1111111111111111,
              "#46039f"
             ],
             [
              0.2222222222222222,
              "#7201a8"
             ],
             [
              0.3333333333333333,
              "#9c179e"
             ],
             [
              0.4444444444444444,
              "#bd3786"
             ],
             [
              0.5555555555555556,
              "#d8576b"
             ],
             [
              0.6666666666666666,
              "#ed7953"
             ],
             [
              0.7777777777777778,
              "#fb9f3a"
             ],
             [
              0.8888888888888888,
              "#fdca26"
             ],
             [
              1,
              "#f0f921"
             ]
            ],
            "type": "heatmap"
           }
          ],
          "heatmapgl": [
           {
            "colorbar": {
             "outlinewidth": 0,
             "ticks": ""
            },
            "colorscale": [
             [
              0,
              "#0d0887"
             ],
             [
              0.1111111111111111,
              "#46039f"
             ],
             [
              0.2222222222222222,
              "#7201a8"
             ],
             [
              0.3333333333333333,
              "#9c179e"
             ],
             [
              0.4444444444444444,
              "#bd3786"
             ],
             [
              0.5555555555555556,
              "#d8576b"
             ],
             [
              0.6666666666666666,
              "#ed7953"
             ],
             [
              0.7777777777777778,
              "#fb9f3a"
             ],
             [
              0.8888888888888888,
              "#fdca26"
             ],
             [
              1,
              "#f0f921"
             ]
            ],
            "type": "heatmapgl"
           }
          ],
          "histogram": [
           {
            "marker": {
             "colorbar": {
              "outlinewidth": 0,
              "ticks": ""
             }
            },
            "type": "histogram"
           }
          ],
          "histogram2d": [
           {
            "colorbar": {
             "outlinewidth": 0,
             "ticks": ""
            },
            "colorscale": [
             [
              0,
              "#0d0887"
             ],
             [
              0.1111111111111111,
              "#46039f"
             ],
             [
              0.2222222222222222,
              "#7201a8"
             ],
             [
              0.3333333333333333,
              "#9c179e"
             ],
             [
              0.4444444444444444,
              "#bd3786"
             ],
             [
              0.5555555555555556,
              "#d8576b"
             ],
             [
              0.6666666666666666,
              "#ed7953"
             ],
             [
              0.7777777777777778,
              "#fb9f3a"
             ],
             [
              0.8888888888888888,
              "#fdca26"
             ],
             [
              1,
              "#f0f921"
             ]
            ],
            "type": "histogram2d"
           }
          ],
          "histogram2dcontour": [
           {
            "colorbar": {
             "outlinewidth": 0,
             "ticks": ""
            },
            "colorscale": [
             [
              0,
              "#0d0887"
             ],
             [
              0.1111111111111111,
              "#46039f"
             ],
             [
              0.2222222222222222,
              "#7201a8"
             ],
             [
              0.3333333333333333,
              "#9c179e"
             ],
             [
              0.4444444444444444,
              "#bd3786"
             ],
             [
              0.5555555555555556,
              "#d8576b"
             ],
             [
              0.6666666666666666,
              "#ed7953"
             ],
             [
              0.7777777777777778,
              "#fb9f3a"
             ],
             [
              0.8888888888888888,
              "#fdca26"
             ],
             [
              1,
              "#f0f921"
             ]
            ],
            "type": "histogram2dcontour"
           }
          ],
          "mesh3d": [
           {
            "colorbar": {
             "outlinewidth": 0,
             "ticks": ""
            },
            "type": "mesh3d"
           }
          ],
          "parcoords": [
           {
            "line": {
             "colorbar": {
              "outlinewidth": 0,
              "ticks": ""
             }
            },
            "type": "parcoords"
           }
          ],
          "pie": [
           {
            "automargin": true,
            "type": "pie"
           }
          ],
          "scatter": [
           {
            "marker": {
             "colorbar": {
              "outlinewidth": 0,
              "ticks": ""
             }
            },
            "type": "scatter"
           }
          ],
          "scatter3d": [
           {
            "line": {
             "colorbar": {
              "outlinewidth": 0,
              "ticks": ""
             }
            },
            "marker": {
             "colorbar": {
              "outlinewidth": 0,
              "ticks": ""
             }
            },
            "type": "scatter3d"
           }
          ],
          "scattercarpet": [
           {
            "marker": {
             "colorbar": {
              "outlinewidth": 0,
              "ticks": ""
             }
            },
            "type": "scattercarpet"
           }
          ],
          "scattergeo": [
           {
            "marker": {
             "colorbar": {
              "outlinewidth": 0,
              "ticks": ""
             }
            },
            "type": "scattergeo"
           }
          ],
          "scattergl": [
           {
            "marker": {
             "colorbar": {
              "outlinewidth": 0,
              "ticks": ""
             }
            },
            "type": "scattergl"
           }
          ],
          "scattermapbox": [
           {
            "marker": {
             "colorbar": {
              "outlinewidth": 0,
              "ticks": ""
             }
            },
            "type": "scattermapbox"
           }
          ],
          "scatterpolar": [
           {
            "marker": {
             "colorbar": {
              "outlinewidth": 0,
              "ticks": ""
             }
            },
            "type": "scatterpolar"
           }
          ],
          "scatterpolargl": [
           {
            "marker": {
             "colorbar": {
              "outlinewidth": 0,
              "ticks": ""
             }
            },
            "type": "scatterpolargl"
           }
          ],
          "scatterternary": [
           {
            "marker": {
             "colorbar": {
              "outlinewidth": 0,
              "ticks": ""
             }
            },
            "type": "scatterternary"
           }
          ],
          "surface": [
           {
            "colorbar": {
             "outlinewidth": 0,
             "ticks": ""
            },
            "colorscale": [
             [
              0,
              "#0d0887"
             ],
             [
              0.1111111111111111,
              "#46039f"
             ],
             [
              0.2222222222222222,
              "#7201a8"
             ],
             [
              0.3333333333333333,
              "#9c179e"
             ],
             [
              0.4444444444444444,
              "#bd3786"
             ],
             [
              0.5555555555555556,
              "#d8576b"
             ],
             [
              0.6666666666666666,
              "#ed7953"
             ],
             [
              0.7777777777777778,
              "#fb9f3a"
             ],
             [
              0.8888888888888888,
              "#fdca26"
             ],
             [
              1,
              "#f0f921"
             ]
            ],
            "type": "surface"
           }
          ],
          "table": [
           {
            "cells": {
             "fill": {
              "color": "#EBF0F8"
             },
             "line": {
              "color": "white"
             }
            },
            "header": {
             "fill": {
              "color": "#C8D4E3"
             },
             "line": {
              "color": "white"
             }
            },
            "type": "table"
           }
          ]
         },
         "layout": {
          "annotationdefaults": {
           "arrowcolor": "#2a3f5f",
           "arrowhead": 0,
           "arrowwidth": 1
          },
          "coloraxis": {
           "colorbar": {
            "outlinewidth": 0,
            "ticks": ""
           }
          },
          "colorscale": {
           "diverging": [
            [
             0,
             "#8e0152"
            ],
            [
             0.1,
             "#c51b7d"
            ],
            [
             0.2,
             "#de77ae"
            ],
            [
             0.3,
             "#f1b6da"
            ],
            [
             0.4,
             "#fde0ef"
            ],
            [
             0.5,
             "#f7f7f7"
            ],
            [
             0.6,
             "#e6f5d0"
            ],
            [
             0.7,
             "#b8e186"
            ],
            [
             0.8,
             "#7fbc41"
            ],
            [
             0.9,
             "#4d9221"
            ],
            [
             1,
             "#276419"
            ]
           ],
           "sequential": [
            [
             0,
             "#0d0887"
            ],
            [
             0.1111111111111111,
             "#46039f"
            ],
            [
             0.2222222222222222,
             "#7201a8"
            ],
            [
             0.3333333333333333,
             "#9c179e"
            ],
            [
             0.4444444444444444,
             "#bd3786"
            ],
            [
             0.5555555555555556,
             "#d8576b"
            ],
            [
             0.6666666666666666,
             "#ed7953"
            ],
            [
             0.7777777777777778,
             "#fb9f3a"
            ],
            [
             0.8888888888888888,
             "#fdca26"
            ],
            [
             1,
             "#f0f921"
            ]
           ],
           "sequentialminus": [
            [
             0,
             "#0d0887"
            ],
            [
             0.1111111111111111,
             "#46039f"
            ],
            [
             0.2222222222222222,
             "#7201a8"
            ],
            [
             0.3333333333333333,
             "#9c179e"
            ],
            [
             0.4444444444444444,
             "#bd3786"
            ],
            [
             0.5555555555555556,
             "#d8576b"
            ],
            [
             0.6666666666666666,
             "#ed7953"
            ],
            [
             0.7777777777777778,
             "#fb9f3a"
            ],
            [
             0.8888888888888888,
             "#fdca26"
            ],
            [
             1,
             "#f0f921"
            ]
           ]
          },
          "colorway": [
           "#636efa",
           "#EF553B",
           "#00cc96",
           "#ab63fa",
           "#FFA15A",
           "#19d3f3",
           "#FF6692",
           "#B6E880",
           "#FF97FF",
           "#FECB52"
          ],
          "font": {
           "color": "#2a3f5f"
          },
          "geo": {
           "bgcolor": "white",
           "lakecolor": "white",
           "landcolor": "#E5ECF6",
           "showlakes": true,
           "showland": true,
           "subunitcolor": "white"
          },
          "hoverlabel": {
           "align": "left"
          },
          "hovermode": "closest",
          "mapbox": {
           "style": "light"
          },
          "paper_bgcolor": "white",
          "plot_bgcolor": "#E5ECF6",
          "polar": {
           "angularaxis": {
            "gridcolor": "white",
            "linecolor": "white",
            "ticks": ""
           },
           "bgcolor": "#E5ECF6",
           "radialaxis": {
            "gridcolor": "white",
            "linecolor": "white",
            "ticks": ""
           }
          },
          "scene": {
           "xaxis": {
            "backgroundcolor": "#E5ECF6",
            "gridcolor": "white",
            "gridwidth": 2,
            "linecolor": "white",
            "showbackground": true,
            "ticks": "",
            "zerolinecolor": "white"
           },
           "yaxis": {
            "backgroundcolor": "#E5ECF6",
            "gridcolor": "white",
            "gridwidth": 2,
            "linecolor": "white",
            "showbackground": true,
            "ticks": "",
            "zerolinecolor": "white"
           },
           "zaxis": {
            "backgroundcolor": "#E5ECF6",
            "gridcolor": "white",
            "gridwidth": 2,
            "linecolor": "white",
            "showbackground": true,
            "ticks": "",
            "zerolinecolor": "white"
           }
          },
          "shapedefaults": {
           "line": {
            "color": "#2a3f5f"
           }
          },
          "ternary": {
           "aaxis": {
            "gridcolor": "white",
            "linecolor": "white",
            "ticks": ""
           },
           "baxis": {
            "gridcolor": "white",
            "linecolor": "white",
            "ticks": ""
           },
           "bgcolor": "#E5ECF6",
           "caxis": {
            "gridcolor": "white",
            "linecolor": "white",
            "ticks": ""
           }
          },
          "title": {
           "x": 0.05
          },
          "xaxis": {
           "automargin": true,
           "gridcolor": "white",
           "linecolor": "white",
           "ticks": "",
           "title": {
            "standoff": 15
           },
           "zerolinecolor": "white",
           "zerolinewidth": 2
          },
          "yaxis": {
           "automargin": true,
           "gridcolor": "white",
           "linecolor": "white",
           "ticks": "",
           "title": {
            "standoff": 15
           },
           "zerolinecolor": "white",
           "zerolinewidth": 2
          }
         }
        },
        "xaxis": {
         "anchor": "y",
         "domain": [
          0,
          1
         ],
         "title": {
          "text": "LSTAT"
         }
        },
        "yaxis": {
         "anchor": "x",
         "domain": [
          0,
          1
         ],
         "title": {
          "text": "price"
         }
        }
       }
      },
      "text/html": [
       "<div>\n",
       "        \n",
       "        \n",
       "            <div id=\"9a0477b6-7d0b-43a8-9b96-63582cc9a349\" class=\"plotly-graph-div\" style=\"height:525px; width:100%;\"></div>\n",
       "            <script type=\"text/javascript\">\n",
       "                require([\"plotly\"], function(Plotly) {\n",
       "                    window.PLOTLYENV=window.PLOTLYENV || {};\n",
       "                    \n",
       "                if (document.getElementById(\"9a0477b6-7d0b-43a8-9b96-63582cc9a349\")) {\n",
       "                    Plotly.newPlot(\n",
       "                        '9a0477b6-7d0b-43a8-9b96-63582cc9a349',\n",
       "                        [{\"hoverlabel\": {\"namelength\": 0}, \"hovertemplate\": \"LSTAT=%{x}<br>price=%{y}\", \"legendgroup\": \"\", \"marker\": {\"color\": \"#636efa\", \"symbol\": \"circle\"}, \"mode\": \"markers\", \"name\": \"\", \"showlegend\": false, \"type\": \"scatter\", \"x\": [-1.0755623045678657, -0.492439365735295, -1.208727398772419, -1.3615168226492227, -1.0265014803872408, -1.0433223343920266, -0.03126761843742067, 0.910700205830578, 2.4217735905938262, 0.6233439499154895, 1.0929261242157564, 0.08647835959607916, 0.4285023910267218, -0.6157922951037235, -0.3354447283572953, -0.5863558005953484, -0.8512842511707231, 0.282721656318579, -0.13499621813359913, -0.19246746931661696, 1.1728251807384886, 0.16497567828507914, 0.850425478980096, 1.0130270676930244, 0.5112049232169181, 0.5406414177252932, 0.302345985990829, 0.648575230922668, 0.020596681410668692, -0.09434582095536692, 1.3942997584681671, 0.05423838942023986, 2.1105877915052913, 0.7985611791320071, 1.077507008044703, -0.4167455227137595, -0.174244877478099, -0.5443036655833844, -0.353667320195813, -1.168077001594187, -1.496083654687508, -1.0951866342401158, -0.9592180643680981, -0.730734797469759, -0.4349681145522772, -0.3424534175259558, 0.2098312889645077, 0.8616393816499534, 2.545126519962255, 0.4971875448795965, 0.11170964060325766, -0.451788968557063, -1.0335101695559015, -0.5919627519302771, 0.3009442481570969, -0.8120355918262232, -0.48122546306543784, 0.06965750559129358, 0.2504816861427397, -0.830258183664741, -0.441976803720938, -0.6452287896120984, -1.119016177413562, -0.3382482040247595, -0.6382201004434378, 0.06124707858890067, -0.5415001899159201, -0.8316599214984732, -0.38871076603911653, -0.9998684615463302, -0.7167174191324377, -0.8232494944960803, -0.520474122409938, -0.09574755878909903, -0.3340429905235632, -0.04388325894100992, -0.4980463170702237, -1.0321084317221694, -0.7615730298118661, -0.8316599214984732, -0.7209226326336341, -0.4251559497161524, -0.8582929403393839, 0.02900710841306136, -0.590561014096545, -1.0026719372137944, -0.9746371805391516, -0.5386967142484557, -0.6242027221061164, -0.6298096734410449, -0.9031485510188124, -0.2891873798441346, -0.8414720863345981, -0.18405704231422404, -1.1834961177652406, -1.2732073391240977, -0.9059520266862766, -0.4531907063907951, -0.6984948272939199, 0.11030790276952555, -0.04528499677474203, 0.5350344663903642, 0.8420150519777033, 0.20142086196211478, -0.053695423777134946, 0.4060745856870075, 0.04863143808531142, -0.34946210669461664, 0.49858928271332886, 0.6219422120817572, -0.30881170951638465, 0.4355110801953823, -0.08593539395297425, -0.3298377770223666, 0.38084330467982874, 0.13413744594297194, 0.24066952130661465, 0.22665214296929329, 0.739688190115257, 1.7881880897468987, 0.6906273659346318, 0.302345985990829, 2.047509588987345, 0.6359595904190787, 0.3836467803472932, 0.7971594412982748, -0.0074380752639742805, -0.05509716161086706, -0.21489527465633124, 0.333184218332936, 0.6527804444238641, 0.6037196202432394, 0.5953091932408463, 0.2715077536487218, 1.2148773157504529, 0.8139802953030606, 1.612970860530381, 1.9858331243031304, 1.929763610953845, 2.3320623692349693, 2.1232034320088804, 0.5602657473975428, 2.365704077244541, 2.1960937993629517, 1.2330999075889706, 0.20282259979584688, 0.08788009742981127, -0.07472149128311711, 0.43971629369657866, 0.3457998588365252, 0.3317824804992039, 0.4887771178772038, -1.1302300800834193, -0.8723103186767054, -0.7377434866384198, -1.0026719372137944, -1.5311271005308116, -1.504494081689901, -1.3082507849674012, -0.1420049073022597, -0.39852293087524154, -1.25498474728558, -0.07191801561565264, -0.21769875032379546, -0.18686051798168826, 0.24907994830900756, -0.08733713178670637, 0.2855251319860432, -0.5064567440726165, -0.4223524740486879, -1.0265014803872408, -0.35647079586327746, -0.8919346483489553, -0.8036251648238304, -1.067151877565473, -0.7139139434649734, -0.44898549288959877, -1.09799010990758, -0.9774406562066159, 0.1860017457910613, 0.06965750559129358, -1.1498544097556693, -0.8372668728334018, -1.1344352935846158, -1.018091053384848, -1.05874145056308, -1.1162127017460979, -1.3713289874853474, -1.068553615399205, -1.1596665745917945, -1.357311609148026, -1.2017187096037585, -0.5667314709230986, -0.8456772998357946, -0.24993872049963475, -0.23592134216231314, 0.7579107819537747, 0.2813199184848469, 1.4629849123210419, 0.6471734930889356, 1.5877395795232025, 0.47335800170615033, -0.45879765772572356, 2.368507552912005, -0.4461820172221343, 0.12012006760565058, -0.4153437848800274, 0.7382864522815251, -0.3018030203477239, -0.4125403092125629, 1.234501645422703, -0.38170207687045593, -0.7083069921300449, -1.1933082826013655, -1.334883803808312, -0.8821224835128303, -1.2241465149434727, -1.246574320283187, -0.14060316946852758, -1.037715383057098, -1.427398500834633, -1.2199413014422764, -0.6452287896120984, -0.2485369826659024, -0.43636985238600956, -1.1106057504111693, -0.8821224835128303, -0.740546962305884, -0.17845009097929534, -0.03547283193861701, -0.20087789631900962, -1.0461258100594908, -0.02145545360129564, 0.8139802953030606, -0.48963589006783076, -0.35086384452834873, -0.43917332805347375, -0.8540877268381876, -0.9466024238645088, -1.2704038634566335, -1.2788142904590263, -1.2774125526252942, -0.8526859890044552, -0.4770202495642415, -0.6816739732891341, -0.8064286404912946, -0.42936116321734874, -0.7559660784769376, -0.19667268281781328, -0.6382201004434378, -0.30881170951638465, 0.29954251032336454, -0.730734797469759, -1.3306785903071154, 0.13974439727790064, 0.04863143808531142, -0.849882513336991, -0.690084400291527, -0.8512842511707231, -1.2788142904590263, -1.3559098713142939, -0.9255763563585268, -1.1905048069339013, -0.7657782433130625, -1.0937848964063837, -1.246574320283187, -1.1302300800834193, -1.3517046578130976, -0.6199975086049199, 0.03881927324918639, -0.7727869324817234, -0.7083069921300449, -0.44057506588720585, -1.3068490471336691, -1.2746090769578298, -1.1148109639123658, -0.5709366844242949, -0.31582039868504524, -0.8947381240164196, -0.7377434866384198, 0.4467249828652395, -1.076964042401598, -1.1092040125774372, -0.9227728806910623, -0.441976803720938, -0.5583210439207057, -1.0923831585726513, -0.8022234269900983, -0.52187586024367, -0.8667033673417768, -0.7181191569661698, -1.13723876925208, -0.37609512553552726, -0.0018311239290455864, -0.9353885211946515, -0.13079100463240256, -0.6662548571180805, -0.4728150360630452, -0.16162923697450976, 0.7957577034645424, 0.46074236120256085, -0.3214273500199739, 0.010784516574543664, -0.7643765054793304, -0.8106338539924911, -0.6942896137927234, -0.12798752896493834, -0.9157641915224016, -1.0615449262305443, -0.9115589780212052, 0.01919494357693633, -0.37609512553552726, -0.7447521758070805, -0.4994480549039558, -0.03126761843742067, -0.6760670219542055, -0.9774406562066159, -0.8274547079972768, -0.650835740947027, -0.39992466870897364, -0.29339259334533097, -0.58074884926042, -0.40833509571136656, -0.47141329822931305, -1.0040736750475265, -0.5611245195881699, -0.7671799811467948, -1.127426604415955, -0.29759780684652754, 0.002374089572150747, -0.9339867833609194, -0.948004161698241, -0.9353885211946515, 0.6934308416020966, 0.08647835959607916, -0.16443271264197398, 0.002374089572150747, -0.6816739732891341, 0.21543824029943615, -0.3452568931934203, 0.27851644281738264, 0.18880522145852552, -1.316661211969794, -1.2507795337843834, -1.3587133469817583, -0.43777159021974166, -0.5288845494123307, 0.11030790276952555, 1.4840109798270238, 1.2036634130805954, 1.5470891823449704, 1.2793572561021316, 1.1812356077408812, 1.5344735418413813, 1.6690403738796664, 2.519895238955076, 2.545126519962255, 2.1904868480280233, 2.710531584342647, 2.5184935011213443, 1.1489956375650423, 0.6247456877492213, 0.856032430315025, 1.8260350112576664, 0.352808548005186, 0.518213612385579, 0.6261474255829537, 0.9415384381726855, 1.0186340190279533, 2.4273805419287546, 1.9788244351344697, 1.0747035323772387, 1.0733017945435064, 0.9976079515219709, -0.07331975344938475, 1.9269601352863803, 0.9990096893557032, 1.041061824367667, 1.960601843295952, 0.3317824804992039, 0.4271006531929894, 0.20282259979584688, 1.2429120724250955, 0.699037792937025, -0.08733713178670637, 0.4999910205470607, 0.352808548005186, 1.4882161933282203, 1.4335484178126667, 1.325614604615292, 0.9625645056786674, 0.5518553203951501, 0.8686480708186142, 1.5611065606822916, 0.7200638604430069, 0.5308292528891682, 0.7677229467898997, 0.9331280111702923, 0.7116534334406143, 0.6471734930889356, 0.572881387901132, 0.5013927583807931, 0.28692686981977533, 0.528025777221704, 0.27991818065111473, 0.18740348362479342, -0.3312395148560989, 0.0794696704274186, 0.20702781329704348, 1.2148773157504529, 0.7677229467898997, 0.29533729682216825, 0.5098031853831857, 0.03040884624679347, 0.23926778347288252, -0.13920143163479548, 0.769124684623632, 1.6045604335279882, 0.8448185276451675, 1.7181011980602916, 0.7537055684525785, 0.06405055425636488, -0.26816131233815244, -0.6886826624577947, -0.7910095243202412, -0.313016923017581, 0.09629052443220419, -0.2905891176778667, 0.32617552916427545, -0.16863792614317055, 0.7579107819537747, 1.58633784168947, 2.3867301447505227, 0.759312519787507, 0.0976922622659363, -0.09014060745417059, 0.13133397027550772, 0.6934308416020966, 1.1896460347432745, 0.20282259979584688, 0.03741753541545428, 0.342996383169061, 0.2350625699716862, -0.4181472605474916, -0.5008497927376879, -0.9830476075415445, -0.8653016295080446, -0.6690583327855448], \"xaxis\": \"x\", \"y\": [0.1596856587150597, -0.1015242873296184, 1.3242466681642504, 1.1827579473900494, 1.4875028844421743, 0.6712218030525545, 0.039964433444582, 0.4970818390227692, -0.6565954226745598, -0.3953854766298817, -0.8198516389524837, -0.3953854766298817, -0.09064053957775704, -0.23212926035195783, -0.47157171089291283, -0.28654799911126577, 0.061731928948305495, -0.5477579451559439, -0.25389675585568094, -0.47157171089291283, -0.972224107478546, -0.31919924236685027, -0.7980841434487606, -0.8742703777117917, -0.7545491524413142, -0.9395728642229612, -0.6457116749226981, -0.8416191344562068, -0.4498042153891897, -0.16682677384078812, -1.0701778372453004, -0.8742703777117917, -1.0157590984859926, -1.026642846237854, -0.9831078552304076, -0.3953854766298817, -0.27566425135940403, -0.16682677384078812, 0.23587189297809075, 0.8997805058416481, 1.3460141636679732, 0.4426631002634613, 0.30117437948926046, 0.23587189297809075, -0.145059278337065, -0.35185048562243515, -0.27566425135940403, -0.6457116749226981, -0.8851541254636532, -0.34096673787057374, -0.3083154946149889, -0.2212455126000961, 0.26852313623367563, 0.09438317220388996, -0.3953854766298817, 0.0834994244520286, -0.31919924236685027, -0.41715297213360486, -0.7110141614338678, -0.03622180081844908, 0.26852313623367563, 1.139222956382603, 0.10526691995575171, -0.34096673787057374, -0.05798929632217219, -0.5586416929078056, -0.17771052159264986, 0.18145315421878278, -0.09064053957775704, 0.029080685692720636, 0.09438317220388996, 0.17056940646692142, -0.1232917828333419, -0.27566425135940403, -0.18859426934451123, -0.145059278337065, -0.2430130081038192, 0.5950355687895235, 0.14880191096319792, 0.2467556407299525, 0.039964433444582, 0.14880191096319792, 0.4426631002634613, -0.00357055756286422, -0.03622180081844908, 0.11615066770761347, 0.6712218030525545, 0.007313190188997528, -0.05798929632217219, 0.039964433444582, 0.26852313623367563, -0.21036176484823435, 0.6385705597969696, -0.1232917828333419, 1.7595965782387142, 2.314667713583655, 1.1609904518863265, 0.5406168300302154, 0.4317793525115995, -0.35185048562243515, -0.2647805036075423, -0.330082990118712, -0.330082990118712, -0.23212926035195783, -0.2974317468631272, -0.34096673787057374, -0.09064053957775704, 0.029080685692720636, -0.40626922438174307, -0.41715297213360486, -0.43892046763732795, -0.46068796314105104, -0.145059278337065, -0.3627342333742969, -0.23212926035195783, -0.35185048562243515, -0.05798929632217219, -0.2430130081038192, -0.2212455126000961, -0.569525440659667, -0.40626922438174307, -0.1232917828333419, -0.7436654046894526, -0.6892466659301447, -0.4933392063966359, -0.8960378732155148, -0.3627342333742969, -0.31919924236685027, 0.05084818119644375, -0.4498042153891897, -0.7545491524413142, -0.4824554586447742, -0.5586416929078056, -0.5912929361633901, -1.0048753507341308, -0.515106701900359, -0.9286891164710996, -0.9939916029822692, -0.7545491524413142, -1.1681315670120547, -0.9504566119748228, -0.7545491524413142, -0.8633866299599301, -0.515106701900359, -0.7763166479450373, -0.11240803508148016, -0.31919924236685027, -0.7872003956968988, -0.34096673787057374, -0.6021766839152518, -0.7545491524413142, -1.026642846237854, 2.042574019787115, 0.19233690197064454, 0.0834994244520286, 0.48619809127090746, 2.989460074199074, 2.989460074199074, 2.989460074199074, 0.01819693794085889, 0.26852313623367563, 2.989460074199074, 0.13791816321133657, 0.13791816321133657, -0.02533805306658733, -0.5586416929078056, -0.37361798112615824, 0.061731928948305495, 0.11615066770761347, 0.007313190188997528, 0.7474080373155856, 0.07261567670016686, 0.2249881452262294, 0.8018267760748935, 1.5963403619607903, 1.879317803509191, 1.4875028844421743, 1.672526596223821, 1.084804217623295, 0.42089560475973775, 0.7691755328193091, 2.989460074199074, 1.0303854788639872, 0.7909430283230322, 1.3460141636679732, 1.5745728664570668, 0.8671292625860633, 1.509270379945897, 0.9324317490972329, 0.7147567940600011, 2.989460074199074, 1.1718741996381876, 0.8453617670823401, 1.3133629204123887, 0.007313190188997528, 0.2032206497225059, -0.00357055756286422, 0.2032206497225059, -0.27566425135940403, -0.09064053957775704, -0.35185048562243515, -0.014454305314725968, 0.6059193165413852, 0.12703441545947483, 0.26852313623367563, 0.0834994244520286, 0.6712218030525545, -0.11240803508148016, 0.05084818119644375, 0.45354684801532263, -0.09064053957775704, 0.5406168300302154, 0.823594271578617, 2.423505191102271, 1.6398753529682366, 0.986850487856541, 2.6302963983876415, 0.9759667401046792, 0.19233690197064454, 0.9977342356084022, 2.086109010794562, 2.8044363624174267, 0.7038730463081393, 0.1596856587150597, 0.27940688398553737, 0.9759667401046792, 0.12703441545947483, 0.0834994244520286, -0.05798929632217219, -0.2647805036075423, -0.03622180081844908, 0.12703441545947483, -0.5368741974040822, -0.43892046763732795, 0.19233690197064454, -0.2212455126000961, 0.21410439747436766, 0.39912810925601466, 0.2032206497225059, 0.2467556407299525, 0.7691755328193091, 2.205830236065039, -0.06887304407403394, -0.17771052159264986, 1.4657353889384508, 0.823594271578617, 1.2262929383974954, 2.2384814793206242, 0.9215480013453712, 1.5201541276977588, 0.029080685692720636, 0.8888967580897863, 2.989460074199074, 2.2820164703280703, -0.19947801709637297, -0.15594302608892638, 0.2902906317373987, 0.2032206497225059, 1.3786654069235584, 1.0739204698714333, 1.0303854788639872, 1.1609904518863265, 1.1501067041344648, 0.7147567940600011, 1.3677816591716967, 2.4888076776134405, 1.4004329024272812, 2.55411016412461, -0.05798929632217219, -0.2647805036075423, 0.07261567670016686, -0.02533805306658733, 0.2467556407299525, 0.6494543075488314, 1.6072241097126512, 0.5841518210376616, 0.14880191096319792, -0.09064053957775704, 0.6603380553006931, 0.4970818390227692, -0.2430130081038192, -0.00357055756286422, 0.7038730463081393, 0.2467556407299525, -0.05798929632217219, 0.42089560475973775, 1.1501067041344648, 1.4766191366903125, 0.6385705597969696, 1.1827579473900494, 0.6168030642932465, 0.029080685692720636, -0.2430130081038192, -0.700130413682006, -0.047105548570310435, -0.34096673787057374, -0.1015242873296184, 0.13791816321133657, -0.6892466659301447, -0.515106701900359, -0.2974317468631272, 0.061731928948305495, -0.16682677384078812, 0.13791816321133657, 0.061731928948305495, -0.23212926035195783, -0.43892046763732795, 0.26852313623367563, 0.2249881452262294, 0.05084818119644375, -0.03622180081844908, -0.35185048562243515, 0.007313190188997528, -0.2974317468631272, -0.5912929361633901, -0.34096673787057374, -0.03622180081844908, -0.19947801709637297, -0.15594302608892638, -0.330082990118712, -0.43892046763732795, -0.21036176484823435, -0.38450172887802, -0.41715297213360486, 1.1065717131270185, -0.6565954226745598, 0.14880191096319792, 0.9433154968490943, -0.5477579451559439, -0.5804091884115288, 0.21410439747436766, 0.4426631002634613, 0.039964433444582, -0.515106701900359, -0.09064053957775704, 0.01819693794085889, 0.007313190188997528, 0.26852313623367563, -0.28654799911126577, -0.18859426934451123, -0.623944179418975, -0.06887304407403394, 2.989460074199074, 2.989460074199074, 2.989460074199074, 2.989460074199074, 2.989460074199074, -0.8198516389524837, -0.9395728642229612, -1.0048753507341308, -1.026642846237854, -1.3422715310418403, -1.266085296778809, -1.2225503057713625, -1.1137128282527466, -1.4946439995679024, -1.668783963597688, -1.3096202877862555, -1.6470164680939647, -1.3422715310418403, -1.2007828102676394, -0.8089678912006222, 0.07261567670016686, -1.3966902698011483, -0.9504566119748228, -1.0701778372453004, -1.026642846237854, -1.0919453327490236, -1.5272952428234872, -1.7667376933644423, -1.8429239276274738, -1.668783963597688, -1.13548032375647, -1.5490627383272104, 0.5841518210376616, -0.5804091884115288, 0.5406168300302154, -0.6783629181782829, -1.320504035538117, -0.6348279271708367, -0.9069216209673765, -0.18859426934451123, -1.2552015490269475, -0.8742703777117917, -0.700130413682006, -0.8960378732155148, -1.1790153147639164, -0.9939916029822692, -1.0592940894934386, -1.3096202877862555, -0.5912929361633901, -0.4498042153891897, -0.7763166479450373, -1.2769690445306705, -0.8307353867043452, -1.081061584997162, -0.9178053687192381, -1.0375265939897156, -0.7980841434487606, -0.700130413682006, -0.515106701900359, -0.8307353867043452, -0.27566425135940403, -0.6674791704264216, -0.5259904496522207, -0.330082990118712, -0.25389675585568094, -0.1232917828333419, -0.28654799911126577, -0.37361798112615824, -0.37361798112615824, -0.2647805036075423, -0.28654799911126577, -0.31919924236685027, 0.07261567670016686, 0.7909430283230322, -0.9504566119748228, -1.0048753507341308, -0.6348279271708367, -1.1463640715083314, -0.8633866299599301, -0.1232917828333419, 0.05084818119644375, 0.12703441545947483, 0.26852313623367563, -0.07975679182589529, -0.21036176484823435, -0.145059278337065, -0.37361798112615824, -0.21036176484823435, -0.7980841434487606, -1.6905514591014112, -1.5708302338309337, -0.972224107478546, -0.2647805036075423, -0.07975679182589529, 0.21410439747436766, 0.061731928948305495, -0.3083154946149889, -0.46068796314105104, -0.145059278337065, -0.5477579451559439, -0.623944179418975, -0.014454305314725968, -0.21036176484823435, 0.14880191096319792, -0.05798929632217219, -1.1572478192601932], \"yaxis\": \"y\"}],\n",
       "                        {\"legend\": {\"tracegroupgap\": 0}, \"margin\": {\"t\": 60}, \"template\": {\"data\": {\"bar\": [{\"error_x\": {\"color\": \"#2a3f5f\"}, \"error_y\": {\"color\": \"#2a3f5f\"}, \"marker\": {\"line\": {\"color\": \"#E5ECF6\", \"width\": 0.5}}, \"type\": \"bar\"}], \"barpolar\": [{\"marker\": {\"line\": {\"color\": \"#E5ECF6\", \"width\": 0.5}}, \"type\": \"barpolar\"}], \"carpet\": [{\"aaxis\": {\"endlinecolor\": \"#2a3f5f\", \"gridcolor\": \"white\", \"linecolor\": \"white\", \"minorgridcolor\": \"white\", \"startlinecolor\": \"#2a3f5f\"}, \"baxis\": {\"endlinecolor\": \"#2a3f5f\", \"gridcolor\": \"white\", \"linecolor\": \"white\", \"minorgridcolor\": \"white\", \"startlinecolor\": \"#2a3f5f\"}, \"type\": \"carpet\"}], \"choropleth\": [{\"colorbar\": {\"outlinewidth\": 0, \"ticks\": \"\"}, \"type\": \"choropleth\"}], \"contour\": [{\"colorbar\": {\"outlinewidth\": 0, \"ticks\": \"\"}, \"colorscale\": [[0.0, \"#0d0887\"], [0.1111111111111111, \"#46039f\"], [0.2222222222222222, \"#7201a8\"], [0.3333333333333333, \"#9c179e\"], [0.4444444444444444, \"#bd3786\"], [0.5555555555555556, \"#d8576b\"], [0.6666666666666666, \"#ed7953\"], [0.7777777777777778, \"#fb9f3a\"], [0.8888888888888888, \"#fdca26\"], [1.0, \"#f0f921\"]], \"type\": \"contour\"}], \"contourcarpet\": [{\"colorbar\": {\"outlinewidth\": 0, \"ticks\": \"\"}, \"type\": \"contourcarpet\"}], \"heatmap\": [{\"colorbar\": {\"outlinewidth\": 0, \"ticks\": \"\"}, \"colorscale\": [[0.0, \"#0d0887\"], [0.1111111111111111, \"#46039f\"], [0.2222222222222222, \"#7201a8\"], [0.3333333333333333, \"#9c179e\"], [0.4444444444444444, \"#bd3786\"], [0.5555555555555556, \"#d8576b\"], [0.6666666666666666, \"#ed7953\"], [0.7777777777777778, \"#fb9f3a\"], [0.8888888888888888, \"#fdca26\"], [1.0, \"#f0f921\"]], \"type\": \"heatmap\"}], \"heatmapgl\": [{\"colorbar\": {\"outlinewidth\": 0, \"ticks\": \"\"}, \"colorscale\": [[0.0, \"#0d0887\"], [0.1111111111111111, \"#46039f\"], [0.2222222222222222, \"#7201a8\"], [0.3333333333333333, \"#9c179e\"], [0.4444444444444444, \"#bd3786\"], [0.5555555555555556, \"#d8576b\"], [0.6666666666666666, \"#ed7953\"], [0.7777777777777778, \"#fb9f3a\"], [0.8888888888888888, \"#fdca26\"], [1.0, \"#f0f921\"]], \"type\": \"heatmapgl\"}], \"histogram\": [{\"marker\": {\"colorbar\": {\"outlinewidth\": 0, \"ticks\": \"\"}}, \"type\": \"histogram\"}], \"histogram2d\": [{\"colorbar\": {\"outlinewidth\": 0, \"ticks\": \"\"}, \"colorscale\": [[0.0, \"#0d0887\"], [0.1111111111111111, \"#46039f\"], [0.2222222222222222, \"#7201a8\"], [0.3333333333333333, \"#9c179e\"], [0.4444444444444444, \"#bd3786\"], [0.5555555555555556, \"#d8576b\"], [0.6666666666666666, \"#ed7953\"], [0.7777777777777778, \"#fb9f3a\"], [0.8888888888888888, \"#fdca26\"], [1.0, \"#f0f921\"]], \"type\": \"histogram2d\"}], \"histogram2dcontour\": [{\"colorbar\": {\"outlinewidth\": 0, \"ticks\": \"\"}, \"colorscale\": [[0.0, \"#0d0887\"], [0.1111111111111111, \"#46039f\"], [0.2222222222222222, \"#7201a8\"], [0.3333333333333333, \"#9c179e\"], [0.4444444444444444, \"#bd3786\"], [0.5555555555555556, \"#d8576b\"], [0.6666666666666666, \"#ed7953\"], [0.7777777777777778, \"#fb9f3a\"], [0.8888888888888888, \"#fdca26\"], [1.0, \"#f0f921\"]], \"type\": \"histogram2dcontour\"}], \"mesh3d\": [{\"colorbar\": {\"outlinewidth\": 0, \"ticks\": \"\"}, \"type\": \"mesh3d\"}], \"parcoords\": [{\"line\": {\"colorbar\": {\"outlinewidth\": 0, \"ticks\": \"\"}}, \"type\": \"parcoords\"}], \"pie\": [{\"automargin\": true, \"type\": \"pie\"}], \"scatter\": [{\"marker\": {\"colorbar\": {\"outlinewidth\": 0, \"ticks\": \"\"}}, \"type\": \"scatter\"}], \"scatter3d\": [{\"line\": {\"colorbar\": {\"outlinewidth\": 0, \"ticks\": \"\"}}, \"marker\": {\"colorbar\": {\"outlinewidth\": 0, \"ticks\": \"\"}}, \"type\": \"scatter3d\"}], \"scattercarpet\": [{\"marker\": {\"colorbar\": {\"outlinewidth\": 0, \"ticks\": \"\"}}, \"type\": \"scattercarpet\"}], \"scattergeo\": [{\"marker\": {\"colorbar\": {\"outlinewidth\": 0, \"ticks\": \"\"}}, \"type\": \"scattergeo\"}], \"scattergl\": [{\"marker\": {\"colorbar\": {\"outlinewidth\": 0, \"ticks\": \"\"}}, \"type\": \"scattergl\"}], \"scattermapbox\": [{\"marker\": {\"colorbar\": {\"outlinewidth\": 0, \"ticks\": \"\"}}, \"type\": \"scattermapbox\"}], \"scatterpolar\": [{\"marker\": {\"colorbar\": {\"outlinewidth\": 0, \"ticks\": \"\"}}, \"type\": \"scatterpolar\"}], \"scatterpolargl\": [{\"marker\": {\"colorbar\": {\"outlinewidth\": 0, \"ticks\": \"\"}}, \"type\": \"scatterpolargl\"}], \"scatterternary\": [{\"marker\": {\"colorbar\": {\"outlinewidth\": 0, \"ticks\": \"\"}}, \"type\": \"scatterternary\"}], \"surface\": [{\"colorbar\": {\"outlinewidth\": 0, \"ticks\": \"\"}, \"colorscale\": [[0.0, \"#0d0887\"], [0.1111111111111111, \"#46039f\"], [0.2222222222222222, \"#7201a8\"], [0.3333333333333333, \"#9c179e\"], [0.4444444444444444, \"#bd3786\"], [0.5555555555555556, \"#d8576b\"], [0.6666666666666666, \"#ed7953\"], [0.7777777777777778, \"#fb9f3a\"], [0.8888888888888888, \"#fdca26\"], [1.0, \"#f0f921\"]], \"type\": \"surface\"}], \"table\": [{\"cells\": {\"fill\": {\"color\": \"#EBF0F8\"}, \"line\": {\"color\": \"white\"}}, \"header\": {\"fill\": {\"color\": \"#C8D4E3\"}, \"line\": {\"color\": \"white\"}}, \"type\": \"table\"}]}, \"layout\": {\"annotationdefaults\": {\"arrowcolor\": \"#2a3f5f\", \"arrowhead\": 0, \"arrowwidth\": 1}, \"coloraxis\": {\"colorbar\": {\"outlinewidth\": 0, \"ticks\": \"\"}}, \"colorscale\": {\"diverging\": [[0, \"#8e0152\"], [0.1, \"#c51b7d\"], [0.2, \"#de77ae\"], [0.3, \"#f1b6da\"], [0.4, \"#fde0ef\"], [0.5, \"#f7f7f7\"], [0.6, \"#e6f5d0\"], [0.7, \"#b8e186\"], [0.8, \"#7fbc41\"], [0.9, \"#4d9221\"], [1, \"#276419\"]], \"sequential\": [[0.0, \"#0d0887\"], [0.1111111111111111, \"#46039f\"], [0.2222222222222222, \"#7201a8\"], [0.3333333333333333, \"#9c179e\"], [0.4444444444444444, \"#bd3786\"], [0.5555555555555556, \"#d8576b\"], [0.6666666666666666, \"#ed7953\"], [0.7777777777777778, \"#fb9f3a\"], [0.8888888888888888, \"#fdca26\"], [1.0, \"#f0f921\"]], \"sequentialminus\": [[0.0, \"#0d0887\"], [0.1111111111111111, \"#46039f\"], [0.2222222222222222, \"#7201a8\"], [0.3333333333333333, \"#9c179e\"], [0.4444444444444444, \"#bd3786\"], [0.5555555555555556, \"#d8576b\"], [0.6666666666666666, \"#ed7953\"], [0.7777777777777778, \"#fb9f3a\"], [0.8888888888888888, \"#fdca26\"], [1.0, \"#f0f921\"]]}, \"colorway\": [\"#636efa\", \"#EF553B\", \"#00cc96\", \"#ab63fa\", \"#FFA15A\", \"#19d3f3\", \"#FF6692\", \"#B6E880\", \"#FF97FF\", \"#FECB52\"], \"font\": {\"color\": \"#2a3f5f\"}, \"geo\": {\"bgcolor\": \"white\", \"lakecolor\": \"white\", \"landcolor\": \"#E5ECF6\", \"showlakes\": true, \"showland\": true, \"subunitcolor\": \"white\"}, \"hoverlabel\": {\"align\": \"left\"}, \"hovermode\": \"closest\", \"mapbox\": {\"style\": \"light\"}, \"paper_bgcolor\": \"white\", \"plot_bgcolor\": \"#E5ECF6\", \"polar\": {\"angularaxis\": {\"gridcolor\": \"white\", \"linecolor\": \"white\", \"ticks\": \"\"}, \"bgcolor\": \"#E5ECF6\", \"radialaxis\": {\"gridcolor\": \"white\", \"linecolor\": \"white\", \"ticks\": \"\"}}, \"scene\": {\"xaxis\": {\"backgroundcolor\": \"#E5ECF6\", \"gridcolor\": \"white\", \"gridwidth\": 2, \"linecolor\": \"white\", \"showbackground\": true, \"ticks\": \"\", \"zerolinecolor\": \"white\"}, \"yaxis\": {\"backgroundcolor\": \"#E5ECF6\", \"gridcolor\": \"white\", \"gridwidth\": 2, \"linecolor\": \"white\", \"showbackground\": true, \"ticks\": \"\", \"zerolinecolor\": \"white\"}, \"zaxis\": {\"backgroundcolor\": \"#E5ECF6\", \"gridcolor\": \"white\", \"gridwidth\": 2, \"linecolor\": \"white\", \"showbackground\": true, \"ticks\": \"\", \"zerolinecolor\": \"white\"}}, \"shapedefaults\": {\"line\": {\"color\": \"#2a3f5f\"}}, \"ternary\": {\"aaxis\": {\"gridcolor\": \"white\", \"linecolor\": \"white\", \"ticks\": \"\"}, \"baxis\": {\"gridcolor\": \"white\", \"linecolor\": \"white\", \"ticks\": \"\"}, \"bgcolor\": \"#E5ECF6\", \"caxis\": {\"gridcolor\": \"white\", \"linecolor\": \"white\", \"ticks\": \"\"}}, \"title\": {\"x\": 0.05}, \"xaxis\": {\"automargin\": true, \"gridcolor\": \"white\", \"linecolor\": \"white\", \"ticks\": \"\", \"title\": {\"standoff\": 15}, \"zerolinecolor\": \"white\", \"zerolinewidth\": 2}, \"yaxis\": {\"automargin\": true, \"gridcolor\": \"white\", \"linecolor\": \"white\", \"ticks\": \"\", \"title\": {\"standoff\": 15}, \"zerolinecolor\": \"white\", \"zerolinewidth\": 2}}}, \"xaxis\": {\"anchor\": \"y\", \"domain\": [0.0, 1.0], \"title\": {\"text\": \"LSTAT\"}}, \"yaxis\": {\"anchor\": \"x\", \"domain\": [0.0, 1.0], \"title\": {\"text\": \"price\"}}},\n",
       "                        {\"responsive\": true}\n",
       "                    ).then(function(){\n",
       "                            \n",
       "var gd = document.getElementById('9a0477b6-7d0b-43a8-9b96-63582cc9a349');\n",
       "var x = new MutationObserver(function (mutations, observer) {{\n",
       "        var display = window.getComputedStyle(gd).display;\n",
       "        if (!display || display === 'none') {{\n",
       "            console.log([gd, 'removed!']);\n",
       "            Plotly.purge(gd);\n",
       "            observer.disconnect();\n",
       "        }}\n",
       "}});\n",
       "\n",
       "// Listen for the removal of the full notebook cells\n",
       "var notebookContainer = gd.closest('#notebook-container');\n",
       "if (notebookContainer) {{\n",
       "    x.observe(notebookContainer, {childList: true});\n",
       "}}\n",
       "\n",
       "// Listen for the clearing of the current output cell\n",
       "var outputEl = gd.closest('.output');\n",
       "if (outputEl) {{\n",
       "    x.observe(outputEl, {childList: true});\n",
       "}}\n",
       "\n",
       "                        })\n",
       "                };\n",
       "                });\n",
       "            </script>\n",
       "        </div>"
      ]
     },
     "metadata": {},
     "output_type": "display_data"
    }
   ],
   "source": [
    "import plotly.express as px\n",
    "# px.scatter_matrix(df,size_max=1,height=1000)\n",
    "\n",
    "px.scatter(x='LSTAT',y='price',data_frame=df)#,"
   ]
  },
  {
   "cell_type": "markdown",
   "metadata": {},
   "source": [
    "# BOOKMARK"
   ]
  },
  {
   "cell_type": "code",
   "execution_count": 53,
   "metadata": {
    "ExecuteTime": {
     "end_time": "2020-03-02T05:57:26.317050Z",
     "start_time": "2020-03-02T05:57:26.291281Z"
    }
   },
   "outputs": [
    {
     "data": {
      "text/html": [
       "<div>\n",
       "<style scoped>\n",
       "    .dataframe tbody tr th:only-of-type {\n",
       "        vertical-align: middle;\n",
       "    }\n",
       "\n",
       "    .dataframe tbody tr th {\n",
       "        vertical-align: top;\n",
       "    }\n",
       "\n",
       "    .dataframe thead th {\n",
       "        text-align: right;\n",
       "    }\n",
       "</style>\n",
       "<table border=\"1\" class=\"dataframe\">\n",
       "  <thead>\n",
       "    <tr style=\"text-align: right;\">\n",
       "      <th></th>\n",
       "      <th>CRIM</th>\n",
       "      <th>ZN</th>\n",
       "      <th>INDUS</th>\n",
       "      <th>NOX</th>\n",
       "      <th>RM</th>\n",
       "      <th>AGE</th>\n",
       "      <th>DIS</th>\n",
       "      <th>RAD</th>\n",
       "      <th>TAX</th>\n",
       "      <th>PTRATIO</th>\n",
       "      <th>B</th>\n",
       "      <th>LSTAT</th>\n",
       "    </tr>\n",
       "  </thead>\n",
       "  <tbody>\n",
       "    <tr>\n",
       "      <td>0</td>\n",
       "      <td>-0.419782</td>\n",
       "      <td>0.284830</td>\n",
       "      <td>-1.287909</td>\n",
       "      <td>-0.144217</td>\n",
       "      <td>0.413672</td>\n",
       "      <td>-0.120013</td>\n",
       "      <td>0.140214</td>\n",
       "      <td>-0.982843</td>\n",
       "      <td>-0.666608</td>\n",
       "      <td>-1.459000</td>\n",
       "      <td>0.441052</td>\n",
       "      <td>-1.075562</td>\n",
       "    </tr>\n",
       "    <tr>\n",
       "      <td>1</td>\n",
       "      <td>-0.417339</td>\n",
       "      <td>-0.487722</td>\n",
       "      <td>-0.593381</td>\n",
       "      <td>-0.740262</td>\n",
       "      <td>0.194274</td>\n",
       "      <td>0.367166</td>\n",
       "      <td>0.557160</td>\n",
       "      <td>-0.867883</td>\n",
       "      <td>-0.987329</td>\n",
       "      <td>-0.303094</td>\n",
       "      <td>0.441052</td>\n",
       "      <td>-0.492439</td>\n",
       "    </tr>\n",
       "    <tr>\n",
       "      <td>2</td>\n",
       "      <td>-0.417342</td>\n",
       "      <td>-0.487722</td>\n",
       "      <td>-0.593381</td>\n",
       "      <td>-0.740262</td>\n",
       "      <td>1.282714</td>\n",
       "      <td>-0.265812</td>\n",
       "      <td>0.557160</td>\n",
       "      <td>-0.867883</td>\n",
       "      <td>-0.987329</td>\n",
       "      <td>-0.303094</td>\n",
       "      <td>0.396427</td>\n",
       "      <td>-1.208727</td>\n",
       "    </tr>\n",
       "    <tr>\n",
       "      <td>3</td>\n",
       "      <td>-0.416750</td>\n",
       "      <td>-0.487722</td>\n",
       "      <td>-1.306878</td>\n",
       "      <td>-0.835284</td>\n",
       "      <td>1.016303</td>\n",
       "      <td>-0.809889</td>\n",
       "      <td>1.077737</td>\n",
       "      <td>-0.752922</td>\n",
       "      <td>-1.106115</td>\n",
       "      <td>0.113032</td>\n",
       "      <td>0.416163</td>\n",
       "      <td>-1.361517</td>\n",
       "    </tr>\n",
       "    <tr>\n",
       "      <td>4</td>\n",
       "      <td>-0.412482</td>\n",
       "      <td>-0.487722</td>\n",
       "      <td>-1.306878</td>\n",
       "      <td>-0.835284</td>\n",
       "      <td>1.228577</td>\n",
       "      <td>-0.511180</td>\n",
       "      <td>1.077737</td>\n",
       "      <td>-0.752922</td>\n",
       "      <td>-1.106115</td>\n",
       "      <td>0.113032</td>\n",
       "      <td>0.441052</td>\n",
       "      <td>-1.026501</td>\n",
       "    </tr>\n",
       "  </tbody>\n",
       "</table>\n",
       "</div>"
      ],
      "text/plain": [
       "       CRIM        ZN     INDUS  ...   PTRATIO         B     LSTAT\n",
       "0 -0.419782  0.284830 -1.287909  ... -1.459000  0.441052 -1.075562\n",
       "1 -0.417339 -0.487722 -0.593381  ... -0.303094  0.441052 -0.492439\n",
       "2 -0.417342 -0.487722 -0.593381  ... -0.303094  0.396427 -1.208727\n",
       "3 -0.416750 -0.487722 -1.306878  ...  0.113032  0.416163 -1.361517\n",
       "4 -0.412482 -0.487722 -1.306878  ...  0.113032  0.441052 -1.026501\n",
       "\n",
       "[5 rows x 12 columns]"
      ]
     },
     "metadata": {},
     "output_type": "display_data"
    },
    {
     "data": {
      "text/plain": [
       "0    0.159686\n",
       "1   -0.101524\n",
       "2    1.324247\n",
       "3    1.182758\n",
       "4    1.487503\n",
       "Name: price, dtype: float64"
      ]
     },
     "metadata": {},
     "output_type": "display_data"
    }
   ],
   "source": [
    "X = df.drop(columns=[*cat_cols,target])\n",
    "\n",
    "y = df[target]\n",
    "display(X.head(),y.head())"
   ]
  },
  {
   "cell_type": "code",
   "execution_count": 54,
   "metadata": {
    "ExecuteTime": {
     "end_time": "2020-03-02T05:57:26.364660Z",
     "start_time": "2020-03-02T05:57:26.318109Z"
    }
   },
   "outputs": [
    {
     "data": {
      "text/plain": [
       "(448, 18564)"
      ]
     },
     "execution_count": 54,
     "metadata": {},
     "output_type": "execute_result"
    }
   ],
   "source": [
    "from sklearn.preprocessing import PolynomialFeatures\n",
    "poly = PolynomialFeatures(6)\n",
    "\n",
    "X = poly.fit_transform(X)\n",
    "X.shape"
   ]
  },
  {
   "cell_type": "code",
   "execution_count": 61,
   "metadata": {
    "ExecuteTime": {
     "end_time": "2020-03-02T05:59:25.286470Z",
     "start_time": "2020-03-02T05:59:24.966999Z"
    }
   },
   "outputs": [
    {
     "name": "stdout",
     "output_type": "stream",
     "text": [
      "1.0\n"
     ]
    }
   ],
   "source": [
    "from sklearn.linear_model import LinearRegression\n",
    "from sklearn.metrics import r2_score\n",
    "reg = LinearRegression()\n",
    "\n",
    "reg.fit(X,y)\n",
    "r2 =r2_score(y, reg.predict(X))\n",
    "print(r2)"
   ]
  },
  {
   "cell_type": "code",
   "execution_count": 67,
   "metadata": {
    "ExecuteTime": {
     "end_time": "2020-03-02T06:03:09.020639Z",
     "start_time": "2020-03-02T06:03:08.856844Z"
    }
   },
   "outputs": [
    {
     "ename": "TypeError",
     "evalue": "'(slice(None, None, None), 1)' is an invalid key",
     "output_type": "error",
     "traceback": [
      "\u001b[0;31m---------------------------------------------------------------------------\u001b[0m",
      "\u001b[0;31mTypeError\u001b[0m                                 Traceback (most recent call last)",
      "\u001b[0;32m<ipython-input-67-e5096f8e8bdd>\u001b[0m in \u001b[0;36m<module>\u001b[0;34m\u001b[0m\n\u001b[1;32m      1\u001b[0m \u001b[0mfig\u001b[0m\u001b[0;34m,\u001b[0m\u001b[0max\u001b[0m \u001b[0;34m=\u001b[0m \u001b[0mplt\u001b[0m\u001b[0;34m.\u001b[0m\u001b[0msubplots\u001b[0m\u001b[0;34m(\u001b[0m\u001b[0;34m)\u001b[0m\u001b[0;34m\u001b[0m\u001b[0;34m\u001b[0m\u001b[0m\n\u001b[0;32m----> 2\u001b[0;31m \u001b[0max\u001b[0m\u001b[0;34m.\u001b[0m\u001b[0mscatter\u001b[0m\u001b[0;34m(\u001b[0m\u001b[0mX\u001b[0m\u001b[0;34m[\u001b[0m\u001b[0;34m:\u001b[0m\u001b[0;34m,\u001b[0m\u001b[0;36m1\u001b[0m\u001b[0;34m]\u001b[0m\u001b[0;34m,\u001b[0m\u001b[0my\u001b[0m\u001b[0;34m)\u001b[0m\u001b[0;34m\u001b[0m\u001b[0;34m\u001b[0m\u001b[0m\n\u001b[0m\u001b[1;32m      3\u001b[0m \u001b[0max\u001b[0m\u001b[0;34m.\u001b[0m\u001b[0mset\u001b[0m\u001b[0;34m(\u001b[0m\u001b[0mxlabel\u001b[0m\u001b[0;34m=\u001b[0m\u001b[0mcol\u001b[0m\u001b[0;34m,\u001b[0m\u001b[0mylabel\u001b[0m\u001b[0;34m=\u001b[0m\u001b[0mtarget\u001b[0m\u001b[0;34m)\u001b[0m\u001b[0;34m\u001b[0m\u001b[0;34m\u001b[0m\u001b[0m\n\u001b[1;32m      4\u001b[0m \u001b[0;31m# ax.plot(X,reg.predict(X),color='red')\u001b[0m\u001b[0;34m\u001b[0m\u001b[0;34m\u001b[0m\u001b[0;34m\u001b[0m\u001b[0m\n\u001b[1;32m      5\u001b[0m \u001b[0mplt\u001b[0m\u001b[0;34m.\u001b[0m\u001b[0mshow\u001b[0m\u001b[0;34m(\u001b[0m\u001b[0;34m)\u001b[0m\u001b[0;34m\u001b[0m\u001b[0;34m\u001b[0m\u001b[0m\n",
      "\u001b[0;32m//anaconda3/envs/learn-env/lib/python3.6/site-packages/pandas/core/frame.py\u001b[0m in \u001b[0;36m__getitem__\u001b[0;34m(self, key)\u001b[0m\n\u001b[1;32m   2978\u001b[0m             \u001b[0;32mif\u001b[0m \u001b[0mself\u001b[0m\u001b[0;34m.\u001b[0m\u001b[0mcolumns\u001b[0m\u001b[0;34m.\u001b[0m\u001b[0mnlevels\u001b[0m \u001b[0;34m>\u001b[0m \u001b[0;36m1\u001b[0m\u001b[0;34m:\u001b[0m\u001b[0;34m\u001b[0m\u001b[0;34m\u001b[0m\u001b[0m\n\u001b[1;32m   2979\u001b[0m                 \u001b[0;32mreturn\u001b[0m \u001b[0mself\u001b[0m\u001b[0;34m.\u001b[0m\u001b[0m_getitem_multilevel\u001b[0m\u001b[0;34m(\u001b[0m\u001b[0mkey\u001b[0m\u001b[0;34m)\u001b[0m\u001b[0;34m\u001b[0m\u001b[0;34m\u001b[0m\u001b[0m\n\u001b[0;32m-> 2980\u001b[0;31m             \u001b[0mindexer\u001b[0m \u001b[0;34m=\u001b[0m \u001b[0mself\u001b[0m\u001b[0;34m.\u001b[0m\u001b[0mcolumns\u001b[0m\u001b[0;34m.\u001b[0m\u001b[0mget_loc\u001b[0m\u001b[0;34m(\u001b[0m\u001b[0mkey\u001b[0m\u001b[0;34m)\u001b[0m\u001b[0;34m\u001b[0m\u001b[0;34m\u001b[0m\u001b[0m\n\u001b[0m\u001b[1;32m   2981\u001b[0m             \u001b[0;32mif\u001b[0m \u001b[0mis_integer\u001b[0m\u001b[0;34m(\u001b[0m\u001b[0mindexer\u001b[0m\u001b[0;34m)\u001b[0m\u001b[0;34m:\u001b[0m\u001b[0;34m\u001b[0m\u001b[0;34m\u001b[0m\u001b[0m\n\u001b[1;32m   2982\u001b[0m                 \u001b[0mindexer\u001b[0m \u001b[0;34m=\u001b[0m \u001b[0;34m[\u001b[0m\u001b[0mindexer\u001b[0m\u001b[0;34m]\u001b[0m\u001b[0;34m\u001b[0m\u001b[0;34m\u001b[0m\u001b[0m\n",
      "\u001b[0;32m//anaconda3/envs/learn-env/lib/python3.6/site-packages/pandas/core/indexes/base.py\u001b[0m in \u001b[0;36mget_loc\u001b[0;34m(self, key, method, tolerance)\u001b[0m\n\u001b[1;32m   2895\u001b[0m                 )\n\u001b[1;32m   2896\u001b[0m             \u001b[0;32mtry\u001b[0m\u001b[0;34m:\u001b[0m\u001b[0;34m\u001b[0m\u001b[0;34m\u001b[0m\u001b[0m\n\u001b[0;32m-> 2897\u001b[0;31m                 \u001b[0;32mreturn\u001b[0m \u001b[0mself\u001b[0m\u001b[0;34m.\u001b[0m\u001b[0m_engine\u001b[0m\u001b[0;34m.\u001b[0m\u001b[0mget_loc\u001b[0m\u001b[0;34m(\u001b[0m\u001b[0mkey\u001b[0m\u001b[0;34m)\u001b[0m\u001b[0;34m\u001b[0m\u001b[0;34m\u001b[0m\u001b[0m\n\u001b[0m\u001b[1;32m   2898\u001b[0m             \u001b[0;32mexcept\u001b[0m \u001b[0mKeyError\u001b[0m\u001b[0;34m:\u001b[0m\u001b[0;34m\u001b[0m\u001b[0;34m\u001b[0m\u001b[0m\n\u001b[1;32m   2899\u001b[0m                 \u001b[0;32mreturn\u001b[0m \u001b[0mself\u001b[0m\u001b[0;34m.\u001b[0m\u001b[0m_engine\u001b[0m\u001b[0;34m.\u001b[0m\u001b[0mget_loc\u001b[0m\u001b[0;34m(\u001b[0m\u001b[0mself\u001b[0m\u001b[0;34m.\u001b[0m\u001b[0m_maybe_cast_indexer\u001b[0m\u001b[0;34m(\u001b[0m\u001b[0mkey\u001b[0m\u001b[0;34m)\u001b[0m\u001b[0;34m)\u001b[0m\u001b[0;34m\u001b[0m\u001b[0;34m\u001b[0m\u001b[0m\n",
      "\u001b[0;32mpandas/_libs/index.pyx\u001b[0m in \u001b[0;36mpandas._libs.index.IndexEngine.get_loc\u001b[0;34m()\u001b[0m\n",
      "\u001b[0;32mpandas/_libs/index.pyx\u001b[0m in \u001b[0;36mpandas._libs.index.IndexEngine.get_loc\u001b[0;34m()\u001b[0m\n",
      "\u001b[0;31mTypeError\u001b[0m: '(slice(None, None, None), 1)' is an invalid key"
     ]
    },
    {
     "data": {
      "image/png": "[encoded data removed]",
      "text/plain": [
       "<Figure size 432x288 with 1 Axes>"
      ]
     },
     "metadata": {
      "needs_background": "light"
     },
     "output_type": "display_data"
    }
   ],
   "source": [
    "fig,ax = plt.subplots()\n",
    "ax.scatter(X[:,1],y)\n",
    "ax.set(xlabel=col,ylabel=target)\n",
    "# ax.plot(X,reg.predict(X),color='red')\n",
    "plt.show()"
   ]
  },
  {
   "cell_type": "code",
   "execution_count": 63,
   "metadata": {
    "ExecuteTime": {
     "end_time": "2020-03-02T05:59:52.545874Z",
     "start_time": "2020-03-02T05:59:52.420063Z"
    }
   },
   "outputs": [
    {
     "name": "stdout",
     "output_type": "stream",
     "text": [
      "0.5359222698372504\n"
     ]
    },
    {
     "data": {
      "image/png": "[encoded data removed]",
      "text/plain": [
       "<Figure size 432x288 with 1 Axes>"
      ]
     },
     "metadata": {
      "needs_background": "light"
     },
     "output_type": "display_data"
    }
   ],
   "source": [
    "from sklearn.linear_model import LinearRegression\n",
    "from sklearn.metrics import r2_score\n",
    "\n",
    "target = 'price'\n",
    "col='LSTAT'\n",
    "exp = 4\n",
    "\n",
    "y = df[target].copy()\n",
    "X = df[[col]].copy()\n",
    "\n",
    "#     df_poly = pd.concat([X,y],axis=1)\n",
    "reg = LinearRegression()\n",
    "reg.fit(X,y)\n",
    "r2 =r2_score(y, reg.predict(X))\n",
    "print(r2)\n",
    "\n",
    "fig,ax = plt.subplots()\n",
    "ax.scatter(X,y)\n",
    "ax.set(xlabel=col,ylabel=target)\n",
    "ax.plot(X,reg.predict(X),color='red')\n",
    "plt.show()"
   ]
  },
  {
   "cell_type": "code",
   "execution_count": 64,
   "metadata": {
    "ExecuteTime": {
     "end_time": "2020-03-02T05:59:52.573401Z",
     "start_time": "2020-03-02T05:59:52.547614Z"
    }
   },
   "outputs": [
    {
     "ename": "KeyError",
     "evalue": "\"None of [Index(['lat'], dtype='object')] are in the [columns]\"",
     "output_type": "error",
     "traceback": [
      "\u001b[0;31m---------------------------------------------------------------------------\u001b[0m",
      "\u001b[0;31mKeyError\u001b[0m                                  Traceback (most recent call last)",
      "\u001b[0;32m<ipython-input-64-e693b1f88402>\u001b[0m in \u001b[0;36m<module>\u001b[0;34m\u001b[0m\n\u001b[1;32m      8\u001b[0m \u001b[0;34m\u001b[0m\u001b[0m\n\u001b[1;32m      9\u001b[0m     \u001b[0my\u001b[0m \u001b[0;34m=\u001b[0m \u001b[0mdf\u001b[0m\u001b[0;34m[\u001b[0m\u001b[0mtarget\u001b[0m\u001b[0;34m]\u001b[0m\u001b[0;34m.\u001b[0m\u001b[0mcopy\u001b[0m\u001b[0;34m(\u001b[0m\u001b[0;34m)\u001b[0m\u001b[0;34m\u001b[0m\u001b[0;34m\u001b[0m\u001b[0m\n\u001b[0;32m---> 10\u001b[0;31m     \u001b[0mX\u001b[0m \u001b[0;34m=\u001b[0m \u001b[0mdf\u001b[0m\u001b[0;34m[\u001b[0m\u001b[0;34m[\u001b[0m\u001b[0mcol\u001b[0m\u001b[0;34m]\u001b[0m\u001b[0;34m]\u001b[0m\u001b[0;34m.\u001b[0m\u001b[0mcopy\u001b[0m\u001b[0;34m(\u001b[0m\u001b[0;34m)\u001b[0m\u001b[0;34m\u001b[0m\u001b[0;34m\u001b[0m\u001b[0m\n\u001b[0m\u001b[1;32m     11\u001b[0m \u001b[0;34m\u001b[0m\u001b[0m\n\u001b[1;32m     12\u001b[0m \u001b[0;31m#     df_poly = pd.concat([X,y],axis=1)\u001b[0m\u001b[0;34m\u001b[0m\u001b[0;34m\u001b[0m\u001b[0;34m\u001b[0m\u001b[0m\n",
      "\u001b[0;32m//anaconda3/envs/learn-env/lib/python3.6/site-packages/pandas/core/frame.py\u001b[0m in \u001b[0;36m__getitem__\u001b[0;34m(self, key)\u001b[0m\n\u001b[1;32m   2984\u001b[0m             \u001b[0;32mif\u001b[0m \u001b[0mis_iterator\u001b[0m\u001b[0;34m(\u001b[0m\u001b[0mkey\u001b[0m\u001b[0;34m)\u001b[0m\u001b[0;34m:\u001b[0m\u001b[0;34m\u001b[0m\u001b[0;34m\u001b[0m\u001b[0m\n\u001b[1;32m   2985\u001b[0m                 \u001b[0mkey\u001b[0m \u001b[0;34m=\u001b[0m \u001b[0mlist\u001b[0m\u001b[0;34m(\u001b[0m\u001b[0mkey\u001b[0m\u001b[0;34m)\u001b[0m\u001b[0;34m\u001b[0m\u001b[0;34m\u001b[0m\u001b[0m\n\u001b[0;32m-> 2986\u001b[0;31m             \u001b[0mindexer\u001b[0m \u001b[0;34m=\u001b[0m \u001b[0mself\u001b[0m\u001b[0;34m.\u001b[0m\u001b[0mloc\u001b[0m\u001b[0;34m.\u001b[0m\u001b[0m_convert_to_indexer\u001b[0m\u001b[0;34m(\u001b[0m\u001b[0mkey\u001b[0m\u001b[0;34m,\u001b[0m \u001b[0maxis\u001b[0m\u001b[0;34m=\u001b[0m\u001b[0;36m1\u001b[0m\u001b[0;34m,\u001b[0m \u001b[0mraise_missing\u001b[0m\u001b[0;34m=\u001b[0m\u001b[0;32mTrue\u001b[0m\u001b[0;34m)\u001b[0m\u001b[0;34m\u001b[0m\u001b[0;34m\u001b[0m\u001b[0m\n\u001b[0m\u001b[1;32m   2987\u001b[0m \u001b[0;34m\u001b[0m\u001b[0m\n\u001b[1;32m   2988\u001b[0m         \u001b[0;31m# take() does not accept boolean indexers\u001b[0m\u001b[0;34m\u001b[0m\u001b[0;34m\u001b[0m\u001b[0;34m\u001b[0m\u001b[0m\n",
      "\u001b[0;32m//anaconda3/envs/learn-env/lib/python3.6/site-packages/pandas/core/indexing.py\u001b[0m in \u001b[0;36m_convert_to_indexer\u001b[0;34m(self, obj, axis, is_setter, raise_missing)\u001b[0m\n\u001b[1;32m   1283\u001b[0m                 \u001b[0;31m# When setting, missing keys are not allowed, even with .loc:\u001b[0m\u001b[0;34m\u001b[0m\u001b[0;34m\u001b[0m\u001b[0;34m\u001b[0m\u001b[0m\n\u001b[1;32m   1284\u001b[0m                 \u001b[0mkwargs\u001b[0m \u001b[0;34m=\u001b[0m \u001b[0;34m{\u001b[0m\u001b[0;34m\"raise_missing\"\u001b[0m\u001b[0;34m:\u001b[0m \u001b[0;32mTrue\u001b[0m \u001b[0;32mif\u001b[0m \u001b[0mis_setter\u001b[0m \u001b[0;32melse\u001b[0m \u001b[0mraise_missing\u001b[0m\u001b[0;34m}\u001b[0m\u001b[0;34m\u001b[0m\u001b[0;34m\u001b[0m\u001b[0m\n\u001b[0;32m-> 1285\u001b[0;31m                 \u001b[0;32mreturn\u001b[0m \u001b[0mself\u001b[0m\u001b[0;34m.\u001b[0m\u001b[0m_get_listlike_indexer\u001b[0m\u001b[0;34m(\u001b[0m\u001b[0mobj\u001b[0m\u001b[0;34m,\u001b[0m \u001b[0maxis\u001b[0m\u001b[0;34m,\u001b[0m \u001b[0;34m**\u001b[0m\u001b[0mkwargs\u001b[0m\u001b[0;34m)\u001b[0m\u001b[0;34m[\u001b[0m\u001b[0;36m1\u001b[0m\u001b[0;34m]\u001b[0m\u001b[0;34m\u001b[0m\u001b[0;34m\u001b[0m\u001b[0m\n\u001b[0m\u001b[1;32m   1286\u001b[0m         \u001b[0;32melse\u001b[0m\u001b[0;34m:\u001b[0m\u001b[0;34m\u001b[0m\u001b[0;34m\u001b[0m\u001b[0m\n\u001b[1;32m   1287\u001b[0m             \u001b[0;32mtry\u001b[0m\u001b[0;34m:\u001b[0m\u001b[0;34m\u001b[0m\u001b[0;34m\u001b[0m\u001b[0m\n",
      "\u001b[0;32m//anaconda3/envs/learn-env/lib/python3.6/site-packages/pandas/core/indexing.py\u001b[0m in \u001b[0;36m_get_listlike_indexer\u001b[0;34m(self, key, axis, raise_missing)\u001b[0m\n\u001b[1;32m   1090\u001b[0m \u001b[0;34m\u001b[0m\u001b[0m\n\u001b[1;32m   1091\u001b[0m         self._validate_read_indexer(\n\u001b[0;32m-> 1092\u001b[0;31m             \u001b[0mkeyarr\u001b[0m\u001b[0;34m,\u001b[0m \u001b[0mindexer\u001b[0m\u001b[0;34m,\u001b[0m \u001b[0mo\u001b[0m\u001b[0;34m.\u001b[0m\u001b[0m_get_axis_number\u001b[0m\u001b[0;34m(\u001b[0m\u001b[0maxis\u001b[0m\u001b[0;34m)\u001b[0m\u001b[0;34m,\u001b[0m \u001b[0mraise_missing\u001b[0m\u001b[0;34m=\u001b[0m\u001b[0mraise_missing\u001b[0m\u001b[0;34m\u001b[0m\u001b[0;34m\u001b[0m\u001b[0m\n\u001b[0m\u001b[1;32m   1093\u001b[0m         )\n\u001b[1;32m   1094\u001b[0m         \u001b[0;32mreturn\u001b[0m \u001b[0mkeyarr\u001b[0m\u001b[0;34m,\u001b[0m \u001b[0mindexer\u001b[0m\u001b[0;34m\u001b[0m\u001b[0;34m\u001b[0m\u001b[0m\n",
      "\u001b[0;32m//anaconda3/envs/learn-env/lib/python3.6/site-packages/pandas/core/indexing.py\u001b[0m in \u001b[0;36m_validate_read_indexer\u001b[0;34m(self, key, indexer, axis, raise_missing)\u001b[0m\n\u001b[1;32m   1175\u001b[0m                 raise KeyError(\n\u001b[1;32m   1176\u001b[0m                     \"None of [{key}] are in the [{axis}]\".format(\n\u001b[0;32m-> 1177\u001b[0;31m                         \u001b[0mkey\u001b[0m\u001b[0;34m=\u001b[0m\u001b[0mkey\u001b[0m\u001b[0;34m,\u001b[0m \u001b[0maxis\u001b[0m\u001b[0;34m=\u001b[0m\u001b[0mself\u001b[0m\u001b[0;34m.\u001b[0m\u001b[0mobj\u001b[0m\u001b[0;34m.\u001b[0m\u001b[0m_get_axis_name\u001b[0m\u001b[0;34m(\u001b[0m\u001b[0maxis\u001b[0m\u001b[0;34m)\u001b[0m\u001b[0;34m\u001b[0m\u001b[0;34m\u001b[0m\u001b[0m\n\u001b[0m\u001b[1;32m   1178\u001b[0m                     )\n\u001b[1;32m   1179\u001b[0m                 )\n",
      "\u001b[0;31mKeyError\u001b[0m: \"None of [Index(['lat'], dtype='object')] are in the [columns]\""
     ]
    }
   ],
   "source": [
    "from sklearn.linear_model import LinearRegression\n",
    "from sklearn.metrics import r2_score\n",
    "\n",
    "target = 'price'\n",
    "col_list=['lat']\n",
    "exp = 4\n",
    "for col in col_list:\n",
    "    \n",
    "    y = df[target].copy()\n",
    "    X = df[[col]].copy()\n",
    "    \n",
    "#     df_poly = pd.concat([X,y],axis=1)\n",
    "    reg = LinearRegression()\n",
    "    reg.fit(X,y)\n",
    "    r2 =r2_score(y, reg.predict(X))\n",
    "    print(r2)\n",
    "    \n",
    "    fig,ax = plt.subplots()\n",
    "    ax.scatter(X,y)\n",
    "    ax.set(xlabel=col,ylabel=target)\n",
    "    ax.plot(X,reg.predict(X),color='red')\n",
    "    plt.show()\n",
    "    \n",
    "    \n",
    "    \n",
    "    y = df[target].copy()\n",
    "    X = df[[col]].copy()\n",
    "\n",
    "    from sklearn.preprocessing import PolynomialFeatures\n",
    "    poly = PolynomialFeatures(exp)\n",
    "    X = poly.fit_transform(X)\n",
    "    reg = LinearRegression()\n",
    "    \n",
    "    reg.fit(X,y)\n",
    "    r2 =r2_score(y, reg.predict(X))\n",
    "    print(r2)\n",
    "    \n",
    "    fig,ax = plt.subplots()\n",
    "    ax.scatter(df[[col]],y)\n",
    "    ax.set(xlabel=col,ylabel=target)\n",
    "    ax.plot(df[[col]],reg.predict(X),color='red')\n",
    "    plt.show()\n",
    "    \n",
    "#     exp_col =f\"{col}_{exp}\" \n",
    "#     df_poly[exp_col] = df_poly[col]**exp\n",
    "\n",
    "# #     make_ols_f(df_poly,target=target,cat_cols=[],col_list=[col])\n",
    "\n",
    "\n",
    "    \n",
    "#     plt.figure()\n",
    "#     df_poly.plot(kind='scatter',x=exp_col,y=target)\n",
    "#     make_ols_f(df_poly,target=target,cat_cols=[],col_list=[exp_col])"
   ]
  },
  {
   "cell_type": "code",
   "execution_count": null,
   "metadata": {},
   "outputs": [],
   "source": []
  },
  {
   "cell_type": "code",
   "execution_count": null,
   "metadata": {},
   "outputs": [],
   "source": []
  },
  {
   "cell_type": "code",
   "execution_count": 66,
   "metadata": {
    "ExecuteTime": {
     "end_time": "2020-03-02T06:00:24.235254Z",
     "start_time": "2020-03-02T06:00:24.216612Z"
    }
   },
   "outputs": [
    {
     "ename": "KeyError",
     "evalue": "\"['lat'] not in index\"",
     "output_type": "error",
     "traceback": [
      "\u001b[0;31m---------------------------------------------------------------------------\u001b[0m",
      "\u001b[0;31mKeyError\u001b[0m                                  Traceback (most recent call last)",
      "\u001b[0;32m<ipython-input-66-21a11d508dba>\u001b[0m in \u001b[0;36m<module>\u001b[0;34m\u001b[0m\n\u001b[1;32m      4\u001b[0m \u001b[0mexp\u001b[0m\u001b[0;34m=\u001b[0m\u001b[0;36m3\u001b[0m\u001b[0;34m\u001b[0m\u001b[0;34m\u001b[0m\u001b[0m\n\u001b[1;32m      5\u001b[0m \u001b[0;34m\u001b[0m\u001b[0m\n\u001b[0;32m----> 6\u001b[0;31m \u001b[0mdf_poly\u001b[0m \u001b[0;34m=\u001b[0m \u001b[0mdf\u001b[0m\u001b[0;34m[\u001b[0m\u001b[0;34m[\u001b[0m\u001b[0mcol\u001b[0m\u001b[0;34m,\u001b[0m\u001b[0mtarget\u001b[0m\u001b[0;34m]\u001b[0m\u001b[0;34m]\u001b[0m\u001b[0;34m.\u001b[0m\u001b[0mcopy\u001b[0m\u001b[0;34m(\u001b[0m\u001b[0;34m)\u001b[0m\u001b[0;34m\u001b[0m\u001b[0;34m\u001b[0m\u001b[0m\n\u001b[0m\u001b[1;32m      7\u001b[0m \u001b[0;34m\u001b[0m\u001b[0m\n\u001b[1;32m      8\u001b[0m \u001b[0mexp_col\u001b[0m \u001b[0;34m=\u001b[0m\u001b[0;34mf\"{col}_{exp}\"\u001b[0m\u001b[0;34m\u001b[0m\u001b[0;34m\u001b[0m\u001b[0m\n",
      "\u001b[0;32m//anaconda3/envs/learn-env/lib/python3.6/site-packages/pandas/core/frame.py\u001b[0m in \u001b[0;36m__getitem__\u001b[0;34m(self, key)\u001b[0m\n\u001b[1;32m   2984\u001b[0m             \u001b[0;32mif\u001b[0m \u001b[0mis_iterator\u001b[0m\u001b[0;34m(\u001b[0m\u001b[0mkey\u001b[0m\u001b[0;34m)\u001b[0m\u001b[0;34m:\u001b[0m\u001b[0;34m\u001b[0m\u001b[0;34m\u001b[0m\u001b[0m\n\u001b[1;32m   2985\u001b[0m                 \u001b[0mkey\u001b[0m \u001b[0;34m=\u001b[0m \u001b[0mlist\u001b[0m\u001b[0;34m(\u001b[0m\u001b[0mkey\u001b[0m\u001b[0;34m)\u001b[0m\u001b[0;34m\u001b[0m\u001b[0;34m\u001b[0m\u001b[0m\n\u001b[0;32m-> 2986\u001b[0;31m             \u001b[0mindexer\u001b[0m \u001b[0;34m=\u001b[0m \u001b[0mself\u001b[0m\u001b[0;34m.\u001b[0m\u001b[0mloc\u001b[0m\u001b[0;34m.\u001b[0m\u001b[0m_convert_to_indexer\u001b[0m\u001b[0;34m(\u001b[0m\u001b[0mkey\u001b[0m\u001b[0;34m,\u001b[0m \u001b[0maxis\u001b[0m\u001b[0;34m=\u001b[0m\u001b[0;36m1\u001b[0m\u001b[0;34m,\u001b[0m \u001b[0mraise_missing\u001b[0m\u001b[0;34m=\u001b[0m\u001b[0;32mTrue\u001b[0m\u001b[0;34m)\u001b[0m\u001b[0;34m\u001b[0m\u001b[0;34m\u001b[0m\u001b[0m\n\u001b[0m\u001b[1;32m   2987\u001b[0m \u001b[0;34m\u001b[0m\u001b[0m\n\u001b[1;32m   2988\u001b[0m         \u001b[0;31m# take() does not accept boolean indexers\u001b[0m\u001b[0;34m\u001b[0m\u001b[0;34m\u001b[0m\u001b[0;34m\u001b[0m\u001b[0m\n",
      "\u001b[0;32m//anaconda3/envs/learn-env/lib/python3.6/site-packages/pandas/core/indexing.py\u001b[0m in \u001b[0;36m_convert_to_indexer\u001b[0;34m(self, obj, axis, is_setter, raise_missing)\u001b[0m\n\u001b[1;32m   1283\u001b[0m                 \u001b[0;31m# When setting, missing keys are not allowed, even with .loc:\u001b[0m\u001b[0;34m\u001b[0m\u001b[0;34m\u001b[0m\u001b[0;34m\u001b[0m\u001b[0m\n\u001b[1;32m   1284\u001b[0m                 \u001b[0mkwargs\u001b[0m \u001b[0;34m=\u001b[0m \u001b[0;34m{\u001b[0m\u001b[0;34m\"raise_missing\"\u001b[0m\u001b[0;34m:\u001b[0m \u001b[0;32mTrue\u001b[0m \u001b[0;32mif\u001b[0m \u001b[0mis_setter\u001b[0m \u001b[0;32melse\u001b[0m \u001b[0mraise_missing\u001b[0m\u001b[0;34m}\u001b[0m\u001b[0;34m\u001b[0m\u001b[0;34m\u001b[0m\u001b[0m\n\u001b[0;32m-> 1285\u001b[0;31m                 \u001b[0;32mreturn\u001b[0m \u001b[0mself\u001b[0m\u001b[0;34m.\u001b[0m\u001b[0m_get_listlike_indexer\u001b[0m\u001b[0;34m(\u001b[0m\u001b[0mobj\u001b[0m\u001b[0;34m,\u001b[0m \u001b[0maxis\u001b[0m\u001b[0;34m,\u001b[0m \u001b[0;34m**\u001b[0m\u001b[0mkwargs\u001b[0m\u001b[0;34m)\u001b[0m\u001b[0;34m[\u001b[0m\u001b[0;36m1\u001b[0m\u001b[0;34m]\u001b[0m\u001b[0;34m\u001b[0m\u001b[0;34m\u001b[0m\u001b[0m\n\u001b[0m\u001b[1;32m   1286\u001b[0m         \u001b[0;32melse\u001b[0m\u001b[0;34m:\u001b[0m\u001b[0;34m\u001b[0m\u001b[0;34m\u001b[0m\u001b[0m\n\u001b[1;32m   1287\u001b[0m             \u001b[0;32mtry\u001b[0m\u001b[0;34m:\u001b[0m\u001b[0;34m\u001b[0m\u001b[0;34m\u001b[0m\u001b[0m\n",
      "\u001b[0;32m//anaconda3/envs/learn-env/lib/python3.6/site-packages/pandas/core/indexing.py\u001b[0m in \u001b[0;36m_get_listlike_indexer\u001b[0;34m(self, key, axis, raise_missing)\u001b[0m\n\u001b[1;32m   1090\u001b[0m \u001b[0;34m\u001b[0m\u001b[0m\n\u001b[1;32m   1091\u001b[0m         self._validate_read_indexer(\n\u001b[0;32m-> 1092\u001b[0;31m             \u001b[0mkeyarr\u001b[0m\u001b[0;34m,\u001b[0m \u001b[0mindexer\u001b[0m\u001b[0;34m,\u001b[0m \u001b[0mo\u001b[0m\u001b[0;34m.\u001b[0m\u001b[0m_get_axis_number\u001b[0m\u001b[0;34m(\u001b[0m\u001b[0maxis\u001b[0m\u001b[0;34m)\u001b[0m\u001b[0;34m,\u001b[0m \u001b[0mraise_missing\u001b[0m\u001b[0;34m=\u001b[0m\u001b[0mraise_missing\u001b[0m\u001b[0;34m\u001b[0m\u001b[0;34m\u001b[0m\u001b[0m\n\u001b[0m\u001b[1;32m   1093\u001b[0m         )\n\u001b[1;32m   1094\u001b[0m         \u001b[0;32mreturn\u001b[0m \u001b[0mkeyarr\u001b[0m\u001b[0;34m,\u001b[0m \u001b[0mindexer\u001b[0m\u001b[0;34m\u001b[0m\u001b[0;34m\u001b[0m\u001b[0m\n",
      "\u001b[0;32m//anaconda3/envs/learn-env/lib/python3.6/site-packages/pandas/core/indexing.py\u001b[0m in \u001b[0;36m_validate_read_indexer\u001b[0;34m(self, key, indexer, axis, raise_missing)\u001b[0m\n\u001b[1;32m   1183\u001b[0m             \u001b[0;32mif\u001b[0m \u001b[0;32mnot\u001b[0m \u001b[0;34m(\u001b[0m\u001b[0mself\u001b[0m\u001b[0;34m.\u001b[0m\u001b[0mname\u001b[0m \u001b[0;34m==\u001b[0m \u001b[0;34m\"loc\"\u001b[0m \u001b[0;32mand\u001b[0m \u001b[0;32mnot\u001b[0m \u001b[0mraise_missing\u001b[0m\u001b[0;34m)\u001b[0m\u001b[0;34m:\u001b[0m\u001b[0;34m\u001b[0m\u001b[0;34m\u001b[0m\u001b[0m\n\u001b[1;32m   1184\u001b[0m                 \u001b[0mnot_found\u001b[0m \u001b[0;34m=\u001b[0m \u001b[0mlist\u001b[0m\u001b[0;34m(\u001b[0m\u001b[0mset\u001b[0m\u001b[0;34m(\u001b[0m\u001b[0mkey\u001b[0m\u001b[0;34m)\u001b[0m \u001b[0;34m-\u001b[0m \u001b[0mset\u001b[0m\u001b[0;34m(\u001b[0m\u001b[0max\u001b[0m\u001b[0;34m)\u001b[0m\u001b[0;34m)\u001b[0m\u001b[0;34m\u001b[0m\u001b[0;34m\u001b[0m\u001b[0m\n\u001b[0;32m-> 1185\u001b[0;31m                 \u001b[0;32mraise\u001b[0m \u001b[0mKeyError\u001b[0m\u001b[0;34m(\u001b[0m\u001b[0;34m\"{} not in index\"\u001b[0m\u001b[0;34m.\u001b[0m\u001b[0mformat\u001b[0m\u001b[0;34m(\u001b[0m\u001b[0mnot_found\u001b[0m\u001b[0;34m)\u001b[0m\u001b[0;34m)\u001b[0m\u001b[0;34m\u001b[0m\u001b[0;34m\u001b[0m\u001b[0m\n\u001b[0m\u001b[1;32m   1186\u001b[0m \u001b[0;34m\u001b[0m\u001b[0m\n\u001b[1;32m   1187\u001b[0m             \u001b[0;31m# we skip the warning on Categorical/Interval\u001b[0m\u001b[0;34m\u001b[0m\u001b[0;34m\u001b[0m\u001b[0;34m\u001b[0m\u001b[0m\n",
      "\u001b[0;31mKeyError\u001b[0m: \"['lat'] not in index\""
     ]
    }
   ],
   "source": [
    "target = 'price'\n",
    "# col_list=['lat']\n",
    "col=col_list[0]\n",
    "exp=3\n",
    "\n",
    "df_poly = df[[col,target]].copy()\n",
    "\n",
    "exp_col =f\"{col}_{exp}\" \n",
    "df_poly[exp_col] = df_poly[col]**exp\n",
    "\n",
    "make_ols_f(df_poly,target=target,cat_cols=[],col_list=[col])\n",
    "plt.figure()\n",
    "df_poly.plot(kind='scatter',x=col,y=target)\n",
    "plt.show()\n"
   ]
  },
  {
   "cell_type": "code",
   "execution_count": null,
   "metadata": {
    "ExecuteTime": {
     "end_time": "2020-03-02T05:57:26.643102Z",
     "start_time": "2020-03-02T05:57:18.445Z"
    }
   },
   "outputs": [],
   "source": [
    "\n",
    "# plt.figure()\n",
    "# df_poly.plot(kind='scatter',x=exp_col,y=target)\n",
    "# make_ols_f(df_poly,target=target,cat_cols=[],col_list=[exp_col])"
   ]
  },
  {
   "cell_type": "code",
   "execution_count": null,
   "metadata": {
    "ExecuteTime": {
     "end_time": "2020-03-01T22:08:22.610205Z",
     "start_time": "2020-03-01T22:08:22.607203Z"
    }
   },
   "outputs": [],
   "source": []
  },
  {
   "cell_type": "code",
   "execution_count": null,
   "metadata": {
    "ExecuteTime": {
     "end_time": "2020-03-02T05:57:26.643698Z",
     "start_time": "2020-03-02T05:57:18.448Z"
    }
   },
   "outputs": [],
   "source": [
    "# for (col1,col2) in multi_cols:\n",
    "#     if col1 != col2:\n",
    "#         fig,ax = plt.subplots(ncols=3,figsize=(10,4))\n",
    "#         sns.regplot(data=df,x=col1,y='price',ax=ax[0])\n",
    "#         sns.regplot(data=df,x=col2,y='price',ax=ax[1])\n",
    "#         sns.scatterplot(data=df,x=col1,y=col2,ax=ax[2])\n",
    "# #         ax[2].set(ylim=df[col2]())\n",
    "#         plt.tight_layout()\n",
    "#         plt.show()\n",
    "#         del fig"
   ]
  },
  {
   "cell_type": "markdown",
   "metadata": {},
   "source": [
    "# ORIGINAL CELLS:"
   ]
  },
  {
   "cell_type": "markdown",
   "metadata": {},
   "source": [
    "# Polynomial Regressions"
   ]
  },
  {
   "cell_type": "markdown",
   "metadata": {},
   "source": [
    "Remember we started with (multiple) linear equation:\n",
    "\n",
    "$$ \\large \\hat{y} = w_0 + w_1  x_1 + w_2  x_2 + ... + w_N  x_N $$\n",
    "$$ \\large \\hat{y} = \\sum_{n=0}^{N} w_n x_n $$\n",
    "\n",
    "\n",
    "**Knowledge check:** Why is this \"linear\"?"
   ]
  },
  {
   "cell_type": "markdown",
   "metadata": {},
   "source": [
    "## Making it more complex!"
   ]
  },
  {
   "cell_type": "code",
   "execution_count": null,
   "metadata": {
    "ExecuteTime": {
     "end_time": "2020-03-02T05:57:26.645969Z",
     "start_time": "2020-03-02T05:57:18.670Z"
    }
   },
   "outputs": [],
   "source": [
    "df = fs.datasets.load_yields(version='other')\n",
    "display(df.head())"
   ]
  },
  {
   "cell_type": "code",
   "execution_count": null,
   "metadata": {
    "ExecuteTime": {
     "end_time": "2020-03-02T05:57:26.646797Z",
     "start_time": "2020-03-02T05:57:18.673Z"
    }
   },
   "outputs": [],
   "source": [
    "y = df['Yield']\n",
    "\n",
    "X = df.drop(columns=['Yield'])\n",
    "\n",
    "\n",
    "plt.scatter(X, y, color='green')\n",
    "plt.xlabel('Temperature')\n",
    "plt.ylabel('Yield');"
   ]
  },
  {
   "cell_type": "markdown",
   "metadata": {},
   "source": [
    "$\\large \\hat y = \\hat \\beta_0 + \\hat \\beta_1x $ "
   ]
  },
  {
   "cell_type": "code",
   "execution_count": null,
   "metadata": {
    "ExecuteTime": {
     "end_time": "2020-03-02T05:57:26.647832Z",
     "start_time": "2020-03-02T05:57:18.675Z"
    }
   },
   "outputs": [],
   "source": [
    "from sklearn.linear_model import LinearRegression\n",
    "reg = LinearRegression().fit(X, y)\n",
    "plt.scatter(X, y, color='green')\n",
    "plt.plot(X, reg.predict(X))\n",
    "plt.xlabel('Temperature')\n",
    "plt.ylabel('Yield');\n"
   ]
  },
  {
   "cell_type": "code",
   "execution_count": null,
   "metadata": {
    "ExecuteTime": {
     "end_time": "2020-03-02T05:57:26.648725Z",
     "start_time": "2020-03-02T05:57:18.678Z"
    }
   },
   "outputs": [],
   "source": [
    "from sklearn.metrics import mean_squared_error, r2_score\n",
    "\n",
    "mean_squared_error(y, reg.predict(X)), r2_score(y, reg.predict(X))"
   ]
  },
  {
   "cell_type": "markdown",
   "metadata": {},
   "source": [
    "### A quadratic relationship\n",
    "$\\large \\hat y = \\hat \\beta_0 + \\hat \\beta_1x + \\hat \\beta_2 x^2$ "
   ]
  },
  {
   "cell_type": "code",
   "execution_count": null,
   "metadata": {
    "ExecuteTime": {
     "end_time": "2020-03-02T05:57:26.649487Z",
     "start_time": "2020-03-02T05:57:18.680Z"
    },
    "scrolled": false
   },
   "outputs": [],
   "source": [
    "# fig,ax = plt.subplots()\n",
    "# ax = df.plot(kind='scatter',x='Temp',y='Yield',sizes=[50],ax=ax)\n",
    "# ax.plot(df['Temp'], reg.predict(df[['Temp']]))"
   ]
  },
  {
   "cell_type": "code",
   "execution_count": null,
   "metadata": {
    "ExecuteTime": {
     "end_time": "2020-03-02T05:57:26.650673Z",
     "start_time": "2020-03-02T05:57:18.683Z"
    }
   },
   "outputs": [],
   "source": [
    "X['Temp_sq'] = X['Temp']**2\n",
    "X.head()"
   ]
  },
  {
   "cell_type": "code",
   "execution_count": null,
   "metadata": {
    "ExecuteTime": {
     "end_time": "2020-03-02T05:57:26.651779Z",
     "start_time": "2020-03-02T05:57:18.685Z"
    }
   },
   "outputs": [],
   "source": [
    "reg_q = LinearRegression().fit(X, y)\n",
    "plt.scatter(X['Temp'], y, color='green')\n",
    "plt.plot(X['Temp'], reg_q.predict(X))\n",
    "plt.xlabel('Temperature')\n",
    "plt.ylabel('Yield');"
   ]
  },
  {
   "cell_type": "code",
   "execution_count": null,
   "metadata": {
    "ExecuteTime": {
     "end_time": "2020-03-02T05:57:26.652808Z",
     "start_time": "2020-03-02T05:57:18.687Z"
    }
   },
   "outputs": [],
   "source": [
    "mean_squared_error(y, reg_q.predict(X)),r2_score(y, reg_q.predict(X))"
   ]
  },
  {
   "cell_type": "code",
   "execution_count": null,
   "metadata": {
    "ExecuteTime": {
     "end_time": "2020-03-02T05:57:26.653585Z",
     "start_time": "2020-03-02T05:57:18.689Z"
    }
   },
   "outputs": [],
   "source": [
    "xs = np.linspace(0,100)"
   ]
  },
  {
   "cell_type": "code",
   "execution_count": null,
   "metadata": {},
   "outputs": [],
   "source": []
  },
  {
   "cell_type": "code",
   "execution_count": null,
   "metadata": {},
   "outputs": [],
   "source": []
  },
  {
   "cell_type": "code",
   "execution_count": null,
   "metadata": {},
   "outputs": [],
   "source": []
  },
  {
   "cell_type": "code",
   "execution_count": null,
   "metadata": {
    "ExecuteTime": {
     "end_time": "2020-03-02T05:57:26.654481Z",
     "start_time": "2020-03-02T05:57:18.695Z"
    }
   },
   "outputs": [],
   "source": [
    "from sklearn.preprocessing import PolynomialFeatures\n",
    "\n",
    "n_poly = 5\n",
    "def get_poly_features(df,transform_col='Temp',target_col='Yield',\n",
    "                     n_poly=5):\n",
    "    polyfeat = PolynomialFeatures(n_poly)\n",
    "    col_names = [f'{transform_col}^{i}' for i in range(n_poly+1)]\n",
    "\n",
    "    X_poly = polyfeat.fit_transform(df[[transform_col]])\n",
    "    df_poly = pd.DataFrame(X_poly,columns=col_names)\n",
    "    df_poly[target_col] = df[target_col].copy()\n",
    "    df_poly.dropna(inplace=True)\n",
    "    return df_poly"
   ]
  },
  {
   "cell_type": "code",
   "execution_count": null,
   "metadata": {},
   "outputs": [],
   "source": []
  },
  {
   "cell_type": "markdown",
   "metadata": {},
   "source": [
    "Imagine making this (start with just one variable):\n",
    "\n",
    "$$ \\large \\hat{y} = \\beta_0 + \\beta_1  x + \\beta_2  x^2 + ... + \\beta_N  x^N $$\n",
    "$$ \\large \\hat{y} = \\sum_{n=0}^{N} \\beta_n x^n $$"
   ]
  },
  {
   "cell_type": "code",
   "execution_count": null,
   "metadata": {
    "ExecuteTime": {
     "end_time": "2020-03-02T05:57:26.655273Z",
     "start_time": "2020-03-02T05:57:18.700Z"
    }
   },
   "outputs": [],
   "source": [
    "from sklearn.model_selection import KFold,cross_val_predict,cross_val_score\n",
    "from sklearn.metrics import r2_score\n",
    "from sklearn.model_selection import train_test_split\n",
    "\n",
    "def model_poly_data(df_poly,n_poly=5, fig_xcol='Temp^1',target_col='Yield'):\n",
    "\n",
    "    X = df_poly.drop(columns=[target_col]).copy()\n",
    "    y = df_poly[target_col].copy()\n",
    "    \n",
    "    X_train,X_test,y_train,y_test = train_test_split(X,y,test_size=0.4,random_state=123)\n",
    "    poly_reg = LinearRegression()#normalize=True)\n",
    "    poly_reg.fit(X_train,y_train)\n",
    "    \n",
    "    y_hat_train =  poly_reg.predict(X_train)\n",
    "    y_hat_test =  poly_reg.predict(X_test)\n",
    "    \n",
    "    r2_train = r2_score(y_train, y_hat_train)\n",
    "    r2_test = r2_score(y_test,y_hat_test)\n",
    "    \n",
    "    print(f'[i] For polynomial features = {n_poly}:')\n",
    "    print(f\"\\tTraining R2: {round(r2_train,4)}\")\n",
    "    print(f\"\\tTest R2: {round(r2_test,4)}\")\n",
    "    \n",
    "    fig,ax = plt.subplots()\n",
    "    df_poly.plot(kind='scatter',x=fig_xcol,y=target_col,sizes=[50],ax=ax)\n",
    "    ax.plot(df_poly[fig_xcol], poly_reg.predict(X))\n",
    "    \n",
    "    plot_r2 = r2_score(y, poly_reg.predict(X))\n",
    "    ax.set_title(f\"Predictions From Poly={n_poly}: R2={round(plot_r2,3)}\")\n",
    "#     plt.scatter(X_test[fig_xcol], y_test)\n",
    "#     plt.plot(X_test[fig_xcol],y_hat_test)\n",
    "    return {'train_test_split': [X_train,X_test,y_train,y_test],\n",
    "           'preds': {'train':y_hat_train,\n",
    "                    'test':y_hat_test}}\n",
    "\n",
    "\n",
    "# # def plot_poly():\n",
    "#     fig,ax = plt.subplots()\n",
    "#     df_poly.plot(kind='scatter',x=orig_data_col,y=target_col,sizes=[50],ax=ax)\n",
    "    \n",
    "#     ax.plot(df_poly[orig_data_col], preds)\n",
    "    \n",
    "#     ax.set_title(f\"Predictions From Poly={n_poly}: R2={round(r2,3)}\")\n",
    "#     return fig,ax\n",
    "\n",
    "from ipywidgets import interact\n",
    "\n",
    "@interact\n",
    "def show_poly_results(N=(1,10)):\n",
    "# N =3\n",
    "\n",
    "    df_poly = get_poly_features(df,n_poly=N,transform_col='Temp',target_col='Yield',)\n",
    "#     display(df_poly.head())\n",
    "\n",
    "    res=model_poly_data(df_poly,n_poly=N)\n",
    "    # plot_poly()"
   ]
  },
  {
   "cell_type": "code",
   "execution_count": null,
   "metadata": {
    "ExecuteTime": {
     "end_time": "2020-03-02T05:57:26.656090Z",
     "start_time": "2020-03-02T05:57:18.702Z"
    }
   },
   "outputs": [],
   "source": [
    "\n",
    "\n",
    "n_polys = [2,3,4,6,8,10]\n",
    "for n in n_polys:\n",
    "    kws = dict(n_poly=n)\n",
    "    df_poly = get_poly_features(df,**kws)\n",
    "    res = model_poly_data(df_poly,**kws)\n",
    "    "
   ]
  },
  {
   "cell_type": "code",
   "execution_count": null,
   "metadata": {
    "ExecuteTime": {
     "end_time": "2020-03-02T05:57:26.656824Z",
     "start_time": "2020-03-02T05:57:18.705Z"
    },
    "scrolled": false
   },
   "outputs": [],
   "source": [
    "#     res[]\n",
    "res['train_test_split']\n",
    "#     model_and_plot_poly(df_poly,**kws)"
   ]
  },
  {
   "cell_type": "markdown",
   "metadata": {},
   "source": [
    "![](https://github.com/learn-co-students/dsc-2-24-05-polynomial-regression-online-ds-sp-000/raw/master/index_files/index_23_0.png)"
   ]
  },
  {
   "cell_type": "markdown",
   "metadata": {},
   "source": [
    "![](https://github.com/learn-co-students/dsc-2-24-05-polynomial-regression-online-ds-sp-000/raw/master/index_files/index_28_0.png)"
   ]
  },
  {
   "cell_type": "markdown",
   "metadata": {},
   "source": [
    "For more general (multiple variables):\n",
    "\n",
    "$$ \\large \\hat{y} = \\beta_{0,0} + \\sum_{i=0}^{N} \\beta_{1,i} x_1^i + \\sum_{i=0}^{N} \\beta_{2,i} x_2^i + ... + \\sum_{i=0}^{N} \\beta_{M,i} x_M^i$$ \n",
    "\n",
    "$$ \\large \\hat{y} = \\sum_{i=0}^{N}\\sum_{j=0}^{M} \\beta_{j,i} x_j^i $$ \n"
   ]
  },
  {
   "cell_type": "markdown",
   "metadata": {},
   "source": [
    "# Bias-Variance Trade Off"
   ]
  },
  {
   "cell_type": "markdown",
   "metadata": {},
   "source": [
    "## Underfitting and Overfitting"
   ]
  },
  {
   "cell_type": "markdown",
   "metadata": {},
   "source": [
    "Let's formalize this:\n",
    "\n",
    "\n",
    "> *Underfitting* happens when a model cannot learn the training data, nor can it generalize to new data.\n",
    "\n",
    "The simple linear regression model fitted earlier was an underfit model.\n",
    "\n",
    "> *Overfitting* happens when a model learns the training data too well. In fact, so well that it is not generalizeable to new data "
   ]
  },
  {
   "cell_type": "markdown",
   "metadata": {},
   "source": [
    "## The Bias-Variance Trade Off\n"
   ]
  },
  {
   "cell_type": "markdown",
   "metadata": {},
   "source": [
    "Another perspective on this problem of overfitting versus underfitting is the bias-variance tradeoff. \n",
    "\n",
    "We can break down our error term (the mean squared error) as the sum of 3 sources of error: \n",
    "\n",
    "- *bias*\n",
    "- *variance*, and\n",
    "- *irreducible error* \n",
    "\n",
    " \n",
    "\n",
    "$$ \\large \\text{MSE} = \\text{Bias}(\\hat{f}(x))^2 + \\text{Var}(\\hat{f}(x)) + \\sigma^2$$\n",
    "- The derivation of this can be found [here](https://en.wikipedia.org/wiki/Bias%E2%80%93variance_tradeoff#Derivation).\n",
    "\n",
    "<img src=\"https://raw.githubusercontent.com/jirvingphd/dsc-bias-variance-trade-off-online-ds-pt-100719/master/images/new_bias_variance.png\">\n",
    "\n",
    "\n",
    "- **Bias** arises when wrong assumptions are made when training a model. For example:\n",
    "\n",
    "    - An interaction effect is missed, \n",
    "    - We missed a certain polynomial relationship. \n",
    "    \n",
    "    - Because of this, our algorithm misses the relevant relations between predictors and the target variable.\n",
    "    - *(Note how this is similar to underfitting!)*\n",
    "\n",
    "\n",
    "- **Variance** arises  when a model is too sensitive to small fluctuations in the training set. \n",
    "\n",
    "    - When variance is high, random noise is modeled instead of the intended outputs. \n",
    "    - *(This is overfitting!)*"
   ]
  },
  {
   "cell_type": "markdown",
   "metadata": {},
   "source": [
    "<img src=\"https://raw.githubusercontent.com/jirvingphd/fsds_pt_100719_cohort_notes/master/Images/bias_variance_optimize.png\">\n",
    "\n",
    "\n",
    "> **The balance between bias and variance is a trade-off.** We can reduce the variance but then there is a risk of running a bigger bias, and vice versa. \n",
    "- Bias is usually associated with low model complexity, variance with high model complexity.\n",
    "- There is generally a \"sweet spot\" in-between, compromising between bias and variance.\n",
    "\n",
    "\n"
   ]
  },
  {
   "cell_type": "code",
   "execution_count": null,
   "metadata": {},
   "outputs": [],
   "source": []
  }
 ],
 "metadata": {
  "kernelspec": {
   "display_name": "Python [conda env:learn-env] *",
   "language": "python",
   "name": "conda-env-learn-env-py"
  },
  "language_info": {
   "codemirror_mode": {
    "name": "ipython",
    "version": 3
   },
   "file_extension": ".py",
   "mimetype": "text/x-python",
   "name": "python",
   "nbconvert_exporter": "python",
   "pygments_lexer": "ipython3",
   "version": "3.6.9"
  },
  "toc": {
   "base_numbering": 1,
   "nav_menu": {},
   "number_sections": true,
   "sideBar": true,
   "skip_h1_title": false,
   "title_cell": "Table of Contents",
   "title_sidebar": "Contents",
   "toc_cell": false,
   "toc_position": {
    "height": "calc(100% - 180px)",
    "left": "10px",
    "top": "150px",
    "width": "320px"
   },
   "toc_section_display": true,
   "toc_window_display": true
  },
  "varInspector": {
   "cols": {
    "lenName": 16,
    "lenType": 16,
    "lenVar": 40
   },
   "kernels_config": {
    "python": {
     "delete_cmd_postfix": "",
     "delete_cmd_prefix": "del ",
     "library": "var_list.py",
     "varRefreshCmd": "print(var_dic_list())"
    },
    "r": {
     "delete_cmd_postfix": ") ",
     "delete_cmd_prefix": "rm(",
     "library": "var_list.r",
     "varRefreshCmd": "cat(var_dic_list()) "
    }
   },
   "types_to_exclude": [
    "module",
    "function",
    "builtin_function_or_method",
    "instance",
    "_Feature"
   ],
   "window_display": false
  },
  "widgets": {
   "application/vnd.jupyter.widget-state+json": {
    "state": {},
    "version_major": 2,
    "version_minor": 0
   }
  }
 },
 "nbformat": 4,
 "nbformat_minor": 2
}
