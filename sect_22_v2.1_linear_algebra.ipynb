{
 "cells": [
  {
   "cell_type": "markdown",
   "metadata": {},
   "source": [
    "# Sect 26: Linear Algebra"
   ]
  },
  {
   "cell_type": "markdown",
   "metadata": {},
   "source": [
    "## Objectives\n",
    "\n",
    "- Be able to explain the difference(s) between vectors, matrices, tensors, etc. and their dimensionality.\n",
    "\n",
    "- Understand the the difference between the shape and size of an array\n",
    "\n",
    "- Discuss linear algebra operations with numpy\n",
    "\n",
    "- Learn about using linear algebra to solve systems of equations\n",
    "\n",
    "- If there's time: walking through Solution for [Solving Systems of Linear Equations with NumPy - Lab](https://learn.co/tracks/data-science-career-v2/module-4-a-complete-data-science-project-using-multiple-regression/section-26-linear-algebra/solving-systems-of-linear-equations-with-numpy-lab)\n",
    "\n",
    "### Resources:\n",
    "- Learn: [Motivation for Linear Algebra](https://learn.co/tracks/data-science-career-v2/module-4-a-complete-data-science-project-using-multiple-regression/section-26-linear-algebra/motivation-for-linear-algebra-in-data-science)\n",
    "\n",
    "- www.desmos.com (linear equation grapher)\n",
    "\n"
   ]
  },
  {
   "cell_type": "code",
   "execution_count": 1,
   "metadata": {
    "ExecuteTime": {
     "end_time": "2020-03-04T03:12:10.110876Z",
     "start_time": "2020-03-04T03:12:05.604685Z"
    }
   },
   "outputs": [
    {
     "name": "stdout",
     "output_type": "stream",
     "text": [
      "fsds_1007219  v0.7.16 loaded.  Read the docs: https://fsds.readthedocs.io/en/latest/ \n"
     ]
    },
    {
     "data": {
      "text/html": [
       "<style  type=\"text/css\" >\n",
       "</style><table id=\"T_ef66a25c_5dc5_11ea_9ba9_acde48001122\" ><caption>Loaded Packages and Handles</caption><thead>    <tr>        <th class=\"col_heading level0 col0\" >Handle</th>        <th class=\"col_heading level0 col1\" >Package</th>        <th class=\"col_heading level0 col2\" >Description</th>    </tr></thead><tbody>\n",
       "                <tr>\n",
       "                                <td id=\"T_ef66a25c_5dc5_11ea_9ba9_acde48001122row0_col0\" class=\"data row0 col0\" >dp</td>\n",
       "                        <td id=\"T_ef66a25c_5dc5_11ea_9ba9_acde48001122row0_col1\" class=\"data row0 col1\" >IPython.display</td>\n",
       "                        <td id=\"T_ef66a25c_5dc5_11ea_9ba9_acde48001122row0_col2\" class=\"data row0 col2\" >Display modules with helpful display and clearing commands.</td>\n",
       "            </tr>\n",
       "            <tr>\n",
       "                                <td id=\"T_ef66a25c_5dc5_11ea_9ba9_acde48001122row1_col0\" class=\"data row1 col0\" >fs</td>\n",
       "                        <td id=\"T_ef66a25c_5dc5_11ea_9ba9_acde48001122row1_col1\" class=\"data row1 col1\" >fsds_100719</td>\n",
       "                        <td id=\"T_ef66a25c_5dc5_11ea_9ba9_acde48001122row1_col2\" class=\"data row1 col2\" >Custom data science bootcamp student package</td>\n",
       "            </tr>\n",
       "            <tr>\n",
       "                                <td id=\"T_ef66a25c_5dc5_11ea_9ba9_acde48001122row2_col0\" class=\"data row2 col0\" >mpl</td>\n",
       "                        <td id=\"T_ef66a25c_5dc5_11ea_9ba9_acde48001122row2_col1\" class=\"data row2 col1\" >matplotlib</td>\n",
       "                        <td id=\"T_ef66a25c_5dc5_11ea_9ba9_acde48001122row2_col2\" class=\"data row2 col2\" >Matplotlib's base OOP module with formatting artists</td>\n",
       "            </tr>\n",
       "            <tr>\n",
       "                                <td id=\"T_ef66a25c_5dc5_11ea_9ba9_acde48001122row3_col0\" class=\"data row3 col0\" >plt</td>\n",
       "                        <td id=\"T_ef66a25c_5dc5_11ea_9ba9_acde48001122row3_col1\" class=\"data row3 col1\" >matplotlib.pyplot</td>\n",
       "                        <td id=\"T_ef66a25c_5dc5_11ea_9ba9_acde48001122row3_col2\" class=\"data row3 col2\" >Matplotlib's matlab-like plotting module</td>\n",
       "            </tr>\n",
       "            <tr>\n",
       "                                <td id=\"T_ef66a25c_5dc5_11ea_9ba9_acde48001122row4_col0\" class=\"data row4 col0\" >np</td>\n",
       "                        <td id=\"T_ef66a25c_5dc5_11ea_9ba9_acde48001122row4_col1\" class=\"data row4 col1\" >numpy</td>\n",
       "                        <td id=\"T_ef66a25c_5dc5_11ea_9ba9_acde48001122row4_col2\" class=\"data row4 col2\" >scientific computing with Python</td>\n",
       "            </tr>\n",
       "            <tr>\n",
       "                                <td id=\"T_ef66a25c_5dc5_11ea_9ba9_acde48001122row5_col0\" class=\"data row5 col0\" >pd</td>\n",
       "                        <td id=\"T_ef66a25c_5dc5_11ea_9ba9_acde48001122row5_col1\" class=\"data row5 col1\" >pandas</td>\n",
       "                        <td id=\"T_ef66a25c_5dc5_11ea_9ba9_acde48001122row5_col2\" class=\"data row5 col2\" >High performance data structures and tools</td>\n",
       "            </tr>\n",
       "            <tr>\n",
       "                                <td id=\"T_ef66a25c_5dc5_11ea_9ba9_acde48001122row6_col0\" class=\"data row6 col0\" >sns</td>\n",
       "                        <td id=\"T_ef66a25c_5dc5_11ea_9ba9_acde48001122row6_col1\" class=\"data row6 col1\" >seaborn</td>\n",
       "                        <td id=\"T_ef66a25c_5dc5_11ea_9ba9_acde48001122row6_col2\" class=\"data row6 col2\" >High-level data visualization library based on matplotlib</td>\n",
       "            </tr>\n",
       "    </tbody></table>"
      ],
      "text/plain": [
       "<pandas.io.formats.style.Styler at 0x1c1f30d668>"
      ]
     },
     "metadata": {},
     "output_type": "display_data"
    },
    {
     "data": {
      "text/html": [
       "        <script type=\"text/javascript\">\n",
       "        window.PlotlyConfig = {MathJaxConfig: 'local'};\n",
       "        if (window.MathJax) {MathJax.Hub.Config({SVG: {font: \"STIX-Web\"}});}\n",
       "        if (typeof require !== 'undefined') {\n",
       "        require.undef(\"plotly\");\n",
       "        requirejs.config({\n",
       "            paths: {\n",
       "                'plotly': ['https://cdn.plot.ly/plotly-latest.min']\n",
       "            }\n",
       "        });\n",
       "        require(['plotly'], function(Plotly) {\n",
       "            window._Plotly = Plotly;\n",
       "        });\n",
       "        }\n",
       "        </script>\n",
       "        "
      ]
     },
     "metadata": {},
     "output_type": "display_data"
    },
    {
     "name": "stdout",
     "output_type": "stream",
     "text": [
      "[i] Pandas .iplot() method activated.\n"
     ]
    }
   ],
   "source": [
    "# Cohort package\n",
    "!pip install -U fsds_100719\n",
    "from fsds_100719.imports import *"
   ]
  },
  {
   "cell_type": "code",
   "execution_count": 2,
   "metadata": {
    "ExecuteTime": {
     "end_time": "2020-03-04T03:12:10.114165Z",
     "start_time": "2020-03-04T03:12:10.112253Z"
    }
   },
   "outputs": [],
   "source": [
    "# Imports needed for this notebook\n",
    "import numpy as np"
   ]
  },
  {
   "cell_type": "markdown",
   "metadata": {},
   "source": [
    "# What & Why of Linear Algebra"
   ]
  },
  {
   "cell_type": "markdown",
   "metadata": {},
   "source": [
    "\n",
    "### Why Linear Algebra?\n",
    "\n",
    "> Linear algebra is the branch of mathematics concerning vector spaces and linear relationships between such spaces. It includes the study of lines, planes, and subspaces, but is also concerned with properties common to all vector spaces.\n",
    "\n",
    "- Study of \"vector spaces\"; relationship of **linear** relationships\n",
    "- Uses vectors, matrices, and tensors\n",
    "- Mapping & dimensionality (PCA)\n",
    "- Used in lots of ML applications"
   ]
  },
  {
   "cell_type": "markdown",
   "metadata": {},
   "source": [
    "We'll try to put abstract ideas into the formalism of linear algebra\n",
    " - images/pixels\n",
    " - language (NLP)"
   ]
  },
  {
   "cell_type": "markdown",
   "metadata": {},
   "source": [
    "# Different Tensors"
   ]
  },
  {
   "cell_type": "markdown",
   "metadata": {},
   "source": [
    "## Scalars, Vectors, Matrices: It's all about the dimension"
   ]
  },
  {
   "cell_type": "code",
   "execution_count": 4,
   "metadata": {
    "ExecuteTime": {
     "end_time": "2020-03-04T03:12:49.015985Z",
     "start_time": "2020-03-04T03:12:49.010894Z"
    }
   },
   "outputs": [
    {
     "data": {
      "text/plain": [
       "['jmi_poster_fig1.png',\n",
       " 'jmi_poster_fig2.png',\n",
       " 'flatiron-building-glitter.jpeg',\n",
       " 'jmi_fig1.png',\n",
       " 'robinson-berridge-fig1.jpg',\n",
       " 'index_jmi_files',\n",
       " 'switch_curric_button.png',\n",
       " 'jmi_poster_preds1.png',\n",
       " 'curric_as_mods.png',\n",
       " 'opto_6steps.jpg',\n",
       " 'bias_variance_optimize.png']"
      ]
     },
     "execution_count": 4,
     "metadata": {},
     "output_type": "execute_result"
    }
   ],
   "source": [
    "import os\n",
    "os.listdir('Images/')"
   ]
  },
  {
   "cell_type": "markdown",
   "metadata": {},
   "source": [
    "![images/different_tensors.png](https://raw.githubusercontent.com/jirvingphd/flatiron-school-data-science-curriculum-resources/master/Mathematics/LinearAlgebra/images/different_tensors.png)"
   ]
  },
  {
   "cell_type": "markdown",
   "metadata": {},
   "source": [
    "## Creating with NumPy"
   ]
  },
  {
   "cell_type": "code",
   "execution_count": 2,
   "metadata": {
    "ExecuteTime": {
     "end_time": "2019-10-16T15:21:21.380622Z",
     "start_time": "2019-10-16T15:21:21.371905Z"
    }
   },
   "outputs": [
    {
     "data": {
      "text/plain": [
       "array([0])"
      ]
     },
     "metadata": {},
     "output_type": "display_data"
    }
   ],
   "source": [
    "# Scalar\n",
    "s = np.arange(1)\n",
    "display(s)"
   ]
  },
  {
   "cell_type": "code",
   "execution_count": 4,
   "metadata": {
    "ExecuteTime": {
     "end_time": "2019-10-16T15:21:21.387284Z",
     "start_time": "2019-10-16T15:21:21.382214Z"
    }
   },
   "outputs": [
    {
     "data": {
      "text/plain": [
       "array([0, 1, 2, 3])"
      ]
     },
     "metadata": {},
     "output_type": "display_data"
    },
    {
     "name": "stdout",
     "output_type": "stream",
     "text": [
      "[0 1 2 3]\n"
     ]
    },
    {
     "data": {
      "text/plain": [
       "array([-3.14159265, -2.44346095, -1.74532925, -1.04719755, -0.34906585,\n",
       "        0.34906585,  1.04719755,  1.74532925,  2.44346095,  3.14159265])"
      ]
     },
     "metadata": {},
     "output_type": "display_data"
    }
   ],
   "source": [
    "# Vector\n",
    "v = np.arange(4)\n",
    "display(v)\n",
    "# print(v)\n",
    "\n",
    "# Other ways to define vector\n",
    "x = np.linspace(-np.pi, np.pi, 10)\n",
    "display(x)"
   ]
  },
  {
   "cell_type": "code",
   "execution_count": 7,
   "metadata": {
    "ExecuteTime": {
     "end_time": "2019-10-16T15:21:21.392587Z",
     "start_time": "2019-10-16T15:21:21.388923Z"
    }
   },
   "outputs": [
    {
     "data": {
      "text/plain": [
       "array([0, 1, 2, 3, 4, 5, 6, 7])"
      ]
     },
     "metadata": {},
     "output_type": "display_data"
    },
    {
     "data": {
      "text/plain": [
       "array([[0, 1],\n",
       "       [2, 3],\n",
       "       [4, 5],\n",
       "       [6, 7]])"
      ]
     },
     "metadata": {},
     "output_type": "display_data"
    },
    {
     "name": "stdout",
     "output_type": "stream",
     "text": [
      "[[0 1]\n",
      " [2 3]\n",
      " [4 5]\n",
      " [6 7]]\n"
     ]
    }
   ],
   "source": [
    "# Matrix\n",
    "M0 = np.arange(4 * 2)\n",
    "display(M0)\n",
    "M = np.arange(4 * 2).reshape((4, 2))\n",
    "display(M)\n",
    "print(M)"
   ]
  },
  {
   "cell_type": "code",
   "execution_count": 8,
   "metadata": {
    "ExecuteTime": {
     "end_time": "2019-10-16T15:21:21.397895Z",
     "start_time": "2019-10-16T15:21:21.394636Z"
    }
   },
   "outputs": [
    {
     "data": {
      "text/plain": [
       "array([[[ 0,  1,  2],\n",
       "        [ 3,  4,  5]],\n",
       "\n",
       "       [[ 6,  7,  8],\n",
       "        [ 9, 10, 11]],\n",
       "\n",
       "       [[12, 13, 14],\n",
       "        [15, 16, 17]],\n",
       "\n",
       "       [[18, 19, 20],\n",
       "        [21, 22, 23]]])"
      ]
     },
     "metadata": {},
     "output_type": "display_data"
    }
   ],
   "source": [
    "# 3D Tensor\n",
    "T_3d = np.arange(4 * 2 * 3).reshape((4, 2, 3))\n",
    "display(T_3d)"
   ]
  },
  {
   "cell_type": "markdown",
   "metadata": {
    "ExecuteTime": {
     "end_time": "2020-03-04T03:18:26.533655Z",
     "start_time": "2020-03-04T03:18:26.530294Z"
    }
   },
   "source": [
    "<img src='https://raw.githubusercontent.com/jirvingphd/dsc-lingalg-motivation-online-ds-pt-100719/master/images/rgb.png' width=40%>"
   ]
  },
  {
   "cell_type": "code",
   "execution_count": 8,
   "metadata": {
    "ExecuteTime": {
     "end_time": "2020-03-04T03:21:16.282310Z",
     "start_time": "2020-03-04T03:21:16.278350Z"
    }
   },
   "outputs": [
    {
     "data": {
      "text/plain": [
       "['jmi_poster_fig1.png',\n",
       " 'jmi_poster_fig2.png',\n",
       " 'flatiron-building-glitter.jpeg',\n",
       " 'jmi_fig1.png',\n",
       " 'robinson-berridge-fig1.jpg',\n",
       " 'index_jmi_files',\n",
       " 'switch_curric_button.png',\n",
       " 'jmi_poster_preds1.png',\n",
       " 'curric_as_mods.png',\n",
       " 'opto_6steps.jpg',\n",
       " 'bias_variance_optimize.png']"
      ]
     },
     "execution_count": 8,
     "metadata": {},
     "output_type": "execute_result"
    }
   ],
   "source": [
    "import os,glob\n",
    "os.listdir('Images/')"
   ]
  },
  {
   "cell_type": "code",
   "execution_count": 40,
   "metadata": {
    "ExecuteTime": {
     "end_time": "2020-03-04T03:32:12.528931Z",
     "start_time": "2020-03-04T03:32:12.526919Z"
    }
   },
   "outputs": [],
   "source": [
    "from fsds_100719.imports import *"
   ]
  },
  {
   "cell_type": "code",
   "execution_count": 42,
   "metadata": {
    "ExecuteTime": {
     "end_time": "2020-03-04T03:32:41.160130Z",
     "start_time": "2020-03-04T03:32:40.987531Z"
    }
   },
   "outputs": [],
   "source": [
    "import cv2\n",
    "img = 'Images/flatiron-building-glitter.jpeg'\n",
    "# IMG = cv2.imread(img)\n",
    "# IMG = cv2.cvtColor(IMG, cv2.COLOR_BGR2RGB)\n",
    "\n",
    "IMG =mpl.image.imread(img)"
   ]
  },
  {
   "cell_type": "code",
   "execution_count": 43,
   "metadata": {
    "ExecuteTime": {
     "end_time": "2020-03-04T03:32:42.749447Z",
     "start_time": "2020-03-04T03:32:42.289010Z"
    }
   },
   "outputs": [
    {
     "data": {
      "text/plain": [
       "(-0.5, 2299.5, 3424.5, -0.5)"
      ]
     },
     "execution_count": 43,
     "metadata": {},
     "output_type": "execute_result"
    },
    {
     "data": {
      "image/png": "[encoded data removed]",
      "text/plain": [
       "<Figure size 432x288 with 1 Axes>"
      ]
     },
     "metadata": {
      "needs_background": "light"
     },
     "output_type": "display_data"
    }
   ],
   "source": [
    "plt.imshow(IMG)\n",
    "plt.axis('off')"
   ]
  },
  {
   "cell_type": "code",
   "execution_count": 44,
   "metadata": {
    "ExecuteTime": {
     "end_time": "2020-03-04T03:32:43.515639Z",
     "start_time": "2020-03-04T03:32:43.512392Z"
    }
   },
   "outputs": [
    {
     "data": {
      "text/plain": [
       "(3425, 2300, 3)"
      ]
     },
     "execution_count": 44,
     "metadata": {},
     "output_type": "execute_result"
    }
   ],
   "source": [
    "IMG.shape"
   ]
  },
  {
   "cell_type": "code",
   "execution_count": 51,
   "metadata": {
    "ExecuteTime": {
     "end_time": "2020-03-04T03:33:21.754001Z",
     "start_time": "2020-03-04T03:33:20.881937Z"
    }
   },
   "outputs": [
    {
     "data": {
      "text/plain": [
       "[(-0.5, 2299.5, 3424.5, -0.5),\n",
       " (-0.5, 2299.5, 3424.5, -0.5),\n",
       " (-0.5, 2299.5, 3424.5, -0.5),\n",
       " (-0.5, 2299.5, 3424.5, -0.5)]"
      ]
     },
     "execution_count": 51,
     "metadata": {},
     "output_type": "execute_result"
    },
    {
     "data": {
      "image/png": "[encoded data removed]",
      "text/plain": [
       "<Figure size 576x720 with 4 Axes>"
      ]
     },
     "metadata": {
      "needs_background": "light"
     },
     "output_type": "display_data"
    }
   ],
   "source": [
    "fig, ax = plt.subplots(ncols=4,figsize=(8,10))\n",
    "ax[0].imshow(IMG)\n",
    "ax[1].imshow(IMG[:,:,0],cmap= 'Reds')\n",
    "ax[2].imshow(IMG[:,:,1],cmap='Greens')\n",
    "ax[3].imshow(IMG[:,:,2],cmap='Blues')\n",
    "\n",
    "[a.axis('off') for a in ax]"
   ]
  },
  {
   "cell_type": "code",
   "execution_count": 39,
   "metadata": {
    "ExecuteTime": {
     "end_time": "2020-03-04T03:31:06.817427Z",
     "start_time": "2020-03-04T03:31:06.394035Z"
    }
   },
   "outputs": [
    {
     "data": {
      "text/plain": [
       "<matplotlib.image.AxesImage at 0x1c2deefcc0>"
      ]
     },
     "execution_count": 39,
     "metadata": {},
     "output_type": "execute_result"
    },
    {
     "data": {
      "image/png": "[encoded data removed]",
      "text/plain": [
       "<Figure size 432x288 with 1 Axes>"
      ]
     },
     "metadata": {
      "needs_background": "light"
     },
     "output_type": "display_data"
    }
   ],
   "source": [
    "plt.imshow(IMG[:,:,0],cmap='gray')"
   ]
  },
  {
   "cell_type": "markdown",
   "metadata": {},
   "source": [
    "### Indexing with NumPy"
   ]
  },
  {
   "cell_type": "markdown",
   "metadata": {},
   "source": [
    "#### Different parts of a vector"
   ]
  },
  {
   "cell_type": "code",
   "execution_count": 9,
   "metadata": {
    "ExecuteTime": {
     "end_time": "2019-10-16T15:21:21.407147Z",
     "start_time": "2019-10-16T15:21:21.399748Z"
    }
   },
   "outputs": [
    {
     "data": {
      "text/plain": [
       "array([1, 2, 3])"
      ]
     },
     "metadata": {},
     "output_type": "display_data"
    },
    {
     "data": {
      "text/plain": [
       "array([0, 2])"
      ]
     },
     "metadata": {},
     "output_type": "display_data"
    },
    {
     "data": {
      "text/plain": [
       "array([0, 1, 2, 3])"
      ]
     },
     "metadata": {},
     "output_type": "display_data"
    },
    {
     "data": {
      "text/plain": [
       "array([3, 2, 1, 0])"
      ]
     },
     "metadata": {},
     "output_type": "display_data"
    }
   ],
   "source": [
    "# For Vectors\n",
    "display(v[1:4])  # second to fourth element. Element 5 is not included\n",
    "display(v[::2])  # every other element\n",
    "display(v[:])    # print the whole vector\n",
    "display(v[::-1]) # reverse the vector!"
   ]
  },
  {
   "cell_type": "markdown",
   "metadata": {},
   "source": [
    "#### Different parts of a matrix"
   ]
  },
  {
   "cell_type": "code",
   "execution_count": 11,
   "metadata": {},
   "outputs": [
    {
     "data": {
      "text/plain": [
       "array([[0, 1],\n",
       "       [2, 3],\n",
       "       [4, 5],\n",
       "       [6, 7]])"
      ]
     },
     "metadata": {},
     "output_type": "display_data"
    }
   ],
   "source": [
    "display(M)"
   ]
  },
  {
   "cell_type": "code",
   "execution_count": 10,
   "metadata": {
    "ExecuteTime": {
     "end_time": "2019-10-16T15:21:53.929360Z",
     "start_time": "2019-10-16T15:21:53.925928Z"
    }
   },
   "outputs": [
    {
     "data": {
      "text/plain": [
       "0"
      ]
     },
     "metadata": {},
     "output_type": "display_data"
    }
   ],
   "source": [
    "display(M[0, 0])   # element at first row and first column"
   ]
  },
  {
   "cell_type": "code",
   "execution_count": 12,
   "metadata": {
    "ExecuteTime": {
     "end_time": "2019-10-16T15:21:54.489263Z",
     "start_time": "2019-10-16T15:21:54.484756Z"
    }
   },
   "outputs": [
    {
     "data": {
      "text/plain": [
       "7"
      ]
     },
     "metadata": {},
     "output_type": "display_data"
    }
   ],
   "source": [
    "display(M[-1, -1]) # elemenet last row and last column "
   ]
  },
  {
   "cell_type": "code",
   "execution_count": 13,
   "metadata": {
    "ExecuteTime": {
     "end_time": "2019-10-16T15:21:56.104738Z",
     "start_time": "2019-10-16T15:21:56.100969Z"
    }
   },
   "outputs": [
    {
     "data": {
      "text/plain": [
       "array([0, 1])"
      ]
     },
     "metadata": {},
     "output_type": "display_data"
    }
   ],
   "source": [
    "display(M[0, :])   # first row and all columns"
   ]
  },
  {
   "cell_type": "code",
   "execution_count": 14,
   "metadata": {
    "ExecuteTime": {
     "end_time": "2019-10-16T15:22:05.427391Z",
     "start_time": "2019-10-16T15:22:05.424350Z"
    }
   },
   "outputs": [
    {
     "data": {
      "text/plain": [
       "array([0, 2, 4, 6])"
      ]
     },
     "metadata": {},
     "output_type": "display_data"
    }
   ],
   "source": [
    "display(M[:, 0])   # all rows and first column "
   ]
  },
  {
   "cell_type": "code",
   "execution_count": 15,
   "metadata": {
    "ExecuteTime": {
     "end_time": "2019-10-16T15:22:10.021962Z",
     "start_time": "2019-10-16T15:22:10.017942Z"
    }
   },
   "outputs": [
    {
     "data": {
      "text/plain": [
       "array([[0, 1],\n",
       "       [2, 3],\n",
       "       [4, 5],\n",
       "       [6, 7]])"
      ]
     },
     "metadata": {},
     "output_type": "display_data"
    }
   ],
   "source": [
    "display(M[:])      # all rows and all columns"
   ]
  },
  {
   "cell_type": "markdown",
   "metadata": {},
   "source": [
    "#### Different parts of a tensor"
   ]
  },
  {
   "cell_type": "code",
   "execution_count": 19,
   "metadata": {},
   "outputs": [
    {
     "data": {
      "text/plain": [
       "array([[[ 0,  1,  2],\n",
       "        [ 3,  4,  5]],\n",
       "\n",
       "       [[ 6,  7,  8],\n",
       "        [ 9, 10, 11]],\n",
       "\n",
       "       [[12, 13, 14],\n",
       "        [15, 16, 17]],\n",
       "\n",
       "       [[18, 19, 20],\n",
       "        [21, 22, 23]]])"
      ]
     },
     "metadata": {},
     "output_type": "display_data"
    }
   ],
   "source": [
    "display(T_3d)"
   ]
  },
  {
   "cell_type": "code",
   "execution_count": 16,
   "metadata": {
    "ExecuteTime": {
     "end_time": "2019-10-16T15:21:21.430604Z",
     "start_time": "2019-10-16T15:21:21.427554Z"
    }
   },
   "outputs": [
    {
     "name": "stdout",
     "output_type": "stream",
     "text": [
      "[[0 1 2]\n",
      " [3 4 5]]\n"
     ]
    }
   ],
   "source": [
    "print(T_3d[0])      # 2D: First matrix"
   ]
  },
  {
   "cell_type": "code",
   "execution_count": null,
   "metadata": {},
   "outputs": [],
   "source": []
  },
  {
   "cell_type": "code",
   "execution_count": 20,
   "metadata": {
    "ExecuteTime": {
     "end_time": "2019-10-16T15:21:21.430604Z",
     "start_time": "2019-10-16T15:21:21.427554Z"
    }
   },
   "outputs": [
    {
     "name": "stdout",
     "output_type": "stream",
     "text": [
      "[0 1 2]\n"
     ]
    }
   ],
   "source": [
    "print(T_3d[0, 0])   # 1D: First matrix's first vector"
   ]
  },
  {
   "cell_type": "code",
   "execution_count": 21,
   "metadata": {
    "ExecuteTime": {
     "end_time": "2019-10-16T15:21:21.430604Z",
     "start_time": "2019-10-16T15:21:21.427554Z"
    }
   },
   "outputs": [
    {
     "name": "stdout",
     "output_type": "stream",
     "text": [
      "0\n"
     ]
    }
   ],
   "source": [
    "print(T_3d[0,0, 0]) # 0D: First matrix's first vector's first element"
   ]
  },
  {
   "cell_type": "code",
   "execution_count": 22,
   "metadata": {
    "ExecuteTime": {
     "end_time": "2019-10-16T15:21:21.436755Z",
     "start_time": "2019-10-16T15:21:21.432883Z"
    }
   },
   "outputs": [
    {
     "name": "stdout",
     "output_type": "stream",
     "text": [
      "[0 1 2]\n"
     ]
    }
   ],
   "source": [
    "print(T_3d[0, 0, :])  # 1D: first matrix, first vector, all elements"
   ]
  },
  {
   "cell_type": "code",
   "execution_count": 25,
   "metadata": {},
   "outputs": [
    {
     "data": {
      "text/plain": [
       "array([[[ 0,  1,  2],\n",
       "        [ 3,  4,  5]],\n",
       "\n",
       "       [[ 6,  7,  8],\n",
       "        [ 9, 10, 11]],\n",
       "\n",
       "       [[12, 13, 14],\n",
       "        [15, 16, 17]],\n",
       "\n",
       "       [[18, 19, 20],\n",
       "        [21, 22, 23]]])"
      ]
     },
     "metadata": {},
     "output_type": "display_data"
    }
   ],
   "source": [
    "display(T_3d)"
   ]
  },
  {
   "cell_type": "code",
   "execution_count": 23,
   "metadata": {
    "ExecuteTime": {
     "end_time": "2019-10-16T15:21:21.440823Z",
     "start_time": "2019-10-16T15:21:21.437945Z"
    }
   },
   "outputs": [
    {
     "name": "stdout",
     "output_type": "stream",
     "text": [
      "[0 3]\n"
     ]
    }
   ],
   "source": [
    "print(T_3d[0, :, 0])  # 1D: first matrix, all the vectors, just the fist element"
   ]
  },
  {
   "cell_type": "code",
   "execution_count": 24,
   "metadata": {
    "ExecuteTime": {
     "end_time": "2019-10-16T15:21:21.444909Z",
     "start_time": "2019-10-16T15:21:21.442659Z"
    }
   },
   "outputs": [
    {
     "name": "stdout",
     "output_type": "stream",
     "text": [
      "[[1 2]\n",
      " [4 5]]\n"
     ]
    }
   ],
   "source": [
    "print(T_3d[0, :, 1:]) # 1D: first matrix, all the vectors, all elements after the first"
   ]
  },
  {
   "cell_type": "markdown",
   "metadata": {},
   "source": [
    "# Basic Properties"
   ]
  },
  {
   "cell_type": "markdown",
   "metadata": {},
   "source": [
    "## Shape\n",
    "\n",
    "Can help us know the dimensions and size"
   ]
  },
  {
   "cell_type": "code",
   "execution_count": 27,
   "metadata": {
    "ExecuteTime": {
     "end_time": "2019-10-16T15:22:53.144222Z",
     "start_time": "2019-10-16T15:22:53.138488Z"
    }
   },
   "outputs": [
    {
     "name": "stdout",
     "output_type": "stream",
     "text": [
      "Scalar:\n",
      "100\n"
     ]
    },
    {
     "data": {
      "text/plain": [
       "()"
      ]
     },
     "metadata": {},
     "output_type": "display_data"
    },
    {
     "data": {
      "text/plain": [
       "1"
      ]
     },
     "metadata": {},
     "output_type": "display_data"
    }
   ],
   "source": [
    "print('Scalar:')\n",
    "s = np.array(100)\n",
    "print(s)\n",
    "display(s.shape)\n",
    "display(s.size)"
   ]
  },
  {
   "cell_type": "code",
   "execution_count": 28,
   "metadata": {
    "ExecuteTime": {
     "end_time": "2019-10-16T15:23:04.680486Z",
     "start_time": "2019-10-16T15:23:04.674597Z"
    }
   },
   "outputs": [
    {
     "name": "stdout",
     "output_type": "stream",
     "text": [
      "Vector:\n",
      "[0 1 2 3]\n"
     ]
    },
    {
     "data": {
      "text/plain": [
       "(4,)"
      ]
     },
     "metadata": {},
     "output_type": "display_data"
    },
    {
     "data": {
      "text/plain": [
       "4"
      ]
     },
     "metadata": {},
     "output_type": "display_data"
    }
   ],
   "source": [
    "print('Vector:')\n",
    "print(v)\n",
    "display(v.shape)\n",
    "display(v.size)"
   ]
  },
  {
   "cell_type": "code",
   "execution_count": 31,
   "metadata": {
    "ExecuteTime": {
     "end_time": "2019-10-16T15:21:21.464503Z",
     "start_time": "2019-10-16T15:21:21.460332Z"
    }
   },
   "outputs": [
    {
     "name": "stdout",
     "output_type": "stream",
     "text": [
      "Matrix:\n",
      "[[0 1]\n",
      " [2 3]\n",
      " [4 5]\n",
      " [6 7]]\n"
     ]
    },
    {
     "data": {
      "text/plain": [
       "(4, 2)"
      ]
     },
     "metadata": {},
     "output_type": "display_data"
    },
    {
     "data": {
      "text/plain": [
       "8"
      ]
     },
     "metadata": {},
     "output_type": "display_data"
    }
   ],
   "source": [
    "print('Matrix:')\n",
    "print(M)\n",
    "display(M.shape)\n",
    "display(M.size)"
   ]
  },
  {
   "cell_type": "code",
   "execution_count": 32,
   "metadata": {
    "ExecuteTime": {
     "end_time": "2019-10-16T15:21:21.471780Z",
     "start_time": "2019-10-16T15:21:21.466891Z"
    }
   },
   "outputs": [
    {
     "name": "stdout",
     "output_type": "stream",
     "text": [
      "3D Tensor:\n",
      "[[[ 0  1  2]\n",
      "  [ 3  4  5]]\n",
      "\n",
      " [[ 6  7  8]\n",
      "  [ 9 10 11]]\n",
      "\n",
      " [[12 13 14]\n",
      "  [15 16 17]]\n",
      "\n",
      " [[18 19 20]\n",
      "  [21 22 23]]]\n"
     ]
    },
    {
     "data": {
      "text/plain": [
       "(4, 2, 3)"
      ]
     },
     "metadata": {},
     "output_type": "display_data"
    },
    {
     "data": {
      "text/plain": [
       "24"
      ]
     },
     "metadata": {},
     "output_type": "display_data"
    }
   ],
   "source": [
    "print('3D Tensor:')\n",
    "print(T_3d)\n",
    "display(T_3d.shape)\n",
    "display(T_3d.size)"
   ]
  },
  {
   "cell_type": "markdown",
   "metadata": {},
   "source": [
    "## Transpose"
   ]
  },
  {
   "cell_type": "markdown",
   "metadata": {},
   "source": [
    "![transpose_tensors.png](https://raw.githubusercontent.com/jirvingphd/flatiron-school-data-science-curriculum-resources/master/Mathematics/LinearAlgebra/images/transpose_tensors.png)"
   ]
  },
  {
   "cell_type": "code",
   "execution_count": 33,
   "metadata": {
    "ExecuteTime": {
     "end_time": "2019-10-16T15:21:21.480646Z",
     "start_time": "2019-10-16T15:21:21.473815Z"
    }
   },
   "outputs": [
    {
     "data": {
      "text/plain": [
       "(4, 2)"
      ]
     },
     "metadata": {},
     "output_type": "display_data"
    },
    {
     "name": "stdout",
     "output_type": "stream",
     "text": [
      "[[0 1]\n",
      " [2 3]\n",
      " [4 5]\n",
      " [6 7]]\n"
     ]
    },
    {
     "data": {
      "text/plain": [
       "(2, 4)"
      ]
     },
     "metadata": {},
     "output_type": "display_data"
    },
    {
     "name": "stdout",
     "output_type": "stream",
     "text": [
      "[[0 2 4 6]\n",
      " [1 3 5 7]]\n"
     ]
    }
   ],
   "source": [
    "display(M.shape)\n",
    "print(M)\n",
    "\n",
    "display(M.T.shape)\n",
    "# Alternative to: M.T\n",
    "print(np.transpose(M))"
   ]
  },
  {
   "cell_type": "code",
   "execution_count": 35,
   "metadata": {
    "ExecuteTime": {
     "end_time": "2019-10-16T15:21:21.489042Z",
     "start_time": "2019-10-16T15:21:21.481906Z"
    }
   },
   "outputs": [
    {
     "data": {
      "text/plain": [
       "(4, 2, 3)"
      ]
     },
     "metadata": {},
     "output_type": "display_data"
    },
    {
     "name": "stdout",
     "output_type": "stream",
     "text": [
      "[[[ 0  1  2]\n",
      "  [ 3  4  5]]\n",
      "\n",
      " [[ 6  7  8]\n",
      "  [ 9 10 11]]\n",
      "\n",
      " [[12 13 14]\n",
      "  [15 16 17]]\n",
      "\n",
      " [[18 19 20]\n",
      "  [21 22 23]]]\n"
     ]
    },
    {
     "data": {
      "text/plain": [
       "(3, 2, 4)"
      ]
     },
     "metadata": {},
     "output_type": "display_data"
    },
    {
     "name": "stdout",
     "output_type": "stream",
     "text": [
      "[[[ 0  6 12 18]\n",
      "  [ 3  9 15 21]]\n",
      "\n",
      " [[ 1  7 13 19]\n",
      "  [ 4 10 16 22]]\n",
      "\n",
      " [[ 2  8 14 20]\n",
      "  [ 5 11 17 23]]]\n"
     ]
    },
    {
     "data": {
      "text/plain": [
       "(4, 2, 3)"
      ]
     },
     "metadata": {},
     "output_type": "display_data"
    },
    {
     "name": "stdout",
     "output_type": "stream",
     "text": [
      "[[[ 0  1  2]\n",
      "  [ 3  4  5]]\n",
      "\n",
      " [[ 6  7  8]\n",
      "  [ 9 10 11]]\n",
      "\n",
      " [[12 13 14]\n",
      "  [15 16 17]]\n",
      "\n",
      " [[18 19 20]\n",
      "  [21 22 23]]]\n"
     ]
    }
   ],
   "source": [
    "display(T_3d.shape)\n",
    "print(T_3d)\n",
    "\n",
    "display(T_3d.T.shape)\n",
    "print(T_3d.T)\n",
    "\n",
    "display(T_3d.T.T.shape)\n",
    "print(T_3d.T.T)"
   ]
  },
  {
   "cell_type": "code",
   "execution_count": 36,
   "metadata": {
    "ExecuteTime": {
     "end_time": "2019-10-16T15:27:50.163109Z",
     "start_time": "2019-10-16T15:27:50.016805Z"
    }
   },
   "outputs": [],
   "source": [
    "# Imports for this notebook\n",
    "import numpy as np"
   ]
  },
  {
   "cell_type": "markdown",
   "metadata": {},
   "source": [
    "# Combining Tensors"
   ]
  },
  {
   "cell_type": "markdown",
   "metadata": {},
   "source": [
    "> Note: NumPy is pretty smart when you combine tensors; it will attempt to combine even if the dimensions don't match. This is called broadcasting & you can read about it in the documentation (https://docs.scipy.org/doc/numpy/user/basics.broadcasting.html)[https://docs.scipy.org/doc/numpy/user/basics.broadcasting.html]."
   ]
  },
  {
   "cell_type": "code",
   "execution_count": 37,
   "metadata": {
    "ExecuteTime": {
     "end_time": "2019-10-16T15:27:50.168677Z",
     "start_time": "2019-10-16T15:27:50.165457Z"
    }
   },
   "outputs": [
    {
     "name": "stdout",
     "output_type": "stream",
     "text": [
      "A:\n",
      " [[0 1]\n",
      " [2 3]\n",
      " [4 5]]\n",
      "\n",
      "B:\n",
      " [[ 0 10]\n",
      " [20 30]\n",
      " [40 50]]\n"
     ]
    }
   ],
   "source": [
    "A = np.arange(3*2).reshape(3,2)\n",
    "B = 10 * np.arange(3*2).reshape(3,2)\n",
    "\n",
    "print('A:\\n', A)\n",
    "print()\n",
    "print('B:\\n', B)"
   ]
  },
  {
   "cell_type": "markdown",
   "metadata": {},
   "source": [
    "## Addition"
   ]
  },
  {
   "cell_type": "code",
   "execution_count": 38,
   "metadata": {
    "ExecuteTime": {
     "end_time": "2019-10-16T15:27:50.173727Z",
     "start_time": "2019-10-16T15:27:50.170704Z"
    }
   },
   "outputs": [
    {
     "name": "stdout",
     "output_type": "stream",
     "text": [
      "A:\n",
      " [[0 1]\n",
      " [2 3]\n",
      " [4 5]]\n",
      "\n",
      "B:\n",
      " [[ 0 10]\n",
      " [20 30]\n",
      " [40 50]]\n"
     ]
    }
   ],
   "source": [
    "A = np.arange(3*2).reshape(3,2)\n",
    "B = 10 * np.arange(3*2).reshape(3,2)\n",
    "\n",
    "print('A:\\n', A)\n",
    "print()\n",
    "print('B:\\n', B)"
   ]
  },
  {
   "cell_type": "code",
   "execution_count": 39,
   "metadata": {
    "ExecuteTime": {
     "end_time": "2019-10-16T15:27:50.184762Z",
     "start_time": "2019-10-16T15:27:50.175965Z"
    }
   },
   "outputs": [
    {
     "data": {
      "text/plain": [
       "array([[ 0, 11],\n",
       "       [22, 33],\n",
       "       [44, 55]])"
      ]
     },
     "execution_count": 39,
     "metadata": {},
     "output_type": "execute_result"
    }
   ],
   "source": [
    "# We can add up the same dimensions! (elementwise)\n",
    "A + B"
   ]
  },
  {
   "cell_type": "code",
   "execution_count": 40,
   "metadata": {
    "ExecuteTime": {
     "end_time": "2019-10-16T15:27:50.189481Z",
     "start_time": "2019-10-16T15:27:50.186636Z"
    }
   },
   "outputs": [
    {
     "data": {
      "text/plain": [
       "array([[100, 101],\n",
       "       [102, 103],\n",
       "       [104, 105]])"
      ]
     },
     "execution_count": 40,
     "metadata": {},
     "output_type": "execute_result"
    }
   ],
   "source": [
    "# Broadcasting: We can even add scalars to the whole array (as you might expect)\n",
    "A + 100"
   ]
  },
  {
   "cell_type": "markdown",
   "metadata": {},
   "source": [
    "## What happens when we have different dimensions? Broadcasting happens"
   ]
  },
  {
   "cell_type": "code",
   "execution_count": 43,
   "metadata": {
    "ExecuteTime": {
     "end_time": "2019-10-16T15:27:50.194805Z",
     "start_time": "2019-10-16T15:27:50.191507Z"
    },
    "scrolled": true
   },
   "outputs": [
    {
     "name": "stdout",
     "output_type": "stream",
     "text": [
      "[  0 100]\n",
      "Size: (2,)\n",
      "\n",
      "[[0 1]\n",
      " [2 3]\n",
      " [4 5]]\n",
      "\n",
      "[[  0 101]\n",
      " [  2 103]\n",
      " [  4 105]]\n"
     ]
    }
   ],
   "source": [
    "# 3-by-2 add 1-by-2\n",
    "x = 100*np.arange(2).reshape(2)\n",
    "print(x)\n",
    "print('Size:',x.shape)\n",
    "print()\n",
    "print(A)\n",
    "print()\n",
    "\n",
    "print(A + x)"
   ]
  },
  {
   "cell_type": "code",
   "execution_count": 46,
   "metadata": {
    "ExecuteTime": {
     "end_time": "2019-10-16T15:27:50.200776Z",
     "start_time": "2019-10-16T15:27:50.196875Z"
    }
   },
   "outputs": [
    {
     "name": "stdout",
     "output_type": "stream",
     "text": [
      "[[0 1]\n",
      " [2 3]\n",
      " [4 5]]\n",
      "\n",
      "[[  0 100]\n",
      " [200 300]\n",
      " [400 500]]\n",
      "Size: (3, 2)\n",
      "\n",
      "[[  0 101]\n",
      " [202 303]\n",
      " [404 505]]\n"
     ]
    }
   ],
   "source": [
    "# 3-by-2 add 3-by-2\n",
    "print(A)\n",
    "print()\n",
    "x = 100*np.arange(3*2).reshape(3,2)\n",
    "print(x)\n",
    "print('Size:',x.shape)\n",
    "print()\n",
    "print(A + x)"
   ]
  },
  {
   "cell_type": "code",
   "execution_count": 48,
   "metadata": {
    "ExecuteTime": {
     "end_time": "2019-10-16T15:27:50.274305Z",
     "start_time": "2019-10-16T15:27:50.201925Z"
    },
    "scrolled": true
   },
   "outputs": [
    {
     "name": "stdout",
     "output_type": "stream",
     "text": [
      "[[  0 100 200]\n",
      " [300 400 500]]\n",
      "Size: (2, 3)\n",
      "\n"
     ]
    },
    {
     "ename": "ValueError",
     "evalue": "operands could not be broadcast together with shapes (3,2) (2,3) ",
     "output_type": "error",
     "traceback": [
      "\u001b[0;31m---------------------------------------------------------------------------\u001b[0m",
      "\u001b[0;31mValueError\u001b[0m                                Traceback (most recent call last)",
      "\u001b[0;32m<ipython-input-48-975902721f51>\u001b[0m in \u001b[0;36m<module>\u001b[0;34m\u001b[0m\n\u001b[1;32m      4\u001b[0m \u001b[0mprint\u001b[0m\u001b[0;34m(\u001b[0m\u001b[0;34m'Size:'\u001b[0m\u001b[0;34m,\u001b[0m\u001b[0mx\u001b[0m\u001b[0;34m.\u001b[0m\u001b[0mshape\u001b[0m\u001b[0;34m)\u001b[0m\u001b[0;34m\u001b[0m\u001b[0;34m\u001b[0m\u001b[0m\n\u001b[1;32m      5\u001b[0m \u001b[0mprint\u001b[0m\u001b[0;34m(\u001b[0m\u001b[0;34m)\u001b[0m\u001b[0;34m\u001b[0m\u001b[0;34m\u001b[0m\u001b[0m\n\u001b[0;32m----> 6\u001b[0;31m \u001b[0mprint\u001b[0m\u001b[0;34m(\u001b[0m\u001b[0mA\u001b[0m \u001b[0;34m+\u001b[0m \u001b[0mx\u001b[0m\u001b[0;34m)\u001b[0m\u001b[0;34m\u001b[0m\u001b[0;34m\u001b[0m\u001b[0m\n\u001b[0m",
      "\u001b[0;31mValueError\u001b[0m: operands could not be broadcast together with shapes (3,2) (2,3) "
     ]
    }
   ],
   "source": [
    "# 3-by-2 add 2-by-3 --> Will this work?\n",
    "x = 100*np.arange(2*3).reshape(2,3)\n",
    "print(x)\n",
    "print('Size:',x.shape)\n",
    "print()\n",
    "print(A + x)"
   ]
  },
  {
   "cell_type": "markdown",
   "metadata": {},
   "source": [
    "## Multiplication (Hadamard Product & Dot Product)"
   ]
  },
  {
   "cell_type": "markdown",
   "metadata": {},
   "source": [
    "### Hadamard Product"
   ]
  },
  {
   "cell_type": "markdown",
   "metadata": {},
   "source": [
    "Result: Same dimensions (after broadcasting)\n",
    "\n",
    "Like addition, but multiply the elements together. This however isn't very common."
   ]
  },
  {
   "cell_type": "code",
   "execution_count": 49,
   "metadata": {
    "ExecuteTime": {
     "end_time": "2019-10-16T15:28:37.970357Z",
     "start_time": "2019-10-16T15:28:37.966517Z"
    }
   },
   "outputs": [
    {
     "name": "stdout",
     "output_type": "stream",
     "text": [
      "A:\n",
      " (3, 2)\n",
      "[[0 1]\n",
      " [2 3]\n",
      " [4 5]]\n",
      "\n",
      "B:\n",
      " (3, 2)\n",
      "[[ 0 10]\n",
      " [20 30]\n",
      " [40 50]]\n"
     ]
    }
   ],
   "source": [
    "print('A:\\n', A.shape)\n",
    "print(A)\n",
    "print()\n",
    "print('B:\\n', B.shape)\n",
    "print(B)"
   ]
  },
  {
   "cell_type": "code",
   "execution_count": 50,
   "metadata": {
    "ExecuteTime": {
     "end_time": "2019-10-16T15:28:39.161905Z",
     "start_time": "2019-10-16T15:28:39.158750Z"
    }
   },
   "outputs": [
    {
     "name": "stdout",
     "output_type": "stream",
     "text": [
      "[[  0  10]\n",
      " [ 40  90]\n",
      " [160 250]]\n"
     ]
    }
   ],
   "source": [
    "print(A * B)"
   ]
  },
  {
   "cell_type": "code",
   "execution_count": 52,
   "metadata": {
    "ExecuteTime": {
     "end_time": "2019-10-16T15:28:40.891211Z",
     "start_time": "2019-10-16T15:28:40.887112Z"
    }
   },
   "outputs": [
    {
     "name": "stdout",
     "output_type": "stream",
     "text": [
      "[[0 1]\n",
      " [2 3]\n",
      " [4 5]]\n",
      "[  0 100]\n",
      "Size: (2,)\n",
      "\n",
      "[[  0 100]\n",
      " [  0 300]\n",
      " [  0 500]]\n"
     ]
    }
   ],
   "source": [
    "# 3-by-2 add 1-by-2\n",
    "print(A)\n",
    "x = 100*np.arange(2).reshape(2)\n",
    "print(x)\n",
    "print('Size:',x.shape)\n",
    "print()\n",
    "print(A * x)"
   ]
  },
  {
   "cell_type": "code",
   "execution_count": 54,
   "metadata": {
    "ExecuteTime": {
     "end_time": "2019-10-16T15:28:43.698500Z",
     "start_time": "2019-10-16T15:28:43.694494Z"
    }
   },
   "outputs": [
    {
     "name": "stdout",
     "output_type": "stream",
     "text": [
      "[[0 1]\n",
      " [2 3]\n",
      " [4 5]]\n",
      "[[  0 100]\n",
      " [200 300]\n",
      " [400 500]]\n",
      "Size: (3, 2)\n",
      "\n",
      "[[   0  100]\n",
      " [ 400  900]\n",
      " [1600 2500]]\n"
     ]
    }
   ],
   "source": [
    "# 3-by-2 add 3-by-2\n",
    "print(A)\n",
    "x = 100*np.arange(3*2).reshape(3,2)\n",
    "print(x)\n",
    "print('Size:',x.shape)\n",
    "print()\n",
    "print(A * x)"
   ]
  },
  {
   "cell_type": "code",
   "execution_count": 55,
   "metadata": {
    "ExecuteTime": {
     "end_time": "2019-10-16T15:28:45.205608Z",
     "start_time": "2019-10-16T15:28:45.196757Z"
    }
   },
   "outputs": [
    {
     "name": "stdout",
     "output_type": "stream",
     "text": [
      "[[0 1]\n",
      " [2 3]\n",
      " [4 5]]\n",
      "[[  0 100 200]\n",
      " [300 400 500]]\n",
      "Size: (2, 3)\n",
      "\n"
     ]
    },
    {
     "ename": "ValueError",
     "evalue": "operands could not be broadcast together with shapes (3,2) (2,3) ",
     "output_type": "error",
     "traceback": [
      "\u001b[0;31m---------------------------------------------------------------------------\u001b[0m",
      "\u001b[0;31mValueError\u001b[0m                                Traceback (most recent call last)",
      "\u001b[0;32m<ipython-input-55-8783a2f0886e>\u001b[0m in \u001b[0;36m<module>\u001b[0;34m\u001b[0m\n\u001b[1;32m      6\u001b[0m \u001b[0mprint\u001b[0m\u001b[0;34m(\u001b[0m\u001b[0;34m'Size:'\u001b[0m\u001b[0;34m,\u001b[0m\u001b[0mx\u001b[0m\u001b[0;34m.\u001b[0m\u001b[0mshape\u001b[0m\u001b[0;34m)\u001b[0m\u001b[0;34m\u001b[0m\u001b[0;34m\u001b[0m\u001b[0m\n\u001b[1;32m      7\u001b[0m \u001b[0mprint\u001b[0m\u001b[0;34m(\u001b[0m\u001b[0;34m)\u001b[0m\u001b[0;34m\u001b[0m\u001b[0;34m\u001b[0m\u001b[0m\n\u001b[0;32m----> 8\u001b[0;31m \u001b[0mprint\u001b[0m\u001b[0;34m(\u001b[0m\u001b[0mA\u001b[0m \u001b[0;34m*\u001b[0m \u001b[0mx\u001b[0m\u001b[0;34m)\u001b[0m\u001b[0;34m\u001b[0m\u001b[0;34m\u001b[0m\u001b[0m\n\u001b[0m",
      "\u001b[0;31mValueError\u001b[0m: operands could not be broadcast together with shapes (3,2) (2,3) "
     ]
    }
   ],
   "source": [
    "# 3-by-2 add 2-by-3 --> Will this work?\n",
    "print(A)\n",
    "\n",
    "x = x = 100*np.arange(3*2).reshape(2,3)\n",
    "print(x)\n",
    "print('Size:',x.shape)\n",
    "print()\n",
    "print(A * x)"
   ]
  },
  {
   "cell_type": "markdown",
   "metadata": {},
   "source": [
    "### Dot Product"
   ]
  },
  {
   "cell_type": "markdown",
   "metadata": {},
   "source": [
    "Result: (m-by-n) DOT (n-by-p) ==> (m-by-p)\n",
    "\n",
    "$$A \\cdot B = C$$\n",
    "\n",
    "Likely the most common operation when we think of \"multiplying\" matrices."
   ]
  },
  {
   "cell_type": "code",
   "execution_count": 56,
   "metadata": {
    "ExecuteTime": {
     "end_time": "2019-10-16T15:29:22.056815Z",
     "start_time": "2019-10-16T15:29:22.053440Z"
    }
   },
   "outputs": [
    {
     "name": "stdout",
     "output_type": "stream",
     "text": [
      "A:\n",
      " (3, 2)\n",
      "[[0 1]\n",
      " [2 3]\n",
      " [4 5]]\n",
      "\n"
     ]
    }
   ],
   "source": [
    "print('A:\\n', A.shape)\n",
    "print(A)\n",
    "print()"
   ]
  },
  {
   "cell_type": "code",
   "execution_count": 57,
   "metadata": {
    "ExecuteTime": {
     "end_time": "2019-10-16T15:29:20.592401Z",
     "start_time": "2019-10-16T15:29:20.589051Z"
    }
   },
   "outputs": [
    {
     "name": "stdout",
     "output_type": "stream",
     "text": [
      "B:\n",
      " (3, 2)\n",
      "[[ 0 10]\n",
      " [20 30]\n",
      " [40 50]]\n",
      "\n"
     ]
    }
   ],
   "source": [
    "print('B:\\n', B.shape)\n",
    "print(B)\n",
    "print()"
   ]
  },
  {
   "cell_type": "code",
   "execution_count": 58,
   "metadata": {
    "ExecuteTime": {
     "end_time": "2019-10-16T15:29:23.800868Z",
     "start_time": "2019-10-16T15:29:23.797612Z"
    }
   },
   "outputs": [
    {
     "name": "stdout",
     "output_type": "stream",
     "text": [
      "C:\n",
      " (2, 3)\n",
      "[[ 0 20 40]\n",
      " [10 30 50]]\n"
     ]
    }
   ],
   "source": [
    "C = B.T\n",
    "print('C:\\n', C.shape)\n",
    "print(C)"
   ]
  },
  {
   "cell_type": "code",
   "execution_count": 60,
   "metadata": {},
   "outputs": [
    {
     "data": {
      "text/plain": [
       "array([[0, 1],\n",
       "       [2, 3],\n",
       "       [4, 5]])"
      ]
     },
     "metadata": {},
     "output_type": "display_data"
    },
    {
     "data": {
      "text/plain": [
       "array([[ 0, 20, 40],\n",
       "       [10, 30, 50]])"
      ]
     },
     "metadata": {},
     "output_type": "display_data"
    }
   ],
   "source": [
    "display(A)\n",
    "# display(B)\n",
    "display(C)"
   ]
  },
  {
   "cell_type": "markdown",
   "metadata": {},
   "source": [
    "  𝐴  must have the same number of dimensions as  𝐵  has rows."
   ]
  },
  {
   "cell_type": "markdown",
   "metadata": {},
   "source": [
    "### Summary of Dot Product.\n",
    "- When using the dot product, the number of columns in the first matrix must be equal the number of rows in the second matrix.\n",
    "\n",
    "- We basically take the a column from B and transpose  it and perform broadcasted multiplication with A.\n",
    "\n",
    "- end shape is # of rows from A and number of columns from B.\n",
    "\n",
    "\n",
    "$$ A = \n",
    "   \\left[ {\\begin{array}{cc}\n",
    "   A_{1,1}& A_{1,2} \\\\\n",
    "   A_{2,1}& A_{2,2}  \\\\\n",
    "   A_{3,1} & A_{3,2} \\\\\n",
    "  \\end{array} } \\right] \n",
    "$$\n",
    "\n",
    "$$ B = \n",
    "   \\left[ {\\begin{array}{cc}\n",
    "   B_{1,1}&  B_{1,2} \\\\\n",
    "   B_{2,1} & B_{2,2} \\\\\n",
    "  \\end{array} } \\right] \n",
    "$$\n",
    "\n",
    "$$ C = \n",
    "  \\left[ {\\begin{array}{cc}\n",
    "   A_{1,1}* B_{1,1}+ A_{1,2}*B_{2,1} & A_{1,1}* B_{1,2}+ A_{1,2}*B_{2,2} \\\\\n",
    "   A_{2,1}* B_{1,1}+ A_{2,2}*B_{2,1} & A_{2,1}* B_{1,2}+ A_{2,2}*B_{2,2} \\\\\n",
    "   A_{3,1}* B_{1,1}+ A_{3,2}*B_{2,1} & A_{3,1}* B_{1,2}+ A_{3,2}*B_{2,2} \\\\\n",
    "  \\end{array} } \\right]\n",
    "$$\n",
    "\n",
    "\n",
    "This rule applies for a chain of matrix multiplications.  The number of columns in one matrix in the chain must match the number of rows in the following matrix in the chain. The intuition for the matrix multiplication is that you calculate the dot product between each row in matrix $A$ with each column in matrix $B$. For example, you can step down rows of column $A$ and multiply each with column 1 in $B$ to give the scalar values in column 1 of $C$.\n",
    "\n",
    "This is made clear with the following worked example between two matrices.\n",
    "\n",
    "\n",
    "$$\n",
    "  \\left[ {\\begin{array}{ccc}\n",
    "   1 & 2 & 3 \\\\\n",
    "   4 & 5 & 6  \\\\\n",
    "   7 & 8 & 9 \\\\\n",
    "   10 & 11 & 12 \\\\\n",
    "  \\end{array} } \\right] \\times\n",
    "    \\left[ {\\begin{array}{cc}\n",
    "   2 & 7 \\\\\n",
    "   1 & 2 \\\\\n",
    "   3 & 6 \\\\\n",
    "  \\end{array} } \\right] =\n",
    "   \\left[ {\\begin{array}{cc}\n",
    "   2*1 + 1*2 + 3*3  & 7*1+2*2+6*3\\\\\n",
    "   2*4+1*5+3*6 & 7*4+2*5+6*6 \\\\\n",
    "   2*7+1*8+3*9 & 7*7+2*8+6*9 \\\\\n",
    "   2*10+1*11+3*12 & 7*10+2*11+6*12 \\\\\n",
    "  \\end{array} } \\right] =\n",
    "    \\left[ {\\begin{array}{cc}\n",
    "   13 & 29 \\\\\n",
    "   31 & 74  \\\\\n",
    "   49 & 119 \\\\\n",
    "   67 & 164 \\\\\n",
    "  \\end{array} } \\right] \n",
    "$$\n",
    "\n",
    "\n",
    "Let's define above matrices and see how to achieve this in Python and Numpy using the `.dot()` method :\n",
    "\n",
    "```python\n",
    "# matrix dot product\n",
    "A = np.array([[1, 2, 3], [4, 5, 6], [7, 8, 9], [10, 11, 12]])\n",
    "B = np.array([[2, 7], [1, 2], [3, 6]])\n",
    "\n",
    "C = A.dot(B)\n",
    "\n",
    "print(A, '\\ndot', '\\n', B, '\\n = \\n', C)\n",
    "```"
   ]
  },
  {
   "cell_type": "code",
   "execution_count": 59,
   "metadata": {
    "ExecuteTime": {
     "end_time": "2019-10-16T15:29:29.074413Z",
     "start_time": "2019-10-16T15:29:29.070349Z"
    }
   },
   "outputs": [
    {
     "name": "stdout",
     "output_type": "stream",
     "text": [
      "(3, 3)\n",
      "[[ 10  30  50]\n",
      " [ 30 130 230]\n",
      " [ 50 230 410]]\n"
     ]
    }
   ],
   "source": [
    "# All the ways you can do the dot product\n",
    "Z = np.dot(A, C)\n",
    "Z = A.dot(C)\n",
    "Z = A @ C\n",
    "\n",
    "print(Z.shape)\n",
    "print(Z)"
   ]
  },
  {
   "cell_type": "code",
   "execution_count": null,
   "metadata": {
    "ExecuteTime": {
     "end_time": "2019-10-16T15:27:50.286956Z",
     "start_time": "2019-10-16T15:27:50.037Z"
    }
   },
   "outputs": [],
   "source": [
    "# 3-by-2 add 2-by-1\n",
    "x = 100*np.arange(3).reshape(3)\n",
    "print(x)\n",
    "print('Size:',x.shape)\n",
    "print()\n",
    "print(A @ x)"
   ]
  },
  {
   "cell_type": "markdown",
   "metadata": {},
   "source": [
    "### Cross Product\n",
    "\n",
    "Produces another tensor of the same shape (Note broadcasting can still work)"
   ]
  },
  {
   "cell_type": "code",
   "execution_count": 61,
   "metadata": {
    "ExecuteTime": {
     "end_time": "2019-10-16T15:45:45.516121Z",
     "start_time": "2019-10-16T15:45:45.512402Z"
    }
   },
   "outputs": [
    {
     "name": "stdout",
     "output_type": "stream",
     "text": [
      "[0 2 4]\n",
      "[1 3 5]\n",
      "\n"
     ]
    }
   ],
   "source": [
    "print(A[:,0])\n",
    "print(A[:,1])\n",
    "print()"
   ]
  },
  {
   "cell_type": "code",
   "execution_count": 62,
   "metadata": {
    "ExecuteTime": {
     "end_time": "2019-10-16T15:45:49.632359Z",
     "start_time": "2019-10-16T15:45:49.629385Z"
    }
   },
   "outputs": [
    {
     "name": "stdout",
     "output_type": "stream",
     "text": [
      "result: [-2  4 -2]\n"
     ]
    }
   ],
   "source": [
    "print('result:', np.cross(A[:,0],A[:,1]))"
   ]
  },
  {
   "cell_type": "markdown",
   "metadata": {},
   "source": [
    "# Manipulating Matrices (Identity & Inverse)"
   ]
  },
  {
   "cell_type": "markdown",
   "metadata": {},
   "source": [
    "## Identity Matrix"
   ]
  },
  {
   "cell_type": "markdown",
   "metadata": {},
   "source": [
    "Square matrix of diagonal 1's, rest are 0's"
   ]
  },
  {
   "cell_type": "code",
   "execution_count": 63,
   "metadata": {
    "ExecuteTime": {
     "end_time": "2019-10-16T15:45:54.983846Z",
     "start_time": "2019-10-16T15:45:54.980348Z"
    }
   },
   "outputs": [
    {
     "name": "stdout",
     "output_type": "stream",
     "text": [
      "[[1. 0. 0. 0. 0.]\n",
      " [0. 1. 0. 0. 0.]\n",
      " [0. 0. 1. 0. 0.]\n",
      " [0. 0. 0. 1. 0.]\n",
      " [0. 0. 0. 0. 1.]]\n"
     ]
    }
   ],
   "source": [
    "I5 = np.eye(5)\n",
    "print(I5)"
   ]
  },
  {
   "cell_type": "markdown",
   "metadata": {},
   "source": [
    "When multiplying (dot product), you always get the same matrix (note that still has be compatible shape)"
   ]
  },
  {
   "cell_type": "code",
   "execution_count": 64,
   "metadata": {
    "ExecuteTime": {
     "end_time": "2019-10-16T15:46:37.317485Z",
     "start_time": "2019-10-16T15:46:37.314176Z"
    }
   },
   "outputs": [
    {
     "name": "stdout",
     "output_type": "stream",
     "text": [
      "[[ 0  1  2  3  4]\n",
      " [ 5  6  7  8  9]\n",
      " [10 11 12 13 14]\n",
      " [15 16 17 18 19]\n",
      " [20 21 22 23 24]]\n"
     ]
    }
   ],
   "source": [
    "A = np.arange(5*5).reshape(5,5)\n",
    "print(A)"
   ]
  },
  {
   "cell_type": "code",
   "execution_count": 65,
   "metadata": {
    "ExecuteTime": {
     "end_time": "2019-10-16T15:46:00.943633Z",
     "start_time": "2019-10-16T15:46:00.936650Z"
    }
   },
   "outputs": [
    {
     "name": "stdout",
     "output_type": "stream",
     "text": [
      "[[ 0.  1.  2.  3.  4.]\n",
      " [ 5.  6.  7.  8.  9.]\n",
      " [10. 11. 12. 13. 14.]\n",
      " [15. 16. 17. 18. 19.]\n",
      " [20. 21. 22. 23. 24.]]\n",
      "\n",
      "[[ 0.  1.  2.  3.  4.]\n",
      " [ 5.  6.  7.  8.  9.]\n",
      " [10. 11. 12. 13. 14.]\n",
      " [15. 16. 17. 18. 19.]\n",
      " [20. 21. 22. 23. 24.]]\n",
      "\n",
      "Both are the same:\n",
      "[[ True  True  True  True  True]\n",
      " [ True  True  True  True  True]\n",
      " [ True  True  True  True  True]\n",
      " [ True  True  True  True  True]\n",
      " [ True  True  True  True  True]]\n"
     ]
    }
   ],
   "source": [
    "print(I5 @ A)\n",
    "print()\n",
    "print(A @ I5)\n",
    "print()\n",
    "is_equal = (I5 @ A) == (A @ I5)\n",
    "print('Both are the same:')\n",
    "print(is_equal)"
   ]
  },
  {
   "cell_type": "markdown",
   "metadata": {},
   "source": [
    "## Inverse Matrix"
   ]
  },
  {
   "cell_type": "markdown",
   "metadata": {},
   "source": [
    "Remember that we can't divide by a matrix, but we can do something similar by finding an **inverse matrix**"
   ]
  },
  {
   "cell_type": "code",
   "execution_count": 66,
   "metadata": {
    "ExecuteTime": {
     "end_time": "2019-10-16T15:46:53.122441Z",
     "start_time": "2019-10-16T15:46:53.118138Z"
    }
   },
   "outputs": [
    {
     "name": "stdout",
     "output_type": "stream",
     "text": [
      "[[ 1 -2  3]\n",
      " [ 2 -5 10]\n",
      " [ 0  0  1]]\n",
      "\n",
      "[[ 5 -2  5]\n",
      " [ 2 -1  4]\n",
      " [ 0  0  1]]\n"
     ]
    }
   ],
   "source": [
    "# Define two arrays\n",
    "X = np.array([1,-2,3,2,-5,10,0,0,1]).reshape(3,3)\n",
    "print(X)\n",
    "print()\n",
    "Y = np.array([5,-2,5,2,-1,4,0,0,1]).reshape(3,3)\n",
    "print(Y)"
   ]
  },
  {
   "cell_type": "code",
   "execution_count": 67,
   "metadata": {
    "ExecuteTime": {
     "end_time": "2019-10-16T15:46:55.667845Z",
     "start_time": "2019-10-16T15:46:55.664181Z"
    }
   },
   "outputs": [
    {
     "name": "stdout",
     "output_type": "stream",
     "text": [
      "[[1 0 0]\n",
      " [0 1 0]\n",
      " [0 0 1]]\n",
      "\n",
      "[[1 0 0]\n",
      " [0 1 0]\n",
      " [0 0 1]]\n"
     ]
    }
   ],
   "source": [
    "# What happens when these are multiplied?\n",
    "print(X @ Y)\n",
    "print()\n",
    "print(Y @ X)"
   ]
  },
  {
   "cell_type": "markdown",
   "metadata": {},
   "source": [
    "We can also find the inverse of a matrix with NumPy"
   ]
  },
  {
   "cell_type": "code",
   "execution_count": 68,
   "metadata": {
    "ExecuteTime": {
     "end_time": "2019-10-16T15:46:58.691358Z",
     "start_time": "2019-10-16T15:46:58.687288Z"
    }
   },
   "outputs": [
    {
     "name": "stdout",
     "output_type": "stream",
     "text": [
      "[[ 0.3 -0.1  0.2]\n",
      " [-0.3  0.1  0.8]\n",
      " [ 0.4  0.2 -2.4]]\n"
     ]
    }
   ],
   "source": [
    "A = np.array([4,2,1,4,8,3,1,1,0]).reshape(3,3)\n",
    "# Finding the inverse matrix\n",
    "A_inv = np.linalg.inv(A)\n",
    "print(A_inv)"
   ]
  },
  {
   "cell_type": "code",
   "execution_count": 69,
   "metadata": {
    "ExecuteTime": {
     "end_time": "2019-10-16T15:47:02.641861Z",
     "start_time": "2019-10-16T15:47:02.639041Z"
    }
   },
   "outputs": [
    {
     "name": "stdout",
     "output_type": "stream",
     "text": [
      "[[ 1.00000000e+00 -2.77555756e-17  0.00000000e+00]\n",
      " [-1.66533454e-16  1.00000000e+00  0.00000000e+00]\n",
      " [-5.55111512e-17 -1.38777878e-17  1.00000000e+00]]\n"
     ]
    }
   ],
   "source": [
    "# Note the rounding\n",
    "print(A @ A_inv)"
   ]
  },
  {
   "cell_type": "markdown",
   "metadata": {},
   "source": [
    "However, not all matrices have an inverse"
   ]
  },
  {
   "cell_type": "code",
   "execution_count": 70,
   "metadata": {
    "ExecuteTime": {
     "end_time": "2019-10-16T15:47:06.338975Z",
     "start_time": "2019-10-16T15:47:06.327332Z"
    }
   },
   "outputs": [
    {
     "name": "stdout",
     "output_type": "stream",
     "text": [
      "[[0 1 2]\n",
      " [3 4 5]\n",
      " [6 7 8]]\n",
      "\n"
     ]
    },
    {
     "ename": "LinAlgError",
     "evalue": "Singular matrix",
     "output_type": "error",
     "traceback": [
      "\u001b[0;31m---------------------------------------------------------------------------\u001b[0m",
      "\u001b[0;31mLinAlgError\u001b[0m                               Traceback (most recent call last)",
      "\u001b[0;32m<ipython-input-70-dc5cfd90ad68>\u001b[0m in \u001b[0;36m<module>\u001b[0;34m\u001b[0m\n\u001b[1;32m      2\u001b[0m \u001b[0mprint\u001b[0m\u001b[0;34m(\u001b[0m\u001b[0mA\u001b[0m\u001b[0;34m)\u001b[0m\u001b[0;34m\u001b[0m\u001b[0;34m\u001b[0m\u001b[0m\n\u001b[1;32m      3\u001b[0m \u001b[0mprint\u001b[0m\u001b[0;34m(\u001b[0m\u001b[0;34m)\u001b[0m\u001b[0;34m\u001b[0m\u001b[0;34m\u001b[0m\u001b[0m\n\u001b[0;32m----> 4\u001b[0;31m \u001b[0mprint\u001b[0m\u001b[0;34m(\u001b[0m\u001b[0mnp\u001b[0m\u001b[0;34m.\u001b[0m\u001b[0mlinalg\u001b[0m\u001b[0;34m.\u001b[0m\u001b[0minv\u001b[0m\u001b[0;34m(\u001b[0m\u001b[0mA\u001b[0m\u001b[0;34m)\u001b[0m\u001b[0;34m)\u001b[0m\u001b[0;34m\u001b[0m\u001b[0;34m\u001b[0m\u001b[0m\n\u001b[0m",
      "\u001b[0;32m//anaconda3/envs/learn-env/lib/python3.6/site-packages/numpy/linalg/linalg.py\u001b[0m in \u001b[0;36minv\u001b[0;34m(a)\u001b[0m\n\u001b[1;32m    549\u001b[0m     \u001b[0msignature\u001b[0m \u001b[0;34m=\u001b[0m \u001b[0;34m'D->D'\u001b[0m \u001b[0;32mif\u001b[0m \u001b[0misComplexType\u001b[0m\u001b[0;34m(\u001b[0m\u001b[0mt\u001b[0m\u001b[0;34m)\u001b[0m \u001b[0;32melse\u001b[0m \u001b[0;34m'd->d'\u001b[0m\u001b[0;34m\u001b[0m\u001b[0;34m\u001b[0m\u001b[0m\n\u001b[1;32m    550\u001b[0m     \u001b[0mextobj\u001b[0m \u001b[0;34m=\u001b[0m \u001b[0mget_linalg_error_extobj\u001b[0m\u001b[0;34m(\u001b[0m\u001b[0m_raise_linalgerror_singular\u001b[0m\u001b[0;34m)\u001b[0m\u001b[0;34m\u001b[0m\u001b[0;34m\u001b[0m\u001b[0m\n\u001b[0;32m--> 551\u001b[0;31m     \u001b[0mainv\u001b[0m \u001b[0;34m=\u001b[0m \u001b[0m_umath_linalg\u001b[0m\u001b[0;34m.\u001b[0m\u001b[0minv\u001b[0m\u001b[0;34m(\u001b[0m\u001b[0ma\u001b[0m\u001b[0;34m,\u001b[0m \u001b[0msignature\u001b[0m\u001b[0;34m=\u001b[0m\u001b[0msignature\u001b[0m\u001b[0;34m,\u001b[0m \u001b[0mextobj\u001b[0m\u001b[0;34m=\u001b[0m\u001b[0mextobj\u001b[0m\u001b[0;34m)\u001b[0m\u001b[0;34m\u001b[0m\u001b[0;34m\u001b[0m\u001b[0m\n\u001b[0m\u001b[1;32m    552\u001b[0m     \u001b[0;32mreturn\u001b[0m \u001b[0mwrap\u001b[0m\u001b[0;34m(\u001b[0m\u001b[0mainv\u001b[0m\u001b[0;34m.\u001b[0m\u001b[0mastype\u001b[0m\u001b[0;34m(\u001b[0m\u001b[0mresult_t\u001b[0m\u001b[0;34m,\u001b[0m \u001b[0mcopy\u001b[0m\u001b[0;34m=\u001b[0m\u001b[0;32mFalse\u001b[0m\u001b[0;34m)\u001b[0m\u001b[0;34m)\u001b[0m\u001b[0;34m\u001b[0m\u001b[0;34m\u001b[0m\u001b[0m\n\u001b[1;32m    553\u001b[0m \u001b[0;34m\u001b[0m\u001b[0m\n",
      "\u001b[0;32m//anaconda3/envs/learn-env/lib/python3.6/site-packages/numpy/linalg/linalg.py\u001b[0m in \u001b[0;36m_raise_linalgerror_singular\u001b[0;34m(err, flag)\u001b[0m\n\u001b[1;32m     95\u001b[0m \u001b[0;34m\u001b[0m\u001b[0m\n\u001b[1;32m     96\u001b[0m \u001b[0;32mdef\u001b[0m \u001b[0m_raise_linalgerror_singular\u001b[0m\u001b[0;34m(\u001b[0m\u001b[0merr\u001b[0m\u001b[0;34m,\u001b[0m \u001b[0mflag\u001b[0m\u001b[0;34m)\u001b[0m\u001b[0;34m:\u001b[0m\u001b[0;34m\u001b[0m\u001b[0;34m\u001b[0m\u001b[0m\n\u001b[0;32m---> 97\u001b[0;31m     \u001b[0;32mraise\u001b[0m \u001b[0mLinAlgError\u001b[0m\u001b[0;34m(\u001b[0m\u001b[0;34m\"Singular matrix\"\u001b[0m\u001b[0;34m)\u001b[0m\u001b[0;34m\u001b[0m\u001b[0;34m\u001b[0m\u001b[0m\n\u001b[0m\u001b[1;32m     98\u001b[0m \u001b[0;34m\u001b[0m\u001b[0m\n\u001b[1;32m     99\u001b[0m \u001b[0;32mdef\u001b[0m \u001b[0m_raise_linalgerror_nonposdef\u001b[0m\u001b[0;34m(\u001b[0m\u001b[0merr\u001b[0m\u001b[0;34m,\u001b[0m \u001b[0mflag\u001b[0m\u001b[0;34m)\u001b[0m\u001b[0;34m:\u001b[0m\u001b[0;34m\u001b[0m\u001b[0;34m\u001b[0m\u001b[0m\n",
      "\u001b[0;31mLinAlgError\u001b[0m: Singular matrix"
     ]
    }
   ],
   "source": [
    "A = np.arange(9).reshape(3,3)\n",
    "print(A)\n",
    "print()\n",
    "print(np.linalg.inv(A))"
   ]
  },
  {
   "cell_type": "code",
   "execution_count": 71,
   "metadata": {},
   "outputs": [],
   "source": [
    "# Imports needed for notebook\n",
    "import numpy as np"
   ]
  },
  {
   "cell_type": "markdown",
   "metadata": {
    "heading_collapsed": true
   },
   "source": [
    "# Solving Systems of Equations"
   ]
  },
  {
   "cell_type": "markdown",
   "metadata": {
    "hidden": true
   },
   "source": [
    "Solving a system of equations can take a lot of work\n",
    "\n",
    "$$ x - 2y + 3z = 9 $$\n",
    "$$ 2x - 5y + 10z = 4 $$\n",
    "$$ 0x + 0y + 6z = 0 $$\n",
    "\n",
    "But we can make it easier by writing it in matrix form\n",
    "\n",
    "$$ \n",
    "\\begin{pmatrix} \n",
    "    1 & -2 & 3 \\\\\n",
    "    2 & -5 & 10 \\\\\n",
    "    0 & 0 & 6\n",
    "\\end{pmatrix}\n",
    "\\cdot\n",
    "\\begin{pmatrix} \n",
    "    x \\\\\n",
    "    y \\\\\n",
    "    z\n",
    "\\end{pmatrix}\n",
    "=\n",
    "\\begin{pmatrix} \n",
    "    9 \\\\\n",
    "    4 \\\\\n",
    "    0\n",
    "\\end{pmatrix}\n",
    "$$"
   ]
  },
  {
   "cell_type": "markdown",
   "metadata": {
    "hidden": true
   },
   "source": [
    "We can think of this in the abstract:\n",
    "$$ A \\cdot X = B $$\n",
    "$$ A^{-1} \\cdot A \\cdot X = A^{-1} \\cdot B $$\n",
    "$$ I \\cdot X = A^{-1} \\cdot B $$\n",
    "$$ X = A^{-1} \\cdot B $$"
   ]
  },
  {
   "cell_type": "markdown",
   "metadata": {
    "hidden": true
   },
   "source": [
    "## Using NumPy"
   ]
  },
  {
   "cell_type": "code",
   "execution_count": 1,
   "metadata": {
    "hidden": true
   },
   "outputs": [
    {
     "name": "stdout",
     "output_type": "stream",
     "text": [
      "A:\n",
      "[[ 1 -2  3]\n",
      " [ 2 -5 10]\n",
      " [ 0  0  6]]\n",
      "\n",
      "B:\n",
      "[[9]\n",
      " [4]\n",
      " [0]]\n"
     ]
    }
   ],
   "source": [
    "# Define the system's matrices\n",
    "A = np.array([\n",
    "    [1, -2,  3],\n",
    "    [2, -5, 10],\n",
    "    [0,  0,  6]\n",
    "])\n",
    "\n",
    "B = np.array([9,4,0]).reshape(3,1)\n",
    "print('A:')\n",
    "print(A)\n",
    "print()\n",
    "print('B:')\n",
    "print(B)"
   ]
  },
  {
   "cell_type": "code",
   "execution_count": 2,
   "metadata": {
    "hidden": true
   },
   "outputs": [
    {
     "name": "stdout",
     "output_type": "stream",
     "text": [
      "[[ 5.         -2.          0.83333333]\n",
      " [ 2.         -1.          0.66666667]\n",
      " [ 0.          0.          0.16666667]]\n"
     ]
    }
   ],
   "source": [
    "# Find the inverse\n",
    "A_inv = np.linalg.inv(A)\n",
    "print(A_inv)"
   ]
  },
  {
   "cell_type": "code",
   "execution_count": 3,
   "metadata": {
    "hidden": true
   },
   "outputs": [
    {
     "name": "stdout",
     "output_type": "stream",
     "text": [
      "[[37.]\n",
      " [14.]\n",
      " [ 0.]]\n"
     ]
    }
   ],
   "source": [
    "# Solutions:\n",
    "solution = A_inv @ B\n",
    "print(solution)"
   ]
  },
  {
   "cell_type": "code",
   "execution_count": 4,
   "metadata": {
    "hidden": true
   },
   "outputs": [
    {
     "name": "stdout",
     "output_type": "stream",
     "text": [
      "x - 2y + 3z = 9\n",
      "37.0 + -28.0 + 0.0\n",
      "9.0\n",
      "\n",
      "2x - 5y + 10z = 4\n",
      "74.0 + -70.0 + 0.0\n",
      "4.0\n",
      "\n",
      "0x + 0y + 6z = 0\n",
      "0.0 + 0.0 + 0.0\n",
      "0.0\n",
      "\n"
     ]
    }
   ],
   "source": [
    "# Checking solutions:\n",
    "\n",
    "\n",
    "print('x - 2y + 3z = 9')\n",
    "print(f'{solution[0][0]} + {-2*solution[1][0]} + {3*solution[2][0]}')\n",
    "print(solution[0][0] + -2*solution[1][0] + 3*solution[2][0])\n",
    "print()\n",
    "\n",
    "print('2x - 5y + 10z = 4')\n",
    "print(f'{2*solution[0][0]} + {-5*solution[1][0]} + {10*solution[2][0]}')\n",
    "print(2*solution[0][0] + -5*solution[1][0] + 10*solution[2][0])\n",
    "print()\n",
    "\n",
    "print('0x + 0y + 6z = 0')\n",
    "print(f'{0*solution[0][0]} + {0*solution[1][0]} + {6*solution[2][0]}')\n",
    "print(0*solution[0][0] + 0*solution[1][0] + 6*solution[2][0])\n",
    "print()"
   ]
  },
  {
   "cell_type": "markdown",
   "metadata": {
    "hidden": true
   },
   "source": [
    "## Linear Regression w/ Systems of Equations\n",
    "\n",
    "> We'll find that this is actually computationally expensive for large systems 😭"
   ]
  },
  {
   "cell_type": "code",
   "execution_count": null,
   "metadata": {
    "hidden": true
   },
   "outputs": [],
   "source": []
  }
 ],
 "metadata": {
  "kernelspec": {
   "display_name": "learn-env",
   "language": "python",
   "name": "learn-env"
  },
  "language_info": {
   "codemirror_mode": {
    "name": "ipython",
    "version": 3
   },
   "file_extension": ".py",
   "mimetype": "text/x-python",
   "name": "python",
   "nbconvert_exporter": "python",
   "pygments_lexer": "ipython3",
   "version": "3.6.9"
  },
  "toc": {
   "base_numbering": 1,
   "nav_menu": {},
   "number_sections": false,
   "sideBar": true,
   "skip_h1_title": false,
   "title_cell": "Table of Contents",
   "title_sidebar": "Contents",
   "toc_cell": false,
   "toc_position": {},
   "toc_section_display": true,
   "toc_window_display": true
  },
  "varInspector": {
   "cols": {
    "lenName": 16,
    "lenType": 16,
    "lenVar": 40
   },
   "kernels_config": {
    "python": {
     "delete_cmd_postfix": "",
     "delete_cmd_prefix": "del ",
     "library": "var_list.py",
     "varRefreshCmd": "print(var_dic_list())"
    },
    "r": {
     "delete_cmd_postfix": ") ",
     "delete_cmd_prefix": "rm(",
     "library": "var_list.r",
     "varRefreshCmd": "cat(var_dic_list()) "
    }
   },
   "types_to_exclude": [
    "module",
    "function",
    "builtin_function_or_method",
    "instance",
    "_Feature"
   ],
   "window_display": false
  }
 },
 "nbformat": 4,
 "nbformat_minor": 2
}
