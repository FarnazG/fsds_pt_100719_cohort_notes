{
 "cells": [
  {
   "cell_type": "markdown",
   "metadata": {
    "colab_type": "text",
    "id": "V0E5IGVvkUEw"
   },
   "source": [
    "# Object-Oriented Programming (V2.1: Mod 3, Section 21)\n"
   ]
  },
  {
   "cell_type": "markdown",
   "metadata": {
    "colab_type": "text",
    "id": "YsQ8QZvHSXBk"
   },
   "source": [
    "- online-ds-pt-100719\n",
    "- 03/04/20"
   ]
  },
  {
   "cell_type": "code",
   "execution_count": 1,
   "metadata": {
    "ExecuteTime": {
     "end_time": "2020-03-04T22:46:28.286599Z",
     "start_time": "2020-03-04T22:46:21.977751Z"
    },
    "colab": {
     "base_uri": "https://localhost:8080/",
     "height": 225
    },
    "colab_type": "code",
    "id": "i0eCP26MNED0",
    "outputId": "c59c7411-5fe5-4093-ea83-0ee28fa95d70"
   },
   "outputs": [
    {
     "name": "stdout",
     "output_type": "stream",
     "text": [
      "fsds_1007219  v0.7.16 loaded.  Read the docs: https://fsds.readthedocs.io/en/latest/ \n"
     ]
    },
    {
     "data": {
      "text/html": [
       "<style  type=\"text/css\" >\n",
       "</style><table id=\"T_fba4f998_5e69_11ea_8061_acde48001122\" ><caption>Loaded Packages and Handles</caption><thead>    <tr>        <th class=\"col_heading level0 col0\" >Handle</th>        <th class=\"col_heading level0 col1\" >Package</th>        <th class=\"col_heading level0 col2\" >Description</th>    </tr></thead><tbody>\n",
       "                <tr>\n",
       "                                <td id=\"T_fba4f998_5e69_11ea_8061_acde48001122row0_col0\" class=\"data row0 col0\" >dp</td>\n",
       "                        <td id=\"T_fba4f998_5e69_11ea_8061_acde48001122row0_col1\" class=\"data row0 col1\" >IPython.display</td>\n",
       "                        <td id=\"T_fba4f998_5e69_11ea_8061_acde48001122row0_col2\" class=\"data row0 col2\" >Display modules with helpful display and clearing commands.</td>\n",
       "            </tr>\n",
       "            <tr>\n",
       "                                <td id=\"T_fba4f998_5e69_11ea_8061_acde48001122row1_col0\" class=\"data row1 col0\" >fs</td>\n",
       "                        <td id=\"T_fba4f998_5e69_11ea_8061_acde48001122row1_col1\" class=\"data row1 col1\" >fsds_100719</td>\n",
       "                        <td id=\"T_fba4f998_5e69_11ea_8061_acde48001122row1_col2\" class=\"data row1 col2\" >Custom data science bootcamp student package</td>\n",
       "            </tr>\n",
       "            <tr>\n",
       "                                <td id=\"T_fba4f998_5e69_11ea_8061_acde48001122row2_col0\" class=\"data row2 col0\" >mpl</td>\n",
       "                        <td id=\"T_fba4f998_5e69_11ea_8061_acde48001122row2_col1\" class=\"data row2 col1\" >matplotlib</td>\n",
       "                        <td id=\"T_fba4f998_5e69_11ea_8061_acde48001122row2_col2\" class=\"data row2 col2\" >Matplotlib's base OOP module with formatting artists</td>\n",
       "            </tr>\n",
       "            <tr>\n",
       "                                <td id=\"T_fba4f998_5e69_11ea_8061_acde48001122row3_col0\" class=\"data row3 col0\" >plt</td>\n",
       "                        <td id=\"T_fba4f998_5e69_11ea_8061_acde48001122row3_col1\" class=\"data row3 col1\" >matplotlib.pyplot</td>\n",
       "                        <td id=\"T_fba4f998_5e69_11ea_8061_acde48001122row3_col2\" class=\"data row3 col2\" >Matplotlib's matlab-like plotting module</td>\n",
       "            </tr>\n",
       "            <tr>\n",
       "                                <td id=\"T_fba4f998_5e69_11ea_8061_acde48001122row4_col0\" class=\"data row4 col0\" >np</td>\n",
       "                        <td id=\"T_fba4f998_5e69_11ea_8061_acde48001122row4_col1\" class=\"data row4 col1\" >numpy</td>\n",
       "                        <td id=\"T_fba4f998_5e69_11ea_8061_acde48001122row4_col2\" class=\"data row4 col2\" >scientific computing with Python</td>\n",
       "            </tr>\n",
       "            <tr>\n",
       "                                <td id=\"T_fba4f998_5e69_11ea_8061_acde48001122row5_col0\" class=\"data row5 col0\" >pd</td>\n",
       "                        <td id=\"T_fba4f998_5e69_11ea_8061_acde48001122row5_col1\" class=\"data row5 col1\" >pandas</td>\n",
       "                        <td id=\"T_fba4f998_5e69_11ea_8061_acde48001122row5_col2\" class=\"data row5 col2\" >High performance data structures and tools</td>\n",
       "            </tr>\n",
       "            <tr>\n",
       "                                <td id=\"T_fba4f998_5e69_11ea_8061_acde48001122row6_col0\" class=\"data row6 col0\" >sns</td>\n",
       "                        <td id=\"T_fba4f998_5e69_11ea_8061_acde48001122row6_col1\" class=\"data row6 col1\" >seaborn</td>\n",
       "                        <td id=\"T_fba4f998_5e69_11ea_8061_acde48001122row6_col2\" class=\"data row6 col2\" >High-level data visualization library based on matplotlib</td>\n",
       "            </tr>\n",
       "    </tbody></table>"
      ],
      "text/plain": [
       "<pandas.io.formats.style.Styler at 0x1c27a2b630>"
      ]
     },
     "metadata": {},
     "output_type": "display_data"
    },
    {
     "data": {
      "text/html": [
       "        <script type=\"text/javascript\">\n",
       "        window.PlotlyConfig = {MathJaxConfig: 'local'};\n",
       "        if (window.MathJax) {MathJax.Hub.Config({SVG: {font: \"STIX-Web\"}});}\n",
       "        if (typeof require !== 'undefined') {\n",
       "        require.undef(\"plotly\");\n",
       "        requirejs.config({\n",
       "            paths: {\n",
       "                'plotly': ['https://cdn.plot.ly/plotly-latest.min']\n",
       "            }\n",
       "        });\n",
       "        require(['plotly'], function(Plotly) {\n",
       "            window._Plotly = Plotly;\n",
       "        });\n",
       "        }\n",
       "        </script>\n",
       "        "
      ]
     },
     "metadata": {},
     "output_type": "display_data"
    },
    {
     "name": "stdout",
     "output_type": "stream",
     "text": [
      "[i] Pandas .iplot() method activated.\n"
     ]
    }
   ],
   "source": [
    "!pip install fsds_100719\n",
    "from fsds_100719.imports import *"
   ]
  },
  {
   "cell_type": "markdown",
   "metadata": {},
   "source": [
    "## Announcemens/Questions?\n"
   ]
  },
  {
   "cell_type": "markdown",
   "metadata": {},
   "source": [
    "- Please fill out this survey (focuses only on study groups)\n",
    "    - https://forms.gle/Kw7YJGCKqC4q6XYz9 \n",
    "    \n",
    "- Message me on Slack if you scheduled a review and did not receive a confirmation email. (Your appointment is fine, there was a bug with the scheduler)."
   ]
  },
  {
   "cell_type": "markdown",
   "metadata": {
    "colab_type": "text",
    "id": "EqQxrb5pNeMB"
   },
   "source": [
    "## Things to Discuss\n",
    "\n",
    "\n",
    "- **Dictionaries are your friend!**\n",
    "    - Constructing Dictionaries `{k:v}` vs `dict(k=v)`\n",
    "    - Iterating With Dictionaries\n",
    "    - The `kwargs` and the  `**` operator\n",
    "    \n",
    "- **Unpacking/packing with `*` and ` ** `**\n",
    "\n",
    "\n",
    "- **Deeper dive into Classes/Objects**\n",
    "    - `help(obj)` vs `dir(obj)`\n",
    "    - special methods/properties (`__repr__(),__str__(),__call__(),__version__(),__name__()`)\n",
    "    - Methods: vs Bound Methods vs Static Methods\n",
    "    - Properties vs Attributes "
   ]
  },
  {
   "cell_type": "markdown",
   "metadata": {
    "colab_type": "text",
    "id": "2nMzaHqhnfTz"
   },
   "source": [
    "# What does it mean to be 'Object-Oriented'?\n",
    "\n",
    "> ### _\"Everything is an object._\"\n",
    "- some Python sensei\n"
   ]
  },
  {
   "cell_type": "code",
   "execution_count": null,
   "metadata": {
    "colab": {
     "base_uri": "https://localhost:8080/",
     "height": 34
    },
    "colab_type": "code",
    "id": "DbB4-SesN__J",
    "outputId": "d7948ef4-80a6-41d2-e2f9-e8c50287e067"
   },
   "outputs": [],
   "source": [
    "prove_it = max\n",
    "prove_it([0,11,13])"
   ]
  },
  {
   "cell_type": "markdown",
   "metadata": {},
   "source": [
    "# Dictionaries & Dictionary Methods"
   ]
  },
  {
   "cell_type": "markdown",
   "metadata": {},
   "source": [
    "- Iterating throught a dict:\n",
    "    - `dict.items()`\n",
    "    - `dict.keys()`\n",
    "    - `dict.values()`\n",
    "    - `**dict` vs `*dict`\n",
    "\n",
    "- Retrieving Value:\n",
    "    - `dict.get(k)` vs `dict[k]`\n",
    "\n",
    "- Removing / Extracting Entries\n",
    "    - `dict.pop(k)` vs `del dict[k]`\n",
    "    - `dict.clear()`\n",
    "    \n",
    "- Merging Dictionaries:\n",
    "    - `d1.update(d2)`\n",
    "        - for every (k,v) in d2\"\n",
    "            - if k is NOT in d1, insert (k,v) into d1\n",
    "            - if k IS in d1, updates value of k in d1\n",
    "    - Use `**` operator:\n",
    "        - `combined_d = {**d1,**d2}`\n",
    "    \n",
    "- Updating Dictionaries\n",
    "    - `d1.update(key1=new_value1,new_key2=new_value2)`\n",
    "\n"
   ]
  },
  {
   "cell_type": "code",
   "execution_count": null,
   "metadata": {
    "ExecuteTime": {
     "end_time": "2020-03-04T22:39:38.705207Z",
     "start_time": "2020-03-04T22:39:38.699085Z"
    }
   },
   "outputs": [],
   "source": [
    "# Constructing dictionaries\n",
    "d1=dict(p=1,y=2)\n",
    "d2 = {'t':3,'h':4}\n",
    "d3 = {'h':5,'o':6,'n':7}\n",
    "display(d1,d2,d3)"
   ]
  },
  {
   "cell_type": "code",
   "execution_count": null,
   "metadata": {
    "ExecuteTime": {
     "end_time": "2020-03-04T22:40:10.297281Z",
     "start_time": "2020-03-04T22:40:10.294239Z"
    }
   },
   "outputs": [],
   "source": [
    "## an iterate through the keys and values\n",
    "for k,v in d3.items():\n",
    "    print(k,v)\n",
    "# print('---'*3)"
   ]
  },
  {
   "cell_type": "code",
   "execution_count": null,
   "metadata": {
    "ExecuteTime": {
     "end_time": "2020-03-04T22:40:40.531374Z",
     "start_time": "2020-03-04T22:40:40.528300Z"
    }
   },
   "outputs": [],
   "source": [
    "## Unpacking into a new dictionary \n",
    "# the key `h` is in both d2 and d3, which one is in the new dict?\n",
    "new_dict = {**d1,**d2,**d3}\n",
    "print(new_dict)"
   ]
  },
  {
   "cell_type": "markdown",
   "metadata": {},
   "source": [
    "- Setting Dictionary Values\n",
    "    - `dict[k] = 5`\n",
    "    - `dict.setdefault(k,5)`\n"
   ]
  },
  {
   "cell_type": "code",
   "execution_count": null,
   "metadata": {
    "ExecuteTime": {
     "end_time": "2020-03-04T22:41:20.668944Z",
     "start_time": "2020-03-04T22:41:20.665343Z"
    }
   },
   "outputs": [],
   "source": [
    "d1['b']= 6\n",
    "d1"
   ]
  },
  {
   "cell_type": "markdown",
   "metadata": {},
   "source": [
    "#### Setting values for keys ONLY if they do not exist with `.setdefault()`"
   ]
  },
  {
   "cell_type": "code",
   "execution_count": null,
   "metadata": {
    "ExecuteTime": {
     "end_time": "2020-03-04T22:41:34.625192Z",
     "start_time": "2020-03-04T22:41:34.464767Z"
    }
   },
   "outputs": [],
   "source": [
    "## Set default will add a key if it is not present\n",
    "## THIS CELL WILL CASE AN ERROR BECAUSE 'k3' DOESN'T EXIST\n",
    "d = dict(k1=2,k2=6)\n",
    "d['k3']"
   ]
  },
  {
   "cell_type": "code",
   "execution_count": null,
   "metadata": {
    "ExecuteTime": {
     "end_time": "2020-03-04T22:41:41.440262Z",
     "start_time": "2020-03-04T22:41:41.436263Z"
    }
   },
   "outputs": [],
   "source": [
    "## Set default will NOT override a pre-existing key\n",
    "d = dict(k1=2,k2=6,k3=7)\n",
    "d.setdefault('k3','Return Me')\n",
    "d['k3']"
   ]
  },
  {
   "cell_type": "code",
   "execution_count": null,
   "metadata": {
    "ExecuteTime": {
     "end_time": "2020-03-04T22:41:49.504360Z",
     "start_time": "2020-03-04T22:41:49.500024Z"
    }
   },
   "outputs": [],
   "source": [
    "## Set default will NOT override a pre-existing key\n",
    "d = dict(k1=2,k2=6)\n",
    "[d.setdefault(k,'Return Me')  for k in ['a','b','c','k1']]\n",
    "d#['k3']"
   ]
  },
  {
   "cell_type": "markdown",
   "metadata": {
    "colab_type": "text",
    "id": "zD62ZhGBZDRa"
   },
   "source": [
    "# OOP VOCABULARY\n"
   ]
  },
  {
   "cell_type": "markdown",
   "metadata": {
    "colab_type": "text",
    "id": "qY867btVFtZU"
   },
   "source": [
    "- \"Object\" is an instance of a template class that currently exists in memory\n",
    "- \"Calling\" a function: \n",
    "    - When we use `( )` with a function we are calling it.\n",
    "\n",
    "- **Function:**  Codes that maniuplates data in a useful way. \n",
    "\n",
    "- Parameters: the defined data/varaibles that are passed accepted by a function\n",
    "- Argument: the actual variable/value passed in for a parameter\n",
    "- Positional Argument:\n",
    "    - The first arguments required\n",
    "    - their id is determined by their order\n",
    "- Keyword/default Arguments:\n",
    "    - arugments that have a defined default value\n",
    "    - must come after positional arguments\n",
    "\n",
    "<br><br>\n",
    "- **Class:** Template/blue print.\n",
    "- Instance: Ab object built from the class blueprint\n",
    "- Attribute: A variable stored inside an object. \n",
    "- Method: Functions are stored inside an object.\n",
    "    - Objects always pass themselves into a method, so we used `self` to account for this.\n",
    "- Private Attributes/Methods: they start with _ and are hidden from the user. They can be updated using getting and setting functions.\n",
    "- Getters/Setters:\n",
    "    - Methods for retreiving or changing private attributes\n",
    "\n",
    "- Object: \n",
    "\n",
    "- \"dunders\" = double underscores __ "
   ]
  },
  {
   "cell_type": "markdown",
   "metadata": {
    "colab_type": "text",
    "id": "ORtL6PXlG2Qc"
   },
   "source": [
    "# Defining and Initializing Classes\n"
   ]
  },
  {
   "cell_type": "code",
   "execution_count": null,
   "metadata": {
    "colab": {},
    "colab_type": "code",
    "id": "kiXhk0XCSyc0"
   },
   "outputs": [],
   "source": [
    "from sklearn.preprocessing import StandardScaler\n",
    "scaler = StandardScaler()"
   ]
  },
  {
   "cell_type": "code",
   "execution_count": null,
   "metadata": {
    "colab": {},
    "colab_type": "code",
    "id": "B6sQU8BWTD1D"
   },
   "outputs": [],
   "source": [
    "# fs.ihelp(StandardScaler)"
   ]
  },
  {
   "cell_type": "markdown",
   "metadata": {
    "colab_type": "text",
    "id": "26Ii5e0lVjCE"
   },
   "source": [
    "\n",
    "\n",
    "```python\n",
    "## Bare minimum to define a class.\n",
    "class Person:\n",
    "    pass\n",
    "```\n",
    "\n",
    "- Use `class NewClassName():` like you use `def function_name():` for functions.\n",
    "    - the `()` are optional for classes. (used to inherit other classes, more on that later)\n",
    "- Convention for naming classes = `UpperCamelCase`\n",
    "- Convention for naming function = `snake_case`\n"
   ]
  },
  {
   "cell_type": "markdown",
   "metadata": {
    "colab_type": "text",
    "id": "pgbK9ZGWV-bM"
   },
   "source": [
    "\n",
    "```python\n",
    "## StandardScaler is a class\n",
    "from sklearn.preprocessing import StandardScaler\n",
    "\n",
    "## We create an instance of the class\n",
    "scaler = StandardScaler()\n",
    "\n",
    "## We use the scaler's fit_transform method\n",
    "X_scaled = scaler.fit_transform(X)\n",
    "```\n"
   ]
  },
  {
   "cell_type": "markdown",
   "metadata": {
    "colab_type": "text",
    "id": "k4nzIdO4ZNWE"
   },
   "source": [
    "### Initialization \n"
   ]
  },
  {
   "cell_type": "code",
   "execution_count": null,
   "metadata": {
    "colab": {
     "base_uri": "https://localhost:8080/",
     "height": 34
    },
    "colab_type": "code",
    "id": "keoKoLmWd_q2",
    "outputId": "33507e73-d52a-4643-9f7f-c0aac1220ea8"
   },
   "outputs": [],
   "source": [
    "from sklearn.preprocessing import StandardScaler\n",
    "scaler = StandardScaler()\n",
    "scaler"
   ]
  },
  {
   "cell_type": "markdown",
   "metadata": {
    "colab_type": "text",
    "id": "l7JyuM8-ByvS"
   },
   "source": [
    "- We create an instance by setting a `instance = ClassName()`\n",
    "-  This uses the template `ClassName` to create an instance of the class ( which we named `instance`)\n",
    "- When an instance is `initialized`, we `call` it using `()`, which runs a default `__init__()` method.\n",
    "\n",
    "\n",
    "#### Know thy `self`\n",
    "- Because Methods are designed to operate on the `object_its.attached_to()`, Python automatically gives every method a copy of instance its attached to, which we call `self`\n",
    "- We have to pass `self` as the first parameter for every method we make.\n",
    "- Otherwise it will think that the first thing we give it is actually itself. This will cause an *existential crisis** and corresponding error.\n",
    "\n",
    "```python\n",
    "\n",
    "class Person:\n",
    "    species = 'human'\n",
    "    alive = True\n",
    "    \n",
    "    def __init__(self,name=None,fav_color=None,location=None):\n",
    "        self.name = name\n",
    "        self.location = location\n",
    "        self.fav_color = fav_color\n",
    "\n",
    "```\n"
   ]
  },
  {
   "cell_type": "markdown",
   "metadata": {
    "colab_type": "text",
    "id": "Cn5aMHLzZKyY"
   },
   "source": [
    "### Class Attributes & Methods \n"
   ]
  },
  {
   "cell_type": "code",
   "execution_count": null,
   "metadata": {
    "ExecuteTime": {
     "end_time": "2020-03-04T22:45:03.928269Z",
     "start_time": "2020-03-04T22:45:03.922643Z"
    },
    "colab": {},
    "colab_type": "code",
    "id": "Nfc7Oq4Vei7f"
   },
   "outputs": [],
   "source": [
    "class Person:\n",
    "    # Class Attributes\n",
    "    species = 'human'\n",
    "    alive = True\n",
    "\n",
    "    \n",
    "    def set_alive(self,new_alive):\n",
    "        self._alive=new_alive\n",
    "    # name = 'James'\n",
    "    def __init__(self, name):\n",
    "        self.name=name\n",
    "\n",
    "person = Person('James')\n",
    "person.alive"
   ]
  },
  {
   "cell_type": "markdown",
   "metadata": {
    "colab_type": "text",
    "id": "6M4CAiIrVoTF"
   },
   "source": []
  },
  {
   "cell_type": "code",
   "execution_count": null,
   "metadata": {},
   "outputs": [],
   "source": []
  },
  {
   "cell_type": "code",
   "execution_count": null,
   "metadata": {},
   "outputs": [],
   "source": []
  },
  {
   "cell_type": "code",
   "execution_count": null,
   "metadata": {
    "ExecuteTime": {
     "end_time": "2020-03-04T02:39:09.828217Z",
     "start_time": "2020-03-04T02:39:09.823782Z"
    },
    "colab": {},
    "colab_type": "code",
    "id": "guaZoxQnwDVQ"
   },
   "outputs": [],
   "source": [
    "class Person:\n",
    "    species = 'human'\n",
    "    alive = True\n",
    "\n",
    "    def __init__(self,name,fav_color,location=None):\n",
    "        self.name = name\n",
    "        self.location = location\n",
    "        self.fav_color = fav_color\n",
    "\n",
    "\n",
    "    def who_am_i(self):\n",
    "        print(f\"My name is {self.name}\")\n",
    "        print(f\"I live in {self.location}\") \n",
    "        print(f\"My favorite color is {self.fav_color}\")\n",
    "\n",
    "me = Person('James','purple','Baltimore, MD')\n"
   ]
  },
  {
   "cell_type": "code",
   "execution_count": null,
   "metadata": {
    "ExecuteTime": {
     "end_time": "2020-03-04T02:39:10.384050Z",
     "start_time": "2020-03-04T02:39:10.381020Z"
    },
    "colab": {
     "base_uri": "https://localhost:8080/",
     "height": 69
    },
    "colab_type": "code",
    "id": "HZ5eAzjwwDSy",
    "outputId": "e4343d85-6d0e-461c-e7ae-b184b8cc2af7"
   },
   "outputs": [],
   "source": [
    "me = Person('James','purple') #'James','purple','Baltimore, MD')\n",
    "me.who_am_i()"
   ]
  },
  {
   "cell_type": "markdown",
   "metadata": {
    "colab_type": "text",
    "id": "FXDWzac3xh-W"
   },
   "source": [
    "### Inheritance\n",
    "- Define a Class based on another class by passing the class to inherit from as a parameter:\n",
    "```\n",
    "def FlatironStudent(Person):\n",
    "    pass # hopefully! lol\n",
    "\n",
    "## What did you inherit?    \n",
    "- To view all of the attributes and methods of a class, **use the help() command**\n",
    "    -  Note: There is often ***information in `help()` that you may not be able to find ANYWHERE else*** and does not show up in documentation."
   ]
  },
  {
   "cell_type": "code",
   "execution_count": null,
   "metadata": {
    "ExecuteTime": {
     "end_time": "2020-03-04T02:39:13.899643Z",
     "start_time": "2020-03-04T02:39:13.897168Z"
    },
    "colab": {},
    "colab_type": "code",
    "id": "AoOY7I9Xw955"
   },
   "outputs": [],
   "source": [
    "class FlatironStudent(Person):\n",
    "    # def __init__(self):\n",
    "    pass\n",
    "\n",
    "# help(FlatironStudent)"
   ]
  },
  {
   "cell_type": "code",
   "execution_count": null,
   "metadata": {
    "ExecuteTime": {
     "end_time": "2020-03-04T02:39:14.456913Z",
     "start_time": "2020-03-04T02:39:14.452855Z"
    },
    "colab": {
     "base_uri": "https://localhost:8080/",
     "height": 555
    },
    "colab_type": "code",
    "id": "Jd8NueSkf1ui",
    "outputId": "b6299ad4-4162-470d-a02b-3f109aee69c9"
   },
   "outputs": [],
   "source": [
    "help(FlatironStudent)"
   ]
  },
  {
   "cell_type": "markdown",
   "metadata": {},
   "source": [
    "# Special Class Methods"
   ]
  },
  {
   "cell_type": "markdown",
   "metadata": {},
   "source": [
    "## Using special methods to control the output of a class"
   ]
  },
  {
   "cell_type": "code",
   "execution_count": null,
   "metadata": {
    "ExecuteTime": {
     "end_time": "2020-03-04T02:40:40.975558Z",
     "start_time": "2020-03-04T02:40:40.971490Z"
    }
   },
   "outputs": [],
   "source": [
    "class FlatironStudent(Person):\n",
    "    # def __init__(self):\n",
    "    pass\n",
    "student = FlatironStudent('James','purple')\n",
    "student"
   ]
  },
  {
   "cell_type": "code",
   "execution_count": null,
   "metadata": {
    "ExecuteTime": {
     "end_time": "2020-03-04T02:42:15.343791Z",
     "start_time": "2020-03-04T02:42:15.340159Z"
    }
   },
   "outputs": [],
   "source": [
    "help(student)"
   ]
  },
  {
   "cell_type": "code",
   "execution_count": null,
   "metadata": {
    "ExecuteTime": {
     "end_time": "2020-03-04T02:42:19.820108Z",
     "start_time": "2020-03-04T02:42:19.816343Z"
    }
   },
   "outputs": [],
   "source": [
    "dir(student)"
   ]
  },
  {
   "cell_type": "markdown",
   "metadata": {},
   "source": [
    "### `__repr__()` controls display when final element of a cell (or when display is used)"
   ]
  },
  {
   "cell_type": "code",
   "execution_count": null,
   "metadata": {
    "ExecuteTime": {
     "end_time": "2020-03-04T02:44:41.850726Z",
     "start_time": "2020-03-04T02:44:41.847326Z"
    }
   },
   "outputs": [],
   "source": [
    "class FlatironStudent(Person):\n",
    "    # def __init__(self):\n",
    "    def __repr__(self):\n",
    "        msg = []\n",
    "        msg.append(f'Name = {self.name}')\n",
    "        msg.append(f'Species = {self.species}')\n",
    "        msg.append(f'Fav Color = {self.fav_color}')\n",
    "        return '\\n'.join(msg)\n"
   ]
  },
  {
   "cell_type": "code",
   "execution_count": null,
   "metadata": {
    "ExecuteTime": {
     "end_time": "2020-03-04T02:44:42.882096Z",
     "start_time": "2020-03-04T02:44:42.878464Z"
    }
   },
   "outputs": [],
   "source": [
    "student= FlatironStudent('Andi','Blue')\n",
    "student"
   ]
  },
  {
   "cell_type": "markdown",
   "metadata": {},
   "source": [
    "### `__str__()` controls whats displayed when an object is printed"
   ]
  },
  {
   "cell_type": "code",
   "execution_count": null,
   "metadata": {
    "ExecuteTime": {
     "end_time": "2020-03-04T02:46:25.358189Z",
     "start_time": "2020-03-04T02:46:25.354502Z"
    }
   },
   "outputs": [],
   "source": [
    "class FlatironStudent(Person):\n",
    "    # def __init__(self):\n",
    "    def __repr__(self):\n",
    "        msg = []\n",
    "        msg.append(f'Name = {self.name}')\n",
    "        msg.append(f'Species = {self.species}')\n",
    "        msg.append(f'Fav Color = {self.fav_color}')\n",
    "        return '\\n'.join(msg)\n",
    "    def __str__(self):\n",
    "        self.who_am_i()\n",
    "        return ''"
   ]
  },
  {
   "cell_type": "code",
   "execution_count": null,
   "metadata": {
    "ExecuteTime": {
     "end_time": "2020-03-04T02:46:26.363109Z",
     "start_time": "2020-03-04T02:46:26.359880Z"
    }
   },
   "outputs": [],
   "source": [
    "student = FlatironStudent('James','Red')\n",
    "print(student)"
   ]
  },
  {
   "cell_type": "code",
   "execution_count": null,
   "metadata": {},
   "outputs": [],
   "source": []
  },
  {
   "cell_type": "markdown",
   "metadata": {},
   "source": [
    "## Special Class Methods  (@staticmethod, @property,etc)\n",
    "- Demo EncryptedPassword class using @property "
   ]
  },
  {
   "cell_type": "markdown",
   "metadata": {},
   "source": [
    "#### Some special decorators used in classes.\n",
    "\n",
    "1. `@staticmethod`:\n",
    "    - Defines a method that does not get passed `self` when its called and can act on external code as if it was a function, not a \"`bound method`\"\n",
    "2. `@classmethod`:\n",
    "    - Specifies a method that should always refer to the default method spelled out in the class definition, NOT the version of it that is stored inside the **instance** of a method.\n",
    "3. `@property`: (see example class `EncryptedPassword` below.)\n",
    "    - Specifies that a function is going to determine the value of the `class.property`:\n",
    "    - Essentially replaces the property name with a getter function to determine that value.\n",
    "    - Use '@property.setter' above another function to define it as the setter function. "
   ]
  },
  {
   "cell_type": "markdown",
   "metadata": {
    "colab_type": "text",
    "id": "s3GPG94KXQ1G"
   },
   "source": [
    "# Activity (15 min)\n",
    "- We are going to keep building our `FlatironStudent` class. \n",
    "- We want to have our student complete the mod 1 project.\n",
    "- The project has `requrements` that must be met to pass each part of the project. \n",
    "\n"
   ]
  },
  {
   "cell_type": "code",
   "execution_count": null,
   "metadata": {
    "colab": {},
    "colab_type": "code",
    "id": "SBgILXmtRPkr"
   },
   "outputs": [],
   "source": [
    "help(FlatironStudent)"
   ]
  },
  {
   "cell_type": "code",
   "execution_count": null,
   "metadata": {
    "colab": {},
    "colab_type": "code",
    "id": "3Of0fyLFw93l"
   },
   "outputs": [],
   "source": [
    "class Project():\n",
    "    \"\"\"\"Module Project class\"\"\"\n",
    "    def __init__(self,mod_num):\n",
    "        self.mod_num = mod_num\n",
    "\n",
    "    def __str__(self):\n",
    "        msg = self.__repr__()\n",
    "        return (msg)\n",
    "    def __repr__(self ,mod_num=None):\n",
    "        status = [f\"The Mod {self.mod_num} Project is Due on {self.due_date}.\"]\n",
    "        status.append(f'Project Requirements:\\n{list(self.requirements.keys())}')\n",
    "        return \"\\n\".join(status)\n",
    "\n",
    "\n",
    "\n",
    "\n",
    "    def assign(self,due_date):\n",
    "        \"\"\"Set a project due date and requirements.\"\"\"\n",
    "        import pandas as pd\n",
    "\n",
    "        ## convert to datetime object if possible\n",
    "        try:\n",
    "            due_date = pd.to_datetime(due_date)\n",
    "        except:\n",
    "            print('[!] Conversion to datetime failed.')\n",
    "        \n",
    "        ## Set due date\n",
    "        self.due_date = due_date\n",
    "\n",
    "        print(f'The Project is Due on {due_date}')\n",
    "        self.requirements = {}\n",
    "        self.requirements['notebook']={'visualizations': '>= 3',\n",
    "                                        'nulls_in_data':False,\n",
    "                                        'check_linear':True,\n",
    "                                        'multicoll_data':False,\n",
    "                                        'check_normality':True,\n",
    "                                        'check_outliers': True,\n",
    "                                        'recommendations': '>3',\n",
    "                                        'num_models':'>1'}\n",
    "\n",
    "\n",
    "        self.requirements['presentation'] = {'technical_jargon':False,\n",
    "                                             'recommendations': True,\n",
    "                                             'visualizations':True}\n",
    "        self.requirements['blog post'] = True\n",
    "        self.requirements['video'] = True \n",
    "\n",
    "        self.notebook = {'visualizations': 0,\n",
    "                                        'nulls_in_data':True,\n",
    "                                        'check_linear':True,\n",
    "                                        'multicoll_data':True,\n",
    "                                        'normal_data':False,\n",
    "                                        'outliers_present': True,\n",
    "                                        'recommendations': '>3',\n",
    "                                        'num_models':'>1'}\n",
    "\n",
    "        self.presentation = {'technical_jargon':None,\n",
    "                                             'recommendations': None,\n",
    "                                             'visualizations':None}\n",
    "        self.blog_post = False\n",
    "        self.video = False\n",
    "\n",
    "\n",
    "class Person:\n",
    "    species = 'human'\n",
    "    alive = True\n",
    "\n",
    "    def __init__(self,name=None,fav_color=None,location=None):\n",
    "        self.name = name\n",
    "        self.location = location\n",
    "        self.fav_color = fav_color\n",
    "\n",
    "\n",
    "    def who_am_i(self):\n",
    "        print(f\"My name is {self.name}\")\n",
    "        print(f\"I live in {self.location}\") \n",
    "        print(f\"My favorite color is {self.fav_color}\")\n",
    "\n",
    "\n",
    "class FlatironStudent(Person):\n",
    "    mod1_project = None\n",
    "    # mod2_project = None\n",
    "   \n",
    "    def start_project(self,num,date):\n",
    "        mod_project = Project(num)\n",
    "        mod_project.assign(date)\n",
    "        self.mod1_project = mod_project\n",
    "    # def work_on_notebook()\n",
    "\n",
    "    # def work_on_presentation()\n",
    "\n",
    "    # def work_on_blog()\n",
    "\n",
    "    # def work_on_video()\n",
    "   \n",
    "    # Have this function        \n",
    "\n",
    "\n",
    "\n",
    "## Initialize a FlatironStudent\n",
    "\n",
    "## Assign the Project to the student\n",
    "\n",
    "## work_on_notebook/presentation/blog/video\n",
    "\n",
    "## Have the student turn in the projecty\n",
    "student =FlatironStudent()\n",
    "student.start_project(1,'11/01/19')\n",
    "student.mod_project.requirements\n",
    "student.mod_project.notebook\n",
    "student.mod_project.blog_post\n",
    "student.mod_project.video"
   ]
  },
  {
   "cell_type": "code",
   "execution_count": null,
   "metadata": {
    "colab": {},
    "colab_type": "code",
    "id": "vLchWz2qhvFI"
   },
   "outputs": [],
   "source": [
    "help(Project)"
   ]
  },
  {
   "cell_type": "code",
   "execution_count": null,
   "metadata": {
    "colab": {},
    "colab_type": "code",
    "id": "kbuDdM0RYv2E"
   },
   "outputs": [],
   "source": []
  },
  {
   "cell_type": "code",
   "execution_count": null,
   "metadata": {
    "colab": {},
    "colab_type": "code",
    "id": "hUit9aalPh_o"
   },
   "outputs": [],
   "source": [
    "## How to assign the project\n",
    "mod1proj = Project(1)\n",
    "mod1proj.assign(due_date='11/07/2019')\n",
    "mod1proj"
   ]
  },
  {
   "cell_type": "markdown",
   "metadata": {
    "colab_type": "text",
    "id": "iAyfF7FpcHax"
   },
   "source": []
  },
  {
   "cell_type": "markdown",
   "metadata": {
    "colab_type": "text",
    "id": "lOSn8KbxcHYt"
   },
   "source": []
  },
  {
   "cell_type": "markdown",
   "metadata": {
    "colab_type": "text",
    "id": "0W0QGlpMcHWz"
   },
   "source": []
  },
  {
   "cell_type": "markdown",
   "metadata": {
    "colab_type": "text",
    "heading_collapsed": true,
    "id": "FXU0grvgcHUP"
   },
   "source": [
    "# BONUS MATERIAL:\n"
   ]
  },
  {
   "cell_type": "markdown",
   "metadata": {
    "colab_type": "text",
    "hidden": true,
    "id": "vudBN45kvwt3"
   },
   "source": [
    "\n",
    "- **Function:** An object that performs a task/operation/calc on external information/variables.\n",
    "- Parameters: any/all inputs in a function definition.\n",
    "- Argument: The actual values passed in for the parameters.\n",
    "<br><br>\n",
    "- **Class:** template object with a set of attributes/methods.\n",
    "- Instance: a copy of/ built version of our Class template.\n",
    "- Object: Another general word for instance/class\n",
    "<!-- - Property:  -->\n",
    "- Attribute: variable that belongs to a object\n",
    "- Method: a function that belongs to that object. \n"
   ]
  },
  {
   "cell_type": "markdown",
   "metadata": {
    "colab_type": "text",
    "hidden": true,
    "id": "go8ISGxxMjwJ"
   },
   "source": [
    "## Decorators with Classes\n",
    "## Some special decorators used in classes.\n",
    "\n",
    "1. `@staticmethod`:\n",
    "    - Defines a method that does not get passed `self` when its called and can act on external code as if it was a function, not a \"`bound method`\"\n",
    "2. `@classmethod`:\n",
    "    - Specifies a method that should always refer to the default method spelled out in the class definition, NOT the version of it that is stored inside the **instance** of a method.\n",
    "3. `@property`: (see example class `EncryptedPassword` below.)\n",
    "    - Specifies that a function is going to determine the value of the `class.property`:\n",
    "    - Essentially replaces the property name with a getter function to determine that value.\n",
    "    - Use '@property.setter' above another function to define it as the setter function. "
   ]
  },
  {
   "cell_type": "markdown",
   "metadata": {
    "colab_type": "text",
    "id": "DvObAPNRXJI8"
   },
   "source": [
    "# Appendix: Examples From Lessons"
   ]
  },
  {
   "cell_type": "markdown",
   "metadata": {
    "colab_type": "text",
    "id": "WyFO6rJKnfRF"
   },
   "source": [
    "\n",
    "> **Note:** Dictionary object attributes are accessed using the bracket (`[]`) notation. However, instance object attributes are accessed using the dot (`.`) notation. "
   ]
  },
  {
   "cell_type": "markdown",
   "metadata": {
    "colab_type": "text",
    "id": "OsN58_LAhrHP"
   },
   "source": [
    "```python        \n",
    "# Initializing Instance Objects Using _init_ \n",
    "class Business():\n",
    "    def __init__(name=None, biz_type=None, city=None, customers = {}):\n",
    "        business.name = name\n",
    "        business.biz_type = biz_type\n",
    "        business.city = city\n",
    "        business.customers = customers\n",
    "\n",
    "    # Normal function to instantiate a BankAccount\n",
    "    def make_account():\n",
    "        new_account = BankAccount()\n",
    "        new_account._balance = 0\n",
    "        new_account._minimum_balance = 250\n",
    "        new_account._max_withdrawal = 150 \n",
    "        return new_account\n",
    "```\n",
    "```python\n",
    "class Customer():\n",
    "    def __init__(self, name=None, orders=[], location=None):\n",
    "        self.name=name\n",
    "        self.orders = orders\n",
    "        self.location = location\n",
    "    def add_order(item_name, item_cost, quantity):\n",
    "        self.orders.append({'item_name': item_name, 'item_cost':item_cost, 'quantity':quantity})\n",
    "```\n",
    "\n",
    "```python\n",
    "\n",
    "# Simple / lazy way\n",
    "class Person:\n",
    "    def set_name(self, name):\n",
    "        self.name = name\n",
    "    def set_job(self, job):\n",
    "        self.job = job\n",
    "\n",
    "```"
   ]
  },
  {
   "cell_type": "markdown",
   "metadata": {
    "colab_type": "text",
    "id": "TWWKB_t_BgUQ"
   },
   "source": [
    "\n",
    "```python \n",
    "# Defining an instance method:\n",
    "class Dog():\n",
    "    def bark(self):\n",
    "        return \"Ruh-roh!\"\n",
    "    def needs_a_walk(self):\n",
    "        self.gotta_go = False \n",
    "        return 'Phew that was close!'\n",
    "    def whose_a_good_dog(self, name):\n",
    "        return f'Whos a good dog???\"\\n {name.title()} is!'  \n",
    "\n",
    "# Calling an instance method\n",
    "new_rex = Dog()\n",
    "new_rex.bark() # Ruh-roh!\n",
    "new_rex.whose_a_good_dog('Fido')\n",
    "\n",
    "```"
   ]
  },
  {
   "cell_type": "markdown",
   "metadata": {
    "colab_type": "text",
    "id": "pHWqLtEANGDM"
   },
   "source": [
    "# Appendix B: Example Class "
   ]
  },
  {
   "cell_type": "code",
   "execution_count": null,
   "metadata": {
    "colab": {},
    "colab_type": "code",
    "id": "_uJfVJxLNJwM"
   },
   "outputs": [],
   "source": [
    "class EncryptedPassword():\n",
    "    \"\"\"Class that can be used to either provide a password/username to be encrypted \n",
    "    OR to load a previously encypted password from file.    \n",
    "    NOTE: Once you have encrypted your password and saved to bin files, you do not need to provide the password again. \n",
    "    Make sure to delete your password from the notebook after. \n",
    "    - If encrypting a password, a key file and a password file will be saved to disk. \n",
    "        - Default Key Filename: '..\\\\encryption_key.bin',\n",
    "        - Default Password Filename: '..\\\\encrypted_pwd.bin'\n",
    "        - Default Username Filename: '..\\\\encrypted_username.bin'\n",
    "    \n",
    "    The string representations of the unencrypted password are shielded from displaying, when possible. \n",
    "    \n",
    "\n",
    "\n",
    "    - If opening and decrypting key and password files, pass filenames during initialization. \n",
    "    \n",
    "    \n",
    "    Example Usage:\n",
    "    >> # To Encrypt, with default folders:\n",
    "    >> my_pwd EncryptedPassword('my_password')\n",
    "    \n",
    "    >> # To Encrypt With custom folders\n",
    "    >> my_pwd = EncryptedPassword('my_password',filename_for_key='..\\folder_outside_repo\\key.bin',\n",
    "                                    filename_for_password = '..\\folder_outside_repo\\key.bin')\n",
    "                                    \n",
    "                                    \n",
    "    >> # To open and decrypt files (from default folders):\n",
    "    >> my_pwd = EncryptedPassword(from_file=True)\n",
    "    \n",
    "    >> # To open and decrypt files (from custom folders):\n",
    "    >> my_pwd = EncryptedPassword(from_file=True, \n",
    "                                filename_for_key='..\\folder_outside_repo\\key.bin',\n",
    "                                filename_for_password = '..\\folder_outside_repo\\key.bin')\n",
    "                                    \n",
    "        \n",
    "    \"\"\"\n",
    "    \n",
    "    ## Default username\n",
    "    username = 'NOT PROVIDED'\n",
    "    \n",
    "    ## the .password property is designed so it will not display an unencrypted password. \n",
    "    @property ## password getter \n",
    "    def password(self):\n",
    "        # if the encrypyted password already exists, print the encrypted pwd (unusable without key)\n",
    "        if hasattr(self,'_encrypted_password_'):\n",
    "            print('Encrypted Password:')\n",
    "            return self._encrypted_password_\n",
    "        else:\n",
    "            raise Exception('Password not yet encrypted.')\n",
    "    \n",
    "    ## the .password property cannot be set by a user\n",
    "    @password.setter ## password setter\n",
    "    def password(self,password):\n",
    "        raise Exception('.password is read only.')\n",
    "        \n",
    "               \n",
    "    ## \n",
    "    def __init__(self,username=None,password=None,from_file=False, encrypt=True,\n",
    "                filename_for_key='..\\\\encryption_key.bin',\n",
    "                filename_for_password='..\\\\encrypted_pwd.bin',\n",
    "                filename_for_username = '..\\\\encrypted_username.bin'):\n",
    "        \"\"\"Accepts either a username and password to encyrypt, \n",
    "        or loads a previously encrypyed password from file.\n",
    "        \n",
    "        Args:\n",
    "            username (str): email username.\n",
    "            password (str): email password (note: if have 2-factor authentication on email account, \n",
    "                will need app-specific password).\n",
    "            from_file (bool): whether to load the user credentials from file\n",
    "            encrypt (bool): whether to encrypt provided password. Default=True\n",
    "            \n",
    "            filename_for_key (str): filepath for key.bin (default is'..\\\\encryption_key.bin')\n",
    "            filename_for_password: filepath for password.bin (default is'..\\\\encryption_pwd.bin')\n",
    "            filename_for_username: filepath for username.bin (default is'..\\\\encrypted_username.bin')\n",
    "            \"\"\"\n",
    "        \n",
    "        ## Save filenames \n",
    "        self.filename_for_key = filename_for_key\n",
    "        self.filename_for_password = filename_for_password\n",
    "        self.filename_for_username = filename_for_username\n",
    "        \n",
    "        ## If user passed a username, set username\n",
    "        if username is not None:\n",
    "            self.username = username\n",
    "        \n",
    "        ## If no password is provided:\n",
    "        if (password is None):\n",
    "            \n",
    "            ##  if load from file if `from_file`=True\n",
    "            if (from_file==True):\n",
    "                \n",
    "                try: ## Load in the key, password, username files\n",
    "                    self.load_from_file(key_filename=filename_for_key,\n",
    "                                    password_filename=filename_for_password,\n",
    "                                        username_filename=filename_for_username)\n",
    "                except:\n",
    "                    raise Exception('Something went wrong. Do the key and password files exist?')\n",
    "            \n",
    "            ## If no password provided, and from_file=False, raise error\n",
    "            else:\n",
    "                raise Exception('Must either provide a password to encrypt, or set from_file=True')\n",
    "        \n",
    "        \n",
    "        ## If the user DOES provide a password\n",
    "        else:\n",
    "            self._password_ = password # set the private attribute for password\n",
    "            \n",
    "            ## Encrypt the password\n",
    "            if encrypt:\n",
    "                self.encrypt_password()\n",
    "                \n",
    "                \n",
    "    def encrypt_password(self, show_encrypted_password=False):\n",
    "        \"\"\"Encrypt the key, username, and password and save to external files.\"\"\"\n",
    "         ## Get filenames to use.\n",
    "        filename_for_key= self.filename_for_key\n",
    "        filename_for_password=self.filename_for_password\n",
    "        filename_for_username = self.filename_for_username\n",
    "\n",
    "        ## Import cryptography and generate encryption key\n",
    "        from cryptography.fernet import Fernet\n",
    "        key = Fernet.generate_key()\n",
    "        self._key_ = key\n",
    "\n",
    "        ## Create the cipher_suit from key for encrypting/decrypting\n",
    "        cipher_suite = Fernet(key)\n",
    "        self._cipher_suite_ = cipher_suite\n",
    " \n",
    "        ## ENCRYPT PASSWORD\n",
    "        # Get password and change to byte encoding\n",
    "        password = self._password_\n",
    "        password_to_encrypt = bytes(password,'utf-8') #password must be in bytes format\n",
    "        \n",
    "        # Use the encryption suite to encrypt the password and save to self\n",
    "        ciphered_pwd = cipher_suite.encrypt(password_to_encrypt)\n",
    "        self._encrypted_password_ = bytes(ciphered_pwd).decode('utf-8')\n",
    "        \n",
    "        # Print encrypyted password if true\n",
    "        if show_encrypted_password:\n",
    "            print('Encrypyted Password:')\n",
    "            print(self._encrypted_password_)\n",
    "        \n",
    "        \n",
    "        ## ENCRYPT USERNAME\n",
    "        username = self.username\n",
    "        username_to_encrypt = bytes(username,'utf-8')\n",
    "        ciphered_username = cipher_suite.encrypt(username_to_encrypt)\n",
    "        self._encrypted_username_ = bytes(ciphered_username).decode('utf-8')\n",
    "        \n",
    "        ## TEST DECRYPTION\n",
    "        # decrypt password and username\n",
    "        unciphered_pwd = cipher_suite.decrypt(ciphered_pwd)\n",
    "        unciphered_username = cipher_suite.decrypt(ciphered_username)\n",
    "        \n",
    "        ## Decode from bytes to utf-8\n",
    "        password_decoded = unciphered_pwd.decode('utf-8')\n",
    "        username_decoded = unciphered_username.decode('utf-8')\n",
    "        \n",
    "        # Check if decoded text matches input text\n",
    "        check_pwd = password_decoded==password\n",
    "        check_user = username_decoded==username\n",
    "        \n",
    "        ## If everything matches, warn user to delete their exposed password\n",
    "        if  check_pwd & check_user:\n",
    "            self._password_ = password_decoded \n",
    "            print('[!] Make sure to delete typed password above from class instantiation.')\n",
    "        else:\n",
    "            raise Exception('Decrypted password and input password/username do not match. Something went wrong.')\n",
    "\n",
    "        ## SAVE KEY, PASSWORD, AND USERNAME TO BIN FILES\n",
    "        ## Specify binary files (outside of repo) for storing key and password files\n",
    "        with open(filename_for_key,'wb') as file:\n",
    "            file.write(key)\n",
    "\n",
    "        with open(filename_for_password,'wb') as file:\n",
    "            file.write(ciphered_pwd)\n",
    "            \n",
    "        with open(filename_for_username,'wb') as file:\n",
    "            file.write(ciphered_username)\n",
    "\n",
    "        # Display filepaths for user.\n",
    "        print(f'[io] Encryption Key saved as {filename_for_key}')\n",
    "        print(f'[io] Encrypted Password saved as {filename_for_password}')\n",
    "        print(f'[io] Encrypted Username saved as {filename_for_username}')\n",
    "\n",
    "            \n",
    "    \n",
    "    def load_from_file(self,key_filename,password_filename,\n",
    "                      username_filename):\n",
    "        \"\"\"Load in the encrypted password from file. \"\"\"\n",
    "        \n",
    "        from cryptography.fernet import Fernet\n",
    "        \n",
    "        ## Load Key \n",
    "        with open(key_filename,'rb') as file:\n",
    "            for line in file:\n",
    "                key = line\n",
    "\n",
    "        ## Make ciphere suite from key\n",
    "        cipher_suite = Fernet(key)\n",
    "        self._cipher_suite_ = cipher_suite\n",
    "\n",
    "        ## Load password\n",
    "        with open(password_filename,'rb') as file:\n",
    "            for line in file:\n",
    "                encryptedpwd = line\n",
    "        self._encrypted_password_ = encryptedpwd\n",
    "        \n",
    "        ## Decrypt password\n",
    "        unciphered_text = (cipher_suite.decrypt(encryptedpwd))\n",
    "        plain_text_encrypted_password = bytes(unciphered_text).decode('utf-8')\n",
    "        self._password_ = plain_text_encrypted_password\n",
    "        \n",
    "        ## Load username\n",
    "        with open(username_filename,'rb') as file:\n",
    "            for line in file:\n",
    "                username = line\n",
    "        unciphered_username = (cipher_suite.decrypt(username))\n",
    "        plan_text_username = bytes(unciphered_username).decode('utf-8')\n",
    "        self.username = plan_text_username\n",
    "        \n",
    "    def __repr__(self):\n",
    "        \"\"\"Controls the printout when the object is the final command in a cell.\n",
    "        i.e:\n",
    "        >> pwd =EncrypytedPassword(username='me',password='secret')\n",
    "        >> pwd\n",
    "        \"\"\"\n",
    "        password = self._password_\n",
    "        msg = f'[i] Password is {len(password)} chars long.'\n",
    "        return msg\n",
    "\n",
    "    def __str__(self):\n",
    "        \"\"\"Controls the printout when the object is printed.\n",
    "        i.e:\n",
    "        >> pwd =EncrypytedPassword(username='me',password='secret')\n",
    "        >> print(pwd)\n",
    "        \"\"\"\n",
    "        password = self._password_\n",
    "        msg = f'[i] Password is {len(password)} chars long.'\n",
    "        return msg "
   ]
  }
 ],
 "metadata": {
  "colab": {
   "collapsed_sections": [
    "DvObAPNRXJI8",
    "pHWqLtEANGDM"
   ],
   "name": "section_10_OOP_pt.ipynb",
   "provenance": []
  },
  "kernelspec": {
   "display_name": "Python 3",
   "language": "python",
   "name": "python3"
  },
  "language_info": {
   "codemirror_mode": {
    "name": "ipython",
    "version": 3
   },
   "file_extension": ".py",
   "mimetype": "text/x-python",
   "name": "python",
   "nbconvert_exporter": "python",
   "pygments_lexer": "ipython3",
   "version": "3.6.9"
  },
  "toc": {
   "base_numbering": 1,
   "nav_menu": {},
   "number_sections": false,
   "sideBar": true,
   "skip_h1_title": false,
   "title_cell": "Table of Contents",
   "title_sidebar": "Contents",
   "toc_cell": false,
   "toc_position": {},
   "toc_section_display": true,
   "toc_window_display": true
  },
  "varInspector": {
   "cols": {
    "lenName": 16,
    "lenType": 16,
    "lenVar": 40
   },
   "kernels_config": {
    "python": {
     "delete_cmd_postfix": "",
     "delete_cmd_prefix": "del ",
     "library": "var_list.py",
     "varRefreshCmd": "print(var_dic_list())"
    },
    "r": {
     "delete_cmd_postfix": ") ",
     "delete_cmd_prefix": "rm(",
     "library": "var_list.r",
     "varRefreshCmd": "cat(var_dic_list()) "
    }
   },
   "types_to_exclude": [
    "module",
    "function",
    "builtin_function_or_method",
    "instance",
    "_Feature"
   ],
   "window_display": false
  }
 },
 "nbformat": 4,
 "nbformat_minor": 1
}
